{
  "cells": [
    {
      "cell_type": "markdown",
      "metadata": {
        "id": "view-in-github",
        "colab_type": "text"
      },
      "source": [
        "<a href=\"https://colab.research.google.com/github/YaninaK/sales-forecast/blob/main/notebooks/03_Baseline_model.ipynb\" target=\"_parent\"><img src=\"https://colab.research.google.com/assets/colab-badge.svg\" alt=\"Open In Colab\"/></a>"
      ]
    },
    {
      "cell_type": "markdown",
      "metadata": {
        "id": "yw1w9JFTOyl0"
      },
      "source": [
        "# Sales forecast for 20 stores for 31 days' period.\n",
        "\n",
        "## Baseline model - LSTM"
      ]
    },
    {
      "cell_type": "markdown",
      "metadata": {
        "id": "0ntOLUaWO_Zl"
      },
      "source": [
        "[EDA: omissions, clustering & Fourier transformations](\n",
        "https://colab.research.google.com/drive/1udCgyEt7lusSY43lnduVDEnZvdvVEt9h?usp=sharing)\n",
        "\n",
        "[Feature extraction](https://colab.research.google.com/drive/1H-vQoHnycp62YuZD1xrmIDjufpDu7ig3?usp=sharing)"
      ]
    },
    {
      "cell_type": "code",
      "execution_count": 1,
      "metadata": {
        "colab": {
          "base_uri": "https://localhost:8080/"
        },
        "id": "NP9i317dO3-E",
        "outputId": "261a7bf5-3a12-4c75-dc99-0a693b001b28"
      },
      "outputs": [
        {
          "output_type": "stream",
          "name": "stdout",
          "text": [
            "Mounted at /content/drive\n"
          ]
        }
      ],
      "source": [
        "from google.colab import drive\n",
        "drive.mount('/content/drive')"
      ]
    },
    {
      "cell_type": "code",
      "execution_count": 2,
      "metadata": {
        "colab": {
          "base_uri": "https://localhost:8080/"
        },
        "id": "NOaainxsPvh1",
        "outputId": "b25fadc3-03b7-4ff2-fa37-1e30a2636490"
      },
      "outputs": [
        {
          "output_type": "stream",
          "name": "stdout",
          "text": [
            "\u001b[2K     \u001b[90m━━━━━━━━━━━━━━━━━━━━━━━━━━━━━━━━━━━━━━\u001b[0m \u001b[32m358.2/358.2 KB\u001b[0m \u001b[31m15.1 MB/s\u001b[0m eta \u001b[36m0:00:00\u001b[0m\n",
            "\u001b[2K     \u001b[90m━━━━━━━━━━━━━━━━━━━━━━━━━━━━━━━━━━━━━━━━\u001b[0m \u001b[32m98.2/98.2 KB\u001b[0m \u001b[31m12.9 MB/s\u001b[0m eta \u001b[36m0:00:00\u001b[0m\n",
            "\u001b[2K     \u001b[90m━━━━━━━━━━━━━━━━━━━━━━━━━━━━━━━━━━━━━━━━\u001b[0m \u001b[32m9.9/9.9 MB\u001b[0m \u001b[31m108.0 MB/s\u001b[0m eta \u001b[36m0:00:00\u001b[0m\n",
            "\u001b[2K     \u001b[90m━━━━━━━━━━━━━━━━━━━━━━━━━━━━━━━━━━━━━━\u001b[0m \u001b[32m136.2/136.2 KB\u001b[0m \u001b[31m19.3 MB/s\u001b[0m eta \u001b[36m0:00:00\u001b[0m\n",
            "\u001b[?25h"
          ]
        }
      ],
      "source": [
        "!git clone -q https://github.com/YaninaK/sales-forecast.git\n",
        "!pip install -r sales-forecast/requirements_Colab.txt -q "
      ]
    },
    {
      "cell_type": "code",
      "execution_count": 3,
      "metadata": {
        "colab": {
          "base_uri": "https://localhost:8080/"
        },
        "id": "oGpZTC0tP0QI",
        "outputId": "06b0eff1-8e08-4baa-d4f8-23125f702a26"
      },
      "outputs": [
        {
          "output_type": "stream",
          "name": "stdout",
          "text": [
            "/content/sales-forecast\n"
          ]
        }
      ],
      "source": [
        "%cd sales-forecast"
      ]
    },
    {
      "cell_type": "code",
      "execution_count": 4,
      "metadata": {
        "id": "9JdDC3FUP1J7"
      },
      "outputs": [],
      "source": [
        "import sys\n",
        "import os\n",
        "\n",
        "sys.path.append(os.getcwd())\n",
        "sys.path.append(os.path.join(os.getcwd(), \"src\", \"sales_forecast\"))"
      ]
    },
    {
      "cell_type": "code",
      "execution_count": 5,
      "metadata": {
        "id": "9IzhaR8jP302"
      },
      "outputs": [],
      "source": [
        "import random\n",
        "import pandas as pd\n",
        "import numpy as np\n",
        "import tensorflow as tf\n",
        "import joblib\n",
        "\n",
        "from data.make_dataset import load_data\n",
        "from src.sales_forecast.models import train\n",
        "\n",
        "from data.johnson_su_transformation import JohnsonSU\n",
        "from data.train_test_datasets import get_train_dataset, get_test_dataset\n",
        "from models.model_LSTM import get_model_LSTM\n",
        "from scripts.train_save_model import train_store"
      ]
    },
    {
      "cell_type": "code",
      "execution_count": 6,
      "metadata": {
        "id": "1htDECSWLpcT"
      },
      "outputs": [],
      "source": [
        "import warnings\n",
        "warnings.filterwarnings('ignore')"
      ]
    },
    {
      "cell_type": "code",
      "execution_count": 7,
      "metadata": {
        "id": "llog_mfTQIGB"
      },
      "outputs": [],
      "source": [
        "PATH = '/content/drive/MyDrive/ML_projects/01_Time_series/sales_forecast/'\n",
        "DEFAULT_RANDOM_SEED = 3"
      ]
    },
    {
      "cell_type": "code",
      "execution_count": 8,
      "metadata": {
        "id": "Q9iGOsyiQLA8"
      },
      "outputs": [],
      "source": [
        "def set_all_seeds(seed=DEFAULT_RANDOM_SEED):\n",
        "  random.seed(seed)\n",
        "  os.environ['PYTHONHASHSEED'] = str(seed)\n",
        "  np.random.seed(seed)\n",
        "  tf.random.set_seed(seed)\n",
        "  \n",
        "set_all_seeds()"
      ]
    },
    {
      "cell_type": "markdown",
      "metadata": {
        "id": "6FplTdRyQ4kR"
      },
      "source": [
        "## 1. Data ingestion"
      ]
    },
    {
      "cell_type": "code",
      "execution_count": 9,
      "metadata": {
        "colab": {
          "base_uri": "https://localhost:8080/",
          "height": 149
        },
        "id": "q20ClbC4Kzr7",
        "outputId": "50c8254e-8310-4edf-f73a-a4e3a6190cd0"
      },
      "outputs": [
        {
          "output_type": "stream",
          "name": "stdout",
          "text": [
            "data.shape = (8230, 3)\n",
            "\n"
          ]
        },
        {
          "output_type": "execute_result",
          "data": {
            "text/plain": [
              "   id          dt  target\n",
              "0   0  2016-01-02   747.8\n",
              "1   0  2016-01-03   681.2"
            ],
            "text/html": [
              "\n",
              "  <div id=\"df-d18ca1d9-0da0-4adb-b709-95889a40327d\">\n",
              "    <div class=\"colab-df-container\">\n",
              "      <div>\n",
              "<style scoped>\n",
              "    .dataframe tbody tr th:only-of-type {\n",
              "        vertical-align: middle;\n",
              "    }\n",
              "\n",
              "    .dataframe tbody tr th {\n",
              "        vertical-align: top;\n",
              "    }\n",
              "\n",
              "    .dataframe thead th {\n",
              "        text-align: right;\n",
              "    }\n",
              "</style>\n",
              "<table border=\"1\" class=\"dataframe\">\n",
              "  <thead>\n",
              "    <tr style=\"text-align: right;\">\n",
              "      <th></th>\n",
              "      <th>id</th>\n",
              "      <th>dt</th>\n",
              "      <th>target</th>\n",
              "    </tr>\n",
              "  </thead>\n",
              "  <tbody>\n",
              "    <tr>\n",
              "      <th>0</th>\n",
              "      <td>0</td>\n",
              "      <td>2016-01-02</td>\n",
              "      <td>747.8</td>\n",
              "    </tr>\n",
              "    <tr>\n",
              "      <th>1</th>\n",
              "      <td>0</td>\n",
              "      <td>2016-01-03</td>\n",
              "      <td>681.2</td>\n",
              "    </tr>\n",
              "  </tbody>\n",
              "</table>\n",
              "</div>\n",
              "      <button class=\"colab-df-convert\" onclick=\"convertToInteractive('df-d18ca1d9-0da0-4adb-b709-95889a40327d')\"\n",
              "              title=\"Convert this dataframe to an interactive table.\"\n",
              "              style=\"display:none;\">\n",
              "        \n",
              "  <svg xmlns=\"http://www.w3.org/2000/svg\" height=\"24px\"viewBox=\"0 0 24 24\"\n",
              "       width=\"24px\">\n",
              "    <path d=\"M0 0h24v24H0V0z\" fill=\"none\"/>\n",
              "    <path d=\"M18.56 5.44l.94 2.06.94-2.06 2.06-.94-2.06-.94-.94-2.06-.94 2.06-2.06.94zm-11 1L8.5 8.5l.94-2.06 2.06-.94-2.06-.94L8.5 2.5l-.94 2.06-2.06.94zm10 10l.94 2.06.94-2.06 2.06-.94-2.06-.94-.94-2.06-.94 2.06-2.06.94z\"/><path d=\"M17.41 7.96l-1.37-1.37c-.4-.4-.92-.59-1.43-.59-.52 0-1.04.2-1.43.59L10.3 9.45l-7.72 7.72c-.78.78-.78 2.05 0 2.83L4 21.41c.39.39.9.59 1.41.59.51 0 1.02-.2 1.41-.59l7.78-7.78 2.81-2.81c.8-.78.8-2.07 0-2.86zM5.41 20L4 18.59l7.72-7.72 1.47 1.35L5.41 20z\"/>\n",
              "  </svg>\n",
              "      </button>\n",
              "      \n",
              "  <style>\n",
              "    .colab-df-container {\n",
              "      display:flex;\n",
              "      flex-wrap:wrap;\n",
              "      gap: 12px;\n",
              "    }\n",
              "\n",
              "    .colab-df-convert {\n",
              "      background-color: #E8F0FE;\n",
              "      border: none;\n",
              "      border-radius: 50%;\n",
              "      cursor: pointer;\n",
              "      display: none;\n",
              "      fill: #1967D2;\n",
              "      height: 32px;\n",
              "      padding: 0 0 0 0;\n",
              "      width: 32px;\n",
              "    }\n",
              "\n",
              "    .colab-df-convert:hover {\n",
              "      background-color: #E2EBFA;\n",
              "      box-shadow: 0px 1px 2px rgba(60, 64, 67, 0.3), 0px 1px 3px 1px rgba(60, 64, 67, 0.15);\n",
              "      fill: #174EA6;\n",
              "    }\n",
              "\n",
              "    [theme=dark] .colab-df-convert {\n",
              "      background-color: #3B4455;\n",
              "      fill: #D2E3FC;\n",
              "    }\n",
              "\n",
              "    [theme=dark] .colab-df-convert:hover {\n",
              "      background-color: #434B5C;\n",
              "      box-shadow: 0px 1px 3px 1px rgba(0, 0, 0, 0.15);\n",
              "      filter: drop-shadow(0px 1px 2px rgba(0, 0, 0, 0.3));\n",
              "      fill: #FFFFFF;\n",
              "    }\n",
              "  </style>\n",
              "\n",
              "      <script>\n",
              "        const buttonEl =\n",
              "          document.querySelector('#df-d18ca1d9-0da0-4adb-b709-95889a40327d button.colab-df-convert');\n",
              "        buttonEl.style.display =\n",
              "          google.colab.kernel.accessAllowed ? 'block' : 'none';\n",
              "\n",
              "        async function convertToInteractive(key) {\n",
              "          const element = document.querySelector('#df-d18ca1d9-0da0-4adb-b709-95889a40327d');\n",
              "          const dataTable =\n",
              "            await google.colab.kernel.invokeFunction('convertToInteractive',\n",
              "                                                     [key], {});\n",
              "          if (!dataTable) return;\n",
              "\n",
              "          const docLinkHtml = 'Like what you see? Visit the ' +\n",
              "            '<a target=\"_blank\" href=https://colab.research.google.com/notebooks/data_table.ipynb>data table notebook</a>'\n",
              "            + ' to learn more about interactive tables.';\n",
              "          element.innerHTML = '';\n",
              "          dataTable['output_type'] = 'display_data';\n",
              "          await google.colab.output.renderOutput(dataTable, element);\n",
              "          const docLink = document.createElement('div');\n",
              "          docLink.innerHTML = docLinkHtml;\n",
              "          element.appendChild(docLink);\n",
              "        }\n",
              "      </script>\n",
              "    </div>\n",
              "  </div>\n",
              "  "
            ]
          },
          "metadata": {},
          "execution_count": 9
        }
      ],
      "source": [
        "data = load_data(PATH)\n",
        "\n",
        "print(f'data.shape = {data.shape}\\n')\n",
        "data.head(2)"
      ]
    },
    {
      "cell_type": "markdown",
      "metadata": {
        "id": "BWN9VH40WEMK"
      },
      "source": [
        "## 2. Data preprocessing pipeline"
      ]
    },
    {
      "cell_type": "code",
      "execution_count": 10,
      "metadata": {
        "colab": {
          "base_uri": "https://localhost:8080/"
        },
        "id": "uRbHm4snLIYS",
        "outputId": "72459929-e92b-440d-e0fb-36c05d91a737"
      },
      "outputs": [
        {
          "output_type": "stream",
          "name": "stdout",
          "text": [
            "Number of outliers = 8\n"
          ]
        },
        {
          "output_type": "execute_result",
          "data": {
            "text/plain": [
              "(153, 20, 40)"
            ]
          },
          "metadata": {},
          "execution_count": 10
        }
      ],
      "source": [
        "regenerate = True\n",
        "if regenerate:\n",
        "  X = train.data_preprocessing_pipeline(data)\n",
        "else:\n",
        "  X = np.load('data/04_feature/train_dataset.npy')\n",
        "\n",
        "X.shape"
      ]
    },
    {
      "cell_type": "markdown",
      "metadata": {
        "id": "a5yhOwIBedyY"
      },
      "source": [
        "## 3. Model LSTM"
      ]
    },
    {
      "cell_type": "markdown",
      "metadata": {
        "id": "jXi5ehMcei7i"
      },
      "source": [
        "### 3.1 Model architecture"
      ]
    },
    {
      "cell_type": "code",
      "execution_count": 11,
      "metadata": {
        "colab": {
          "base_uri": "https://localhost:8080/"
        },
        "id": "bx3QHckueeZe",
        "outputId": "7326a07b-1a73-424c-ab38-12b49a0bbd8e"
      },
      "outputs": [
        {
          "output_type": "stream",
          "name": "stdout",
          "text": [
            "Model: \"model\"\n",
            "__________________________________________________________________________________________________\n",
            " Layer (type)                   Output Shape         Param #     Connected to                     \n",
            "==================================================================================================\n",
            " input_1 (InputLayer)           [(None, 54, 40)]     0           []                               \n",
            "                                                                                                  \n",
            " lstm (LSTM)                    [(None, 54, 150),    114600      ['input_1[0][0]']                \n",
            "                                 (None, 150),                                                     \n",
            "                                 (None, 150)]                                                     \n",
            "                                                                                                  \n",
            " lstm_1 (LSTM)                  [(None, 150),        180600      ['lstm[0][0]']                   \n",
            "                                 (None, 150),                                                     \n",
            "                                 (None, 150)]                                                     \n",
            "                                                                                                  \n",
            " repeat_vector (RepeatVector)   (None, 27, 150)      0           ['lstm_1[0][0]']                 \n",
            "                                                                                                  \n",
            " lstm_2 (LSTM)                  (None, 27, 150)      180600      ['repeat_vector[0][0]',          \n",
            "                                                                  'lstm[0][1]',                   \n",
            "                                                                  'lstm[0][2]']                   \n",
            "                                                                                                  \n",
            " lstm_3 (LSTM)                  (None, 27, 150)      180600      ['lstm_2[0][0]',                 \n",
            "                                                                  'lstm_1[0][1]',                 \n",
            "                                                                  'lstm_1[0][2]']                 \n",
            "                                                                                                  \n",
            " time_distributed (TimeDistribu  (None, 27, 40)      6040        ['lstm_3[0][0]']                 \n",
            " ted)                                                                                             \n",
            "                                                                                                  \n",
            "==================================================================================================\n",
            "Total params: 662,440\n",
            "Trainable params: 662,440\n",
            "Non-trainable params: 0\n",
            "__________________________________________________________________________________________________\n"
          ]
        }
      ],
      "source": [
        "n_features = X.shape[2]\n",
        "model = get_model_LSTM(n_features)\n",
        "model.summary()"
      ]
    },
    {
      "cell_type": "markdown",
      "metadata": {
        "id": "eqH3rDIHig3N"
      },
      "source": [
        "### 3.2 Training of the model"
      ]
    },
    {
      "cell_type": "code",
      "source": [
        "X_train, y_train = get_train_dataset(X)\n",
        "X_train.shape, y_train.shape"
      ],
      "metadata": {
        "colab": {
          "base_uri": "https://localhost:8080/"
        },
        "id": "a6RWONYgWN9q",
        "outputId": "3ccebe72-41da-40fd-b281-dc2d439f75b8"
      },
      "execution_count": 12,
      "outputs": [
        {
          "output_type": "execute_result",
          "data": {
            "text/plain": [
              "((900, 54, 40), (900, 27, 40))"
            ]
          },
          "metadata": {},
          "execution_count": 12
        }
      ]
    },
    {
      "cell_type": "code",
      "execution_count": 13,
      "metadata": {
        "colab": {
          "base_uri": "https://localhost:8080/"
        },
        "id": "xHc3LM9eKEUW",
        "outputId": "039ab708-68cf-4595-e00b-df35b2fa0fc1"
      },
      "outputs": [
        {
          "output_type": "stream",
          "name": "stdout",
          "text": [
            "Epoch 1/40\n",
            "41/41 [==============================] - 15s 81ms/step - loss: 0.4247 - val_loss: 0.4234 - lr: 0.0300\n",
            "Epoch 2/40\n",
            "41/41 [==============================] - 1s 20ms/step - loss: 0.3825 - val_loss: 0.3970 - lr: 0.0285\n",
            "Epoch 3/40\n",
            "41/41 [==============================] - 1s 15ms/step - loss: 0.3554 - val_loss: 0.3474 - lr: 0.0271\n",
            "Epoch 4/40\n",
            "41/41 [==============================] - 1s 13ms/step - loss: 0.3270 - val_loss: 0.3313 - lr: 0.0257\n",
            "Epoch 5/40\n",
            "41/41 [==============================] - 0s 12ms/step - loss: 0.3090 - val_loss: 0.3324 - lr: 0.0244\n",
            "Epoch 6/40\n",
            "41/41 [==============================] - 1s 13ms/step - loss: 0.3009 - val_loss: 0.3301 - lr: 0.0232\n",
            "Epoch 7/40\n",
            "41/41 [==============================] - 1s 12ms/step - loss: 0.2976 - val_loss: 0.3183 - lr: 0.0221\n",
            "Epoch 8/40\n",
            "41/41 [==============================] - 1s 13ms/step - loss: 0.2893 - val_loss: 0.3188 - lr: 0.0210\n",
            "Epoch 9/40\n",
            "41/41 [==============================] - 1s 12ms/step - loss: 0.2851 - val_loss: 0.3178 - lr: 0.0199\n",
            "Epoch 10/40\n",
            "41/41 [==============================] - 1s 12ms/step - loss: 0.2884 - val_loss: 0.3060 - lr: 0.0189\n",
            "Epoch 11/40\n",
            "41/41 [==============================] - 0s 12ms/step - loss: 0.2759 - val_loss: 0.3050 - lr: 0.0180\n",
            "Epoch 12/40\n",
            "41/41 [==============================] - 1s 13ms/step - loss: 0.2645 - val_loss: 0.2860 - lr: 0.0171\n",
            "Epoch 13/40\n",
            "41/41 [==============================] - 1s 13ms/step - loss: 0.2660 - val_loss: 0.3103 - lr: 0.0162\n",
            "Epoch 14/40\n",
            "41/41 [==============================] - 1s 14ms/step - loss: 0.2630 - val_loss: 0.2805 - lr: 0.0154\n",
            "Epoch 15/40\n",
            "41/41 [==============================] - 1s 13ms/step - loss: 0.2548 - val_loss: 0.2774 - lr: 0.0146\n",
            "Epoch 16/40\n",
            "41/41 [==============================] - 1s 12ms/step - loss: 0.2486 - val_loss: 0.2949 - lr: 0.0139\n",
            "Epoch 17/40\n",
            "41/41 [==============================] - 1s 13ms/step - loss: 0.2497 - val_loss: 0.2654 - lr: 0.0132\n",
            "Epoch 18/40\n",
            "41/41 [==============================] - 1s 12ms/step - loss: 0.2474 - val_loss: 0.2834 - lr: 0.0125\n",
            "Epoch 19/40\n",
            "41/41 [==============================] - 1s 13ms/step - loss: 0.2404 - val_loss: 0.2737 - lr: 0.0119\n",
            "Epoch 20/40\n",
            "41/41 [==============================] - 1s 13ms/step - loss: 0.2297 - val_loss: 0.2505 - lr: 0.0113\n",
            "Epoch 21/40\n",
            "41/41 [==============================] - 0s 12ms/step - loss: 0.2271 - val_loss: 0.2493 - lr: 0.0108\n",
            "Epoch 22/40\n",
            "41/41 [==============================] - 1s 16ms/step - loss: 0.2211 - val_loss: 0.2426 - lr: 0.0102\n",
            "Epoch 23/40\n",
            "41/41 [==============================] - 1s 20ms/step - loss: 0.2173 - val_loss: 0.2421 - lr: 0.0097\n",
            "Epoch 24/40\n",
            "41/41 [==============================] - 1s 18ms/step - loss: 0.2179 - val_loss: 0.2344 - lr: 0.0092\n",
            "Epoch 25/40\n",
            "41/41 [==============================] - 1s 18ms/step - loss: 0.2153 - val_loss: 0.2377 - lr: 0.0088\n",
            "Epoch 26/40\n",
            "41/41 [==============================] - 1s 18ms/step - loss: 0.2148 - val_loss: 0.2404 - lr: 0.0083\n",
            "Epoch 27/40\n",
            "41/41 [==============================] - 1s 17ms/step - loss: 0.2106 - val_loss: 0.2349 - lr: 0.0079\n",
            "Epoch 28/40\n",
            "41/41 [==============================] - 1s 19ms/step - loss: 0.2090 - val_loss: 0.2322 - lr: 0.0075\n",
            "Epoch 29/40\n",
            "41/41 [==============================] - 1s 14ms/step - loss: 0.2094 - val_loss: 0.2449 - lr: 0.0071\n",
            "Epoch 30/40\n",
            "41/41 [==============================] - 1s 14ms/step - loss: 0.2099 - val_loss: 0.2316 - lr: 0.0068\n",
            "Epoch 31/40\n",
            "41/41 [==============================] - 1s 13ms/step - loss: 0.2084 - val_loss: 0.2293 - lr: 0.0064\n",
            "Epoch 32/40\n",
            "41/41 [==============================] - 1s 13ms/step - loss: 0.2086 - val_loss: 0.2270 - lr: 0.0061\n",
            "Epoch 33/40\n",
            "41/41 [==============================] - 1s 13ms/step - loss: 0.2043 - val_loss: 0.2264 - lr: 0.0058\n",
            "Epoch 34/40\n",
            "41/41 [==============================] - 1s 12ms/step - loss: 0.2039 - val_loss: 0.2266 - lr: 0.0055\n",
            "Epoch 35/40\n",
            "41/41 [==============================] - 1s 13ms/step - loss: 0.1994 - val_loss: 0.2242 - lr: 0.0052\n",
            "Epoch 36/40\n",
            "41/41 [==============================] - 1s 13ms/step - loss: 0.1950 - val_loss: 0.2210 - lr: 0.0050\n",
            "Epoch 37/40\n",
            "41/41 [==============================] - 1s 13ms/step - loss: 0.1920 - val_loss: 0.2124 - lr: 0.0047\n",
            "Epoch 38/40\n",
            "41/41 [==============================] - 1s 12ms/step - loss: 0.1849 - val_loss: 0.2080 - lr: 0.0045\n",
            "Epoch 39/40\n",
            "41/41 [==============================] - 0s 12ms/step - loss: 0.1844 - val_loss: 0.2069 - lr: 0.0043\n",
            "Epoch 40/40\n",
            "41/41 [==============================] - 1s 13ms/step - loss: 0.1772 - val_loss: 0.2056 - lr: 0.0041\n"
          ]
        }
      ],
      "source": [
        "from tensorflow.python.ops.math_ops import truncate_mod_eager_fallback\n",
        "n_shops = 20\n",
        "n_epochs = 40\n",
        "batch_size = 20\n",
        "m = n_shops * 4\n",
        "\n",
        "reduce_lr = tf.keras.callbacks.LearningRateScheduler(\n",
        "    lambda epoch: 3e-2 * 0.95 ** epoch\n",
        ")\n",
        "model.compile(\n",
        "    optimizer=tf.keras.optimizers.Adam(), \n",
        "    loss=tf.keras.losses.Huber()\n",
        ")\n",
        "history = model.fit(\n",
        "    X_train[:-m, :, :], y_train[:-m, :, :], \n",
        "    epochs=n_epochs,\n",
        "    validation_data=(X_train[-m:, :, :], y_train[-m:, :, :]),\n",
        "    batch_size=batch_size, \n",
        "    verbose=1,\n",
        "    callbacks=[reduce_lr],\n",
        "    shuffle=True,\n",
        "    workers=-1,\n",
        "    use_multiprocessing=True\n",
        ")"
      ]
    },
    {
      "cell_type": "markdown",
      "metadata": {
        "id": "-T-FivMrYoH5"
      },
      "source": [
        "### 3.3 Inference"
      ]
    },
    {
      "cell_type": "code",
      "execution_count": 14,
      "metadata": {
        "id": "uyn5BLhgYHO3"
      },
      "outputs": [],
      "source": [
        "X_test, y_test = get_test_dataset(X)"
      ]
    },
    {
      "cell_type": "code",
      "execution_count": 15,
      "metadata": {
        "colab": {
          "base_uri": "https://localhost:8080/"
        },
        "id": "dgZcymnwX7hH",
        "outputId": "a9cb2428-3ef0-45f5-861c-758911d11265"
      },
      "outputs": [
        {
          "output_type": "stream",
          "name": "stdout",
          "text": [
            "1/1 [==============================] - 2s 2s/step\n"
          ]
        },
        {
          "output_type": "execute_result",
          "data": {
            "text/plain": [
              "(20, 27, 40)"
            ]
          },
          "metadata": {},
          "execution_count": 15
        }
      ],
      "source": [
        "pred = model.predict(X_test)\n",
        "pred.shape"
      ]
    },
    {
      "cell_type": "markdown",
      "metadata": {
        "id": "LphmAbjGZkA3"
      },
      "source": [
        "### 3.4 Model evaluation"
      ]
    },
    {
      "cell_type": "markdown",
      "metadata": {
        "id": "nkFU4RxZZk8-"
      },
      "source": [
        "#### Mean absolute scaled error (MASE) \n",
        "https://en.wikipedia.org/wiki/Mean_absolute_scaled_error"
      ]
    },
    {
      "cell_type": "markdown",
      "metadata": {
        "id": "nM1Cj-_XZpsO"
      },
      "source": [
        "The denominator of mean absolute scaled error is the mean absolute error of the one-step \"seasonal naive forecast method\" on the training set, which uses the actual value from the prior 30 days as the forecast: \n",
        "* F(t) = Y(t−30)\n",
        "\n",
        "MASE is scale-free error metric. So, it can be applied to scaled data without extra iteration of inverse scaling."
      ]
    },
    {
      "cell_type": "code",
      "execution_count": 16,
      "metadata": {
        "colab": {
          "base_uri": "https://localhost:8080/"
        },
        "id": "jSPdjqEztRix",
        "outputId": "ce5622e5-ec4d-49b1-bd1b-fc57c3403e0b"
      },
      "outputs": [
        {
          "output_type": "execute_result",
          "data": {
            "text/plain": [
              "((20, 27, 40), (20, 27, 40))"
            ]
          },
          "metadata": {},
          "execution_count": 16
        }
      ],
      "source": [
        "pred.shape, y_test.shape"
      ]
    },
    {
      "cell_type": "code",
      "execution_count": 17,
      "metadata": {
        "colab": {
          "base_uri": "https://localhost:8080/"
        },
        "id": "H7m2mh1I8rm6",
        "outputId": "50171da1-f2ca-4827-8947-20c8c7787443"
      },
      "outputs": [
        {
          "output_type": "stream",
          "name": "stdout",
          "text": [
            "Mean absolute scaled error = 0.9153\n"
          ]
        }
      ],
      "source": [
        "forecast_error = abs(pred[:, :, 0] - y_test[:, :, 0]).mean()\n",
        "mase = forecast_error / abs(y_test[:, :, 6]).mean()\n",
        "\n",
        "print(f'Mean absolute scaled error = {round(mase.mean(), 4)}')"
      ]
    },
    {
      "cell_type": "markdown",
      "metadata": {
        "id": "sYbpp1abZzxQ"
      },
      "source": [
        "__Findings:__\n",
        "\n",
        "* Out of 72 samples available for training (153 less input and output sequence length) 4 were used for validation of the model and 27 for testing. So, we had only 41 samples for training of the model and it is definately not sufficient.\n",
        "\n",
        "* To get more accurate predictions, we need to retrain the model on the full set of data. It should improve the final results."
      ]
    },
    {
      "cell_type": "markdown",
      "metadata": {
        "id": "vmXsJCA5Z0t9"
      },
      "source": [
        "## 4. Final prediction"
      ]
    },
    {
      "cell_type": "markdown",
      "metadata": {
        "id": "wpg_5giedIV5"
      },
      "source": [
        "### 4.1. Dataset"
      ]
    },
    {
      "cell_type": "code",
      "execution_count": 18,
      "metadata": {
        "colab": {
          "base_uri": "https://localhost:8080/"
        },
        "id": "cN70_li0aLy2",
        "outputId": "01d57ff1-6117-419c-ba87-22fcedceabb2"
      },
      "outputs": [
        {
          "output_type": "execute_result",
          "data": {
            "text/plain": [
              "((1440, 54, 40), (1440, 27, 40), (20, 54, 40))"
            ]
          },
          "metadata": {},
          "execution_count": 18
        }
      ],
      "source": [
        "X_train, y_train = get_train_dataset(X, final=True)\n",
        "X_test = get_test_dataset(X, final=True)\n",
        "\n",
        "X_train.shape, y_train.shape, X_test.shape"
      ]
    },
    {
      "cell_type": "markdown",
      "metadata": {
        "id": "MC_L5BwPdCb-"
      },
      "source": [
        "### 4.2. Retraining the model on full dataset"
      ]
    },
    {
      "cell_type": "code",
      "execution_count": 19,
      "metadata": {
        "colab": {
          "base_uri": "https://localhost:8080/"
        },
        "id": "jYh4p4YQaffn",
        "outputId": "25f6a52c-f105-40dd-f3ec-7ad0c842025e"
      },
      "outputs": [
        {
          "output_type": "stream",
          "name": "stdout",
          "text": [
            "Epoch 1/50\n",
            "34/34 [==============================] - 10s 62ms/step - loss: 0.3910 - val_loss: 0.3696 - lr: 0.0300\n",
            "Epoch 2/50\n",
            "34/34 [==============================] - 0s 14ms/step - loss: 0.3687 - val_loss: 0.3653 - lr: 0.0285\n",
            "Epoch 3/50\n",
            "34/34 [==============================] - 0s 14ms/step - loss: 0.3600 - val_loss: 0.3585 - lr: 0.0271\n",
            "Epoch 4/50\n",
            "34/34 [==============================] - 0s 13ms/step - loss: 0.3467 - val_loss: 0.3521 - lr: 0.0257\n",
            "Epoch 5/50\n",
            "34/34 [==============================] - 0s 14ms/step - loss: 0.3355 - val_loss: 0.3378 - lr: 0.0244\n",
            "Epoch 6/50\n",
            "34/34 [==============================] - 0s 14ms/step - loss: 0.3266 - val_loss: 0.3331 - lr: 0.0232\n",
            "Epoch 7/50\n",
            "34/34 [==============================] - 0s 13ms/step - loss: 0.3168 - val_loss: 0.3268 - lr: 0.0221\n",
            "Epoch 8/50\n",
            "34/34 [==============================] - 0s 13ms/step - loss: 0.3055 - val_loss: 0.3187 - lr: 0.0210\n",
            "Epoch 9/50\n",
            "34/34 [==============================] - 0s 13ms/step - loss: 0.2946 - val_loss: 0.2893 - lr: 0.0199\n",
            "Epoch 10/50\n",
            "34/34 [==============================] - 0s 13ms/step - loss: 0.2795 - val_loss: 0.2925 - lr: 0.0189\n",
            "Epoch 11/50\n",
            "34/34 [==============================] - 0s 13ms/step - loss: 0.2698 - val_loss: 0.2902 - lr: 0.0180\n",
            "Epoch 12/50\n",
            "34/34 [==============================] - 1s 16ms/step - loss: 0.2620 - val_loss: 0.2849 - lr: 0.0171\n",
            "Epoch 13/50\n",
            "34/34 [==============================] - 1s 19ms/step - loss: 0.2542 - val_loss: 0.2810 - lr: 0.0162\n",
            "Epoch 14/50\n",
            "34/34 [==============================] - 1s 18ms/step - loss: 0.2470 - val_loss: 0.2772 - lr: 0.0154\n",
            "Epoch 15/50\n",
            "34/34 [==============================] - 1s 18ms/step - loss: 0.2424 - val_loss: 0.2728 - lr: 0.0146\n",
            "Epoch 16/50\n",
            "34/34 [==============================] - 1s 18ms/step - loss: 0.2359 - val_loss: 0.2696 - lr: 0.0139\n",
            "Epoch 17/50\n",
            "34/34 [==============================] - 1s 19ms/step - loss: 0.2294 - val_loss: 0.2692 - lr: 0.0132\n",
            "Epoch 18/50\n",
            "34/34 [==============================] - 1s 19ms/step - loss: 0.2248 - val_loss: 0.2644 - lr: 0.0125\n",
            "Epoch 19/50\n",
            "34/34 [==============================] - 1s 23ms/step - loss: 0.2202 - val_loss: 0.2561 - lr: 0.0119\n",
            "Epoch 20/50\n",
            "34/34 [==============================] - 1s 23ms/step - loss: 0.2154 - val_loss: 0.2583 - lr: 0.0113\n",
            "Epoch 21/50\n",
            "34/34 [==============================] - 1s 18ms/step - loss: 0.2124 - val_loss: 0.2538 - lr: 0.0108\n",
            "Epoch 22/50\n",
            "34/34 [==============================] - 1s 19ms/step - loss: 0.2094 - val_loss: 0.2453 - lr: 0.0102\n",
            "Epoch 23/50\n",
            "34/34 [==============================] - 1s 23ms/step - loss: 0.2055 - val_loss: 0.2457 - lr: 0.0097\n",
            "Epoch 24/50\n",
            "34/34 [==============================] - 0s 14ms/step - loss: 0.2028 - val_loss: 0.2413 - lr: 0.0092\n",
            "Epoch 25/50\n",
            "34/34 [==============================] - 0s 13ms/step - loss: 0.1978 - val_loss: 0.2364 - lr: 0.0088\n",
            "Epoch 26/50\n",
            "34/34 [==============================] - 0s 14ms/step - loss: 0.1957 - val_loss: 0.2357 - lr: 0.0083\n",
            "Epoch 27/50\n",
            "34/34 [==============================] - 0s 12ms/step - loss: 0.1929 - val_loss: 0.2365 - lr: 0.0079\n",
            "Epoch 28/50\n",
            "34/34 [==============================] - 0s 13ms/step - loss: 0.1890 - val_loss: 0.2336 - lr: 0.0075\n",
            "Epoch 29/50\n",
            "34/34 [==============================] - 0s 13ms/step - loss: 0.1857 - val_loss: 0.2373 - lr: 0.0071\n",
            "Epoch 30/50\n",
            "34/34 [==============================] - 0s 14ms/step - loss: 0.1830 - val_loss: 0.2340 - lr: 0.0068\n",
            "Epoch 31/50\n",
            "34/34 [==============================] - 0s 13ms/step - loss: 0.1801 - val_loss: 0.2333 - lr: 0.0064\n",
            "Epoch 32/50\n",
            "34/34 [==============================] - 0s 14ms/step - loss: 0.1776 - val_loss: 0.2265 - lr: 0.0061\n",
            "Epoch 33/50\n",
            "34/34 [==============================] - 0s 13ms/step - loss: 0.1755 - val_loss: 0.2226 - lr: 0.0058\n",
            "Epoch 34/50\n",
            "34/34 [==============================] - 0s 14ms/step - loss: 0.1731 - val_loss: 0.2200 - lr: 0.0055\n",
            "Epoch 35/50\n",
            "34/34 [==============================] - 0s 14ms/step - loss: 0.1710 - val_loss: 0.2156 - lr: 0.0052\n",
            "Epoch 36/50\n",
            "34/34 [==============================] - 0s 13ms/step - loss: 0.1687 - val_loss: 0.2173 - lr: 0.0050\n",
            "Epoch 37/50\n",
            "34/34 [==============================] - 0s 12ms/step - loss: 0.1663 - val_loss: 0.2169 - lr: 0.0047\n",
            "Epoch 38/50\n",
            "34/34 [==============================] - 0s 13ms/step - loss: 0.1637 - val_loss: 0.2175 - lr: 0.0045\n",
            "Epoch 39/50\n",
            "34/34 [==============================] - 0s 14ms/step - loss: 0.1617 - val_loss: 0.2142 - lr: 0.0043\n",
            "Epoch 40/50\n",
            "34/34 [==============================] - 1s 19ms/step - loss: 0.1592 - val_loss: 0.2139 - lr: 0.0041\n",
            "Epoch 41/50\n",
            "34/34 [==============================] - 1s 18ms/step - loss: 0.1577 - val_loss: 0.2152 - lr: 0.0039\n",
            "Epoch 42/50\n",
            "34/34 [==============================] - 1s 18ms/step - loss: 0.1552 - val_loss: 0.2120 - lr: 0.0037\n",
            "Epoch 43/50\n",
            "34/34 [==============================] - 1s 17ms/step - loss: 0.1535 - val_loss: 0.2093 - lr: 0.0035\n",
            "Epoch 44/50\n",
            "34/34 [==============================] - 1s 19ms/step - loss: 0.1511 - val_loss: 0.2089 - lr: 0.0033\n",
            "Epoch 45/50\n",
            "34/34 [==============================] - 1s 19ms/step - loss: 0.1500 - val_loss: 0.2101 - lr: 0.0031\n",
            "Epoch 46/50\n",
            "34/34 [==============================] - 1s 18ms/step - loss: 0.1475 - val_loss: 0.2097 - lr: 0.0030\n",
            "Epoch 47/50\n",
            "34/34 [==============================] - 1s 19ms/step - loss: 0.1457 - val_loss: 0.2066 - lr: 0.0028\n",
            "Epoch 48/50\n",
            "34/34 [==============================] - 0s 13ms/step - loss: 0.1441 - val_loss: 0.2087 - lr: 0.0027\n",
            "Epoch 49/50\n",
            "34/34 [==============================] - 0s 14ms/step - loss: 0.1422 - val_loss: 0.2063 - lr: 0.0026\n",
            "Epoch 50/50\n",
            "34/34 [==============================] - 0s 13ms/step - loss: 0.1404 - val_loss: 0.2074 - lr: 0.0024\n"
          ]
        }
      ],
      "source": [
        "n_shops = 20\n",
        "n_epochs = 50\n",
        "batch_size = n_shops * 2\n",
        "m = n_shops * 4\n",
        "\n",
        "model = get_model_LSTM(n_features=X_train.shape[2], n_units=150)\n",
        "\n",
        "reduce_lr = tf.keras.callbacks.LearningRateScheduler(\n",
        "    lambda epoch: 3e-2 * 0.95 ** epoch\n",
        ")\n",
        "model.compile(\n",
        "    optimizer=tf.keras.optimizers.Adam(), \n",
        "    loss=tf.keras.losses.Huber()\n",
        ")\n",
        "history = model.fit(\n",
        "    X_train[:-m, :, :], y_train[:-m, :, :], \n",
        "    epochs=n_epochs,\n",
        "    validation_data=(X_train[-m:, :, :], y_train[-m:, :, :]),\n",
        "    batch_size=batch_size, \n",
        "    verbose=1,\n",
        "    callbacks=[reduce_lr],\n",
        "    shuffle=True,\n",
        "    workers=-1,\n",
        "    use_multiprocessing=True,    \n",
        ")"
      ]
    },
    {
      "cell_type": "code",
      "execution_count": 20,
      "metadata": {
        "colab": {
          "base_uri": "https://localhost:8080/",
          "height": 295
        },
        "id": "ys70q4i4bOj8",
        "outputId": "4214d0d8-d1b8-4e37-d717-1d9a53fcfce7"
      },
      "outputs": [
        {
          "output_type": "display_data",
          "data": {
            "text/plain": [
              "<Figure size 432x288 with 1 Axes>"
            ],
            "image/png": "[encoded data removed]"
          },
          "metadata": {
            "needs_background": "light"
          }
        }
      ],
      "source": [
        "import matplotlib.pyplot as plt\n",
        "\n",
        "plt.plot(history.history['loss'])\n",
        "plt.plot(history.history['val_loss'])\n",
        "plt.title(\"Model Loss\")\n",
        "plt.xlabel('Epochs')\n",
        "plt.ylabel('Loss')\n",
        "plt.legend(['Train', 'Valid'])\n",
        "plt.show()"
      ]
    },
    {
      "cell_type": "markdown",
      "metadata": {
        "id": "_n6z3yuZc0Uj"
      },
      "source": [
        "### 4.3 Model evaluation on validation set"
      ]
    },
    {
      "cell_type": "code",
      "source": [
        "pred = model.predict(X_train[-m:, :, :])\n",
        "pred[:, :, 0].shape,"
      ],
      "metadata": {
        "colab": {
          "base_uri": "https://localhost:8080/"
        },
        "id": "w0SzRmu52i5b",
        "outputId": "66926980-cd3e-423f-f2f4-077b1e0d1675"
      },
      "execution_count": 21,
      "outputs": [
        {
          "output_type": "stream",
          "name": "stdout",
          "text": [
            "3/3 [==============================] - 1s 10ms/step\n"
          ]
        },
        {
          "output_type": "execute_result",
          "data": {
            "text/plain": [
              "((80, 27),)"
            ]
          },
          "metadata": {},
          "execution_count": 21
        }
      ]
    },
    {
      "cell_type": "code",
      "source": [
        "forecast_error = abs(pred[:, :, 0] -  y_train[-m:, :, 0]).mean()\n",
        "mase = forecast_error / abs( y_train[-m:, :, 6]).mean()\n",
        "\n",
        "print(f'Mean absolute scaled error = {round(mase.mean(), 4)}')"
      ],
      "metadata": {
        "colab": {
          "base_uri": "https://localhost:8080/"
        },
        "id": "XFTzEJ8Plx_g",
        "outputId": "a6664b0e-71c6-4bef-d6f6-11cd6a2b69e2"
      },
      "execution_count": 22,
      "outputs": [
        {
          "output_type": "stream",
          "name": "stdout",
          "text": [
            "Mean absolute scaled error = 0.4558\n"
          ]
        }
      ]
    },
    {
      "cell_type": "markdown",
      "metadata": {
        "id": "kZhWz7U2eEEt"
      },
      "source": [
        "### 4.4. Inference"
      ]
    },
    {
      "cell_type": "code",
      "execution_count": 23,
      "metadata": {
        "colab": {
          "base_uri": "https://localhost:8080/"
        },
        "id": "2tID_JZRd8Za",
        "outputId": "9d658da0-fccf-4df4-fdef-352669e7390f"
      },
      "outputs": [
        {
          "output_type": "stream",
          "name": "stdout",
          "text": [
            "1/1 [==============================] - 0s 25ms/step\n"
          ]
        }
      ],
      "source": [
        "pred_final = model.predict(X_test)"
      ]
    },
    {
      "cell_type": "markdown",
      "metadata": {
        "id": "pk8ade9Hcllm"
      },
      "source": [
        "### 4.5. Inverse transformation of predictions"
      ]
    },
    {
      "cell_type": "code",
      "execution_count": 24,
      "metadata": {
        "id": "Ys__JvK9csEI"
      },
      "outputs": [],
      "source": [
        "scaler = joblib.load('data/03_primary/scaler_js.joblib')"
      ]
    },
    {
      "cell_type": "code",
      "execution_count": 25,
      "metadata": {
        "colab": {
          "base_uri": "https://localhost:8080/"
        },
        "id": "y3vKlBKBcm-B",
        "outputId": "2b11b9ab-f8a9-41a6-f72c-e9f4fb31c4bc"
      },
      "outputs": [
        {
          "output_type": "execute_result",
          "data": {
            "text/plain": [
              "(27, 20)"
            ]
          },
          "metadata": {},
          "execution_count": 25
        }
      ],
      "source": [
        "arr_pred = pred_final[:, :, 0]\n",
        "y_pred = pd.DataFrame(arr_pred).T\n",
        "y_pred_rescaled = scaler.inv_transform(y_pred)\n",
        "y_pred_rescaled.shape"
      ]
    },
    {
      "cell_type": "markdown",
      "metadata": {
        "id": "HJyYOGDhcfl9"
      },
      "source": [
        "### 4.6. Generation of the final result"
      ]
    },
    {
      "cell_type": "code",
      "execution_count": 26,
      "metadata": {
        "colab": {
          "base_uri": "https://localhost:8080/",
          "height": 149
        },
        "id": "siV8XdBscJpb",
        "outputId": "1497ad3f-db64-44d1-ab67-b9cad549e9c8"
      },
      "outputs": [
        {
          "output_type": "stream",
          "name": "stdout",
          "text": [
            "test.shape = (540, 3)\n",
            "\n"
          ]
        },
        {
          "output_type": "execute_result",
          "data": {
            "text/plain": [
              "   id          dt  target\n",
              "0   0  2017-07-01     500\n",
              "1   0  2017-07-02     500"
            ],
            "text/html": [
              "\n",
              "  <div id=\"df-e27f733e-fe92-49c6-bb23-9a68ef5fbc73\">\n",
              "    <div class=\"colab-df-container\">\n",
              "      <div>\n",
              "<style scoped>\n",
              "    .dataframe tbody tr th:only-of-type {\n",
              "        vertical-align: middle;\n",
              "    }\n",
              "\n",
              "    .dataframe tbody tr th {\n",
              "        vertical-align: top;\n",
              "    }\n",
              "\n",
              "    .dataframe thead th {\n",
              "        text-align: right;\n",
              "    }\n",
              "</style>\n",
              "<table border=\"1\" class=\"dataframe\">\n",
              "  <thead>\n",
              "    <tr style=\"text-align: right;\">\n",
              "      <th></th>\n",
              "      <th>id</th>\n",
              "      <th>dt</th>\n",
              "      <th>target</th>\n",
              "    </tr>\n",
              "  </thead>\n",
              "  <tbody>\n",
              "    <tr>\n",
              "      <th>0</th>\n",
              "      <td>0</td>\n",
              "      <td>2017-07-01</td>\n",
              "      <td>500</td>\n",
              "    </tr>\n",
              "    <tr>\n",
              "      <th>1</th>\n",
              "      <td>0</td>\n",
              "      <td>2017-07-02</td>\n",
              "      <td>500</td>\n",
              "    </tr>\n",
              "  </tbody>\n",
              "</table>\n",
              "</div>\n",
              "      <button class=\"colab-df-convert\" onclick=\"convertToInteractive('df-e27f733e-fe92-49c6-bb23-9a68ef5fbc73')\"\n",
              "              title=\"Convert this dataframe to an interactive table.\"\n",
              "              style=\"display:none;\">\n",
              "        \n",
              "  <svg xmlns=\"http://www.w3.org/2000/svg\" height=\"24px\"viewBox=\"0 0 24 24\"\n",
              "       width=\"24px\">\n",
              "    <path d=\"M0 0h24v24H0V0z\" fill=\"none\"/>\n",
              "    <path d=\"M18.56 5.44l.94 2.06.94-2.06 2.06-.94-2.06-.94-.94-2.06-.94 2.06-2.06.94zm-11 1L8.5 8.5l.94-2.06 2.06-.94-2.06-.94L8.5 2.5l-.94 2.06-2.06.94zm10 10l.94 2.06.94-2.06 2.06-.94-2.06-.94-.94-2.06-.94 2.06-2.06.94z\"/><path d=\"M17.41 7.96l-1.37-1.37c-.4-.4-.92-.59-1.43-.59-.52 0-1.04.2-1.43.59L10.3 9.45l-7.72 7.72c-.78.78-.78 2.05 0 2.83L4 21.41c.39.39.9.59 1.41.59.51 0 1.02-.2 1.41-.59l7.78-7.78 2.81-2.81c.8-.78.8-2.07 0-2.86zM5.41 20L4 18.59l7.72-7.72 1.47 1.35L5.41 20z\"/>\n",
              "  </svg>\n",
              "      </button>\n",
              "      \n",
              "  <style>\n",
              "    .colab-df-container {\n",
              "      display:flex;\n",
              "      flex-wrap:wrap;\n",
              "      gap: 12px;\n",
              "    }\n",
              "\n",
              "    .colab-df-convert {\n",
              "      background-color: #E8F0FE;\n",
              "      border: none;\n",
              "      border-radius: 50%;\n",
              "      cursor: pointer;\n",
              "      display: none;\n",
              "      fill: #1967D2;\n",
              "      height: 32px;\n",
              "      padding: 0 0 0 0;\n",
              "      width: 32px;\n",
              "    }\n",
              "\n",
              "    .colab-df-convert:hover {\n",
              "      background-color: #E2EBFA;\n",
              "      box-shadow: 0px 1px 2px rgba(60, 64, 67, 0.3), 0px 1px 3px 1px rgba(60, 64, 67, 0.15);\n",
              "      fill: #174EA6;\n",
              "    }\n",
              "\n",
              "    [theme=dark] .colab-df-convert {\n",
              "      background-color: #3B4455;\n",
              "      fill: #D2E3FC;\n",
              "    }\n",
              "\n",
              "    [theme=dark] .colab-df-convert:hover {\n",
              "      background-color: #434B5C;\n",
              "      box-shadow: 0px 1px 3px 1px rgba(0, 0, 0, 0.15);\n",
              "      filter: drop-shadow(0px 1px 2px rgba(0, 0, 0, 0.3));\n",
              "      fill: #FFFFFF;\n",
              "    }\n",
              "  </style>\n",
              "\n",
              "      <script>\n",
              "        const buttonEl =\n",
              "          document.querySelector('#df-e27f733e-fe92-49c6-bb23-9a68ef5fbc73 button.colab-df-convert');\n",
              "        buttonEl.style.display =\n",
              "          google.colab.kernel.accessAllowed ? 'block' : 'none';\n",
              "\n",
              "        async function convertToInteractive(key) {\n",
              "          const element = document.querySelector('#df-e27f733e-fe92-49c6-bb23-9a68ef5fbc73');\n",
              "          const dataTable =\n",
              "            await google.colab.kernel.invokeFunction('convertToInteractive',\n",
              "                                                     [key], {});\n",
              "          if (!dataTable) return;\n",
              "\n",
              "          const docLinkHtml = 'Like what you see? Visit the ' +\n",
              "            '<a target=\"_blank\" href=https://colab.research.google.com/notebooks/data_table.ipynb>data table notebook</a>'\n",
              "            + ' to learn more about interactive tables.';\n",
              "          element.innerHTML = '';\n",
              "          dataTable['output_type'] = 'display_data';\n",
              "          await google.colab.output.renderOutput(dataTable, element);\n",
              "          const docLink = document.createElement('div');\n",
              "          docLink.innerHTML = docLinkHtml;\n",
              "          element.appendChild(docLink);\n",
              "        }\n",
              "      </script>\n",
              "    </div>\n",
              "  </div>\n",
              "  "
            ]
          },
          "metadata": {},
          "execution_count": 26
        }
      ],
      "source": [
        "predict_example = pd.read_parquet(PATH + 'data/01_raw/sample_submit.parquet.gzip')\n",
        "print(f'test.shape = {predict_example.shape}\\n')\n",
        "predict_example.head(2)"
      ]
    },
    {
      "cell_type": "code",
      "execution_count": 27,
      "metadata": {
        "colab": {
          "base_uri": "https://localhost:8080/",
          "height": 206
        },
        "id": "BCB_XnyDb1P5",
        "outputId": "a9846a72-08f6-4c11-d4f4-a0d18607da53"
      },
      "outputs": [
        {
          "output_type": "execute_result",
          "data": {
            "text/plain": [
              "   id          dt       target\n",
              "0   0  2017-07-01  1095.304193\n",
              "1   0  2017-07-02   939.346244\n",
              "2   0  2017-07-03   833.351179\n",
              "3   0  2017-07-04   770.504689\n",
              "4   0  2017-07-06   632.077573"
            ],
            "text/html": [
              "\n",
              "  <div id=\"df-cdadc883-a7e1-412b-9bab-85e9d650985f\">\n",
              "    <div class=\"colab-df-container\">\n",
              "      <div>\n",
              "<style scoped>\n",
              "    .dataframe tbody tr th:only-of-type {\n",
              "        vertical-align: middle;\n",
              "    }\n",
              "\n",
              "    .dataframe tbody tr th {\n",
              "        vertical-align: top;\n",
              "    }\n",
              "\n",
              "    .dataframe thead th {\n",
              "        text-align: right;\n",
              "    }\n",
              "</style>\n",
              "<table border=\"1\" class=\"dataframe\">\n",
              "  <thead>\n",
              "    <tr style=\"text-align: right;\">\n",
              "      <th></th>\n",
              "      <th>id</th>\n",
              "      <th>dt</th>\n",
              "      <th>target</th>\n",
              "    </tr>\n",
              "  </thead>\n",
              "  <tbody>\n",
              "    <tr>\n",
              "      <th>0</th>\n",
              "      <td>0</td>\n",
              "      <td>2017-07-01</td>\n",
              "      <td>1095.304193</td>\n",
              "    </tr>\n",
              "    <tr>\n",
              "      <th>1</th>\n",
              "      <td>0</td>\n",
              "      <td>2017-07-02</td>\n",
              "      <td>939.346244</td>\n",
              "    </tr>\n",
              "    <tr>\n",
              "      <th>2</th>\n",
              "      <td>0</td>\n",
              "      <td>2017-07-03</td>\n",
              "      <td>833.351179</td>\n",
              "    </tr>\n",
              "    <tr>\n",
              "      <th>3</th>\n",
              "      <td>0</td>\n",
              "      <td>2017-07-04</td>\n",
              "      <td>770.504689</td>\n",
              "    </tr>\n",
              "    <tr>\n",
              "      <th>4</th>\n",
              "      <td>0</td>\n",
              "      <td>2017-07-06</td>\n",
              "      <td>632.077573</td>\n",
              "    </tr>\n",
              "  </tbody>\n",
              "</table>\n",
              "</div>\n",
              "      <button class=\"colab-df-convert\" onclick=\"convertToInteractive('df-cdadc883-a7e1-412b-9bab-85e9d650985f')\"\n",
              "              title=\"Convert this dataframe to an interactive table.\"\n",
              "              style=\"display:none;\">\n",
              "        \n",
              "  <svg xmlns=\"http://www.w3.org/2000/svg\" height=\"24px\"viewBox=\"0 0 24 24\"\n",
              "       width=\"24px\">\n",
              "    <path d=\"M0 0h24v24H0V0z\" fill=\"none\"/>\n",
              "    <path d=\"M18.56 5.44l.94 2.06.94-2.06 2.06-.94-2.06-.94-.94-2.06-.94 2.06-2.06.94zm-11 1L8.5 8.5l.94-2.06 2.06-.94-2.06-.94L8.5 2.5l-.94 2.06-2.06.94zm10 10l.94 2.06.94-2.06 2.06-.94-2.06-.94-.94-2.06-.94 2.06-2.06.94z\"/><path d=\"M17.41 7.96l-1.37-1.37c-.4-.4-.92-.59-1.43-.59-.52 0-1.04.2-1.43.59L10.3 9.45l-7.72 7.72c-.78.78-.78 2.05 0 2.83L4 21.41c.39.39.9.59 1.41.59.51 0 1.02-.2 1.41-.59l7.78-7.78 2.81-2.81c.8-.78.8-2.07 0-2.86zM5.41 20L4 18.59l7.72-7.72 1.47 1.35L5.41 20z\"/>\n",
              "  </svg>\n",
              "      </button>\n",
              "      \n",
              "  <style>\n",
              "    .colab-df-container {\n",
              "      display:flex;\n",
              "      flex-wrap:wrap;\n",
              "      gap: 12px;\n",
              "    }\n",
              "\n",
              "    .colab-df-convert {\n",
              "      background-color: #E8F0FE;\n",
              "      border: none;\n",
              "      border-radius: 50%;\n",
              "      cursor: pointer;\n",
              "      display: none;\n",
              "      fill: #1967D2;\n",
              "      height: 32px;\n",
              "      padding: 0 0 0 0;\n",
              "      width: 32px;\n",
              "    }\n",
              "\n",
              "    .colab-df-convert:hover {\n",
              "      background-color: #E2EBFA;\n",
              "      box-shadow: 0px 1px 2px rgba(60, 64, 67, 0.3), 0px 1px 3px 1px rgba(60, 64, 67, 0.15);\n",
              "      fill: #174EA6;\n",
              "    }\n",
              "\n",
              "    [theme=dark] .colab-df-convert {\n",
              "      background-color: #3B4455;\n",
              "      fill: #D2E3FC;\n",
              "    }\n",
              "\n",
              "    [theme=dark] .colab-df-convert:hover {\n",
              "      background-color: #434B5C;\n",
              "      box-shadow: 0px 1px 3px 1px rgba(0, 0, 0, 0.15);\n",
              "      filter: drop-shadow(0px 1px 2px rgba(0, 0, 0, 0.3));\n",
              "      fill: #FFFFFF;\n",
              "    }\n",
              "  </style>\n",
              "\n",
              "      <script>\n",
              "        const buttonEl =\n",
              "          document.querySelector('#df-cdadc883-a7e1-412b-9bab-85e9d650985f button.colab-df-convert');\n",
              "        buttonEl.style.display =\n",
              "          google.colab.kernel.accessAllowed ? 'block' : 'none';\n",
              "\n",
              "        async function convertToInteractive(key) {\n",
              "          const element = document.querySelector('#df-cdadc883-a7e1-412b-9bab-85e9d650985f');\n",
              "          const dataTable =\n",
              "            await google.colab.kernel.invokeFunction('convertToInteractive',\n",
              "                                                     [key], {});\n",
              "          if (!dataTable) return;\n",
              "\n",
              "          const docLinkHtml = 'Like what you see? Visit the ' +\n",
              "            '<a target=\"_blank\" href=https://colab.research.google.com/notebooks/data_table.ipynb>data table notebook</a>'\n",
              "            + ' to learn more about interactive tables.';\n",
              "          element.innerHTML = '';\n",
              "          dataTable['output_type'] = 'display_data';\n",
              "          await google.colab.output.renderOutput(dataTable, element);\n",
              "          const docLink = document.createElement('div');\n",
              "          docLink.innerHTML = docLinkHtml;\n",
              "          element.appendChild(docLink);\n",
              "        }\n",
              "      </script>\n",
              "    </div>\n",
              "  </div>\n",
              "  "
            ]
          },
          "metadata": {},
          "execution_count": 27
        }
      ],
      "source": [
        "n_shops = 20\n",
        "for i in range(n_shops):\n",
        "  predict_example.loc[predict_example['id'] == i, 'target'] = y_pred_rescaled.loc[:, i]\n",
        "\n",
        "predict_example.to_parquet(\n",
        "    'data/06_model_output/sales_forecast_lstm.parquet.gzip', compression='gzip'\n",
        ")\n",
        "predict_example.head()"
      ]
    },
    {
      "cell_type": "markdown",
      "metadata": {
        "id": "k5l6afUrb7Iy"
      },
      "source": [
        "## 5. Findings"
      ]
    },
    {
      "cell_type": "markdown",
      "metadata": {
        "id": "4I1SyQe3b_ht"
      },
      "source": [
        "* LSTM model has not generated the prominent results. However, model predictions are better than the naive forecast with sales for the previous month. "
      ]
    }
  ],
  "metadata": {
    "colab": {
      "provenance": [],
      "authorship_tag": "ABX9TyNVGJth0zka97SPfPsIMda+",
      "include_colab_link": true
    },
    "gpuClass": "standard",
    "kernelspec": {
      "display_name": "Python 3",
      "name": "python3"
    },
    "language_info": {
      "name": "python"
    },
    "accelerator": "GPU"
  },
  "nbformat": 4,
  "nbformat_minor": 0
}