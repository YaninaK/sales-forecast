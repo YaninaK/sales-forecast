{
  "cells": [
    {
      "cell_type": "markdown",
      "metadata": {
        "id": "view-in-github",
        "colab_type": "text"
      },
      "source": [
        "<a href=\"https://colab.research.google.com/github/YaninaK/sales-forecast/blob/main/notebooks/03_Baseline_model.ipynb\" target=\"_parent\"><img src=\"https://colab.research.google.com/assets/colab-badge.svg\" alt=\"Open In Colab\"/></a>"
      ]
    },
    {
      "cell_type": "markdown",
      "metadata": {
        "id": "yw1w9JFTOyl0"
      },
      "source": [
        "# Sales forecast for 20 stores for 31 days' period.\n",
        "\n",
        "## Baseline model - LSTM"
      ]
    },
    {
      "cell_type": "markdown",
      "metadata": {
        "id": "0ntOLUaWO_Zl"
      },
      "source": [
        "[EDA: omissions, clustering & Fourier transformations](\n",
        "https://colab.research.google.com/drive/1udCgyEt7lusSY43lnduVDEnZvdvVEt9h?usp=sharing)\n",
        "\n",
        "[Feature extraction](https://colab.research.google.com/drive/1H-vQoHnycp62YuZD1xrmIDjufpDu7ig3?usp=sharing)"
      ]
    },
    {
      "cell_type": "code",
      "execution_count": 1,
      "metadata": {
        "colab": {
          "base_uri": "https://localhost:8080/"
        },
        "id": "NP9i317dO3-E",
        "outputId": "b9a0ce54-c3fd-40b9-b866-c9a38d36d0d5"
      },
      "outputs": [
        {
          "output_type": "stream",
          "name": "stdout",
          "text": [
            "Mounted at /content/drive\n"
          ]
        }
      ],
      "source": [
        "from google.colab import drive\n",
        "drive.mount('/content/drive')"
      ]
    },
    {
      "cell_type": "code",
      "execution_count": 2,
      "metadata": {
        "colab": {
          "base_uri": "https://localhost:8080/"
        },
        "id": "NOaainxsPvh1",
        "outputId": "ef63fbd6-38d7-4c72-8ed2-cb16f99d3120"
      },
      "outputs": [
        {
          "output_type": "stream",
          "name": "stdout",
          "text": [
            "\u001b[?25l     \u001b[90m━━━━━━━━━━━━━━━━━━━━━━━━━━━━━━━━━━━━━━━━\u001b[0m \u001b[32m0.0/358.2 KB\u001b[0m \u001b[31m?\u001b[0m eta \u001b[36m-:--:--\u001b[0m\r\u001b[2K     \u001b[91m━━━━━━━━━━━━━━━━━━━━━━━━━━\u001b[0m\u001b[91m╸\u001b[0m\u001b[90m━━━━━━━━━━━━\u001b[0m \u001b[32m245.8/358.2 KB\u001b[0m \u001b[31m7.4 MB/s\u001b[0m eta \u001b[36m0:00:01\u001b[0m\r\u001b[2K     \u001b[90m━━━━━━━━━━━━━━━━━━━━━━━━━━━━━━━━━━━━━━━\u001b[0m \u001b[32m358.2/358.2 KB\u001b[0m \u001b[31m7.2 MB/s\u001b[0m eta \u001b[36m0:00:00\u001b[0m\n",
            "\u001b[2K     \u001b[90m━━━━━━━━━━━━━━━━━━━━━━━━━━━━━━━━━━━━━━━━\u001b[0m \u001b[32m98.2/98.2 KB\u001b[0m \u001b[31m9.8 MB/s\u001b[0m eta \u001b[36m0:00:00\u001b[0m\n",
            "\u001b[2K     \u001b[90m━━━━━━━━━━━━━━━━━━━━━━━━━━━━━━━━━━━━━━\u001b[0m \u001b[32m136.2/136.2 KB\u001b[0m \u001b[31m16.1 MB/s\u001b[0m eta \u001b[36m0:00:00\u001b[0m\n",
            "\u001b[?25h"
          ]
        }
      ],
      "source": [
        "!git clone -q https://github.com/YaninaK/sales-forecast.git\n",
        "!pip install -r sales-forecast/requirements_Colab.txt -q "
      ]
    },
    {
      "cell_type": "code",
      "execution_count": 3,
      "metadata": {
        "colab": {
          "base_uri": "https://localhost:8080/"
        },
        "id": "oGpZTC0tP0QI",
        "outputId": "55656d0a-1f89-4614-caf4-9799db2680c5"
      },
      "outputs": [
        {
          "output_type": "stream",
          "name": "stdout",
          "text": [
            "/content/sales-forecast\n"
          ]
        }
      ],
      "source": [
        "%cd sales-forecast"
      ]
    },
    {
      "cell_type": "code",
      "execution_count": 4,
      "metadata": {
        "id": "9JdDC3FUP1J7"
      },
      "outputs": [],
      "source": [
        "import sys\n",
        "import os\n",
        "\n",
        "sys.path.append(os.getcwd())\n",
        "sys.path.append(os.path.join(os.getcwd(), \"src\", \"sales_forecast\"))"
      ]
    },
    {
      "cell_type": "code",
      "execution_count": 5,
      "metadata": {
        "id": "9IzhaR8jP302"
      },
      "outputs": [],
      "source": [
        "import random\n",
        "import pandas as pd\n",
        "import numpy as np\n",
        "import tensorflow as tf\n",
        "import joblib\n",
        "\n",
        "from data.make_dataset import load_data\n",
        "from src.sales_forecast.models import train\n",
        "\n",
        "from data.johnson_su_transformation import JohnsonSU\n",
        "from data.train_test_datasets import get_train_dataset, get_test_dataset\n",
        "from models.model_LSTM import get_model_LSTM\n",
        "from scripts.train_save_model import train_store"
      ]
    },
    {
      "cell_type": "code",
      "execution_count": 6,
      "metadata": {
        "id": "1htDECSWLpcT"
      },
      "outputs": [],
      "source": [
        "import warnings\n",
        "warnings.filterwarnings('ignore')"
      ]
    },
    {
      "cell_type": "code",
      "execution_count": 7,
      "metadata": {
        "id": "llog_mfTQIGB"
      },
      "outputs": [],
      "source": [
        "PATH = '/content/drive/MyDrive/ML_projects/01_Time_series/sales_forecast/'\n",
        "DEFAULT_RANDOM_SEED = 3"
      ]
    },
    {
      "cell_type": "code",
      "execution_count": 8,
      "metadata": {
        "id": "Q9iGOsyiQLA8"
      },
      "outputs": [],
      "source": [
        "def set_all_seeds(seed=DEFAULT_RANDOM_SEED):\n",
        "  random.seed(seed)\n",
        "  os.environ['PYTHONHASHSEED'] = str(seed)\n",
        "  np.random.seed(seed)\n",
        "  tf.random.set_seed(seed)\n",
        "  \n",
        "set_all_seeds()"
      ]
    },
    {
      "cell_type": "markdown",
      "metadata": {
        "id": "6FplTdRyQ4kR"
      },
      "source": [
        "## 1. Data ingestion"
      ]
    },
    {
      "cell_type": "code",
      "execution_count": 9,
      "metadata": {
        "colab": {
          "base_uri": "https://localhost:8080/",
          "height": 149
        },
        "id": "q20ClbC4Kzr7",
        "outputId": "59dfaeb4-07d8-4132-8cfc-e93f510e25f8"
      },
      "outputs": [
        {
          "output_type": "stream",
          "name": "stdout",
          "text": [
            "data.shape = (8230, 3)\n",
            "\n"
          ]
        },
        {
          "output_type": "execute_result",
          "data": {
            "text/plain": [
              "   id          dt  target\n",
              "0   0  2016-01-02   747.8\n",
              "1   0  2016-01-03   681.2"
            ],
            "text/html": [
              "\n",
              "  <div id=\"df-9b801ea4-1d74-47dc-b5a0-0f1454b8731b\">\n",
              "    <div class=\"colab-df-container\">\n",
              "      <div>\n",
              "<style scoped>\n",
              "    .dataframe tbody tr th:only-of-type {\n",
              "        vertical-align: middle;\n",
              "    }\n",
              "\n",
              "    .dataframe tbody tr th {\n",
              "        vertical-align: top;\n",
              "    }\n",
              "\n",
              "    .dataframe thead th {\n",
              "        text-align: right;\n",
              "    }\n",
              "</style>\n",
              "<table border=\"1\" class=\"dataframe\">\n",
              "  <thead>\n",
              "    <tr style=\"text-align: right;\">\n",
              "      <th></th>\n",
              "      <th>id</th>\n",
              "      <th>dt</th>\n",
              "      <th>target</th>\n",
              "    </tr>\n",
              "  </thead>\n",
              "  <tbody>\n",
              "    <tr>\n",
              "      <th>0</th>\n",
              "      <td>0</td>\n",
              "      <td>2016-01-02</td>\n",
              "      <td>747.8</td>\n",
              "    </tr>\n",
              "    <tr>\n",
              "      <th>1</th>\n",
              "      <td>0</td>\n",
              "      <td>2016-01-03</td>\n",
              "      <td>681.2</td>\n",
              "    </tr>\n",
              "  </tbody>\n",
              "</table>\n",
              "</div>\n",
              "      <button class=\"colab-df-convert\" onclick=\"convertToInteractive('df-9b801ea4-1d74-47dc-b5a0-0f1454b8731b')\"\n",
              "              title=\"Convert this dataframe to an interactive table.\"\n",
              "              style=\"display:none;\">\n",
              "        \n",
              "  <svg xmlns=\"http://www.w3.org/2000/svg\" height=\"24px\"viewBox=\"0 0 24 24\"\n",
              "       width=\"24px\">\n",
              "    <path d=\"M0 0h24v24H0V0z\" fill=\"none\"/>\n",
              "    <path d=\"M18.56 5.44l.94 2.06.94-2.06 2.06-.94-2.06-.94-.94-2.06-.94 2.06-2.06.94zm-11 1L8.5 8.5l.94-2.06 2.06-.94-2.06-.94L8.5 2.5l-.94 2.06-2.06.94zm10 10l.94 2.06.94-2.06 2.06-.94-2.06-.94-.94-2.06-.94 2.06-2.06.94z\"/><path d=\"M17.41 7.96l-1.37-1.37c-.4-.4-.92-.59-1.43-.59-.52 0-1.04.2-1.43.59L10.3 9.45l-7.72 7.72c-.78.78-.78 2.05 0 2.83L4 21.41c.39.39.9.59 1.41.59.51 0 1.02-.2 1.41-.59l7.78-7.78 2.81-2.81c.8-.78.8-2.07 0-2.86zM5.41 20L4 18.59l7.72-7.72 1.47 1.35L5.41 20z\"/>\n",
              "  </svg>\n",
              "      </button>\n",
              "      \n",
              "  <style>\n",
              "    .colab-df-container {\n",
              "      display:flex;\n",
              "      flex-wrap:wrap;\n",
              "      gap: 12px;\n",
              "    }\n",
              "\n",
              "    .colab-df-convert {\n",
              "      background-color: #E8F0FE;\n",
              "      border: none;\n",
              "      border-radius: 50%;\n",
              "      cursor: pointer;\n",
              "      display: none;\n",
              "      fill: #1967D2;\n",
              "      height: 32px;\n",
              "      padding: 0 0 0 0;\n",
              "      width: 32px;\n",
              "    }\n",
              "\n",
              "    .colab-df-convert:hover {\n",
              "      background-color: #E2EBFA;\n",
              "      box-shadow: 0px 1px 2px rgba(60, 64, 67, 0.3), 0px 1px 3px 1px rgba(60, 64, 67, 0.15);\n",
              "      fill: #174EA6;\n",
              "    }\n",
              "\n",
              "    [theme=dark] .colab-df-convert {\n",
              "      background-color: #3B4455;\n",
              "      fill: #D2E3FC;\n",
              "    }\n",
              "\n",
              "    [theme=dark] .colab-df-convert:hover {\n",
              "      background-color: #434B5C;\n",
              "      box-shadow: 0px 1px 3px 1px rgba(0, 0, 0, 0.15);\n",
              "      filter: drop-shadow(0px 1px 2px rgba(0, 0, 0, 0.3));\n",
              "      fill: #FFFFFF;\n",
              "    }\n",
              "  </style>\n",
              "\n",
              "      <script>\n",
              "        const buttonEl =\n",
              "          document.querySelector('#df-9b801ea4-1d74-47dc-b5a0-0f1454b8731b button.colab-df-convert');\n",
              "        buttonEl.style.display =\n",
              "          google.colab.kernel.accessAllowed ? 'block' : 'none';\n",
              "\n",
              "        async function convertToInteractive(key) {\n",
              "          const element = document.querySelector('#df-9b801ea4-1d74-47dc-b5a0-0f1454b8731b');\n",
              "          const dataTable =\n",
              "            await google.colab.kernel.invokeFunction('convertToInteractive',\n",
              "                                                     [key], {});\n",
              "          if (!dataTable) return;\n",
              "\n",
              "          const docLinkHtml = 'Like what you see? Visit the ' +\n",
              "            '<a target=\"_blank\" href=https://colab.research.google.com/notebooks/data_table.ipynb>data table notebook</a>'\n",
              "            + ' to learn more about interactive tables.';\n",
              "          element.innerHTML = '';\n",
              "          dataTable['output_type'] = 'display_data';\n",
              "          await google.colab.output.renderOutput(dataTable, element);\n",
              "          const docLink = document.createElement('div');\n",
              "          docLink.innerHTML = docLinkHtml;\n",
              "          element.appendChild(docLink);\n",
              "        }\n",
              "      </script>\n",
              "    </div>\n",
              "  </div>\n",
              "  "
            ]
          },
          "metadata": {},
          "execution_count": 9
        }
      ],
      "source": [
        "data = load_data(PATH)\n",
        "\n",
        "print(f'data.shape = {data.shape}\\n')\n",
        "data.head(2)"
      ]
    },
    {
      "cell_type": "markdown",
      "metadata": {
        "id": "BWN9VH40WEMK"
      },
      "source": [
        "## 2. Data preprocessing pipeline"
      ]
    },
    {
      "cell_type": "code",
      "execution_count": 10,
      "metadata": {
        "colab": {
          "base_uri": "https://localhost:8080/"
        },
        "id": "uRbHm4snLIYS",
        "outputId": "87566dac-9f8f-4f57-c9ee-a717f007d9ba"
      },
      "outputs": [
        {
          "output_type": "stream",
          "name": "stdout",
          "text": [
            "Number of outliers = 8\n"
          ]
        },
        {
          "output_type": "execute_result",
          "data": {
            "text/plain": [
              "(153, 20, 48)"
            ]
          },
          "metadata": {},
          "execution_count": 10
        }
      ],
      "source": [
        "regenerate = True\n",
        "if regenerate:\n",
        "  X = train.data_preprocessing_pipeline(data)\n",
        "else:\n",
        "  X = np.load('data/04_feature/train_dataset.npy')\n",
        "\n",
        "X.shape"
      ]
    },
    {
      "cell_type": "markdown",
      "metadata": {
        "id": "a5yhOwIBedyY"
      },
      "source": [
        "## 3. Model LSTM"
      ]
    },
    {
      "cell_type": "markdown",
      "metadata": {
        "id": "jXi5ehMcei7i"
      },
      "source": [
        "### 3.1 Model architecture"
      ]
    },
    {
      "cell_type": "code",
      "execution_count": 11,
      "metadata": {
        "colab": {
          "base_uri": "https://localhost:8080/"
        },
        "id": "bx3QHckueeZe",
        "outputId": "4d3278f1-71f3-480f-f5bb-b9f58a112e06"
      },
      "outputs": [
        {
          "output_type": "stream",
          "name": "stdout",
          "text": [
            "Model: \"model\"\n",
            "__________________________________________________________________________________________________\n",
            " Layer (type)                   Output Shape         Param #     Connected to                     \n",
            "==================================================================================================\n",
            " input_1 (InputLayer)           [(None, 54, 48)]     0           []                               \n",
            "                                                                                                  \n",
            " lstm (LSTM)                    [(None, 54, 150),    119400      ['input_1[0][0]']                \n",
            "                                 (None, 150),                                                     \n",
            "                                 (None, 150)]                                                     \n",
            "                                                                                                  \n",
            " lstm_1 (LSTM)                  [(None, 150),        180600      ['lstm[0][0]']                   \n",
            "                                 (None, 150),                                                     \n",
            "                                 (None, 150)]                                                     \n",
            "                                                                                                  \n",
            " repeat_vector (RepeatVector)   (None, 27, 150)      0           ['lstm_1[0][0]']                 \n",
            "                                                                                                  \n",
            " lstm_2 (LSTM)                  (None, 27, 150)      180600      ['repeat_vector[0][0]',          \n",
            "                                                                  'lstm[0][1]',                   \n",
            "                                                                  'lstm[0][2]']                   \n",
            "                                                                                                  \n",
            " lstm_3 (LSTM)                  (None, 27, 150)      180600      ['lstm_2[0][0]',                 \n",
            "                                                                  'lstm_1[0][1]',                 \n",
            "                                                                  'lstm_1[0][2]']                 \n",
            "                                                                                                  \n",
            " time_distributed (TimeDistribu  (None, 27, 48)      7248        ['lstm_3[0][0]']                 \n",
            " ted)                                                                                             \n",
            "                                                                                                  \n",
            "==================================================================================================\n",
            "Total params: 668,448\n",
            "Trainable params: 668,448\n",
            "Non-trainable params: 0\n",
            "__________________________________________________________________________________________________\n"
          ]
        }
      ],
      "source": [
        "n_features = X.shape[2]\n",
        "model = get_model_LSTM(n_features)\n",
        "model.summary()"
      ]
    },
    {
      "cell_type": "markdown",
      "metadata": {
        "id": "eqH3rDIHig3N"
      },
      "source": [
        "### 3.2 Training of the model"
      ]
    },
    {
      "cell_type": "code",
      "source": [
        "X_train, y_train = get_train_dataset(X)\n",
        "X_train.shape, y_train.shape"
      ],
      "metadata": {
        "colab": {
          "base_uri": "https://localhost:8080/"
        },
        "id": "a6RWONYgWN9q",
        "outputId": "f22649cf-4667-48ba-a7cf-f129c48a1778"
      },
      "execution_count": 12,
      "outputs": [
        {
          "output_type": "execute_result",
          "data": {
            "text/plain": [
              "((900, 54, 48), (900, 27, 48))"
            ]
          },
          "metadata": {},
          "execution_count": 12
        }
      ]
    },
    {
      "cell_type": "code",
      "execution_count": 13,
      "metadata": {
        "colab": {
          "base_uri": "https://localhost:8080/"
        },
        "id": "xHc3LM9eKEUW",
        "outputId": "8473d09b-3e87-433c-f87f-f871fb1202da"
      },
      "outputs": [
        {
          "output_type": "stream",
          "name": "stdout",
          "text": [
            "Epoch 1/60\n",
            "11/11 [==============================] - 17s 211ms/step - loss: 0.4417 - val_loss: 0.3931 - lr: 0.0300\n",
            "Epoch 2/60\n",
            "11/11 [==============================] - 0s 31ms/step - loss: 0.3662 - val_loss: 0.3905 - lr: 0.0285\n",
            "Epoch 3/60\n",
            "11/11 [==============================] - 0s 23ms/step - loss: 0.3623 - val_loss: 0.3877 - lr: 0.0271\n",
            "Epoch 4/60\n",
            "11/11 [==============================] - 0s 23ms/step - loss: 0.3528 - val_loss: 0.3734 - lr: 0.0257\n",
            "Epoch 5/60\n",
            "11/11 [==============================] - 0s 21ms/step - loss: 0.3401 - val_loss: 0.3614 - lr: 0.0244\n",
            "Epoch 6/60\n",
            "11/11 [==============================] - 0s 23ms/step - loss: 0.3309 - val_loss: 0.3506 - lr: 0.0232\n",
            "Epoch 7/60\n",
            "11/11 [==============================] - 0s 21ms/step - loss: 0.3138 - val_loss: 0.3959 - lr: 0.0221\n",
            "Epoch 8/60\n",
            "11/11 [==============================] - 0s 21ms/step - loss: 0.3356 - val_loss: 0.3616 - lr: 0.0210\n",
            "Epoch 9/60\n",
            "11/11 [==============================] - 0s 22ms/step - loss: 0.3148 - val_loss: 0.3209 - lr: 0.0199\n",
            "Epoch 10/60\n",
            "11/11 [==============================] - 0s 21ms/step - loss: 0.2928 - val_loss: 0.2970 - lr: 0.0189\n",
            "Epoch 11/60\n",
            "11/11 [==============================] - 0s 21ms/step - loss: 0.2857 - val_loss: 0.2938 - lr: 0.0180\n",
            "Epoch 12/60\n",
            "11/11 [==============================] - 0s 19ms/step - loss: 0.2784 - val_loss: 0.2926 - lr: 0.0171\n",
            "Epoch 13/60\n",
            "11/11 [==============================] - 0s 16ms/step - loss: 0.2761 - val_loss: 0.2913 - lr: 0.0162\n",
            "Epoch 14/60\n",
            "11/11 [==============================] - 0s 17ms/step - loss: 0.2698 - val_loss: 0.2801 - lr: 0.0154\n",
            "Epoch 15/60\n",
            "11/11 [==============================] - 0s 17ms/step - loss: 0.2646 - val_loss: 0.2803 - lr: 0.0146\n",
            "Epoch 16/60\n",
            "11/11 [==============================] - 0s 16ms/step - loss: 0.2596 - val_loss: 0.2774 - lr: 0.0139\n",
            "Epoch 17/60\n",
            "11/11 [==============================] - 0s 17ms/step - loss: 0.2549 - val_loss: 0.2749 - lr: 0.0132\n",
            "Epoch 18/60\n",
            "11/11 [==============================] - 0s 16ms/step - loss: 0.2532 - val_loss: 0.2760 - lr: 0.0125\n",
            "Epoch 19/60\n",
            "11/11 [==============================] - 0s 17ms/step - loss: 0.2502 - val_loss: 0.2733 - lr: 0.0119\n",
            "Epoch 20/60\n",
            "11/11 [==============================] - 0s 17ms/step - loss: 0.2469 - val_loss: 0.2696 - lr: 0.0113\n",
            "Epoch 21/60\n",
            "11/11 [==============================] - 0s 17ms/step - loss: 0.2446 - val_loss: 0.2675 - lr: 0.0108\n",
            "Epoch 22/60\n",
            "11/11 [==============================] - 0s 16ms/step - loss: 0.2415 - val_loss: 0.2625 - lr: 0.0102\n",
            "Epoch 23/60\n",
            "11/11 [==============================] - 0s 18ms/step - loss: 0.2388 - val_loss: 0.2598 - lr: 0.0097\n",
            "Epoch 24/60\n",
            "11/11 [==============================] - 0s 16ms/step - loss: 0.2364 - val_loss: 0.2572 - lr: 0.0092\n",
            "Epoch 25/60\n",
            "11/11 [==============================] - 0s 16ms/step - loss: 0.2341 - val_loss: 0.2573 - lr: 0.0088\n",
            "Epoch 26/60\n",
            "11/11 [==============================] - 0s 17ms/step - loss: 0.2319 - val_loss: 0.2540 - lr: 0.0083\n",
            "Epoch 27/60\n",
            "11/11 [==============================] - 0s 18ms/step - loss: 0.2303 - val_loss: 0.2540 - lr: 0.0079\n",
            "Epoch 28/60\n",
            "11/11 [==============================] - 0s 16ms/step - loss: 0.2281 - val_loss: 0.2516 - lr: 0.0075\n",
            "Epoch 29/60\n",
            "11/11 [==============================] - 0s 16ms/step - loss: 0.2266 - val_loss: 0.2491 - lr: 0.0071\n",
            "Epoch 30/60\n",
            "11/11 [==============================] - 0s 17ms/step - loss: 0.2251 - val_loss: 0.2457 - lr: 0.0068\n",
            "Epoch 31/60\n",
            "11/11 [==============================] - 0s 16ms/step - loss: 0.2231 - val_loss: 0.2474 - lr: 0.0064\n",
            "Epoch 32/60\n",
            "11/11 [==============================] - 0s 18ms/step - loss: 0.2211 - val_loss: 0.2455 - lr: 0.0061\n",
            "Epoch 33/60\n",
            "11/11 [==============================] - 0s 17ms/step - loss: 0.2199 - val_loss: 0.2462 - lr: 0.0058\n",
            "Epoch 34/60\n",
            "11/11 [==============================] - 0s 17ms/step - loss: 0.2188 - val_loss: 0.2464 - lr: 0.0055\n",
            "Epoch 35/60\n",
            "11/11 [==============================] - 0s 16ms/step - loss: 0.2180 - val_loss: 0.2433 - lr: 0.0052\n",
            "Epoch 36/60\n",
            "11/11 [==============================] - 0s 16ms/step - loss: 0.2171 - val_loss: 0.2459 - lr: 0.0050\n",
            "Epoch 37/60\n",
            "11/11 [==============================] - 0s 18ms/step - loss: 0.2162 - val_loss: 0.2465 - lr: 0.0047\n",
            "Epoch 38/60\n",
            "11/11 [==============================] - 0s 17ms/step - loss: 0.2154 - val_loss: 0.2440 - lr: 0.0045\n",
            "Epoch 39/60\n",
            "11/11 [==============================] - 0s 16ms/step - loss: 0.2139 - val_loss: 0.2412 - lr: 0.0043\n",
            "Epoch 40/60\n",
            "11/11 [==============================] - 0s 18ms/step - loss: 0.2130 - val_loss: 0.2413 - lr: 0.0041\n",
            "Epoch 41/60\n",
            "11/11 [==============================] - 0s 18ms/step - loss: 0.2122 - val_loss: 0.2395 - lr: 0.0039\n",
            "Epoch 42/60\n",
            "11/11 [==============================] - 0s 17ms/step - loss: 0.2116 - val_loss: 0.2393 - lr: 0.0037\n",
            "Epoch 43/60\n",
            "11/11 [==============================] - 0s 17ms/step - loss: 0.2109 - val_loss: 0.2401 - lr: 0.0035\n",
            "Epoch 44/60\n",
            "11/11 [==============================] - 0s 17ms/step - loss: 0.2104 - val_loss: 0.2371 - lr: 0.0033\n",
            "Epoch 45/60\n",
            "11/11 [==============================] - 0s 16ms/step - loss: 0.2098 - val_loss: 0.2374 - lr: 0.0031\n",
            "Epoch 46/60\n",
            "11/11 [==============================] - 0s 17ms/step - loss: 0.2091 - val_loss: 0.2379 - lr: 0.0030\n",
            "Epoch 47/60\n",
            "11/11 [==============================] - 0s 16ms/step - loss: 0.2085 - val_loss: 0.2377 - lr: 0.0028\n",
            "Epoch 48/60\n",
            "11/11 [==============================] - 0s 17ms/step - loss: 0.2080 - val_loss: 0.2371 - lr: 0.0027\n",
            "Epoch 49/60\n",
            "11/11 [==============================] - 0s 17ms/step - loss: 0.2075 - val_loss: 0.2360 - lr: 0.0026\n",
            "Epoch 50/60\n",
            "11/11 [==============================] - 0s 17ms/step - loss: 0.2071 - val_loss: 0.2349 - lr: 0.0024\n",
            "Epoch 51/60\n",
            "11/11 [==============================] - 0s 17ms/step - loss: 0.2066 - val_loss: 0.2350 - lr: 0.0023\n",
            "Epoch 52/60\n",
            "11/11 [==============================] - 0s 18ms/step - loss: 0.2061 - val_loss: 0.2358 - lr: 0.0022\n",
            "Epoch 53/60\n",
            "11/11 [==============================] - 0s 17ms/step - loss: 0.2056 - val_loss: 0.2335 - lr: 0.0021\n",
            "Epoch 54/60\n",
            "11/11 [==============================] - 0s 17ms/step - loss: 0.2051 - val_loss: 0.2343 - lr: 0.0020\n",
            "Epoch 55/60\n",
            "11/11 [==============================] - 0s 17ms/step - loss: 0.2047 - val_loss: 0.2338 - lr: 0.0019\n",
            "Epoch 56/60\n",
            "11/11 [==============================] - 0s 18ms/step - loss: 0.2043 - val_loss: 0.2338 - lr: 0.0018\n",
            "Epoch 57/60\n",
            "11/11 [==============================] - 0s 17ms/step - loss: 0.2038 - val_loss: 0.2327 - lr: 0.0017\n",
            "Epoch 58/60\n",
            "11/11 [==============================] - 0s 17ms/step - loss: 0.2033 - val_loss: 0.2327 - lr: 0.0016\n",
            "Epoch 59/60\n",
            "11/11 [==============================] - 0s 17ms/step - loss: 0.2030 - val_loss: 0.2319 - lr: 0.0015\n",
            "Epoch 60/60\n",
            "11/11 [==============================] - 0s 17ms/step - loss: 0.2026 - val_loss: 0.2325 - lr: 0.0015\n"
          ]
        }
      ],
      "source": [
        "from tensorflow.python.ops.math_ops import truncate_mod_eager_fallback\n",
        "n_shops = 20\n",
        "n_epochs = 60\n",
        "batch_size = n_shops * 4\n",
        "m = n_shops * 4\n",
        "\n",
        "reduce_lr = tf.keras.callbacks.LearningRateScheduler(\n",
        "    lambda epoch: 3e-2 * 0.95 ** epoch\n",
        ")\n",
        "model.compile(\n",
        "    optimizer=tf.keras.optimizers.Adam(), \n",
        "    loss=tf.keras.losses.Huber()\n",
        ")\n",
        "history = model.fit(\n",
        "    X_train[:-m, :, :], y_train[:-m, :, :], \n",
        "    epochs=n_epochs,\n",
        "    validation_data=(X_train[-m:, :, :], y_train[-m:, :, :]),\n",
        "    batch_size=batch_size, \n",
        "    verbose=1,\n",
        "    callbacks=[reduce_lr],\n",
        "    shuffle=True,\n",
        "    workers=-1,\n",
        "    use_multiprocessing=True\n",
        ")"
      ]
    },
    {
      "cell_type": "markdown",
      "metadata": {
        "id": "-T-FivMrYoH5"
      },
      "source": [
        "### 3.3 Inference"
      ]
    },
    {
      "cell_type": "code",
      "execution_count": 14,
      "metadata": {
        "id": "uyn5BLhgYHO3"
      },
      "outputs": [],
      "source": [
        "X_test, y_test = get_test_dataset(X)"
      ]
    },
    {
      "cell_type": "code",
      "execution_count": 15,
      "metadata": {
        "colab": {
          "base_uri": "https://localhost:8080/"
        },
        "id": "dgZcymnwX7hH",
        "outputId": "2bfa5a16-0a93-445e-808c-a2e8a934ce12"
      },
      "outputs": [
        {
          "output_type": "stream",
          "name": "stdout",
          "text": [
            "1/1 [==============================] - 1s 1s/step\n"
          ]
        },
        {
          "output_type": "execute_result",
          "data": {
            "text/plain": [
              "(20, 27, 48)"
            ]
          },
          "metadata": {},
          "execution_count": 15
        }
      ],
      "source": [
        "pred = model.predict(X_test)\n",
        "pred.shape"
      ]
    },
    {
      "cell_type": "markdown",
      "metadata": {
        "id": "LphmAbjGZkA3"
      },
      "source": [
        "### 3.4 Model evaluation"
      ]
    },
    {
      "cell_type": "markdown",
      "metadata": {
        "id": "nkFU4RxZZk8-"
      },
      "source": [
        "#### Mean absolute scaled error (MASE) \n",
        "https://en.wikipedia.org/wiki/Mean_absolute_scaled_error"
      ]
    },
    {
      "cell_type": "markdown",
      "metadata": {
        "id": "nM1Cj-_XZpsO"
      },
      "source": [
        "The denominator of mean absolute scaled error is the mean absolute error of the one-step \"seasonal naive forecast method\" on the training set, which uses the actual value from the prior 30 days as the forecast: \n",
        "* F(t) = Y(t−30)\n",
        "\n",
        "MASE is scale-free error metric. So, it can be applied to scaled data without extra iteration of inverse scaling."
      ]
    },
    {
      "cell_type": "code",
      "execution_count": 16,
      "metadata": {
        "colab": {
          "base_uri": "https://localhost:8080/"
        },
        "id": "jSPdjqEztRix",
        "outputId": "fb0ccea5-cf19-4459-f816-e4ea2e29df62"
      },
      "outputs": [
        {
          "output_type": "execute_result",
          "data": {
            "text/plain": [
              "((20, 27, 48), (20, 27, 48))"
            ]
          },
          "metadata": {},
          "execution_count": 16
        }
      ],
      "source": [
        "pred.shape, y_test.shape"
      ]
    },
    {
      "cell_type": "code",
      "execution_count": 17,
      "metadata": {
        "colab": {
          "base_uri": "https://localhost:8080/"
        },
        "id": "H7m2mh1I8rm6",
        "outputId": "ce28034c-361a-4cb8-e940-f4e12637063e"
      },
      "outputs": [
        {
          "output_type": "stream",
          "name": "stdout",
          "text": [
            "Mean absolute scaled error = 0.8794\n"
          ]
        }
      ],
      "source": [
        "forecast_error = abs(pred[:, :, 0] - y_test[:, :, 0]).mean()\n",
        "mase = forecast_error / abs(y_test[:, :, 6]).mean()\n",
        "\n",
        "print(f'Mean absolute scaled error = {round(mase.mean(), 4)}')"
      ]
    },
    {
      "cell_type": "markdown",
      "metadata": {
        "id": "sYbpp1abZzxQ"
      },
      "source": [
        "__Findings:__\n",
        "\n",
        "* Out of 72 samples available for training (153 less input and output sequence length) 4 were used for validation of the model and 27 for testing. So, we had only 41 samples for training of the model and it is definately not sufficient.\n",
        "\n",
        "* To get more accurate predictions, we need to retrain the model on the full set of data. It should improve the final results."
      ]
    },
    {
      "cell_type": "markdown",
      "metadata": {
        "id": "vmXsJCA5Z0t9"
      },
      "source": [
        "## 4. Final prediction"
      ]
    },
    {
      "cell_type": "markdown",
      "metadata": {
        "id": "wpg_5giedIV5"
      },
      "source": [
        "### 4.1. Dataset"
      ]
    },
    {
      "cell_type": "code",
      "execution_count": 18,
      "metadata": {
        "colab": {
          "base_uri": "https://localhost:8080/"
        },
        "id": "cN70_li0aLy2",
        "outputId": "583dac7e-4521-4518-f1ba-6fb5bc24f513"
      },
      "outputs": [
        {
          "output_type": "execute_result",
          "data": {
            "text/plain": [
              "((1440, 54, 48), (1440, 27, 48), (20, 54, 48))"
            ]
          },
          "metadata": {},
          "execution_count": 18
        }
      ],
      "source": [
        "X_train, y_train = get_train_dataset(X, final=True)\n",
        "X_test = get_test_dataset(X, final=True)\n",
        "\n",
        "X_train.shape, y_train.shape, X_test.shape"
      ]
    },
    {
      "cell_type": "markdown",
      "metadata": {
        "id": "MC_L5BwPdCb-"
      },
      "source": [
        "### 4.2. Retraining the model on full dataset"
      ]
    },
    {
      "cell_type": "code",
      "execution_count": 19,
      "metadata": {
        "colab": {
          "base_uri": "https://localhost:8080/"
        },
        "id": "jYh4p4YQaffn",
        "outputId": "f52ce9f6-dc2d-4907-97c6-b9542110a81b"
      },
      "outputs": [
        {
          "output_type": "stream",
          "name": "stdout",
          "text": [
            "Epoch 1/70\n",
            "17/17 [==============================] - 9s 112ms/step - loss: 0.3826 - val_loss: 0.3389 - lr: 0.0300\n",
            "Epoch 2/70\n",
            "17/17 [==============================] - 0s 16ms/step - loss: 0.3364 - val_loss: 0.3344 - lr: 0.0285\n",
            "Epoch 3/70\n",
            "17/17 [==============================] - 0s 16ms/step - loss: 0.3323 - val_loss: 0.3274 - lr: 0.0271\n",
            "Epoch 4/70\n",
            "17/17 [==============================] - 0s 15ms/step - loss: 0.3221 - val_loss: 0.3189 - lr: 0.0257\n",
            "Epoch 5/70\n",
            "17/17 [==============================] - 0s 15ms/step - loss: 0.3122 - val_loss: 0.3218 - lr: 0.0244\n",
            "Epoch 6/70\n",
            "17/17 [==============================] - 0s 15ms/step - loss: 0.3043 - val_loss: 0.3153 - lr: 0.0232\n",
            "Epoch 7/70\n",
            "17/17 [==============================] - 0s 15ms/step - loss: 0.2941 - val_loss: 0.3096 - lr: 0.0221\n",
            "Epoch 8/70\n",
            "17/17 [==============================] - 0s 16ms/step - loss: 0.2885 - val_loss: 0.3011 - lr: 0.0210\n",
            "Epoch 9/70\n",
            "17/17 [==============================] - 0s 25ms/step - loss: 0.2758 - val_loss: 0.2818 - lr: 0.0199\n",
            "Epoch 10/70\n",
            "17/17 [==============================] - 0s 22ms/step - loss: 0.2658 - val_loss: 0.2701 - lr: 0.0189\n",
            "Epoch 11/70\n",
            "17/17 [==============================] - 0s 20ms/step - loss: 0.2565 - val_loss: 0.2645 - lr: 0.0180\n",
            "Epoch 12/70\n",
            "17/17 [==============================] - 0s 29ms/step - loss: 0.2512 - val_loss: 0.2649 - lr: 0.0171\n",
            "Epoch 13/70\n",
            "17/17 [==============================] - 0s 23ms/step - loss: 0.2464 - val_loss: 0.2626 - lr: 0.0162\n",
            "Epoch 14/70\n",
            "17/17 [==============================] - 0s 19ms/step - loss: 0.2418 - val_loss: 0.2631 - lr: 0.0154\n",
            "Epoch 15/70\n",
            "17/17 [==============================] - 0s 15ms/step - loss: 0.2379 - val_loss: 0.2565 - lr: 0.0146\n",
            "Epoch 16/70\n",
            "17/17 [==============================] - 0s 15ms/step - loss: 0.2339 - val_loss: 0.2520 - lr: 0.0139\n",
            "Epoch 17/70\n",
            "17/17 [==============================] - 0s 16ms/step - loss: 0.2301 - val_loss: 0.2584 - lr: 0.0132\n",
            "Epoch 18/70\n",
            "17/17 [==============================] - 0s 16ms/step - loss: 0.2242 - val_loss: 0.2444 - lr: 0.0125\n",
            "Epoch 19/70\n",
            "17/17 [==============================] - 0s 15ms/step - loss: 0.2205 - val_loss: 0.2509 - lr: 0.0119\n",
            "Epoch 20/70\n",
            "17/17 [==============================] - 0s 23ms/step - loss: 0.2167 - val_loss: 0.2462 - lr: 0.0113\n",
            "Epoch 21/70\n",
            "17/17 [==============================] - 0s 24ms/step - loss: 0.2144 - val_loss: 0.2435 - lr: 0.0108\n",
            "Epoch 22/70\n",
            "17/17 [==============================] - 1s 39ms/step - loss: 0.2115 - val_loss: 0.2397 - lr: 0.0102\n",
            "Epoch 23/70\n",
            "17/17 [==============================] - 0s 29ms/step - loss: 0.2089 - val_loss: 0.2386 - lr: 0.0097\n",
            "Epoch 24/70\n",
            "17/17 [==============================] - 1s 44ms/step - loss: 0.2073 - val_loss: 0.2367 - lr: 0.0092\n",
            "Epoch 25/70\n",
            "17/17 [==============================] - 1s 51ms/step - loss: 0.2057 - val_loss: 0.2413 - lr: 0.0088\n",
            "Epoch 26/70\n",
            "17/17 [==============================] - 0s 20ms/step - loss: 0.2038 - val_loss: 0.2336 - lr: 0.0083\n",
            "Epoch 27/70\n",
            "17/17 [==============================] - 0s 19ms/step - loss: 0.2016 - val_loss: 0.2340 - lr: 0.0079\n",
            "Epoch 28/70\n",
            "17/17 [==============================] - 0s 19ms/step - loss: 0.1992 - val_loss: 0.2305 - lr: 0.0075\n",
            "Epoch 29/70\n",
            "17/17 [==============================] - 0s 18ms/step - loss: 0.1973 - val_loss: 0.2299 - lr: 0.0071\n",
            "Epoch 30/70\n",
            "17/17 [==============================] - 0s 16ms/step - loss: 0.1960 - val_loss: 0.2296 - lr: 0.0068\n",
            "Epoch 31/70\n",
            "17/17 [==============================] - 0s 16ms/step - loss: 0.1938 - val_loss: 0.2226 - lr: 0.0064\n",
            "Epoch 32/70\n",
            "17/17 [==============================] - 0s 17ms/step - loss: 0.1920 - val_loss: 0.2244 - lr: 0.0061\n",
            "Epoch 33/70\n",
            "17/17 [==============================] - 0s 15ms/step - loss: 0.1902 - val_loss: 0.2218 - lr: 0.0058\n",
            "Epoch 34/70\n",
            "17/17 [==============================] - 0s 17ms/step - loss: 0.1877 - val_loss: 0.2188 - lr: 0.0055\n",
            "Epoch 35/70\n",
            "17/17 [==============================] - 0s 15ms/step - loss: 0.1860 - val_loss: 0.2252 - lr: 0.0052\n",
            "Epoch 36/70\n",
            "17/17 [==============================] - 0s 16ms/step - loss: 0.1837 - val_loss: 0.2166 - lr: 0.0050\n",
            "Epoch 37/70\n",
            "17/17 [==============================] - 0s 15ms/step - loss: 0.1812 - val_loss: 0.2122 - lr: 0.0047\n",
            "Epoch 38/70\n",
            "17/17 [==============================] - 0s 16ms/step - loss: 0.1786 - val_loss: 0.2109 - lr: 0.0045\n",
            "Epoch 39/70\n",
            "17/17 [==============================] - 0s 15ms/step - loss: 0.1760 - val_loss: 0.2117 - lr: 0.0043\n",
            "Epoch 40/70\n",
            "17/17 [==============================] - 0s 16ms/step - loss: 0.1734 - val_loss: 0.2085 - lr: 0.0041\n",
            "Epoch 41/70\n",
            "17/17 [==============================] - 0s 16ms/step - loss: 0.1710 - val_loss: 0.2085 - lr: 0.0039\n",
            "Epoch 42/70\n",
            "17/17 [==============================] - 0s 16ms/step - loss: 0.1695 - val_loss: 0.2061 - lr: 0.0037\n",
            "Epoch 43/70\n",
            "17/17 [==============================] - 0s 16ms/step - loss: 0.1675 - val_loss: 0.2062 - lr: 0.0035\n",
            "Epoch 44/70\n",
            "17/17 [==============================] - 0s 15ms/step - loss: 0.1654 - val_loss: 0.2051 - lr: 0.0033\n",
            "Epoch 45/70\n",
            "17/17 [==============================] - 0s 16ms/step - loss: 0.1635 - val_loss: 0.2041 - lr: 0.0031\n",
            "Epoch 46/70\n",
            "17/17 [==============================] - 0s 15ms/step - loss: 0.1617 - val_loss: 0.2029 - lr: 0.0030\n",
            "Epoch 47/70\n",
            "17/17 [==============================] - 0s 15ms/step - loss: 0.1602 - val_loss: 0.1999 - lr: 0.0028\n",
            "Epoch 48/70\n",
            "17/17 [==============================] - 0s 15ms/step - loss: 0.1582 - val_loss: 0.1996 - lr: 0.0027\n",
            "Epoch 49/70\n",
            "17/17 [==============================] - 0s 16ms/step - loss: 0.1571 - val_loss: 0.1986 - lr: 0.0026\n",
            "Epoch 50/70\n",
            "17/17 [==============================] - 0s 16ms/step - loss: 0.1553 - val_loss: 0.1968 - lr: 0.0024\n",
            "Epoch 51/70\n",
            "17/17 [==============================] - 0s 16ms/step - loss: 0.1540 - val_loss: 0.1952 - lr: 0.0023\n",
            "Epoch 52/70\n",
            "17/17 [==============================] - 0s 16ms/step - loss: 0.1528 - val_loss: 0.1947 - lr: 0.0022\n",
            "Epoch 53/70\n",
            "17/17 [==============================] - 0s 15ms/step - loss: 0.1517 - val_loss: 0.1926 - lr: 0.0021\n",
            "Epoch 54/70\n",
            "17/17 [==============================] - 0s 16ms/step - loss: 0.1508 - val_loss: 0.1911 - lr: 0.0020\n",
            "Epoch 55/70\n",
            "17/17 [==============================] - 0s 15ms/step - loss: 0.1499 - val_loss: 0.1925 - lr: 0.0019\n",
            "Epoch 56/70\n",
            "17/17 [==============================] - 0s 15ms/step - loss: 0.1491 - val_loss: 0.1920 - lr: 0.0018\n",
            "Epoch 57/70\n",
            "17/17 [==============================] - 0s 16ms/step - loss: 0.1480 - val_loss: 0.1910 - lr: 0.0017\n",
            "Epoch 58/70\n",
            "17/17 [==============================] - 0s 16ms/step - loss: 0.1472 - val_loss: 0.1905 - lr: 0.0016\n",
            "Epoch 59/70\n",
            "17/17 [==============================] - 0s 16ms/step - loss: 0.1464 - val_loss: 0.1901 - lr: 0.0015\n",
            "Epoch 60/70\n",
            "17/17 [==============================] - 0s 16ms/step - loss: 0.1456 - val_loss: 0.1890 - lr: 0.0015\n",
            "Epoch 61/70\n",
            "17/17 [==============================] - 0s 16ms/step - loss: 0.1448 - val_loss: 0.1881 - lr: 0.0014\n",
            "Epoch 62/70\n",
            "17/17 [==============================] - 0s 15ms/step - loss: 0.1439 - val_loss: 0.1892 - lr: 0.0013\n",
            "Epoch 63/70\n",
            "17/17 [==============================] - 0s 15ms/step - loss: 0.1431 - val_loss: 0.1870 - lr: 0.0012\n",
            "Epoch 64/70\n",
            "17/17 [==============================] - 0s 16ms/step - loss: 0.1424 - val_loss: 0.1868 - lr: 0.0012\n",
            "Epoch 65/70\n",
            "17/17 [==============================] - 0s 16ms/step - loss: 0.1420 - val_loss: 0.1874 - lr: 0.0011\n",
            "Epoch 66/70\n",
            "17/17 [==============================] - 0s 17ms/step - loss: 0.1412 - val_loss: 0.1870 - lr: 0.0011\n",
            "Epoch 67/70\n",
            "17/17 [==============================] - 0s 18ms/step - loss: 0.1404 - val_loss: 0.1862 - lr: 0.0010\n",
            "Epoch 68/70\n",
            "17/17 [==============================] - 0s 18ms/step - loss: 0.1398 - val_loss: 0.1856 - lr: 9.6517e-04\n",
            "Epoch 69/70\n",
            "17/17 [==============================] - 0s 18ms/step - loss: 0.1391 - val_loss: 0.1857 - lr: 9.1691e-04\n",
            "Epoch 70/70\n",
            "17/17 [==============================] - 0s 19ms/step - loss: 0.1385 - val_loss: 0.1844 - lr: 8.7106e-04\n"
          ]
        }
      ],
      "source": [
        "n_shops = 20\n",
        "n_epochs = 70\n",
        "batch_size = n_shops * 4\n",
        "m = n_shops * 4\n",
        "\n",
        "model = get_model_LSTM(n_features=X_train.shape[2], n_units=150)\n",
        "\n",
        "reduce_lr = tf.keras.callbacks.LearningRateScheduler(\n",
        "    lambda epoch: 3e-2 * 0.95 ** epoch\n",
        ")\n",
        "model.compile(\n",
        "    optimizer=tf.keras.optimizers.Adam(), \n",
        "    loss=tf.keras.losses.Huber()\n",
        ")\n",
        "history = model.fit(\n",
        "    X_train[:-m, :, :], y_train[:-m, :, :], \n",
        "    epochs=n_epochs,\n",
        "    validation_data=(X_train[-m:, :, :], y_train[-m:, :, :]),\n",
        "    batch_size=batch_size, \n",
        "    verbose=1,\n",
        "    callbacks=[reduce_lr],\n",
        "    shuffle=True,\n",
        "    workers=-1,\n",
        "    use_multiprocessing=True,    \n",
        ")"
      ]
    },
    {
      "cell_type": "code",
      "execution_count": 20,
      "metadata": {
        "colab": {
          "base_uri": "https://localhost:8080/",
          "height": 295
        },
        "id": "ys70q4i4bOj8",
        "outputId": "51a8f5f4-1fdc-4d9e-8679-667135a4ebbd"
      },
      "outputs": [
        {
          "output_type": "display_data",
          "data": {
            "text/plain": [
              "<Figure size 432x288 with 1 Axes>"
            ],
            "image/png": "[encoded data removed]"
          },
          "metadata": {
            "needs_background": "light"
          }
        }
      ],
      "source": [
        "import matplotlib.pyplot as plt\n",
        "\n",
        "plt.plot(history.history['loss'])\n",
        "plt.plot(history.history['val_loss'])\n",
        "plt.title(\"Model Loss\")\n",
        "plt.xlabel('Epochs')\n",
        "plt.ylabel('Loss')\n",
        "plt.legend(['Train', 'Valid'])\n",
        "plt.show()"
      ]
    },
    {
      "cell_type": "markdown",
      "metadata": {
        "id": "_n6z3yuZc0Uj"
      },
      "source": [
        "### 4.3 Model evaluation on validation set"
      ]
    },
    {
      "cell_type": "code",
      "source": [
        "pred = model.predict(X_train[-m:, :, :])\n",
        "pred[:, :, 0].shape,"
      ],
      "metadata": {
        "colab": {
          "base_uri": "https://localhost:8080/"
        },
        "id": "w0SzRmu52i5b",
        "outputId": "dff43bfe-b107-40a2-e8ef-d01244b048c8"
      },
      "execution_count": 21,
      "outputs": [
        {
          "output_type": "stream",
          "name": "stdout",
          "text": [
            "3/3 [==============================] - 2s 11ms/step\n"
          ]
        },
        {
          "output_type": "execute_result",
          "data": {
            "text/plain": [
              "((80, 27),)"
            ]
          },
          "metadata": {},
          "execution_count": 21
        }
      ]
    },
    {
      "cell_type": "code",
      "source": [
        "forecast_error = abs(pred[:, :, 0] -  y_train[-m:, :, 0]).mean()\n",
        "mase = forecast_error / abs( y_train[-m:, :, 6]).mean()\n",
        "\n",
        "print(f'Mean absolute scaled error = {round(mase.mean(), 4)}')\n",
        "# Mean absolute scaled error = 0.4558"
      ],
      "metadata": {
        "colab": {
          "base_uri": "https://localhost:8080/"
        },
        "id": "XFTzEJ8Plx_g",
        "outputId": "1466b36b-6de6-4d83-8c72-a3eddf7dc956"
      },
      "execution_count": 22,
      "outputs": [
        {
          "output_type": "stream",
          "name": "stdout",
          "text": [
            "Mean absolute scaled error = 0.4558\n"
          ]
        }
      ]
    },
    {
      "cell_type": "markdown",
      "metadata": {
        "id": "kZhWz7U2eEEt"
      },
      "source": [
        "### 4.4. Inference"
      ]
    },
    {
      "cell_type": "code",
      "execution_count": 23,
      "metadata": {
        "colab": {
          "base_uri": "https://localhost:8080/"
        },
        "id": "2tID_JZRd8Za",
        "outputId": "aab95f85-cb89-49d6-fb55-4877b755c509"
      },
      "outputs": [
        {
          "output_type": "stream",
          "name": "stdout",
          "text": [
            "1/1 [==============================] - 0s 25ms/step\n"
          ]
        }
      ],
      "source": [
        "pred_final = model.predict(X_test)"
      ]
    },
    {
      "cell_type": "markdown",
      "metadata": {
        "id": "pk8ade9Hcllm"
      },
      "source": [
        "### 4.5. Inverse transformation of predictions"
      ]
    },
    {
      "cell_type": "code",
      "execution_count": 24,
      "metadata": {
        "id": "Ys__JvK9csEI"
      },
      "outputs": [],
      "source": [
        "scaler = joblib.load('data/03_primary/scaler_js.joblib')"
      ]
    },
    {
      "cell_type": "code",
      "execution_count": 25,
      "metadata": {
        "colab": {
          "base_uri": "https://localhost:8080/"
        },
        "id": "y3vKlBKBcm-B",
        "outputId": "434826a3-5bde-4df9-d1be-03f4acf55c24"
      },
      "outputs": [
        {
          "output_type": "execute_result",
          "data": {
            "text/plain": [
              "(27, 20)"
            ]
          },
          "metadata": {},
          "execution_count": 25
        }
      ],
      "source": [
        "arr_pred = pred_final[:, :, 0]\n",
        "y_pred = pd.DataFrame(arr_pred).T\n",
        "y_pred_rescaled = scaler.inv_transform(y_pred)\n",
        "y_pred_rescaled.shape"
      ]
    },
    {
      "cell_type": "markdown",
      "metadata": {
        "id": "HJyYOGDhcfl9"
      },
      "source": [
        "### 4.6. Generation of the final result"
      ]
    },
    {
      "cell_type": "code",
      "execution_count": 26,
      "metadata": {
        "colab": {
          "base_uri": "https://localhost:8080/",
          "height": 149
        },
        "id": "siV8XdBscJpb",
        "outputId": "e065358a-9a30-4bde-f2d2-ecfa9f1a02f2"
      },
      "outputs": [
        {
          "output_type": "stream",
          "name": "stdout",
          "text": [
            "test.shape = (540, 3)\n",
            "\n"
          ]
        },
        {
          "output_type": "execute_result",
          "data": {
            "text/plain": [
              "   id          dt  target\n",
              "0   0  2017-07-01     500\n",
              "1   0  2017-07-02     500"
            ],
            "text/html": [
              "\n",
              "  <div id=\"df-cc458039-2f51-4e2e-a46f-94c50201a3ef\">\n",
              "    <div class=\"colab-df-container\">\n",
              "      <div>\n",
              "<style scoped>\n",
              "    .dataframe tbody tr th:only-of-type {\n",
              "        vertical-align: middle;\n",
              "    }\n",
              "\n",
              "    .dataframe tbody tr th {\n",
              "        vertical-align: top;\n",
              "    }\n",
              "\n",
              "    .dataframe thead th {\n",
              "        text-align: right;\n",
              "    }\n",
              "</style>\n",
              "<table border=\"1\" class=\"dataframe\">\n",
              "  <thead>\n",
              "    <tr style=\"text-align: right;\">\n",
              "      <th></th>\n",
              "      <th>id</th>\n",
              "      <th>dt</th>\n",
              "      <th>target</th>\n",
              "    </tr>\n",
              "  </thead>\n",
              "  <tbody>\n",
              "    <tr>\n",
              "      <th>0</th>\n",
              "      <td>0</td>\n",
              "      <td>2017-07-01</td>\n",
              "      <td>500</td>\n",
              "    </tr>\n",
              "    <tr>\n",
              "      <th>1</th>\n",
              "      <td>0</td>\n",
              "      <td>2017-07-02</td>\n",
              "      <td>500</td>\n",
              "    </tr>\n",
              "  </tbody>\n",
              "</table>\n",
              "</div>\n",
              "      <button class=\"colab-df-convert\" onclick=\"convertToInteractive('df-cc458039-2f51-4e2e-a46f-94c50201a3ef')\"\n",
              "              title=\"Convert this dataframe to an interactive table.\"\n",
              "              style=\"display:none;\">\n",
              "        \n",
              "  <svg xmlns=\"http://www.w3.org/2000/svg\" height=\"24px\"viewBox=\"0 0 24 24\"\n",
              "       width=\"24px\">\n",
              "    <path d=\"M0 0h24v24H0V0z\" fill=\"none\"/>\n",
              "    <path d=\"M18.56 5.44l.94 2.06.94-2.06 2.06-.94-2.06-.94-.94-2.06-.94 2.06-2.06.94zm-11 1L8.5 8.5l.94-2.06 2.06-.94-2.06-.94L8.5 2.5l-.94 2.06-2.06.94zm10 10l.94 2.06.94-2.06 2.06-.94-2.06-.94-.94-2.06-.94 2.06-2.06.94z\"/><path d=\"M17.41 7.96l-1.37-1.37c-.4-.4-.92-.59-1.43-.59-.52 0-1.04.2-1.43.59L10.3 9.45l-7.72 7.72c-.78.78-.78 2.05 0 2.83L4 21.41c.39.39.9.59 1.41.59.51 0 1.02-.2 1.41-.59l7.78-7.78 2.81-2.81c.8-.78.8-2.07 0-2.86zM5.41 20L4 18.59l7.72-7.72 1.47 1.35L5.41 20z\"/>\n",
              "  </svg>\n",
              "      </button>\n",
              "      \n",
              "  <style>\n",
              "    .colab-df-container {\n",
              "      display:flex;\n",
              "      flex-wrap:wrap;\n",
              "      gap: 12px;\n",
              "    }\n",
              "\n",
              "    .colab-df-convert {\n",
              "      background-color: #E8F0FE;\n",
              "      border: none;\n",
              "      border-radius: 50%;\n",
              "      cursor: pointer;\n",
              "      display: none;\n",
              "      fill: #1967D2;\n",
              "      height: 32px;\n",
              "      padding: 0 0 0 0;\n",
              "      width: 32px;\n",
              "    }\n",
              "\n",
              "    .colab-df-convert:hover {\n",
              "      background-color: #E2EBFA;\n",
              "      box-shadow: 0px 1px 2px rgba(60, 64, 67, 0.3), 0px 1px 3px 1px rgba(60, 64, 67, 0.15);\n",
              "      fill: #174EA6;\n",
              "    }\n",
              "\n",
              "    [theme=dark] .colab-df-convert {\n",
              "      background-color: #3B4455;\n",
              "      fill: #D2E3FC;\n",
              "    }\n",
              "\n",
              "    [theme=dark] .colab-df-convert:hover {\n",
              "      background-color: #434B5C;\n",
              "      box-shadow: 0px 1px 3px 1px rgba(0, 0, 0, 0.15);\n",
              "      filter: drop-shadow(0px 1px 2px rgba(0, 0, 0, 0.3));\n",
              "      fill: #FFFFFF;\n",
              "    }\n",
              "  </style>\n",
              "\n",
              "      <script>\n",
              "        const buttonEl =\n",
              "          document.querySelector('#df-cc458039-2f51-4e2e-a46f-94c50201a3ef button.colab-df-convert');\n",
              "        buttonEl.style.display =\n",
              "          google.colab.kernel.accessAllowed ? 'block' : 'none';\n",
              "\n",
              "        async function convertToInteractive(key) {\n",
              "          const element = document.querySelector('#df-cc458039-2f51-4e2e-a46f-94c50201a3ef');\n",
              "          const dataTable =\n",
              "            await google.colab.kernel.invokeFunction('convertToInteractive',\n",
              "                                                     [key], {});\n",
              "          if (!dataTable) return;\n",
              "\n",
              "          const docLinkHtml = 'Like what you see? Visit the ' +\n",
              "            '<a target=\"_blank\" href=https://colab.research.google.com/notebooks/data_table.ipynb>data table notebook</a>'\n",
              "            + ' to learn more about interactive tables.';\n",
              "          element.innerHTML = '';\n",
              "          dataTable['output_type'] = 'display_data';\n",
              "          await google.colab.output.renderOutput(dataTable, element);\n",
              "          const docLink = document.createElement('div');\n",
              "          docLink.innerHTML = docLinkHtml;\n",
              "          element.appendChild(docLink);\n",
              "        }\n",
              "      </script>\n",
              "    </div>\n",
              "  </div>\n",
              "  "
            ]
          },
          "metadata": {},
          "execution_count": 26
        }
      ],
      "source": [
        "predict_example = pd.read_parquet(PATH + 'data/01_raw/sample_submit.parquet.gzip')\n",
        "print(f'test.shape = {predict_example.shape}\\n')\n",
        "predict_example.head(2)"
      ]
    },
    {
      "cell_type": "code",
      "execution_count": 27,
      "metadata": {
        "colab": {
          "base_uri": "https://localhost:8080/",
          "height": 206
        },
        "id": "BCB_XnyDb1P5",
        "outputId": "56974c9b-7b94-4170-e391-fa3688988de7"
      },
      "outputs": [
        {
          "output_type": "execute_result",
          "data": {
            "text/plain": [
              "   id          dt      target\n",
              "0   0  2017-07-01  645.995017\n",
              "1   0  2017-07-02  681.594497\n",
              "2   0  2017-07-03  711.641966\n",
              "3   0  2017-07-04  849.387944\n",
              "4   0  2017-07-06  582.337588"
            ],
            "text/html": [
              "\n",
              "  <div id=\"df-d43c6359-d4c2-4051-b4d0-baf145fb11e1\">\n",
              "    <div class=\"colab-df-container\">\n",
              "      <div>\n",
              "<style scoped>\n",
              "    .dataframe tbody tr th:only-of-type {\n",
              "        vertical-align: middle;\n",
              "    }\n",
              "\n",
              "    .dataframe tbody tr th {\n",
              "        vertical-align: top;\n",
              "    }\n",
              "\n",
              "    .dataframe thead th {\n",
              "        text-align: right;\n",
              "    }\n",
              "</style>\n",
              "<table border=\"1\" class=\"dataframe\">\n",
              "  <thead>\n",
              "    <tr style=\"text-align: right;\">\n",
              "      <th></th>\n",
              "      <th>id</th>\n",
              "      <th>dt</th>\n",
              "      <th>target</th>\n",
              "    </tr>\n",
              "  </thead>\n",
              "  <tbody>\n",
              "    <tr>\n",
              "      <th>0</th>\n",
              "      <td>0</td>\n",
              "      <td>2017-07-01</td>\n",
              "      <td>645.995017</td>\n",
              "    </tr>\n",
              "    <tr>\n",
              "      <th>1</th>\n",
              "      <td>0</td>\n",
              "      <td>2017-07-02</td>\n",
              "      <td>681.594497</td>\n",
              "    </tr>\n",
              "    <tr>\n",
              "      <th>2</th>\n",
              "      <td>0</td>\n",
              "      <td>2017-07-03</td>\n",
              "      <td>711.641966</td>\n",
              "    </tr>\n",
              "    <tr>\n",
              "      <th>3</th>\n",
              "      <td>0</td>\n",
              "      <td>2017-07-04</td>\n",
              "      <td>849.387944</td>\n",
              "    </tr>\n",
              "    <tr>\n",
              "      <th>4</th>\n",
              "      <td>0</td>\n",
              "      <td>2017-07-06</td>\n",
              "      <td>582.337588</td>\n",
              "    </tr>\n",
              "  </tbody>\n",
              "</table>\n",
              "</div>\n",
              "      <button class=\"colab-df-convert\" onclick=\"convertToInteractive('df-d43c6359-d4c2-4051-b4d0-baf145fb11e1')\"\n",
              "              title=\"Convert this dataframe to an interactive table.\"\n",
              "              style=\"display:none;\">\n",
              "        \n",
              "  <svg xmlns=\"http://www.w3.org/2000/svg\" height=\"24px\"viewBox=\"0 0 24 24\"\n",
              "       width=\"24px\">\n",
              "    <path d=\"M0 0h24v24H0V0z\" fill=\"none\"/>\n",
              "    <path d=\"M18.56 5.44l.94 2.06.94-2.06 2.06-.94-2.06-.94-.94-2.06-.94 2.06-2.06.94zm-11 1L8.5 8.5l.94-2.06 2.06-.94-2.06-.94L8.5 2.5l-.94 2.06-2.06.94zm10 10l.94 2.06.94-2.06 2.06-.94-2.06-.94-.94-2.06-.94 2.06-2.06.94z\"/><path d=\"M17.41 7.96l-1.37-1.37c-.4-.4-.92-.59-1.43-.59-.52 0-1.04.2-1.43.59L10.3 9.45l-7.72 7.72c-.78.78-.78 2.05 0 2.83L4 21.41c.39.39.9.59 1.41.59.51 0 1.02-.2 1.41-.59l7.78-7.78 2.81-2.81c.8-.78.8-2.07 0-2.86zM5.41 20L4 18.59l7.72-7.72 1.47 1.35L5.41 20z\"/>\n",
              "  </svg>\n",
              "      </button>\n",
              "      \n",
              "  <style>\n",
              "    .colab-df-container {\n",
              "      display:flex;\n",
              "      flex-wrap:wrap;\n",
              "      gap: 12px;\n",
              "    }\n",
              "\n",
              "    .colab-df-convert {\n",
              "      background-color: #E8F0FE;\n",
              "      border: none;\n",
              "      border-radius: 50%;\n",
              "      cursor: pointer;\n",
              "      display: none;\n",
              "      fill: #1967D2;\n",
              "      height: 32px;\n",
              "      padding: 0 0 0 0;\n",
              "      width: 32px;\n",
              "    }\n",
              "\n",
              "    .colab-df-convert:hover {\n",
              "      background-color: #E2EBFA;\n",
              "      box-shadow: 0px 1px 2px rgba(60, 64, 67, 0.3), 0px 1px 3px 1px rgba(60, 64, 67, 0.15);\n",
              "      fill: #174EA6;\n",
              "    }\n",
              "\n",
              "    [theme=dark] .colab-df-convert {\n",
              "      background-color: #3B4455;\n",
              "      fill: #D2E3FC;\n",
              "    }\n",
              "\n",
              "    [theme=dark] .colab-df-convert:hover {\n",
              "      background-color: #434B5C;\n",
              "      box-shadow: 0px 1px 3px 1px rgba(0, 0, 0, 0.15);\n",
              "      filter: drop-shadow(0px 1px 2px rgba(0, 0, 0, 0.3));\n",
              "      fill: #FFFFFF;\n",
              "    }\n",
              "  </style>\n",
              "\n",
              "      <script>\n",
              "        const buttonEl =\n",
              "          document.querySelector('#df-d43c6359-d4c2-4051-b4d0-baf145fb11e1 button.colab-df-convert');\n",
              "        buttonEl.style.display =\n",
              "          google.colab.kernel.accessAllowed ? 'block' : 'none';\n",
              "\n",
              "        async function convertToInteractive(key) {\n",
              "          const element = document.querySelector('#df-d43c6359-d4c2-4051-b4d0-baf145fb11e1');\n",
              "          const dataTable =\n",
              "            await google.colab.kernel.invokeFunction('convertToInteractive',\n",
              "                                                     [key], {});\n",
              "          if (!dataTable) return;\n",
              "\n",
              "          const docLinkHtml = 'Like what you see? Visit the ' +\n",
              "            '<a target=\"_blank\" href=https://colab.research.google.com/notebooks/data_table.ipynb>data table notebook</a>'\n",
              "            + ' to learn more about interactive tables.';\n",
              "          element.innerHTML = '';\n",
              "          dataTable['output_type'] = 'display_data';\n",
              "          await google.colab.output.renderOutput(dataTable, element);\n",
              "          const docLink = document.createElement('div');\n",
              "          docLink.innerHTML = docLinkHtml;\n",
              "          element.appendChild(docLink);\n",
              "        }\n",
              "      </script>\n",
              "    </div>\n",
              "  </div>\n",
              "  "
            ]
          },
          "metadata": {},
          "execution_count": 27
        }
      ],
      "source": [
        "n_shops = 20\n",
        "for i in range(n_shops):\n",
        "  predict_example.loc[predict_example['id'] == i, 'target'] = y_pred_rescaled.loc[:, i]\n",
        "\n",
        "predict_example.to_parquet(\n",
        "    'data/06_model_output/sales_forecast_lstm.parquet.gzip', compression='gzip'\n",
        ")\n",
        "predict_example.head()"
      ]
    },
    {
      "cell_type": "markdown",
      "metadata": {
        "id": "k5l6afUrb7Iy"
      },
      "source": [
        "## 5. Findings"
      ]
    },
    {
      "cell_type": "markdown",
      "metadata": {
        "id": "4I1SyQe3b_ht"
      },
      "source": [
        "* LSTM model has not generated the prominent results. However, model predictions are better than the naive forecast with sales for the previous month. "
      ]
    }
  ],
  "metadata": {
    "colab": {
      "provenance": [],
      "authorship_tag": "ABX9TyP2oLWnSJ7qW665SZKq7rmG",
      "include_colab_link": true
    },
    "gpuClass": "standard",
    "kernelspec": {
      "display_name": "Python 3",
      "name": "python3"
    },
    "language_info": {
      "name": "python"
    },
    "accelerator": "GPU"
  },
  "nbformat": 4,
  "nbformat_minor": 0
}