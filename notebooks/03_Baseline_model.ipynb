{
  "cells": [
    {
      "cell_type": "markdown",
      "metadata": {
        "id": "view-in-github",
        "colab_type": "text"
      },
      "source": [
        "<a href=\"https://colab.research.google.com/github/YaninaK/sales-forecast/blob/main/notebooks/03_Baseline_model.ipynb\" target=\"_parent\"><img src=\"https://colab.research.google.com/assets/colab-badge.svg\" alt=\"Open In Colab\"/></a>"
      ]
    },
    {
      "cell_type": "markdown",
      "metadata": {
        "id": "yw1w9JFTOyl0"
      },
      "source": [
        "# Sales forecast for 20 stores for 31 days' period.\n",
        "\n",
        "## Baseline model - LSTM"
      ]
    },
    {
      "cell_type": "markdown",
      "metadata": {
        "id": "0ntOLUaWO_Zl"
      },
      "source": [
        "[EDA: omissions, clustering & Fourier transformations](\n",
        "https://colab.research.google.com/drive/1udCgyEt7lusSY43lnduVDEnZvdvVEt9h?usp=sharing)\n",
        "\n",
        "[Feature extraction](https://colab.research.google.com/drive/1H-vQoHnycp62YuZD1xrmIDjufpDu7ig3?usp=sharing)"
      ]
    },
    {
      "cell_type": "code",
      "execution_count": 1,
      "metadata": {
        "colab": {
          "base_uri": "https://localhost:8080/"
        },
        "id": "NP9i317dO3-E",
        "outputId": "ece53787-c4a0-42d1-b4fa-ce546f1e2d62"
      },
      "outputs": [
        {
          "output_type": "stream",
          "name": "stdout",
          "text": [
            "Mounted at /content/drive\n"
          ]
        }
      ],
      "source": [
        "from google.colab import drive\n",
        "drive.mount('/content/drive')"
      ]
    },
    {
      "cell_type": "code",
      "execution_count": 2,
      "metadata": {
        "colab": {
          "base_uri": "https://localhost:8080/"
        },
        "id": "NOaainxsPvh1",
        "outputId": "c56b6c97-cc56-4829-f734-ef2f40ea3831"
      },
      "outputs": [
        {
          "output_type": "stream",
          "name": "stdout",
          "text": [
            "\u001b[2K     \u001b[90m━━━━━━━━━━━━━━━━━━━━━━━━━━━━━━━━━━━━━━\u001b[0m \u001b[32m358.2/358.2 KB\u001b[0m \u001b[31m28.9 MB/s\u001b[0m eta \u001b[36m0:00:00\u001b[0m\n",
            "\u001b[2K     \u001b[90m━━━━━━━━━━━━━━━━━━━━━━━━━━━━━━━━━━━━━━━━\u001b[0m \u001b[32m98.2/98.2 KB\u001b[0m \u001b[31m13.3 MB/s\u001b[0m eta \u001b[36m0:00:00\u001b[0m\n",
            "\u001b[2K     \u001b[90m━━━━━━━━━━━━━━━━━━━━━━━━━━━━━━━━━━━━━━\u001b[0m \u001b[32m136.2/136.2 KB\u001b[0m \u001b[31m20.7 MB/s\u001b[0m eta \u001b[36m0:00:00\u001b[0m\n",
            "\u001b[?25h"
          ]
        }
      ],
      "source": [
        "!git clone -q https://github.com/YaninaK/sales-forecast.git\n",
        "!pip install -r sales-forecast/requirements_Colab.txt -q "
      ]
    },
    {
      "cell_type": "code",
      "execution_count": 3,
      "metadata": {
        "colab": {
          "base_uri": "https://localhost:8080/"
        },
        "id": "oGpZTC0tP0QI",
        "outputId": "02a085f5-40b2-4c50-edd6-0eff78c0afb2"
      },
      "outputs": [
        {
          "output_type": "stream",
          "name": "stdout",
          "text": [
            "/content/sales-forecast\n"
          ]
        }
      ],
      "source": [
        "%cd sales-forecast"
      ]
    },
    {
      "cell_type": "code",
      "execution_count": 4,
      "metadata": {
        "id": "9JdDC3FUP1J7"
      },
      "outputs": [],
      "source": [
        "import sys\n",
        "import os\n",
        "\n",
        "sys.path.append(os.getcwd())\n",
        "sys.path.append(os.path.join(os.getcwd(), \"src\", \"sales_forecast\"))"
      ]
    },
    {
      "cell_type": "code",
      "execution_count": 5,
      "metadata": {
        "id": "9IzhaR8jP302"
      },
      "outputs": [],
      "source": [
        "import random\n",
        "import pandas as pd\n",
        "import numpy as np\n",
        "import tensorflow as tf\n",
        "import joblib\n",
        "\n",
        "from data.make_dataset import load_data\n",
        "from src.sales_forecast.models import train\n",
        "\n",
        "from data.johnson_su_transformation import JohnsonSU\n",
        "from data.train_test_datasets import get_train_dataset, get_test_dataset\n",
        "from models.model_LSTM import get_model_LSTM\n",
        "from scripts.train_save_model import train_store"
      ]
    },
    {
      "cell_type": "code",
      "execution_count": 6,
      "metadata": {
        "id": "1htDECSWLpcT"
      },
      "outputs": [],
      "source": [
        "import warnings\n",
        "warnings.filterwarnings('ignore')"
      ]
    },
    {
      "cell_type": "code",
      "execution_count": 7,
      "metadata": {
        "id": "llog_mfTQIGB"
      },
      "outputs": [],
      "source": [
        "PATH = '/content/drive/MyDrive/ML_projects/01_Time_series/sales_forecast/'\n",
        "DEFAULT_RANDOM_SEED = 3"
      ]
    },
    {
      "cell_type": "code",
      "execution_count": 8,
      "metadata": {
        "id": "Q9iGOsyiQLA8"
      },
      "outputs": [],
      "source": [
        "def set_all_seeds(seed=DEFAULT_RANDOM_SEED):\n",
        "  random.seed(seed)\n",
        "  os.environ['PYTHONHASHSEED'] = str(seed)\n",
        "  np.random.seed(seed)\n",
        "  tf.random.set_seed(seed)\n",
        "  \n",
        "set_all_seeds()"
      ]
    },
    {
      "cell_type": "markdown",
      "metadata": {
        "id": "6FplTdRyQ4kR"
      },
      "source": [
        "## 1. Data ingestion"
      ]
    },
    {
      "cell_type": "code",
      "execution_count": 9,
      "metadata": {
        "colab": {
          "base_uri": "https://localhost:8080/",
          "height": 149
        },
        "id": "q20ClbC4Kzr7",
        "outputId": "3234a22c-fcc4-4ae9-ea22-315c08b9447e"
      },
      "outputs": [
        {
          "output_type": "stream",
          "name": "stdout",
          "text": [
            "data.shape = (8230, 3)\n",
            "\n"
          ]
        },
        {
          "output_type": "execute_result",
          "data": {
            "text/plain": [
              "   id          dt  target\n",
              "0   0  2016-01-02   747.8\n",
              "1   0  2016-01-03   681.2"
            ],
            "text/html": [
              "\n",
              "  <div id=\"df-b6934bf5-3576-4f7b-b981-a70d24da9c60\">\n",
              "    <div class=\"colab-df-container\">\n",
              "      <div>\n",
              "<style scoped>\n",
              "    .dataframe tbody tr th:only-of-type {\n",
              "        vertical-align: middle;\n",
              "    }\n",
              "\n",
              "    .dataframe tbody tr th {\n",
              "        vertical-align: top;\n",
              "    }\n",
              "\n",
              "    .dataframe thead th {\n",
              "        text-align: right;\n",
              "    }\n",
              "</style>\n",
              "<table border=\"1\" class=\"dataframe\">\n",
              "  <thead>\n",
              "    <tr style=\"text-align: right;\">\n",
              "      <th></th>\n",
              "      <th>id</th>\n",
              "      <th>dt</th>\n",
              "      <th>target</th>\n",
              "    </tr>\n",
              "  </thead>\n",
              "  <tbody>\n",
              "    <tr>\n",
              "      <th>0</th>\n",
              "      <td>0</td>\n",
              "      <td>2016-01-02</td>\n",
              "      <td>747.8</td>\n",
              "    </tr>\n",
              "    <tr>\n",
              "      <th>1</th>\n",
              "      <td>0</td>\n",
              "      <td>2016-01-03</td>\n",
              "      <td>681.2</td>\n",
              "    </tr>\n",
              "  </tbody>\n",
              "</table>\n",
              "</div>\n",
              "      <button class=\"colab-df-convert\" onclick=\"convertToInteractive('df-b6934bf5-3576-4f7b-b981-a70d24da9c60')\"\n",
              "              title=\"Convert this dataframe to an interactive table.\"\n",
              "              style=\"display:none;\">\n",
              "        \n",
              "  <svg xmlns=\"http://www.w3.org/2000/svg\" height=\"24px\"viewBox=\"0 0 24 24\"\n",
              "       width=\"24px\">\n",
              "    <path d=\"M0 0h24v24H0V0z\" fill=\"none\"/>\n",
              "    <path d=\"M18.56 5.44l.94 2.06.94-2.06 2.06-.94-2.06-.94-.94-2.06-.94 2.06-2.06.94zm-11 1L8.5 8.5l.94-2.06 2.06-.94-2.06-.94L8.5 2.5l-.94 2.06-2.06.94zm10 10l.94 2.06.94-2.06 2.06-.94-2.06-.94-.94-2.06-.94 2.06-2.06.94z\"/><path d=\"M17.41 7.96l-1.37-1.37c-.4-.4-.92-.59-1.43-.59-.52 0-1.04.2-1.43.59L10.3 9.45l-7.72 7.72c-.78.78-.78 2.05 0 2.83L4 21.41c.39.39.9.59 1.41.59.51 0 1.02-.2 1.41-.59l7.78-7.78 2.81-2.81c.8-.78.8-2.07 0-2.86zM5.41 20L4 18.59l7.72-7.72 1.47 1.35L5.41 20z\"/>\n",
              "  </svg>\n",
              "      </button>\n",
              "      \n",
              "  <style>\n",
              "    .colab-df-container {\n",
              "      display:flex;\n",
              "      flex-wrap:wrap;\n",
              "      gap: 12px;\n",
              "    }\n",
              "\n",
              "    .colab-df-convert {\n",
              "      background-color: #E8F0FE;\n",
              "      border: none;\n",
              "      border-radius: 50%;\n",
              "      cursor: pointer;\n",
              "      display: none;\n",
              "      fill: #1967D2;\n",
              "      height: 32px;\n",
              "      padding: 0 0 0 0;\n",
              "      width: 32px;\n",
              "    }\n",
              "\n",
              "    .colab-df-convert:hover {\n",
              "      background-color: #E2EBFA;\n",
              "      box-shadow: 0px 1px 2px rgba(60, 64, 67, 0.3), 0px 1px 3px 1px rgba(60, 64, 67, 0.15);\n",
              "      fill: #174EA6;\n",
              "    }\n",
              "\n",
              "    [theme=dark] .colab-df-convert {\n",
              "      background-color: #3B4455;\n",
              "      fill: #D2E3FC;\n",
              "    }\n",
              "\n",
              "    [theme=dark] .colab-df-convert:hover {\n",
              "      background-color: #434B5C;\n",
              "      box-shadow: 0px 1px 3px 1px rgba(0, 0, 0, 0.15);\n",
              "      filter: drop-shadow(0px 1px 2px rgba(0, 0, 0, 0.3));\n",
              "      fill: #FFFFFF;\n",
              "    }\n",
              "  </style>\n",
              "\n",
              "      <script>\n",
              "        const buttonEl =\n",
              "          document.querySelector('#df-b6934bf5-3576-4f7b-b981-a70d24da9c60 button.colab-df-convert');\n",
              "        buttonEl.style.display =\n",
              "          google.colab.kernel.accessAllowed ? 'block' : 'none';\n",
              "\n",
              "        async function convertToInteractive(key) {\n",
              "          const element = document.querySelector('#df-b6934bf5-3576-4f7b-b981-a70d24da9c60');\n",
              "          const dataTable =\n",
              "            await google.colab.kernel.invokeFunction('convertToInteractive',\n",
              "                                                     [key], {});\n",
              "          if (!dataTable) return;\n",
              "\n",
              "          const docLinkHtml = 'Like what you see? Visit the ' +\n",
              "            '<a target=\"_blank\" href=https://colab.research.google.com/notebooks/data_table.ipynb>data table notebook</a>'\n",
              "            + ' to learn more about interactive tables.';\n",
              "          element.innerHTML = '';\n",
              "          dataTable['output_type'] = 'display_data';\n",
              "          await google.colab.output.renderOutput(dataTable, element);\n",
              "          const docLink = document.createElement('div');\n",
              "          docLink.innerHTML = docLinkHtml;\n",
              "          element.appendChild(docLink);\n",
              "        }\n",
              "      </script>\n",
              "    </div>\n",
              "  </div>\n",
              "  "
            ]
          },
          "metadata": {},
          "execution_count": 9
        }
      ],
      "source": [
        "data = load_data(PATH)\n",
        "\n",
        "print(f'data.shape = {data.shape}\\n')\n",
        "data.head(2)"
      ]
    },
    {
      "cell_type": "markdown",
      "metadata": {
        "id": "BWN9VH40WEMK"
      },
      "source": [
        "## 2. Data preprocessing pipeline"
      ]
    },
    {
      "cell_type": "code",
      "execution_count": 10,
      "metadata": {
        "colab": {
          "base_uri": "https://localhost:8080/"
        },
        "id": "uRbHm4snLIYS",
        "outputId": "df4eabf9-e9ef-4e23-89ff-ed9d169caf65"
      },
      "outputs": [
        {
          "output_type": "stream",
          "name": "stdout",
          "text": [
            "Number of outliers = 8\n"
          ]
        },
        {
          "output_type": "execute_result",
          "data": {
            "text/plain": [
              "(153, 20, 48)"
            ]
          },
          "metadata": {},
          "execution_count": 10
        }
      ],
      "source": [
        "regenerate = True\n",
        "if regenerate:\n",
        "  X = train.data_preprocessing_pipeline(data)\n",
        "else:\n",
        "  X = np.load('data/04_feature/train_dataset.npy')\n",
        "\n",
        "X.shape"
      ]
    },
    {
      "cell_type": "markdown",
      "metadata": {
        "id": "a5yhOwIBedyY"
      },
      "source": [
        "## 3. Model LSTM"
      ]
    },
    {
      "cell_type": "markdown",
      "metadata": {
        "id": "jXi5ehMcei7i"
      },
      "source": [
        "### 3.1 Model architecture"
      ]
    },
    {
      "cell_type": "code",
      "execution_count": 11,
      "metadata": {
        "colab": {
          "base_uri": "https://localhost:8080/"
        },
        "id": "bx3QHckueeZe",
        "outputId": "36cb52b8-5c16-4ad8-e925-4ca0b0d20f37"
      },
      "outputs": [
        {
          "output_type": "stream",
          "name": "stdout",
          "text": [
            "Model: \"model\"\n",
            "__________________________________________________________________________________________________\n",
            " Layer (type)                   Output Shape         Param #     Connected to                     \n",
            "==================================================================================================\n",
            " input_1 (InputLayer)           [(None, 54, 48)]     0           []                               \n",
            "                                                                                                  \n",
            " lstm (LSTM)                    [(None, 54, 150),    119400      ['input_1[0][0]']                \n",
            "                                 (None, 150),                                                     \n",
            "                                 (None, 150)]                                                     \n",
            "                                                                                                  \n",
            " lstm_1 (LSTM)                  [(None, 150),        180600      ['lstm[0][0]']                   \n",
            "                                 (None, 150),                                                     \n",
            "                                 (None, 150)]                                                     \n",
            "                                                                                                  \n",
            " repeat_vector (RepeatVector)   (None, 27, 150)      0           ['lstm_1[0][0]']                 \n",
            "                                                                                                  \n",
            " lstm_2 (LSTM)                  (None, 27, 150)      180600      ['repeat_vector[0][0]',          \n",
            "                                                                  'lstm[0][1]',                   \n",
            "                                                                  'lstm[0][2]']                   \n",
            "                                                                                                  \n",
            " lstm_3 (LSTM)                  (None, 27, 150)      180600      ['lstm_2[0][0]',                 \n",
            "                                                                  'lstm_1[0][1]',                 \n",
            "                                                                  'lstm_1[0][2]']                 \n",
            "                                                                                                  \n",
            " time_distributed (TimeDistribu  (None, 27, 48)      7248        ['lstm_3[0][0]']                 \n",
            " ted)                                                                                             \n",
            "                                                                                                  \n",
            "==================================================================================================\n",
            "Total params: 668,448\n",
            "Trainable params: 668,448\n",
            "Non-trainable params: 0\n",
            "__________________________________________________________________________________________________\n"
          ]
        }
      ],
      "source": [
        "n_features = X.shape[2]\n",
        "model = get_model_LSTM(n_features)\n",
        "model.summary()"
      ]
    },
    {
      "cell_type": "markdown",
      "metadata": {
        "id": "eqH3rDIHig3N"
      },
      "source": [
        "### 3.2 Training of the model"
      ]
    },
    {
      "cell_type": "code",
      "source": [
        "X_train, y_train = get_train_dataset(X)\n",
        "X_train.shape, y_train.shape"
      ],
      "metadata": {
        "colab": {
          "base_uri": "https://localhost:8080/"
        },
        "id": "a6RWONYgWN9q",
        "outputId": "9cfadbcc-e628-4026-e5e3-566eb3f86ff6"
      },
      "execution_count": 12,
      "outputs": [
        {
          "output_type": "execute_result",
          "data": {
            "text/plain": [
              "((900, 54, 48), (900, 27, 48))"
            ]
          },
          "metadata": {},
          "execution_count": 12
        }
      ]
    },
    {
      "cell_type": "code",
      "execution_count": 13,
      "metadata": {
        "colab": {
          "base_uri": "https://localhost:8080/"
        },
        "id": "xHc3LM9eKEUW",
        "outputId": "f8b95a08-86ed-48be-9818-280256a62722"
      },
      "outputs": [
        {
          "output_type": "stream",
          "name": "stdout",
          "text": [
            "Epoch 1/40\n",
            "11/11 [==============================] - 16s 180ms/step - loss: 0.4417 - val_loss: 0.3931 - lr: 0.0300\n",
            "Epoch 2/40\n",
            "11/11 [==============================] - 0s 20ms/step - loss: 0.3662 - val_loss: 0.3905 - lr: 0.0285\n",
            "Epoch 3/40\n",
            "11/11 [==============================] - 0s 16ms/step - loss: 0.3623 - val_loss: 0.3877 - lr: 0.0271\n",
            "Epoch 4/40\n",
            "11/11 [==============================] - 0s 16ms/step - loss: 0.3528 - val_loss: 0.3735 - lr: 0.0257\n",
            "Epoch 5/40\n",
            "11/11 [==============================] - 0s 17ms/step - loss: 0.3399 - val_loss: 0.3597 - lr: 0.0244\n",
            "Epoch 6/40\n",
            "11/11 [==============================] - 0s 16ms/step - loss: 0.3285 - val_loss: 0.3546 - lr: 0.0232\n",
            "Epoch 7/40\n",
            "11/11 [==============================] - 0s 16ms/step - loss: 0.3184 - val_loss: 0.3755 - lr: 0.0221\n",
            "Epoch 8/40\n",
            "11/11 [==============================] - 0s 16ms/step - loss: 0.3008 - val_loss: 0.3119 - lr: 0.0210\n",
            "Epoch 9/40\n",
            "11/11 [==============================] - 0s 17ms/step - loss: 0.2846 - val_loss: 0.2981 - lr: 0.0199\n",
            "Epoch 10/40\n",
            "11/11 [==============================] - 0s 16ms/step - loss: 0.2780 - val_loss: 0.2898 - lr: 0.0189\n",
            "Epoch 11/40\n",
            "11/11 [==============================] - 0s 17ms/step - loss: 0.2721 - val_loss: 0.2943 - lr: 0.0180\n",
            "Epoch 12/40\n",
            "11/11 [==============================] - 0s 18ms/step - loss: 0.2684 - val_loss: 0.2831 - lr: 0.0171\n",
            "Epoch 13/40\n",
            "11/11 [==============================] - 0s 17ms/step - loss: 0.2622 - val_loss: 0.2791 - lr: 0.0162\n",
            "Epoch 14/40\n",
            "11/11 [==============================] - 0s 16ms/step - loss: 0.2576 - val_loss: 0.2781 - lr: 0.0154\n",
            "Epoch 15/40\n",
            "11/11 [==============================] - 0s 23ms/step - loss: 0.2539 - val_loss: 0.2737 - lr: 0.0146\n",
            "Epoch 16/40\n",
            "11/11 [==============================] - 0s 21ms/step - loss: 0.2507 - val_loss: 0.2762 - lr: 0.0139\n",
            "Epoch 17/40\n",
            "11/11 [==============================] - 0s 22ms/step - loss: 0.2486 - val_loss: 0.2726 - lr: 0.0132\n",
            "Epoch 18/40\n",
            "11/11 [==============================] - 0s 22ms/step - loss: 0.2465 - val_loss: 0.2740 - lr: 0.0125\n",
            "Epoch 19/40\n",
            "11/11 [==============================] - 0s 22ms/step - loss: 0.2443 - val_loss: 0.2688 - lr: 0.0119\n",
            "Epoch 20/40\n",
            "11/11 [==============================] - 0s 22ms/step - loss: 0.2420 - val_loss: 0.2699 - lr: 0.0113\n",
            "Epoch 21/40\n",
            "11/11 [==============================] - 0s 23ms/step - loss: 0.2399 - val_loss: 0.2687 - lr: 0.0108\n",
            "Epoch 22/40\n",
            "11/11 [==============================] - 0s 22ms/step - loss: 0.2380 - val_loss: 0.2652 - lr: 0.0102\n",
            "Epoch 23/40\n",
            "11/11 [==============================] - 0s 23ms/step - loss: 0.2354 - val_loss: 0.2669 - lr: 0.0097\n",
            "Epoch 24/40\n",
            "11/11 [==============================] - 0s 23ms/step - loss: 0.2330 - val_loss: 0.2637 - lr: 0.0092\n",
            "Epoch 25/40\n",
            "11/11 [==============================] - 0s 23ms/step - loss: 0.2303 - val_loss: 0.2645 - lr: 0.0088\n",
            "Epoch 26/40\n",
            "11/11 [==============================] - 0s 25ms/step - loss: 0.2272 - val_loss: 0.2643 - lr: 0.0083\n",
            "Epoch 27/40\n",
            "11/11 [==============================] - 0s 25ms/step - loss: 0.2257 - val_loss: 0.2628 - lr: 0.0079\n",
            "Epoch 28/40\n",
            "11/11 [==============================] - 0s 22ms/step - loss: 0.2237 - val_loss: 0.2605 - lr: 0.0075\n",
            "Epoch 29/40\n",
            "11/11 [==============================] - 0s 17ms/step - loss: 0.2221 - val_loss: 0.2618 - lr: 0.0071\n",
            "Epoch 30/40\n",
            "11/11 [==============================] - 0s 17ms/step - loss: 0.2213 - val_loss: 0.2590 - lr: 0.0068\n",
            "Epoch 31/40\n",
            "11/11 [==============================] - 0s 17ms/step - loss: 0.2196 - val_loss: 0.2591 - lr: 0.0064\n",
            "Epoch 32/40\n",
            "11/11 [==============================] - 0s 16ms/step - loss: 0.2180 - val_loss: 0.2588 - lr: 0.0061\n",
            "Epoch 33/40\n",
            "11/11 [==============================] - 0s 17ms/step - loss: 0.2169 - val_loss: 0.2582 - lr: 0.0058\n",
            "Epoch 34/40\n",
            "11/11 [==============================] - 0s 18ms/step - loss: 0.2161 - val_loss: 0.2562 - lr: 0.0055\n",
            "Epoch 35/40\n",
            "11/11 [==============================] - 0s 17ms/step - loss: 0.2149 - val_loss: 0.2571 - lr: 0.0052\n",
            "Epoch 36/40\n",
            "11/11 [==============================] - 0s 17ms/step - loss: 0.2141 - val_loss: 0.2563 - lr: 0.0050\n",
            "Epoch 37/40\n",
            "11/11 [==============================] - 0s 16ms/step - loss: 0.2132 - val_loss: 0.2561 - lr: 0.0047\n",
            "Epoch 38/40\n",
            "11/11 [==============================] - 0s 16ms/step - loss: 0.2123 - val_loss: 0.2547 - lr: 0.0045\n",
            "Epoch 39/40\n",
            "11/11 [==============================] - 0s 17ms/step - loss: 0.2117 - val_loss: 0.2516 - lr: 0.0043\n",
            "Epoch 40/40\n",
            "11/11 [==============================] - 0s 17ms/step - loss: 0.2109 - val_loss: 0.2514 - lr: 0.0041\n"
          ]
        }
      ],
      "source": [
        "from tensorflow.python.ops.math_ops import truncate_mod_eager_fallback\n",
        "n_shops = 20\n",
        "n_epochs = 40\n",
        "batch_size = n_shops * 4\n",
        "m = n_shops * 4\n",
        "\n",
        "reduce_lr = tf.keras.callbacks.LearningRateScheduler(\n",
        "    lambda epoch: 3e-2 * 0.95 ** epoch\n",
        ")\n",
        "model.compile(\n",
        "    optimizer=tf.keras.optimizers.Adam(), \n",
        "    loss=tf.keras.losses.Huber()\n",
        ")\n",
        "history = model.fit(\n",
        "    X_train[:-m, :, :], y_train[:-m, :, :], \n",
        "    epochs=n_epochs,\n",
        "    validation_data=(X_train[-m:, :, :], y_train[-m:, :, :]),\n",
        "    batch_size=batch_size, \n",
        "    verbose=1,\n",
        "    callbacks=[reduce_lr],\n",
        "    shuffle=True,\n",
        "    workers=-1,\n",
        "    use_multiprocessing=True\n",
        ")"
      ]
    },
    {
      "cell_type": "markdown",
      "metadata": {
        "id": "-T-FivMrYoH5"
      },
      "source": [
        "### 3.3 Inference"
      ]
    },
    {
      "cell_type": "code",
      "execution_count": 14,
      "metadata": {
        "id": "uyn5BLhgYHO3"
      },
      "outputs": [],
      "source": [
        "X_test, y_test = get_test_dataset(X)"
      ]
    },
    {
      "cell_type": "code",
      "execution_count": 15,
      "metadata": {
        "colab": {
          "base_uri": "https://localhost:8080/"
        },
        "id": "dgZcymnwX7hH",
        "outputId": "09985156-c242-49ae-9459-cf16a122027d"
      },
      "outputs": [
        {
          "output_type": "stream",
          "name": "stdout",
          "text": [
            "1/1 [==============================] - 1s 1s/step\n"
          ]
        },
        {
          "output_type": "execute_result",
          "data": {
            "text/plain": [
              "(20, 27, 48)"
            ]
          },
          "metadata": {},
          "execution_count": 15
        }
      ],
      "source": [
        "pred = model.predict(X_test)\n",
        "pred.shape"
      ]
    },
    {
      "cell_type": "markdown",
      "metadata": {
        "id": "LphmAbjGZkA3"
      },
      "source": [
        "### 3.4 Model evaluation"
      ]
    },
    {
      "cell_type": "markdown",
      "metadata": {
        "id": "nkFU4RxZZk8-"
      },
      "source": [
        "#### Mean absolute scaled error (MASE) \n",
        "https://en.wikipedia.org/wiki/Mean_absolute_scaled_error"
      ]
    },
    {
      "cell_type": "markdown",
      "metadata": {
        "id": "nM1Cj-_XZpsO"
      },
      "source": [
        "The denominator of mean absolute scaled error is the mean absolute error of the one-step \"seasonal naive forecast method\" on the training set, which uses the actual value from the prior 30 days as the forecast: \n",
        "* F(t) = Y(t−30)\n",
        "\n",
        "MASE is scale-free error metric. So, it can be applied to scaled data without extra iteration of inverse scaling."
      ]
    },
    {
      "cell_type": "code",
      "execution_count": 16,
      "metadata": {
        "colab": {
          "base_uri": "https://localhost:8080/"
        },
        "id": "jSPdjqEztRix",
        "outputId": "b36246e0-db35-4436-c7fd-7e26c47715fc"
      },
      "outputs": [
        {
          "output_type": "execute_result",
          "data": {
            "text/plain": [
              "((20, 27, 48), (20, 27, 48))"
            ]
          },
          "metadata": {},
          "execution_count": 16
        }
      ],
      "source": [
        "pred.shape, y_test.shape"
      ]
    },
    {
      "cell_type": "code",
      "execution_count": 17,
      "metadata": {
        "colab": {
          "base_uri": "https://localhost:8080/"
        },
        "id": "H7m2mh1I8rm6",
        "outputId": "30bca781-01d3-4721-de34-fee4018307ae"
      },
      "outputs": [
        {
          "output_type": "stream",
          "name": "stdout",
          "text": [
            "Mean absolute scaled error = 0.9051\n"
          ]
        }
      ],
      "source": [
        "forecast_error = abs(pred[:, :, 0] - y_test[:, :, 0]).mean()\n",
        "mase = forecast_error / abs(y_test[:, :, 6]).mean()\n",
        "\n",
        "print(f'Mean absolute scaled error = {round(mase.mean(), 4)}')"
      ]
    },
    {
      "cell_type": "markdown",
      "metadata": {
        "id": "sYbpp1abZzxQ"
      },
      "source": [
        "__Findings:__\n",
        "\n",
        "* Out of 72 samples available for training (153 less input and output sequence length) 4 were used for validation of the model and 27 for testing. So, we had only 41 samples for training of the model and it is definately not sufficient.\n",
        "\n",
        "* To get more accurate predictions, we need to retrain the model on the full set of data. It should improve the final results."
      ]
    },
    {
      "cell_type": "markdown",
      "metadata": {
        "id": "vmXsJCA5Z0t9"
      },
      "source": [
        "## 4. Final prediction"
      ]
    },
    {
      "cell_type": "markdown",
      "metadata": {
        "id": "wpg_5giedIV5"
      },
      "source": [
        "### 4.1. Dataset"
      ]
    },
    {
      "cell_type": "code",
      "execution_count": 18,
      "metadata": {
        "colab": {
          "base_uri": "https://localhost:8080/"
        },
        "id": "cN70_li0aLy2",
        "outputId": "e20aace0-9312-4c6f-a75f-6eeb44aaa72a"
      },
      "outputs": [
        {
          "output_type": "execute_result",
          "data": {
            "text/plain": [
              "((1440, 54, 48), (1440, 27, 48), (20, 54, 48))"
            ]
          },
          "metadata": {},
          "execution_count": 18
        }
      ],
      "source": [
        "X_train, y_train = get_train_dataset(X, final=True)\n",
        "X_test = get_test_dataset(X, final=True)\n",
        "\n",
        "X_train.shape, y_train.shape, X_test.shape"
      ]
    },
    {
      "cell_type": "markdown",
      "metadata": {
        "id": "MC_L5BwPdCb-"
      },
      "source": [
        "### 4.2. Retraining the model on full dataset"
      ]
    },
    {
      "cell_type": "code",
      "execution_count": 19,
      "metadata": {
        "colab": {
          "base_uri": "https://localhost:8080/"
        },
        "id": "jYh4p4YQaffn",
        "outputId": "e4233f80-ba16-49d8-eebc-6789058bdf51"
      },
      "outputs": [
        {
          "output_type": "stream",
          "name": "stdout",
          "text": [
            "Epoch 1/50\n",
            "17/17 [==============================] - 10s 131ms/step - loss: 0.3826 - val_loss: 0.3389 - lr: 0.0300\n",
            "Epoch 2/50\n",
            "17/17 [==============================] - 0s 16ms/step - loss: 0.3364 - val_loss: 0.3344 - lr: 0.0285\n",
            "Epoch 3/50\n",
            "17/17 [==============================] - 0s 15ms/step - loss: 0.3323 - val_loss: 0.3278 - lr: 0.0271\n",
            "Epoch 4/50\n",
            "17/17 [==============================] - 0s 15ms/step - loss: 0.3228 - val_loss: 0.3188 - lr: 0.0257\n",
            "Epoch 5/50\n",
            "17/17 [==============================] - 0s 14ms/step - loss: 0.3122 - val_loss: 0.3149 - lr: 0.0244\n",
            "Epoch 6/50\n",
            "17/17 [==============================] - 0s 15ms/step - loss: 0.3046 - val_loss: 0.3153 - lr: 0.0232\n",
            "Epoch 7/50\n",
            "17/17 [==============================] - 0s 15ms/step - loss: 0.2961 - val_loss: 0.2963 - lr: 0.0221\n",
            "Epoch 8/50\n",
            "17/17 [==============================] - 0s 14ms/step - loss: 0.2942 - val_loss: 0.3121 - lr: 0.0210\n",
            "Epoch 9/50\n",
            "17/17 [==============================] - 0s 15ms/step - loss: 0.2806 - val_loss: 0.2769 - lr: 0.0199\n",
            "Epoch 10/50\n",
            "17/17 [==============================] - 0s 15ms/step - loss: 0.2654 - val_loss: 0.2701 - lr: 0.0189\n",
            "Epoch 11/50\n",
            "17/17 [==============================] - 0s 15ms/step - loss: 0.2575 - val_loss: 0.2633 - lr: 0.0180\n",
            "Epoch 12/50\n",
            "17/17 [==============================] - 0s 15ms/step - loss: 0.2509 - val_loss: 0.2672 - lr: 0.0171\n",
            "Epoch 13/50\n",
            "17/17 [==============================] - 0s 15ms/step - loss: 0.2464 - val_loss: 0.2575 - lr: 0.0162\n",
            "Epoch 14/50\n",
            "17/17 [==============================] - 0s 15ms/step - loss: 0.2415 - val_loss: 0.2492 - lr: 0.0154\n",
            "Epoch 15/50\n",
            "17/17 [==============================] - 0s 15ms/step - loss: 0.2369 - val_loss: 0.2439 - lr: 0.0146\n",
            "Epoch 16/50\n",
            "17/17 [==============================] - 0s 18ms/step - loss: 0.2324 - val_loss: 0.2416 - lr: 0.0139\n",
            "Epoch 17/50\n",
            "17/17 [==============================] - 0s 18ms/step - loss: 0.2287 - val_loss: 0.2498 - lr: 0.0132\n",
            "Epoch 18/50\n",
            "17/17 [==============================] - 0s 19ms/step - loss: 0.2240 - val_loss: 0.2464 - lr: 0.0125\n",
            "Epoch 19/50\n",
            "17/17 [==============================] - 0s 20ms/step - loss: 0.2193 - val_loss: 0.2348 - lr: 0.0119\n",
            "Epoch 20/50\n",
            "17/17 [==============================] - 0s 19ms/step - loss: 0.2161 - val_loss: 0.2327 - lr: 0.0113\n",
            "Epoch 21/50\n",
            "17/17 [==============================] - 0s 19ms/step - loss: 0.2133 - val_loss: 0.2330 - lr: 0.0108\n",
            "Epoch 22/50\n",
            "17/17 [==============================] - 0s 20ms/step - loss: 0.2108 - val_loss: 0.2348 - lr: 0.0102\n",
            "Epoch 23/50\n",
            "17/17 [==============================] - 0s 19ms/step - loss: 0.2085 - val_loss: 0.2260 - lr: 0.0097\n",
            "Epoch 24/50\n",
            "17/17 [==============================] - 0s 19ms/step - loss: 0.2056 - val_loss: 0.2197 - lr: 0.0092\n",
            "Epoch 25/50\n",
            "17/17 [==============================] - 0s 21ms/step - loss: 0.2028 - val_loss: 0.2231 - lr: 0.0088\n",
            "Epoch 26/50\n",
            "17/17 [==============================] - 0s 18ms/step - loss: 0.1994 - val_loss: 0.2200 - lr: 0.0083\n",
            "Epoch 27/50\n",
            "17/17 [==============================] - 0s 16ms/step - loss: 0.1965 - val_loss: 0.2160 - lr: 0.0079\n",
            "Epoch 28/50\n",
            "17/17 [==============================] - 0s 15ms/step - loss: 0.1938 - val_loss: 0.2161 - lr: 0.0075\n",
            "Epoch 29/50\n",
            "17/17 [==============================] - 0s 15ms/step - loss: 0.1908 - val_loss: 0.2132 - lr: 0.0071\n",
            "Epoch 30/50\n",
            "17/17 [==============================] - 0s 15ms/step - loss: 0.1881 - val_loss: 0.2086 - lr: 0.0068\n",
            "Epoch 31/50\n",
            "17/17 [==============================] - 0s 15ms/step - loss: 0.1862 - val_loss: 0.2090 - lr: 0.0064\n",
            "Epoch 32/50\n",
            "17/17 [==============================] - 0s 16ms/step - loss: 0.1844 - val_loss: 0.2093 - lr: 0.0061\n",
            "Epoch 33/50\n",
            "17/17 [==============================] - 0s 14ms/step - loss: 0.1822 - val_loss: 0.2089 - lr: 0.0058\n",
            "Epoch 34/50\n",
            "17/17 [==============================] - 0s 15ms/step - loss: 0.1799 - val_loss: 0.2078 - lr: 0.0055\n",
            "Epoch 35/50\n",
            "17/17 [==============================] - 0s 15ms/step - loss: 0.1774 - val_loss: 0.2048 - lr: 0.0052\n",
            "Epoch 36/50\n",
            "17/17 [==============================] - 0s 16ms/step - loss: 0.1752 - val_loss: 0.2060 - lr: 0.0050\n",
            "Epoch 37/50\n",
            "17/17 [==============================] - 0s 15ms/step - loss: 0.1731 - val_loss: 0.2019 - lr: 0.0047\n",
            "Epoch 38/50\n",
            "17/17 [==============================] - 0s 15ms/step - loss: 0.1714 - val_loss: 0.2020 - lr: 0.0045\n",
            "Epoch 39/50\n",
            "17/17 [==============================] - 0s 15ms/step - loss: 0.1693 - val_loss: 0.2024 - lr: 0.0043\n",
            "Epoch 40/50\n",
            "17/17 [==============================] - 0s 16ms/step - loss: 0.1672 - val_loss: 0.2001 - lr: 0.0041\n",
            "Epoch 41/50\n",
            "17/17 [==============================] - 0s 16ms/step - loss: 0.1652 - val_loss: 0.2018 - lr: 0.0039\n",
            "Epoch 42/50\n",
            "17/17 [==============================] - 0s 15ms/step - loss: 0.1636 - val_loss: 0.1998 - lr: 0.0037\n",
            "Epoch 43/50\n",
            "17/17 [==============================] - 0s 15ms/step - loss: 0.1622 - val_loss: 0.2017 - lr: 0.0035\n",
            "Epoch 44/50\n",
            "17/17 [==============================] - 0s 16ms/step - loss: 0.1610 - val_loss: 0.1991 - lr: 0.0033\n",
            "Epoch 45/50\n",
            "17/17 [==============================] - 0s 17ms/step - loss: 0.1594 - val_loss: 0.1981 - lr: 0.0031\n",
            "Epoch 46/50\n",
            "17/17 [==============================] - 0s 15ms/step - loss: 0.1583 - val_loss: 0.1965 - lr: 0.0030\n",
            "Epoch 47/50\n",
            "17/17 [==============================] - 0s 16ms/step - loss: 0.1571 - val_loss: 0.1953 - lr: 0.0028\n",
            "Epoch 48/50\n",
            "17/17 [==============================] - 0s 15ms/step - loss: 0.1559 - val_loss: 0.1960 - lr: 0.0027\n",
            "Epoch 49/50\n",
            "17/17 [==============================] - 0s 15ms/step - loss: 0.1547 - val_loss: 0.1952 - lr: 0.0026\n",
            "Epoch 50/50\n",
            "17/17 [==============================] - 0s 16ms/step - loss: 0.1539 - val_loss: 0.1941 - lr: 0.0024\n"
          ]
        }
      ],
      "source": [
        "n_shops = 20\n",
        "n_epochs = 50\n",
        "batch_size = n_shops * 4\n",
        "m = n_shops * 4\n",
        "\n",
        "model = get_model_LSTM(n_features=X_train.shape[2], n_units=150)\n",
        "\n",
        "reduce_lr = tf.keras.callbacks.LearningRateScheduler(\n",
        "    lambda epoch: 3e-2 * 0.95 ** epoch\n",
        ")\n",
        "model.compile(\n",
        "    optimizer=tf.keras.optimizers.Adam(), \n",
        "    loss=tf.keras.losses.Huber()\n",
        ")\n",
        "history = model.fit(\n",
        "    X_train[:-m, :, :], y_train[:-m, :, :], \n",
        "    epochs=n_epochs,\n",
        "    validation_data=(X_train[-m:, :, :], y_train[-m:, :, :]),\n",
        "    batch_size=batch_size, \n",
        "    verbose=1,\n",
        "    callbacks=[reduce_lr],\n",
        "    shuffle=True,\n",
        "    workers=-1,\n",
        "    use_multiprocessing=True,    \n",
        ")"
      ]
    },
    {
      "cell_type": "code",
      "execution_count": 20,
      "metadata": {
        "colab": {
          "base_uri": "https://localhost:8080/",
          "height": 295
        },
        "id": "ys70q4i4bOj8",
        "outputId": "52f63fa4-8a24-46b6-8130-e5df958e664f"
      },
      "outputs": [
        {
          "output_type": "display_data",
          "data": {
            "text/plain": [
              "<Figure size 432x288 with 1 Axes>"
            ],
            "image/png": "[encoded data removed]"
          },
          "metadata": {
            "needs_background": "light"
          }
        }
      ],
      "source": [
        "import matplotlib.pyplot as plt\n",
        "\n",
        "plt.plot(history.history['loss'])\n",
        "plt.plot(history.history['val_loss'])\n",
        "plt.title(\"Model Loss\")\n",
        "plt.xlabel('Epochs')\n",
        "plt.ylabel('Loss')\n",
        "plt.legend(['Train', 'Valid'])\n",
        "plt.show()"
      ]
    },
    {
      "cell_type": "markdown",
      "metadata": {
        "id": "_n6z3yuZc0Uj"
      },
      "source": [
        "### 4.3 Model evaluation on validation set"
      ]
    },
    {
      "cell_type": "code",
      "source": [
        "pred = model.predict(X_train[-m:, :, :])\n",
        "pred[:, :, 0].shape,"
      ],
      "metadata": {
        "colab": {
          "base_uri": "https://localhost:8080/"
        },
        "id": "w0SzRmu52i5b",
        "outputId": "d430efd7-f086-4d3a-8c1c-f25f1e941781"
      },
      "execution_count": 21,
      "outputs": [
        {
          "output_type": "stream",
          "name": "stdout",
          "text": [
            "3/3 [==============================] - 2s 12ms/step\n"
          ]
        },
        {
          "output_type": "execute_result",
          "data": {
            "text/plain": [
              "((80, 27),)"
            ]
          },
          "metadata": {},
          "execution_count": 21
        }
      ]
    },
    {
      "cell_type": "code",
      "source": [
        "forecast_error = abs(pred[:, :, 0] -  y_train[-m:, :, 0]).mean()\n",
        "mase = forecast_error / abs( y_train[-m:, :, 6]).mean()\n",
        "\n",
        "print(f'Mean absolute scaled error = {round(mase.mean(), 4)}')"
      ],
      "metadata": {
        "colab": {
          "base_uri": "https://localhost:8080/"
        },
        "id": "XFTzEJ8Plx_g",
        "outputId": "3f5157f5-9ffc-4982-a2b2-1c98d209abcd"
      },
      "execution_count": 22,
      "outputs": [
        {
          "output_type": "stream",
          "name": "stdout",
          "text": [
            "Mean absolute scaled error = 0.428\n"
          ]
        }
      ]
    },
    {
      "cell_type": "markdown",
      "metadata": {
        "id": "kZhWz7U2eEEt"
      },
      "source": [
        "### 4.4. Inference"
      ]
    },
    {
      "cell_type": "code",
      "execution_count": 23,
      "metadata": {
        "colab": {
          "base_uri": "https://localhost:8080/"
        },
        "id": "2tID_JZRd8Za",
        "outputId": "715da7ba-dcf5-4114-d8b3-4b6ce50d9b54"
      },
      "outputs": [
        {
          "output_type": "stream",
          "name": "stdout",
          "text": [
            "1/1 [==============================] - 0s 34ms/step\n"
          ]
        }
      ],
      "source": [
        "pred_final = model.predict(X_test)"
      ]
    },
    {
      "cell_type": "markdown",
      "metadata": {
        "id": "pk8ade9Hcllm"
      },
      "source": [
        "### 4.5. Inverse transformation of predictions"
      ]
    },
    {
      "cell_type": "code",
      "execution_count": 24,
      "metadata": {
        "id": "Ys__JvK9csEI"
      },
      "outputs": [],
      "source": [
        "scaler = joblib.load('data/03_primary/scaler_js.joblib')"
      ]
    },
    {
      "cell_type": "code",
      "execution_count": 25,
      "metadata": {
        "colab": {
          "base_uri": "https://localhost:8080/"
        },
        "id": "y3vKlBKBcm-B",
        "outputId": "2db4bd10-93b5-414b-ac38-b5016c6eaef9"
      },
      "outputs": [
        {
          "output_type": "execute_result",
          "data": {
            "text/plain": [
              "(27, 20)"
            ]
          },
          "metadata": {},
          "execution_count": 25
        }
      ],
      "source": [
        "arr_pred = pred_final[:, :, 0]\n",
        "y_pred = pd.DataFrame(arr_pred).T\n",
        "y_pred_rescaled = scaler.inv_transform(y_pred)\n",
        "y_pred_rescaled.shape"
      ]
    },
    {
      "cell_type": "markdown",
      "metadata": {
        "id": "HJyYOGDhcfl9"
      },
      "source": [
        "### 4.6. Generation of the final result"
      ]
    },
    {
      "cell_type": "code",
      "execution_count": 26,
      "metadata": {
        "colab": {
          "base_uri": "https://localhost:8080/",
          "height": 149
        },
        "id": "siV8XdBscJpb",
        "outputId": "225912a3-bb29-492a-c48f-d91af8c44c50"
      },
      "outputs": [
        {
          "output_type": "stream",
          "name": "stdout",
          "text": [
            "test.shape = (540, 3)\n",
            "\n"
          ]
        },
        {
          "output_type": "execute_result",
          "data": {
            "text/plain": [
              "   id          dt  target\n",
              "0   0  2017-07-01     500\n",
              "1   0  2017-07-02     500"
            ],
            "text/html": [
              "\n",
              "  <div id=\"df-1eda54bd-e77b-4ec5-b23a-eac33f9826d0\">\n",
              "    <div class=\"colab-df-container\">\n",
              "      <div>\n",
              "<style scoped>\n",
              "    .dataframe tbody tr th:only-of-type {\n",
              "        vertical-align: middle;\n",
              "    }\n",
              "\n",
              "    .dataframe tbody tr th {\n",
              "        vertical-align: top;\n",
              "    }\n",
              "\n",
              "    .dataframe thead th {\n",
              "        text-align: right;\n",
              "    }\n",
              "</style>\n",
              "<table border=\"1\" class=\"dataframe\">\n",
              "  <thead>\n",
              "    <tr style=\"text-align: right;\">\n",
              "      <th></th>\n",
              "      <th>id</th>\n",
              "      <th>dt</th>\n",
              "      <th>target</th>\n",
              "    </tr>\n",
              "  </thead>\n",
              "  <tbody>\n",
              "    <tr>\n",
              "      <th>0</th>\n",
              "      <td>0</td>\n",
              "      <td>2017-07-01</td>\n",
              "      <td>500</td>\n",
              "    </tr>\n",
              "    <tr>\n",
              "      <th>1</th>\n",
              "      <td>0</td>\n",
              "      <td>2017-07-02</td>\n",
              "      <td>500</td>\n",
              "    </tr>\n",
              "  </tbody>\n",
              "</table>\n",
              "</div>\n",
              "      <button class=\"colab-df-convert\" onclick=\"convertToInteractive('df-1eda54bd-e77b-4ec5-b23a-eac33f9826d0')\"\n",
              "              title=\"Convert this dataframe to an interactive table.\"\n",
              "              style=\"display:none;\">\n",
              "        \n",
              "  <svg xmlns=\"http://www.w3.org/2000/svg\" height=\"24px\"viewBox=\"0 0 24 24\"\n",
              "       width=\"24px\">\n",
              "    <path d=\"M0 0h24v24H0V0z\" fill=\"none\"/>\n",
              "    <path d=\"M18.56 5.44l.94 2.06.94-2.06 2.06-.94-2.06-.94-.94-2.06-.94 2.06-2.06.94zm-11 1L8.5 8.5l.94-2.06 2.06-.94-2.06-.94L8.5 2.5l-.94 2.06-2.06.94zm10 10l.94 2.06.94-2.06 2.06-.94-2.06-.94-.94-2.06-.94 2.06-2.06.94z\"/><path d=\"M17.41 7.96l-1.37-1.37c-.4-.4-.92-.59-1.43-.59-.52 0-1.04.2-1.43.59L10.3 9.45l-7.72 7.72c-.78.78-.78 2.05 0 2.83L4 21.41c.39.39.9.59 1.41.59.51 0 1.02-.2 1.41-.59l7.78-7.78 2.81-2.81c.8-.78.8-2.07 0-2.86zM5.41 20L4 18.59l7.72-7.72 1.47 1.35L5.41 20z\"/>\n",
              "  </svg>\n",
              "      </button>\n",
              "      \n",
              "  <style>\n",
              "    .colab-df-container {\n",
              "      display:flex;\n",
              "      flex-wrap:wrap;\n",
              "      gap: 12px;\n",
              "    }\n",
              "\n",
              "    .colab-df-convert {\n",
              "      background-color: #E8F0FE;\n",
              "      border: none;\n",
              "      border-radius: 50%;\n",
              "      cursor: pointer;\n",
              "      display: none;\n",
              "      fill: #1967D2;\n",
              "      height: 32px;\n",
              "      padding: 0 0 0 0;\n",
              "      width: 32px;\n",
              "    }\n",
              "\n",
              "    .colab-df-convert:hover {\n",
              "      background-color: #E2EBFA;\n",
              "      box-shadow: 0px 1px 2px rgba(60, 64, 67, 0.3), 0px 1px 3px 1px rgba(60, 64, 67, 0.15);\n",
              "      fill: #174EA6;\n",
              "    }\n",
              "\n",
              "    [theme=dark] .colab-df-convert {\n",
              "      background-color: #3B4455;\n",
              "      fill: #D2E3FC;\n",
              "    }\n",
              "\n",
              "    [theme=dark] .colab-df-convert:hover {\n",
              "      background-color: #434B5C;\n",
              "      box-shadow: 0px 1px 3px 1px rgba(0, 0, 0, 0.15);\n",
              "      filter: drop-shadow(0px 1px 2px rgba(0, 0, 0, 0.3));\n",
              "      fill: #FFFFFF;\n",
              "    }\n",
              "  </style>\n",
              "\n",
              "      <script>\n",
              "        const buttonEl =\n",
              "          document.querySelector('#df-1eda54bd-e77b-4ec5-b23a-eac33f9826d0 button.colab-df-convert');\n",
              "        buttonEl.style.display =\n",
              "          google.colab.kernel.accessAllowed ? 'block' : 'none';\n",
              "\n",
              "        async function convertToInteractive(key) {\n",
              "          const element = document.querySelector('#df-1eda54bd-e77b-4ec5-b23a-eac33f9826d0');\n",
              "          const dataTable =\n",
              "            await google.colab.kernel.invokeFunction('convertToInteractive',\n",
              "                                                     [key], {});\n",
              "          if (!dataTable) return;\n",
              "\n",
              "          const docLinkHtml = 'Like what you see? Visit the ' +\n",
              "            '<a target=\"_blank\" href=https://colab.research.google.com/notebooks/data_table.ipynb>data table notebook</a>'\n",
              "            + ' to learn more about interactive tables.';\n",
              "          element.innerHTML = '';\n",
              "          dataTable['output_type'] = 'display_data';\n",
              "          await google.colab.output.renderOutput(dataTable, element);\n",
              "          const docLink = document.createElement('div');\n",
              "          docLink.innerHTML = docLinkHtml;\n",
              "          element.appendChild(docLink);\n",
              "        }\n",
              "      </script>\n",
              "    </div>\n",
              "  </div>\n",
              "  "
            ]
          },
          "metadata": {},
          "execution_count": 26
        }
      ],
      "source": [
        "predict_example = pd.read_parquet(PATH + 'data/01_raw/sample_submit.parquet.gzip')\n",
        "print(f'test.shape = {predict_example.shape}\\n')\n",
        "predict_example.head(2)"
      ]
    },
    {
      "cell_type": "code",
      "execution_count": 27,
      "metadata": {
        "colab": {
          "base_uri": "https://localhost:8080/",
          "height": 206
        },
        "id": "BCB_XnyDb1P5",
        "outputId": "ca3df958-7d8b-4124-ee76-d24c838056e8"
      },
      "outputs": [
        {
          "output_type": "execute_result",
          "data": {
            "text/plain": [
              "   id          dt      target\n",
              "0   0  2017-07-01  904.986977\n",
              "1   0  2017-07-02  865.383632\n",
              "2   0  2017-07-03  748.987063\n",
              "3   0  2017-07-04  693.917046\n",
              "4   0  2017-07-06  575.150349"
            ],
            "text/html": [
              "\n",
              "  <div id=\"df-2dd135bb-db51-4aee-9990-a2fa3c1e510d\">\n",
              "    <div class=\"colab-df-container\">\n",
              "      <div>\n",
              "<style scoped>\n",
              "    .dataframe tbody tr th:only-of-type {\n",
              "        vertical-align: middle;\n",
              "    }\n",
              "\n",
              "    .dataframe tbody tr th {\n",
              "        vertical-align: top;\n",
              "    }\n",
              "\n",
              "    .dataframe thead th {\n",
              "        text-align: right;\n",
              "    }\n",
              "</style>\n",
              "<table border=\"1\" class=\"dataframe\">\n",
              "  <thead>\n",
              "    <tr style=\"text-align: right;\">\n",
              "      <th></th>\n",
              "      <th>id</th>\n",
              "      <th>dt</th>\n",
              "      <th>target</th>\n",
              "    </tr>\n",
              "  </thead>\n",
              "  <tbody>\n",
              "    <tr>\n",
              "      <th>0</th>\n",
              "      <td>0</td>\n",
              "      <td>2017-07-01</td>\n",
              "      <td>904.986977</td>\n",
              "    </tr>\n",
              "    <tr>\n",
              "      <th>1</th>\n",
              "      <td>0</td>\n",
              "      <td>2017-07-02</td>\n",
              "      <td>865.383632</td>\n",
              "    </tr>\n",
              "    <tr>\n",
              "      <th>2</th>\n",
              "      <td>0</td>\n",
              "      <td>2017-07-03</td>\n",
              "      <td>748.987063</td>\n",
              "    </tr>\n",
              "    <tr>\n",
              "      <th>3</th>\n",
              "      <td>0</td>\n",
              "      <td>2017-07-04</td>\n",
              "      <td>693.917046</td>\n",
              "    </tr>\n",
              "    <tr>\n",
              "      <th>4</th>\n",
              "      <td>0</td>\n",
              "      <td>2017-07-06</td>\n",
              "      <td>575.150349</td>\n",
              "    </tr>\n",
              "  </tbody>\n",
              "</table>\n",
              "</div>\n",
              "      <button class=\"colab-df-convert\" onclick=\"convertToInteractive('df-2dd135bb-db51-4aee-9990-a2fa3c1e510d')\"\n",
              "              title=\"Convert this dataframe to an interactive table.\"\n",
              "              style=\"display:none;\">\n",
              "        \n",
              "  <svg xmlns=\"http://www.w3.org/2000/svg\" height=\"24px\"viewBox=\"0 0 24 24\"\n",
              "       width=\"24px\">\n",
              "    <path d=\"M0 0h24v24H0V0z\" fill=\"none\"/>\n",
              "    <path d=\"M18.56 5.44l.94 2.06.94-2.06 2.06-.94-2.06-.94-.94-2.06-.94 2.06-2.06.94zm-11 1L8.5 8.5l.94-2.06 2.06-.94-2.06-.94L8.5 2.5l-.94 2.06-2.06.94zm10 10l.94 2.06.94-2.06 2.06-.94-2.06-.94-.94-2.06-.94 2.06-2.06.94z\"/><path d=\"M17.41 7.96l-1.37-1.37c-.4-.4-.92-.59-1.43-.59-.52 0-1.04.2-1.43.59L10.3 9.45l-7.72 7.72c-.78.78-.78 2.05 0 2.83L4 21.41c.39.39.9.59 1.41.59.51 0 1.02-.2 1.41-.59l7.78-7.78 2.81-2.81c.8-.78.8-2.07 0-2.86zM5.41 20L4 18.59l7.72-7.72 1.47 1.35L5.41 20z\"/>\n",
              "  </svg>\n",
              "      </button>\n",
              "      \n",
              "  <style>\n",
              "    .colab-df-container {\n",
              "      display:flex;\n",
              "      flex-wrap:wrap;\n",
              "      gap: 12px;\n",
              "    }\n",
              "\n",
              "    .colab-df-convert {\n",
              "      background-color: #E8F0FE;\n",
              "      border: none;\n",
              "      border-radius: 50%;\n",
              "      cursor: pointer;\n",
              "      display: none;\n",
              "      fill: #1967D2;\n",
              "      height: 32px;\n",
              "      padding: 0 0 0 0;\n",
              "      width: 32px;\n",
              "    }\n",
              "\n",
              "    .colab-df-convert:hover {\n",
              "      background-color: #E2EBFA;\n",
              "      box-shadow: 0px 1px 2px rgba(60, 64, 67, 0.3), 0px 1px 3px 1px rgba(60, 64, 67, 0.15);\n",
              "      fill: #174EA6;\n",
              "    }\n",
              "\n",
              "    [theme=dark] .colab-df-convert {\n",
              "      background-color: #3B4455;\n",
              "      fill: #D2E3FC;\n",
              "    }\n",
              "\n",
              "    [theme=dark] .colab-df-convert:hover {\n",
              "      background-color: #434B5C;\n",
              "      box-shadow: 0px 1px 3px 1px rgba(0, 0, 0, 0.15);\n",
              "      filter: drop-shadow(0px 1px 2px rgba(0, 0, 0, 0.3));\n",
              "      fill: #FFFFFF;\n",
              "    }\n",
              "  </style>\n",
              "\n",
              "      <script>\n",
              "        const buttonEl =\n",
              "          document.querySelector('#df-2dd135bb-db51-4aee-9990-a2fa3c1e510d button.colab-df-convert');\n",
              "        buttonEl.style.display =\n",
              "          google.colab.kernel.accessAllowed ? 'block' : 'none';\n",
              "\n",
              "        async function convertToInteractive(key) {\n",
              "          const element = document.querySelector('#df-2dd135bb-db51-4aee-9990-a2fa3c1e510d');\n",
              "          const dataTable =\n",
              "            await google.colab.kernel.invokeFunction('convertToInteractive',\n",
              "                                                     [key], {});\n",
              "          if (!dataTable) return;\n",
              "\n",
              "          const docLinkHtml = 'Like what you see? Visit the ' +\n",
              "            '<a target=\"_blank\" href=https://colab.research.google.com/notebooks/data_table.ipynb>data table notebook</a>'\n",
              "            + ' to learn more about interactive tables.';\n",
              "          element.innerHTML = '';\n",
              "          dataTable['output_type'] = 'display_data';\n",
              "          await google.colab.output.renderOutput(dataTable, element);\n",
              "          const docLink = document.createElement('div');\n",
              "          docLink.innerHTML = docLinkHtml;\n",
              "          element.appendChild(docLink);\n",
              "        }\n",
              "      </script>\n",
              "    </div>\n",
              "  </div>\n",
              "  "
            ]
          },
          "metadata": {},
          "execution_count": 27
        }
      ],
      "source": [
        "n_shops = 20\n",
        "for i in range(n_shops):\n",
        "  predict_example.loc[predict_example['id'] == i, 'target'] = y_pred_rescaled.loc[:, i]\n",
        "\n",
        "predict_example.to_parquet(\n",
        "    'data/06_model_output/sales_forecast_lstm.parquet.gzip', compression='gzip'\n",
        ")\n",
        "predict_example.head()"
      ]
    },
    {
      "cell_type": "markdown",
      "metadata": {
        "id": "k5l6afUrb7Iy"
      },
      "source": [
        "## 5. Findings"
      ]
    },
    {
      "cell_type": "markdown",
      "metadata": {
        "id": "4I1SyQe3b_ht"
      },
      "source": [
        "* LSTM model has not generated the prominent results. However, model predictions are better than the naive forecast with sales for the previous month. "
      ]
    }
  ],
  "metadata": {
    "colab": {
      "provenance": [],
      "authorship_tag": "ABX9TyM0GXuGxa1zO2MX214x+e+J",
      "include_colab_link": true
    },
    "gpuClass": "standard",
    "kernelspec": {
      "display_name": "Python 3",
      "name": "python3"
    },
    "language_info": {
      "name": "python"
    },
    "accelerator": "GPU"
  },
  "nbformat": 4,
  "nbformat_minor": 0
}