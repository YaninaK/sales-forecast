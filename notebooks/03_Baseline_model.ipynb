{
  "cells": [
    {
      "cell_type": "markdown",
      "metadata": {
        "id": "view-in-github",
        "colab_type": "text"
      },
      "source": [
        "<a href=\"https://colab.research.google.com/github/YaninaK/sales-forecast/blob/main/notebooks/03_Baseline_model.ipynb\" target=\"_parent\"><img src=\"https://colab.research.google.com/assets/colab-badge.svg\" alt=\"Open In Colab\"/></a>"
      ]
    },
    {
      "cell_type": "markdown",
      "metadata": {
        "id": "yw1w9JFTOyl0"
      },
      "source": [
        "# Sales forecast for 20 stores for 31 days' period.\n",
        "\n",
        "## Baseline model - LSTM"
      ]
    },
    {
      "cell_type": "markdown",
      "metadata": {
        "id": "0ntOLUaWO_Zl"
      },
      "source": [
        "[EDA: omissions, clustering & Fourier transformations](\n",
        "https://colab.research.google.com/drive/1udCgyEt7lusSY43lnduVDEnZvdvVEt9h?usp=sharing)\n",
        "\n",
        "[Feature extraction](https://colab.research.google.com/drive/1H-vQoHnycp62YuZD1xrmIDjufpDu7ig3?usp=sharing)"
      ]
    },
    {
      "cell_type": "code",
      "execution_count": 1,
      "metadata": {
        "colab": {
          "base_uri": "https://localhost:8080/"
        },
        "id": "NP9i317dO3-E",
        "outputId": "14ca3834-561c-4096-d47a-59b59d9ab824"
      },
      "outputs": [
        {
          "output_type": "stream",
          "name": "stdout",
          "text": [
            "Mounted at /content/drive\n"
          ]
        }
      ],
      "source": [
        "from google.colab import drive\n",
        "drive.mount('/content/drive')"
      ]
    },
    {
      "cell_type": "code",
      "execution_count": 2,
      "metadata": {
        "colab": {
          "base_uri": "https://localhost:8080/"
        },
        "id": "NOaainxsPvh1",
        "outputId": "25400d00-d1f9-4f7b-b99f-ce0f72c62428"
      },
      "outputs": [
        {
          "output_type": "stream",
          "name": "stdout",
          "text": [
            "\u001b[?25l     \u001b[90m━━━━━━━━━━━━━━━━━━━━━━━━━━━━━━━━━━━━━━━━\u001b[0m \u001b[32m0.0/358.2 kB\u001b[0m \u001b[31m?\u001b[0m eta \u001b[36m-:--:--\u001b[0m\r\u001b[2K     \u001b[91m━━━━━━━━━━━━━━━━━━━━━━━━━━━━━━━━━━\u001b[0m\u001b[91m╸\u001b[0m\u001b[90m━━━━\u001b[0m \u001b[32m317.4/358.2 kB\u001b[0m \u001b[31m9.4 MB/s\u001b[0m eta \u001b[36m0:00:01\u001b[0m\r\u001b[2K     \u001b[90m━━━━━━━━━━━━━━━━━━━━━━━━━━━━━━━━━━━━━━━\u001b[0m \u001b[32m358.2/358.2 kB\u001b[0m \u001b[31m8.1 MB/s\u001b[0m eta \u001b[36m0:00:00\u001b[0m\n",
            "\u001b[2K     \u001b[90m━━━━━━━━━━━━━━━━━━━━━━━━━━━━━━━━━━━━━━━━\u001b[0m \u001b[32m98.2/98.2 kB\u001b[0m \u001b[31m13.3 MB/s\u001b[0m eta \u001b[36m0:00:00\u001b[0m\n",
            "\u001b[2K     \u001b[90m━━━━━━━━━━━━━━━━━━━━━━━━━━━━━━━━━━━━━━\u001b[0m \u001b[32m136.2/136.2 kB\u001b[0m \u001b[31m18.7 MB/s\u001b[0m eta \u001b[36m0:00:00\u001b[0m\n",
            "\u001b[?25h"
          ]
        }
      ],
      "source": [
        "!git clone -q https://github.com/YaninaK/sales-forecast.git\n",
        "!pip install -r sales-forecast/requirements_Colab.txt -q "
      ]
    },
    {
      "cell_type": "code",
      "execution_count": 3,
      "metadata": {
        "colab": {
          "base_uri": "https://localhost:8080/"
        },
        "id": "oGpZTC0tP0QI",
        "outputId": "57f4e51e-c79a-409d-812e-d53a84516afe"
      },
      "outputs": [
        {
          "output_type": "stream",
          "name": "stdout",
          "text": [
            "/content/sales-forecast\n"
          ]
        }
      ],
      "source": [
        "%cd sales-forecast"
      ]
    },
    {
      "cell_type": "code",
      "execution_count": 4,
      "metadata": {
        "id": "9JdDC3FUP1J7"
      },
      "outputs": [],
      "source": [
        "import sys\n",
        "import os\n",
        "\n",
        "sys.path.append(os.getcwd())\n",
        "sys.path.append(os.path.join(os.getcwd(), \"src\", \"sales_forecast\"))"
      ]
    },
    {
      "cell_type": "code",
      "execution_count": 5,
      "metadata": {
        "id": "9IzhaR8jP302"
      },
      "outputs": [],
      "source": [
        "import random\n",
        "import pandas as pd\n",
        "import numpy as np\n",
        "import tensorflow as tf\n",
        "import joblib\n",
        "\n",
        "from data.make_dataset import load_data\n",
        "from src.sales_forecast.models import train\n",
        "\n",
        "from data.johnson_su_transformation import JohnsonSU\n",
        "from data.train_test_datasets import get_train_dataset, get_test_dataset\n",
        "from models.model_LSTM import get_model_LSTM\n",
        "from scripts.train_save_model import train_store"
      ]
    },
    {
      "cell_type": "code",
      "execution_count": 6,
      "metadata": {
        "id": "1htDECSWLpcT"
      },
      "outputs": [],
      "source": [
        "import warnings\n",
        "warnings.filterwarnings('ignore')"
      ]
    },
    {
      "cell_type": "code",
      "execution_count": 7,
      "metadata": {
        "id": "llog_mfTQIGB"
      },
      "outputs": [],
      "source": [
        "PATH = '/content/drive/MyDrive/ML_projects/01_Time_series/sales_forecast/'\n",
        "DEFAULT_RANDOM_SEED = 3"
      ]
    },
    {
      "cell_type": "code",
      "execution_count": 8,
      "metadata": {
        "id": "Q9iGOsyiQLA8"
      },
      "outputs": [],
      "source": [
        "def set_all_seeds(seed=DEFAULT_RANDOM_SEED):\n",
        "  random.seed(seed)\n",
        "  os.environ['PYTHONHASHSEED'] = str(seed)\n",
        "  np.random.seed(seed)\n",
        "  tf.random.set_seed(seed)\n",
        "  \n",
        "set_all_seeds()"
      ]
    },
    {
      "cell_type": "markdown",
      "metadata": {
        "id": "6FplTdRyQ4kR"
      },
      "source": [
        "## 1. Data ingestion"
      ]
    },
    {
      "cell_type": "code",
      "execution_count": 9,
      "metadata": {
        "colab": {
          "base_uri": "https://localhost:8080/",
          "height": 147
        },
        "id": "q20ClbC4Kzr7",
        "outputId": "8cbd3677-2e13-43a8-bc52-fb8dbddf6575"
      },
      "outputs": [
        {
          "output_type": "stream",
          "name": "stdout",
          "text": [
            "data.shape = (8230, 3)\n",
            "\n"
          ]
        },
        {
          "output_type": "execute_result",
          "data": {
            "text/plain": [
              "   id          dt  target\n",
              "0   0  2016-01-02   747.8\n",
              "1   0  2016-01-03   681.2"
            ],
            "text/html": [
              "\n",
              "  <div id=\"df-172ae5c7-42d7-4a23-aaed-96c980830200\">\n",
              "    <div class=\"colab-df-container\">\n",
              "      <div>\n",
              "<style scoped>\n",
              "    .dataframe tbody tr th:only-of-type {\n",
              "        vertical-align: middle;\n",
              "    }\n",
              "\n",
              "    .dataframe tbody tr th {\n",
              "        vertical-align: top;\n",
              "    }\n",
              "\n",
              "    .dataframe thead th {\n",
              "        text-align: right;\n",
              "    }\n",
              "</style>\n",
              "<table border=\"1\" class=\"dataframe\">\n",
              "  <thead>\n",
              "    <tr style=\"text-align: right;\">\n",
              "      <th></th>\n",
              "      <th>id</th>\n",
              "      <th>dt</th>\n",
              "      <th>target</th>\n",
              "    </tr>\n",
              "  </thead>\n",
              "  <tbody>\n",
              "    <tr>\n",
              "      <th>0</th>\n",
              "      <td>0</td>\n",
              "      <td>2016-01-02</td>\n",
              "      <td>747.8</td>\n",
              "    </tr>\n",
              "    <tr>\n",
              "      <th>1</th>\n",
              "      <td>0</td>\n",
              "      <td>2016-01-03</td>\n",
              "      <td>681.2</td>\n",
              "    </tr>\n",
              "  </tbody>\n",
              "</table>\n",
              "</div>\n",
              "      <button class=\"colab-df-convert\" onclick=\"convertToInteractive('df-172ae5c7-42d7-4a23-aaed-96c980830200')\"\n",
              "              title=\"Convert this dataframe to an interactive table.\"\n",
              "              style=\"display:none;\">\n",
              "        \n",
              "  <svg xmlns=\"http://www.w3.org/2000/svg\" height=\"24px\"viewBox=\"0 0 24 24\"\n",
              "       width=\"24px\">\n",
              "    <path d=\"M0 0h24v24H0V0z\" fill=\"none\"/>\n",
              "    <path d=\"M18.56 5.44l.94 2.06.94-2.06 2.06-.94-2.06-.94-.94-2.06-.94 2.06-2.06.94zm-11 1L8.5 8.5l.94-2.06 2.06-.94-2.06-.94L8.5 2.5l-.94 2.06-2.06.94zm10 10l.94 2.06.94-2.06 2.06-.94-2.06-.94-.94-2.06-.94 2.06-2.06.94z\"/><path d=\"M17.41 7.96l-1.37-1.37c-.4-.4-.92-.59-1.43-.59-.52 0-1.04.2-1.43.59L10.3 9.45l-7.72 7.72c-.78.78-.78 2.05 0 2.83L4 21.41c.39.39.9.59 1.41.59.51 0 1.02-.2 1.41-.59l7.78-7.78 2.81-2.81c.8-.78.8-2.07 0-2.86zM5.41 20L4 18.59l7.72-7.72 1.47 1.35L5.41 20z\"/>\n",
              "  </svg>\n",
              "      </button>\n",
              "      \n",
              "  <style>\n",
              "    .colab-df-container {\n",
              "      display:flex;\n",
              "      flex-wrap:wrap;\n",
              "      gap: 12px;\n",
              "    }\n",
              "\n",
              "    .colab-df-convert {\n",
              "      background-color: #E8F0FE;\n",
              "      border: none;\n",
              "      border-radius: 50%;\n",
              "      cursor: pointer;\n",
              "      display: none;\n",
              "      fill: #1967D2;\n",
              "      height: 32px;\n",
              "      padding: 0 0 0 0;\n",
              "      width: 32px;\n",
              "    }\n",
              "\n",
              "    .colab-df-convert:hover {\n",
              "      background-color: #E2EBFA;\n",
              "      box-shadow: 0px 1px 2px rgba(60, 64, 67, 0.3), 0px 1px 3px 1px rgba(60, 64, 67, 0.15);\n",
              "      fill: #174EA6;\n",
              "    }\n",
              "\n",
              "    [theme=dark] .colab-df-convert {\n",
              "      background-color: #3B4455;\n",
              "      fill: #D2E3FC;\n",
              "    }\n",
              "\n",
              "    [theme=dark] .colab-df-convert:hover {\n",
              "      background-color: #434B5C;\n",
              "      box-shadow: 0px 1px 3px 1px rgba(0, 0, 0, 0.15);\n",
              "      filter: drop-shadow(0px 1px 2px rgba(0, 0, 0, 0.3));\n",
              "      fill: #FFFFFF;\n",
              "    }\n",
              "  </style>\n",
              "\n",
              "      <script>\n",
              "        const buttonEl =\n",
              "          document.querySelector('#df-172ae5c7-42d7-4a23-aaed-96c980830200 button.colab-df-convert');\n",
              "        buttonEl.style.display =\n",
              "          google.colab.kernel.accessAllowed ? 'block' : 'none';\n",
              "\n",
              "        async function convertToInteractive(key) {\n",
              "          const element = document.querySelector('#df-172ae5c7-42d7-4a23-aaed-96c980830200');\n",
              "          const dataTable =\n",
              "            await google.colab.kernel.invokeFunction('convertToInteractive',\n",
              "                                                     [key], {});\n",
              "          if (!dataTable) return;\n",
              "\n",
              "          const docLinkHtml = 'Like what you see? Visit the ' +\n",
              "            '<a target=\"_blank\" href=https://colab.research.google.com/notebooks/data_table.ipynb>data table notebook</a>'\n",
              "            + ' to learn more about interactive tables.';\n",
              "          element.innerHTML = '';\n",
              "          dataTable['output_type'] = 'display_data';\n",
              "          await google.colab.output.renderOutput(dataTable, element);\n",
              "          const docLink = document.createElement('div');\n",
              "          docLink.innerHTML = docLinkHtml;\n",
              "          element.appendChild(docLink);\n",
              "        }\n",
              "      </script>\n",
              "    </div>\n",
              "  </div>\n",
              "  "
            ]
          },
          "metadata": {},
          "execution_count": 9
        }
      ],
      "source": [
        "data = load_data(PATH)\n",
        "\n",
        "print(f'data.shape = {data.shape}\\n')\n",
        "data.head(2)"
      ]
    },
    {
      "cell_type": "markdown",
      "metadata": {
        "id": "BWN9VH40WEMK"
      },
      "source": [
        "## 2. Data preprocessing pipeline"
      ]
    },
    {
      "cell_type": "code",
      "execution_count": 10,
      "metadata": {
        "colab": {
          "base_uri": "https://localhost:8080/"
        },
        "id": "uRbHm4snLIYS",
        "outputId": "2bfb253e-c6c7-4673-b2f7-fb75e88ef654"
      },
      "outputs": [
        {
          "output_type": "stream",
          "name": "stdout",
          "text": [
            "Number of outliers = 8\n"
          ]
        },
        {
          "output_type": "execute_result",
          "data": {
            "text/plain": [
              "(153, 20, 48)"
            ]
          },
          "metadata": {},
          "execution_count": 10
        }
      ],
      "source": [
        "regenerate = True\n",
        "if regenerate:\n",
        "  X = train.data_preprocessing_pipeline(data)\n",
        "else:\n",
        "  X = np.load('data/04_feature/train_dataset.npy')\n",
        "\n",
        "X.shape"
      ]
    },
    {
      "cell_type": "markdown",
      "metadata": {
        "id": "a5yhOwIBedyY"
      },
      "source": [
        "## 3. Model LSTM"
      ]
    },
    {
      "cell_type": "markdown",
      "metadata": {
        "id": "jXi5ehMcei7i"
      },
      "source": [
        "### 3.1 Model architecture"
      ]
    },
    {
      "cell_type": "code",
      "execution_count": 11,
      "metadata": {
        "colab": {
          "base_uri": "https://localhost:8080/"
        },
        "id": "bx3QHckueeZe",
        "outputId": "4f051bb7-bcf3-4ab3-ac89-4b6ebff4fe8b"
      },
      "outputs": [
        {
          "output_type": "stream",
          "name": "stdout",
          "text": [
            "Model: \"model\"\n",
            "__________________________________________________________________________________________________\n",
            " Layer (type)                   Output Shape         Param #     Connected to                     \n",
            "==================================================================================================\n",
            " input_1 (InputLayer)           [(None, 54, 48)]     0           []                               \n",
            "                                                                                                  \n",
            " lstm (LSTM)                    [(None, 54, 150),    119400      ['input_1[0][0]']                \n",
            "                                 (None, 150),                                                     \n",
            "                                 (None, 150)]                                                     \n",
            "                                                                                                  \n",
            " lstm_1 (LSTM)                  [(None, 150),        180600      ['lstm[0][0]']                   \n",
            "                                 (None, 150),                                                     \n",
            "                                 (None, 150)]                                                     \n",
            "                                                                                                  \n",
            " repeat_vector (RepeatVector)   (None, 27, 150)      0           ['lstm_1[0][0]']                 \n",
            "                                                                                                  \n",
            " lstm_2 (LSTM)                  (None, 27, 150)      180600      ['repeat_vector[0][0]',          \n",
            "                                                                  'lstm[0][1]',                   \n",
            "                                                                  'lstm[0][2]']                   \n",
            "                                                                                                  \n",
            " lstm_3 (LSTM)                  (None, 27, 150)      180600      ['lstm_2[0][0]',                 \n",
            "                                                                  'lstm_1[0][1]',                 \n",
            "                                                                  'lstm_1[0][2]']                 \n",
            "                                                                                                  \n",
            " time_distributed (TimeDistribu  (None, 27, 48)      7248        ['lstm_3[0][0]']                 \n",
            " ted)                                                                                             \n",
            "                                                                                                  \n",
            "==================================================================================================\n",
            "Total params: 668,448\n",
            "Trainable params: 668,448\n",
            "Non-trainable params: 0\n",
            "__________________________________________________________________________________________________\n"
          ]
        }
      ],
      "source": [
        "n_features = X.shape[2]\n",
        "model = get_model_LSTM(n_features)\n",
        "model.summary()"
      ]
    },
    {
      "cell_type": "markdown",
      "metadata": {
        "id": "eqH3rDIHig3N"
      },
      "source": [
        "### 3.2 Training of the model"
      ]
    },
    {
      "cell_type": "code",
      "source": [
        "X_train, y_train = get_train_dataset(X)\n",
        "X_train.shape, y_train.shape"
      ],
      "metadata": {
        "colab": {
          "base_uri": "https://localhost:8080/"
        },
        "id": "a6RWONYgWN9q",
        "outputId": "c88a2406-6dda-41c7-bf9b-8a85e30bb147"
      },
      "execution_count": 12,
      "outputs": [
        {
          "output_type": "execute_result",
          "data": {
            "text/plain": [
              "((900, 54, 48), (900, 27, 48))"
            ]
          },
          "metadata": {},
          "execution_count": 12
        }
      ]
    },
    {
      "cell_type": "code",
      "execution_count": 13,
      "metadata": {
        "colab": {
          "base_uri": "https://localhost:8080/"
        },
        "id": "xHc3LM9eKEUW",
        "outputId": "73da7fb0-ce71-41b5-b0a4-aa092f4517d5"
      },
      "outputs": [
        {
          "output_type": "stream",
          "name": "stdout",
          "text": [
            "Epoch 1/60\n",
            "11/11 [==============================] - 14s 199ms/step - loss: 0.4418 - val_loss: 0.3931 - lr: 0.0300\n",
            "Epoch 2/60\n",
            "11/11 [==============================] - 0s 25ms/step - loss: 0.3663 - val_loss: 0.3903 - lr: 0.0285\n",
            "Epoch 3/60\n",
            "11/11 [==============================] - 0s 21ms/step - loss: 0.3622 - val_loss: 0.3869 - lr: 0.0271\n",
            "Epoch 4/60\n",
            "11/11 [==============================] - 0s 23ms/step - loss: 0.3532 - val_loss: 0.3752 - lr: 0.0257\n",
            "Epoch 5/60\n",
            "11/11 [==============================] - 0s 21ms/step - loss: 0.3371 - val_loss: 0.3617 - lr: 0.0244\n",
            "Epoch 6/60\n",
            "11/11 [==============================] - 0s 21ms/step - loss: 0.3293 - val_loss: 0.3788 - lr: 0.0232\n",
            "Epoch 7/60\n",
            "11/11 [==============================] - 0s 21ms/step - loss: 0.3319 - val_loss: 0.3575 - lr: 0.0221\n",
            "Epoch 8/60\n",
            "11/11 [==============================] - 0s 22ms/step - loss: 0.3066 - val_loss: 0.3112 - lr: 0.0210\n",
            "Epoch 9/60\n",
            "11/11 [==============================] - 0s 22ms/step - loss: 0.2921 - val_loss: 0.3265 - lr: 0.0199\n",
            "Epoch 10/60\n",
            "11/11 [==============================] - 0s 21ms/step - loss: 0.2912 - val_loss: 0.2957 - lr: 0.0189\n",
            "Epoch 11/60\n",
            "11/11 [==============================] - 0s 20ms/step - loss: 0.2761 - val_loss: 0.2913 - lr: 0.0180\n",
            "Epoch 12/60\n",
            "11/11 [==============================] - 0s 16ms/step - loss: 0.2661 - val_loss: 0.2972 - lr: 0.0171\n",
            "Epoch 13/60\n",
            "11/11 [==============================] - 0s 16ms/step - loss: 0.2642 - val_loss: 0.2852 - lr: 0.0162\n",
            "Epoch 14/60\n",
            "11/11 [==============================] - 0s 16ms/step - loss: 0.2577 - val_loss: 0.2842 - lr: 0.0154\n",
            "Epoch 15/60\n",
            "11/11 [==============================] - 0s 16ms/step - loss: 0.2528 - val_loss: 0.2772 - lr: 0.0146\n",
            "Epoch 16/60\n",
            "11/11 [==============================] - 0s 16ms/step - loss: 0.2492 - val_loss: 0.2747 - lr: 0.0139\n",
            "Epoch 17/60\n",
            "11/11 [==============================] - 0s 17ms/step - loss: 0.2471 - val_loss: 0.2714 - lr: 0.0132\n",
            "Epoch 18/60\n",
            "11/11 [==============================] - 0s 16ms/step - loss: 0.2457 - val_loss: 0.2740 - lr: 0.0125\n",
            "Epoch 19/60\n",
            "11/11 [==============================] - 0s 17ms/step - loss: 0.2444 - val_loss: 0.2679 - lr: 0.0119\n",
            "Epoch 20/60\n",
            "11/11 [==============================] - 0s 18ms/step - loss: 0.2433 - val_loss: 0.2687 - lr: 0.0113\n",
            "Epoch 21/60\n",
            "11/11 [==============================] - 0s 16ms/step - loss: 0.2413 - val_loss: 0.2660 - lr: 0.0108\n",
            "Epoch 22/60\n",
            "11/11 [==============================] - 0s 17ms/step - loss: 0.2399 - val_loss: 0.2642 - lr: 0.0102\n",
            "Epoch 23/60\n",
            "11/11 [==============================] - 0s 16ms/step - loss: 0.2391 - val_loss: 0.2636 - lr: 0.0097\n",
            "Epoch 24/60\n",
            "11/11 [==============================] - 0s 16ms/step - loss: 0.2377 - val_loss: 0.2615 - lr: 0.0092\n",
            "Epoch 25/60\n",
            "11/11 [==============================] - 0s 18ms/step - loss: 0.2368 - val_loss: 0.2588 - lr: 0.0088\n",
            "Epoch 26/60\n",
            "11/11 [==============================] - 0s 16ms/step - loss: 0.2356 - val_loss: 0.2586 - lr: 0.0083\n",
            "Epoch 27/60\n",
            "11/11 [==============================] - 0s 16ms/step - loss: 0.2340 - val_loss: 0.2547 - lr: 0.0079\n",
            "Epoch 28/60\n",
            "11/11 [==============================] - 0s 17ms/step - loss: 0.2325 - val_loss: 0.2538 - lr: 0.0075\n",
            "Epoch 29/60\n",
            "11/11 [==============================] - 0s 18ms/step - loss: 0.2313 - val_loss: 0.2540 - lr: 0.0071\n",
            "Epoch 30/60\n",
            "11/11 [==============================] - 0s 16ms/step - loss: 0.2301 - val_loss: 0.2489 - lr: 0.0068\n",
            "Epoch 31/60\n",
            "11/11 [==============================] - 0s 18ms/step - loss: 0.2280 - val_loss: 0.2458 - lr: 0.0064\n",
            "Epoch 32/60\n",
            "11/11 [==============================] - 0s 16ms/step - loss: 0.2263 - val_loss: 0.2472 - lr: 0.0061\n",
            "Epoch 33/60\n",
            "11/11 [==============================] - 0s 17ms/step - loss: 0.2249 - val_loss: 0.2443 - lr: 0.0058\n",
            "Epoch 34/60\n",
            "11/11 [==============================] - 0s 16ms/step - loss: 0.2226 - val_loss: 0.2401 - lr: 0.0055\n",
            "Epoch 35/60\n",
            "11/11 [==============================] - 0s 16ms/step - loss: 0.2199 - val_loss: 0.2371 - lr: 0.0052\n",
            "Epoch 36/60\n",
            "11/11 [==============================] - 0s 16ms/step - loss: 0.2180 - val_loss: 0.2367 - lr: 0.0050\n",
            "Epoch 37/60\n",
            "11/11 [==============================] - 0s 16ms/step - loss: 0.2162 - val_loss: 0.2334 - lr: 0.0047\n",
            "Epoch 38/60\n",
            "11/11 [==============================] - 0s 16ms/step - loss: 0.2150 - val_loss: 0.2323 - lr: 0.0045\n",
            "Epoch 39/60\n",
            "11/11 [==============================] - 0s 17ms/step - loss: 0.2136 - val_loss: 0.2301 - lr: 0.0043\n",
            "Epoch 40/60\n",
            "11/11 [==============================] - 0s 18ms/step - loss: 0.2125 - val_loss: 0.2282 - lr: 0.0041\n",
            "Epoch 41/60\n",
            "11/11 [==============================] - 0s 16ms/step - loss: 0.2115 - val_loss: 0.2275 - lr: 0.0039\n",
            "Epoch 42/60\n",
            "11/11 [==============================] - 0s 17ms/step - loss: 0.2102 - val_loss: 0.2254 - lr: 0.0037\n",
            "Epoch 43/60\n",
            "11/11 [==============================] - 0s 17ms/step - loss: 0.2094 - val_loss: 0.2263 - lr: 0.0035\n",
            "Epoch 44/60\n",
            "11/11 [==============================] - 0s 18ms/step - loss: 0.2085 - val_loss: 0.2242 - lr: 0.0033\n",
            "Epoch 45/60\n",
            "11/11 [==============================] - 0s 17ms/step - loss: 0.2077 - val_loss: 0.2232 - lr: 0.0031\n",
            "Epoch 46/60\n",
            "11/11 [==============================] - 0s 17ms/step - loss: 0.2069 - val_loss: 0.2239 - lr: 0.0030\n",
            "Epoch 47/60\n",
            "11/11 [==============================] - 0s 17ms/step - loss: 0.2059 - val_loss: 0.2222 - lr: 0.0028\n",
            "Epoch 48/60\n",
            "11/11 [==============================] - 0s 16ms/step - loss: 0.2052 - val_loss: 0.2211 - lr: 0.0027\n",
            "Epoch 49/60\n",
            "11/11 [==============================] - 0s 16ms/step - loss: 0.2045 - val_loss: 0.2207 - lr: 0.0026\n",
            "Epoch 50/60\n",
            "11/11 [==============================] - 0s 17ms/step - loss: 0.2039 - val_loss: 0.2193 - lr: 0.0024\n",
            "Epoch 51/60\n",
            "11/11 [==============================] - 0s 17ms/step - loss: 0.2034 - val_loss: 0.2192 - lr: 0.0023\n",
            "Epoch 52/60\n",
            "11/11 [==============================] - 0s 16ms/step - loss: 0.2028 - val_loss: 0.2188 - lr: 0.0022\n",
            "Epoch 53/60\n",
            "11/11 [==============================] - 0s 18ms/step - loss: 0.2022 - val_loss: 0.2191 - lr: 0.0021\n",
            "Epoch 54/60\n",
            "11/11 [==============================] - 0s 17ms/step - loss: 0.2018 - val_loss: 0.2175 - lr: 0.0020\n",
            "Epoch 55/60\n",
            "11/11 [==============================] - 0s 17ms/step - loss: 0.2012 - val_loss: 0.2170 - lr: 0.0019\n",
            "Epoch 56/60\n",
            "11/11 [==============================] - 0s 16ms/step - loss: 0.2007 - val_loss: 0.2177 - lr: 0.0018\n",
            "Epoch 57/60\n",
            "11/11 [==============================] - 0s 17ms/step - loss: 0.2002 - val_loss: 0.2173 - lr: 0.0017\n",
            "Epoch 58/60\n",
            "11/11 [==============================] - 0s 16ms/step - loss: 0.1996 - val_loss: 0.2162 - lr: 0.0016\n",
            "Epoch 59/60\n",
            "11/11 [==============================] - 0s 18ms/step - loss: 0.1992 - val_loss: 0.2171 - lr: 0.0015\n",
            "Epoch 60/60\n",
            "11/11 [==============================] - 0s 16ms/step - loss: 0.1985 - val_loss: 0.2155 - lr: 0.0015\n"
          ]
        }
      ],
      "source": [
        "from tensorflow.python.ops.math_ops import truncate_mod_eager_fallback\n",
        "n_shops = 20\n",
        "n_epochs = 60\n",
        "batch_size = n_shops * 4\n",
        "m = n_shops * 4\n",
        "\n",
        "reduce_lr = tf.keras.callbacks.LearningRateScheduler(\n",
        "    lambda epoch: 3e-2 * 0.95 ** epoch\n",
        ")\n",
        "model.compile(\n",
        "    optimizer=tf.keras.optimizers.Adam(), \n",
        "    loss=tf.keras.losses.Huber()\n",
        ")\n",
        "history = model.fit(\n",
        "    X_train[:-m, :, :], y_train[:-m, :, :], \n",
        "    epochs=n_epochs,\n",
        "    validation_data=(X_train[-m:, :, :], y_train[-m:, :, :]),\n",
        "    batch_size=batch_size, \n",
        "    verbose=1,\n",
        "    callbacks=[reduce_lr],\n",
        "    shuffle=True,\n",
        "    workers=-1,\n",
        "    use_multiprocessing=True\n",
        ")"
      ]
    },
    {
      "cell_type": "markdown",
      "metadata": {
        "id": "-T-FivMrYoH5"
      },
      "source": [
        "### 3.3 Inference"
      ]
    },
    {
      "cell_type": "code",
      "execution_count": 14,
      "metadata": {
        "id": "uyn5BLhgYHO3"
      },
      "outputs": [],
      "source": [
        "X_test, y_test = get_test_dataset(X)"
      ]
    },
    {
      "cell_type": "code",
      "execution_count": 15,
      "metadata": {
        "colab": {
          "base_uri": "https://localhost:8080/"
        },
        "id": "dgZcymnwX7hH",
        "outputId": "678f61e0-ac17-4757-f6e7-3a4ac891375d"
      },
      "outputs": [
        {
          "output_type": "stream",
          "name": "stdout",
          "text": [
            "1/1 [==============================] - 2s 2s/step\n"
          ]
        },
        {
          "output_type": "execute_result",
          "data": {
            "text/plain": [
              "(20, 27, 48)"
            ]
          },
          "metadata": {},
          "execution_count": 15
        }
      ],
      "source": [
        "pred = model.predict(X_test)\n",
        "pred.shape"
      ]
    },
    {
      "cell_type": "markdown",
      "metadata": {
        "id": "LphmAbjGZkA3"
      },
      "source": [
        "### 3.4 Model evaluation"
      ]
    },
    {
      "cell_type": "markdown",
      "metadata": {
        "id": "nkFU4RxZZk8-"
      },
      "source": [
        "#### Mean absolute scaled error (MASE) \n",
        "https://en.wikipedia.org/wiki/Mean_absolute_scaled_error"
      ]
    },
    {
      "cell_type": "markdown",
      "metadata": {
        "id": "nM1Cj-_XZpsO"
      },
      "source": [
        "The denominator of mean absolute scaled error is the mean absolute error of the one-step \"seasonal naive forecast method\" on the training set, which uses the actual value from the prior 30 days as the forecast: \n",
        "* F(t) = Y(t−30)\n",
        "\n",
        "MASE is scale-free error metric. So, it can be applied to scaled data without extra iteration of inverse scaling."
      ]
    },
    {
      "cell_type": "code",
      "execution_count": 16,
      "metadata": {
        "colab": {
          "base_uri": "https://localhost:8080/"
        },
        "id": "jSPdjqEztRix",
        "outputId": "c79e78d4-f201-42c9-a96e-ca7487822fa1"
      },
      "outputs": [
        {
          "output_type": "execute_result",
          "data": {
            "text/plain": [
              "((20, 27, 48), (20, 27, 48))"
            ]
          },
          "metadata": {},
          "execution_count": 16
        }
      ],
      "source": [
        "pred.shape, y_test.shape"
      ]
    },
    {
      "cell_type": "code",
      "execution_count": 17,
      "metadata": {
        "colab": {
          "base_uri": "https://localhost:8080/"
        },
        "id": "H7m2mh1I8rm6",
        "outputId": "e6e9df1f-7821-4ecd-9bfe-fc5498a9e450"
      },
      "outputs": [
        {
          "output_type": "stream",
          "name": "stdout",
          "text": [
            "Mean absolute scaled error = 0.8591\n"
          ]
        }
      ],
      "source": [
        "forecast_error = abs(pred[:, :, 0] - y_test[:, :, 0]).mean()\n",
        "mase = forecast_error / abs(y_test[:, :, 6]).mean()\n",
        "\n",
        "print(f'Mean absolute scaled error = {round(mase.mean(), 4)}')"
      ]
    },
    {
      "cell_type": "markdown",
      "metadata": {
        "id": "sYbpp1abZzxQ"
      },
      "source": [
        "__Findings:__\n",
        "\n",
        "* Out of 72 samples available for training (153 less input and output sequence length) 4 were used for validation of the model and 27 for testing. So, we had only 41 samples for training of the model and it is definately not sufficient.\n",
        "\n",
        "* To get more accurate predictions, we need to retrain the model on the full set of data. It should improve the final results."
      ]
    },
    {
      "cell_type": "markdown",
      "metadata": {
        "id": "vmXsJCA5Z0t9"
      },
      "source": [
        "## 4. Final prediction"
      ]
    },
    {
      "cell_type": "markdown",
      "metadata": {
        "id": "wpg_5giedIV5"
      },
      "source": [
        "### 4.1. Dataset"
      ]
    },
    {
      "cell_type": "code",
      "execution_count": 18,
      "metadata": {
        "colab": {
          "base_uri": "https://localhost:8080/"
        },
        "id": "cN70_li0aLy2",
        "outputId": "cf1a215b-7a96-4701-f723-6381107379a9"
      },
      "outputs": [
        {
          "output_type": "execute_result",
          "data": {
            "text/plain": [
              "((1440, 54, 48), (1440, 27, 48), (20, 54, 48))"
            ]
          },
          "metadata": {},
          "execution_count": 18
        }
      ],
      "source": [
        "X_train, y_train = get_train_dataset(X, final=True)\n",
        "X_test = get_test_dataset(X, final=True)\n",
        "\n",
        "X_train.shape, y_train.shape, X_test.shape"
      ]
    },
    {
      "cell_type": "markdown",
      "metadata": {
        "id": "MC_L5BwPdCb-"
      },
      "source": [
        "### 4.2. Retraining the model on full dataset"
      ]
    },
    {
      "cell_type": "code",
      "execution_count": 19,
      "metadata": {
        "colab": {
          "base_uri": "https://localhost:8080/"
        },
        "id": "jYh4p4YQaffn",
        "outputId": "72c55ffe-9a67-4daf-8f6f-5f1ae2b1fd04"
      },
      "outputs": [
        {
          "output_type": "stream",
          "name": "stdout",
          "text": [
            "Epoch 1/70\n",
            "17/17 [==============================] - 8s 103ms/step - loss: 0.3826 - val_loss: 0.3389 - lr: 0.0300\n",
            "Epoch 2/70\n",
            "17/17 [==============================] - 0s 17ms/step - loss: 0.3364 - val_loss: 0.3344 - lr: 0.0285\n",
            "Epoch 3/70\n",
            "17/17 [==============================] - 0s 15ms/step - loss: 0.3321 - val_loss: 0.3288 - lr: 0.0271\n",
            "Epoch 4/70\n",
            "17/17 [==============================] - 0s 15ms/step - loss: 0.3230 - val_loss: 0.3226 - lr: 0.0257\n",
            "Epoch 5/70\n",
            "17/17 [==============================] - 0s 16ms/step - loss: 0.3132 - val_loss: 0.3180 - lr: 0.0244\n",
            "Epoch 6/70\n",
            "17/17 [==============================] - 0s 15ms/step - loss: 0.3057 - val_loss: 0.3144 - lr: 0.0232\n",
            "Epoch 7/70\n",
            "17/17 [==============================] - 0s 15ms/step - loss: 0.2973 - val_loss: 0.3098 - lr: 0.0221\n",
            "Epoch 8/70\n",
            "17/17 [==============================] - 0s 15ms/step - loss: 0.2922 - val_loss: 0.3130 - lr: 0.0210\n",
            "Epoch 9/70\n",
            "17/17 [==============================] - 0s 15ms/step - loss: 0.2803 - val_loss: 0.2736 - lr: 0.0199\n",
            "Epoch 10/70\n",
            "17/17 [==============================] - 0s 15ms/step - loss: 0.2687 - val_loss: 0.2703 - lr: 0.0189\n",
            "Epoch 11/70\n",
            "17/17 [==============================] - 0s 15ms/step - loss: 0.2550 - val_loss: 0.2653 - lr: 0.0180\n",
            "Epoch 12/70\n",
            "17/17 [==============================] - 0s 15ms/step - loss: 0.2490 - val_loss: 0.2591 - lr: 0.0171\n",
            "Epoch 13/70\n",
            "17/17 [==============================] - 0s 15ms/step - loss: 0.2430 - val_loss: 0.2619 - lr: 0.0162\n",
            "Epoch 14/70\n",
            "17/17 [==============================] - 0s 17ms/step - loss: 0.2378 - val_loss: 0.2495 - lr: 0.0154\n",
            "Epoch 15/70\n",
            "17/17 [==============================] - 0s 19ms/step - loss: 0.2333 - val_loss: 0.2434 - lr: 0.0146\n",
            "Epoch 16/70\n",
            "17/17 [==============================] - 0s 19ms/step - loss: 0.2275 - val_loss: 0.2401 - lr: 0.0139\n",
            "Epoch 17/70\n",
            "17/17 [==============================] - 0s 20ms/step - loss: 0.2240 - val_loss: 0.2331 - lr: 0.0132\n",
            "Epoch 18/70\n",
            "17/17 [==============================] - 0s 19ms/step - loss: 0.2200 - val_loss: 0.2350 - lr: 0.0125\n",
            "Epoch 19/70\n",
            "17/17 [==============================] - 0s 19ms/step - loss: 0.2161 - val_loss: 0.2298 - lr: 0.0119\n",
            "Epoch 20/70\n",
            "17/17 [==============================] - 0s 19ms/step - loss: 0.2126 - val_loss: 0.2250 - lr: 0.0113\n",
            "Epoch 21/70\n",
            "17/17 [==============================] - 0s 19ms/step - loss: 0.2090 - val_loss: 0.2276 - lr: 0.0108\n",
            "Epoch 22/70\n",
            "17/17 [==============================] - 0s 18ms/step - loss: 0.2058 - val_loss: 0.2227 - lr: 0.0102\n",
            "Epoch 23/70\n",
            "17/17 [==============================] - 0s 20ms/step - loss: 0.2017 - val_loss: 0.2245 - lr: 0.0097\n",
            "Epoch 24/70\n",
            "17/17 [==============================] - 0s 19ms/step - loss: 0.1983 - val_loss: 0.2174 - lr: 0.0092\n",
            "Epoch 25/70\n",
            "17/17 [==============================] - 0s 19ms/step - loss: 0.1947 - val_loss: 0.2135 - lr: 0.0088\n",
            "Epoch 26/70\n",
            "17/17 [==============================] - 0s 16ms/step - loss: 0.1906 - val_loss: 0.2126 - lr: 0.0083\n",
            "Epoch 27/70\n",
            "17/17 [==============================] - 0s 15ms/step - loss: 0.1881 - val_loss: 0.2108 - lr: 0.0079\n",
            "Epoch 28/70\n",
            "17/17 [==============================] - 0s 15ms/step - loss: 0.1846 - val_loss: 0.2090 - lr: 0.0075\n",
            "Epoch 29/70\n",
            "17/17 [==============================] - 0s 15ms/step - loss: 0.1812 - val_loss: 0.2016 - lr: 0.0071\n",
            "Epoch 30/70\n",
            "17/17 [==============================] - 0s 16ms/step - loss: 0.1783 - val_loss: 0.2056 - lr: 0.0068\n",
            "Epoch 31/70\n",
            "17/17 [==============================] - 0s 15ms/step - loss: 0.1759 - val_loss: 0.2000 - lr: 0.0064\n",
            "Epoch 32/70\n",
            "17/17 [==============================] - 0s 15ms/step - loss: 0.1736 - val_loss: 0.2018 - lr: 0.0061\n",
            "Epoch 33/70\n",
            "17/17 [==============================] - 0s 15ms/step - loss: 0.1706 - val_loss: 0.1958 - lr: 0.0058\n",
            "Epoch 34/70\n",
            "17/17 [==============================] - 0s 16ms/step - loss: 0.1680 - val_loss: 0.1948 - lr: 0.0055\n",
            "Epoch 35/70\n",
            "17/17 [==============================] - 0s 15ms/step - loss: 0.1659 - val_loss: 0.1978 - lr: 0.0052\n",
            "Epoch 36/70\n",
            "17/17 [==============================] - 0s 16ms/step - loss: 0.1634 - val_loss: 0.1957 - lr: 0.0050\n",
            "Epoch 37/70\n",
            "17/17 [==============================] - 0s 15ms/step - loss: 0.1621 - val_loss: 0.1934 - lr: 0.0047\n",
            "Epoch 38/70\n",
            "17/17 [==============================] - 0s 15ms/step - loss: 0.1606 - val_loss: 0.1891 - lr: 0.0045\n",
            "Epoch 39/70\n",
            "17/17 [==============================] - 0s 16ms/step - loss: 0.1585 - val_loss: 0.1863 - lr: 0.0043\n",
            "Epoch 40/70\n",
            "17/17 [==============================] - 0s 15ms/step - loss: 0.1565 - val_loss: 0.1876 - lr: 0.0041\n",
            "Epoch 41/70\n",
            "17/17 [==============================] - 0s 15ms/step - loss: 0.1554 - val_loss: 0.1867 - lr: 0.0039\n",
            "Epoch 42/70\n",
            "17/17 [==============================] - 0s 15ms/step - loss: 0.1537 - val_loss: 0.1837 - lr: 0.0037\n",
            "Epoch 43/70\n",
            "17/17 [==============================] - 0s 15ms/step - loss: 0.1521 - val_loss: 0.1833 - lr: 0.0035\n",
            "Epoch 44/70\n",
            "17/17 [==============================] - 0s 16ms/step - loss: 0.1508 - val_loss: 0.1848 - lr: 0.0033\n",
            "Epoch 45/70\n",
            "17/17 [==============================] - 0s 15ms/step - loss: 0.1495 - val_loss: 0.1833 - lr: 0.0031\n",
            "Epoch 46/70\n",
            "17/17 [==============================] - 0s 15ms/step - loss: 0.1481 - val_loss: 0.1833 - lr: 0.0030\n",
            "Epoch 47/70\n",
            "17/17 [==============================] - 0s 15ms/step - loss: 0.1467 - val_loss: 0.1827 - lr: 0.0028\n",
            "Epoch 48/70\n",
            "17/17 [==============================] - 0s 15ms/step - loss: 0.1457 - val_loss: 0.1819 - lr: 0.0027\n",
            "Epoch 49/70\n",
            "17/17 [==============================] - 0s 15ms/step - loss: 0.1447 - val_loss: 0.1802 - lr: 0.0026\n",
            "Epoch 50/70\n",
            "17/17 [==============================] - 0s 16ms/step - loss: 0.1437 - val_loss: 0.1797 - lr: 0.0024\n",
            "Epoch 51/70\n",
            "17/17 [==============================] - 0s 15ms/step - loss: 0.1428 - val_loss: 0.1796 - lr: 0.0023\n",
            "Epoch 52/70\n",
            "17/17 [==============================] - 0s 15ms/step - loss: 0.1418 - val_loss: 0.1765 - lr: 0.0022\n",
            "Epoch 53/70\n",
            "17/17 [==============================] - 0s 16ms/step - loss: 0.1411 - val_loss: 0.1778 - lr: 0.0021\n",
            "Epoch 54/70\n",
            "17/17 [==============================] - 0s 16ms/step - loss: 0.1400 - val_loss: 0.1777 - lr: 0.0020\n",
            "Epoch 55/70\n",
            "17/17 [==============================] - 0s 16ms/step - loss: 0.1391 - val_loss: 0.1774 - lr: 0.0019\n",
            "Epoch 56/70\n",
            "17/17 [==============================] - 0s 16ms/step - loss: 0.1382 - val_loss: 0.1759 - lr: 0.0018\n",
            "Epoch 57/70\n",
            "17/17 [==============================] - 0s 15ms/step - loss: 0.1373 - val_loss: 0.1748 - lr: 0.0017\n",
            "Epoch 58/70\n",
            "17/17 [==============================] - 0s 15ms/step - loss: 0.1365 - val_loss: 0.1738 - lr: 0.0016\n",
            "Epoch 59/70\n",
            "17/17 [==============================] - 0s 15ms/step - loss: 0.1357 - val_loss: 0.1728 - lr: 0.0015\n",
            "Epoch 60/70\n",
            "17/17 [==============================] - 0s 15ms/step - loss: 0.1351 - val_loss: 0.1728 - lr: 0.0015\n",
            "Epoch 61/70\n",
            "17/17 [==============================] - 0s 15ms/step - loss: 0.1345 - val_loss: 0.1725 - lr: 0.0014\n",
            "Epoch 62/70\n",
            "17/17 [==============================] - 0s 16ms/step - loss: 0.1334 - val_loss: 0.1721 - lr: 0.0013\n",
            "Epoch 63/70\n",
            "17/17 [==============================] - 0s 16ms/step - loss: 0.1325 - val_loss: 0.1705 - lr: 0.0012\n",
            "Epoch 64/70\n",
            "17/17 [==============================] - 0s 19ms/step - loss: 0.1317 - val_loss: 0.1703 - lr: 0.0012\n",
            "Epoch 65/70\n",
            "17/17 [==============================] - 0s 18ms/step - loss: 0.1310 - val_loss: 0.1698 - lr: 0.0011\n",
            "Epoch 66/70\n",
            "17/17 [==============================] - 0s 18ms/step - loss: 0.1304 - val_loss: 0.1692 - lr: 0.0011\n",
            "Epoch 67/70\n",
            "17/17 [==============================] - 0s 17ms/step - loss: 0.1298 - val_loss: 0.1685 - lr: 0.0010\n",
            "Epoch 68/70\n",
            "17/17 [==============================] - 0s 19ms/step - loss: 0.1291 - val_loss: 0.1676 - lr: 9.6517e-04\n",
            "Epoch 69/70\n",
            "17/17 [==============================] - 0s 18ms/step - loss: 0.1286 - val_loss: 0.1683 - lr: 9.1691e-04\n",
            "Epoch 70/70\n",
            "17/17 [==============================] - 0s 18ms/step - loss: 0.1280 - val_loss: 0.1668 - lr: 8.7106e-04\n"
          ]
        }
      ],
      "source": [
        "n_shops = 20\n",
        "n_epochs = 70\n",
        "batch_size = n_shops * 4\n",
        "m = n_shops * 4\n",
        "\n",
        "model = get_model_LSTM(n_features=X_train.shape[2], n_units=150)\n",
        "\n",
        "reduce_lr = tf.keras.callbacks.LearningRateScheduler(\n",
        "    lambda epoch: 3e-2 * 0.95 ** epoch\n",
        ")\n",
        "model.compile(\n",
        "    optimizer=tf.keras.optimizers.Adam(), \n",
        "    loss=tf.keras.losses.Huber()\n",
        ")\n",
        "history = model.fit(\n",
        "    X_train[:-m, :, :], y_train[:-m, :, :], \n",
        "    epochs=n_epochs,\n",
        "    validation_data=(X_train[-m:, :, :], y_train[-m:, :, :]),\n",
        "    batch_size=batch_size, \n",
        "    verbose=1,\n",
        "    callbacks=[reduce_lr],\n",
        "    shuffle=True,\n",
        "    workers=-1,\n",
        "    use_multiprocessing=True,    \n",
        ")"
      ]
    },
    {
      "cell_type": "code",
      "execution_count": 20,
      "metadata": {
        "colab": {
          "base_uri": "https://localhost:8080/",
          "height": 472
        },
        "id": "ys70q4i4bOj8",
        "outputId": "694d165a-2f7b-402b-c53d-66dd3cd5297d"
      },
      "outputs": [
        {
          "output_type": "display_data",
          "data": {
            "text/plain": [
              "<Figure size 640x480 with 1 Axes>"
            ],
            "image/png": "[encoded data removed]"
          },
          "metadata": {}
        }
      ],
      "source": [
        "import matplotlib.pyplot as plt\n",
        "\n",
        "plt.plot(history.history['loss'])\n",
        "plt.plot(history.history['val_loss'])\n",
        "plt.title(\"Model Loss\")\n",
        "plt.xlabel('Epochs')\n",
        "plt.ylabel('Loss')\n",
        "plt.legend(['Train', 'Valid'])\n",
        "plt.show()"
      ]
    },
    {
      "cell_type": "markdown",
      "metadata": {
        "id": "_n6z3yuZc0Uj"
      },
      "source": [
        "### 4.3 Model evaluation on validation set"
      ]
    },
    {
      "cell_type": "code",
      "source": [
        "pred = model.predict(X_train[-m:, :, :])\n",
        "pred[:, :, 0].shape,"
      ],
      "metadata": {
        "colab": {
          "base_uri": "https://localhost:8080/"
        },
        "id": "w0SzRmu52i5b",
        "outputId": "53c8c848-5758-4d9e-d33a-11b94eff15b5"
      },
      "execution_count": 21,
      "outputs": [
        {
          "output_type": "stream",
          "name": "stdout",
          "text": [
            "3/3 [==============================] - 1s 10ms/step\n"
          ]
        },
        {
          "output_type": "execute_result",
          "data": {
            "text/plain": [
              "((80, 27),)"
            ]
          },
          "metadata": {},
          "execution_count": 21
        }
      ]
    },
    {
      "cell_type": "code",
      "source": [
        "forecast_error = abs(pred[:, :, 0] -  y_train[-m:, :, 0]).mean()\n",
        "mase = forecast_error / abs( y_train[-m:, :, 6]).mean()\n",
        "\n",
        "print(f'Mean absolute scaled error = {round(mase.mean(), 4)}')"
      ],
      "metadata": {
        "colab": {
          "base_uri": "https://localhost:8080/"
        },
        "id": "XFTzEJ8Plx_g",
        "outputId": "fb1f592d-45cf-4b8d-bfad-ff61dbb1b644"
      },
      "execution_count": 22,
      "outputs": [
        {
          "output_type": "stream",
          "name": "stdout",
          "text": [
            "Mean absolute scaled error = 0.4039\n"
          ]
        }
      ]
    },
    {
      "cell_type": "markdown",
      "metadata": {
        "id": "kZhWz7U2eEEt"
      },
      "source": [
        "### 4.4. Inference"
      ]
    },
    {
      "cell_type": "code",
      "execution_count": 23,
      "metadata": {
        "colab": {
          "base_uri": "https://localhost:8080/"
        },
        "id": "2tID_JZRd8Za",
        "outputId": "32eb80ab-1761-4b7a-f855-d6fd94cc82f8"
      },
      "outputs": [
        {
          "output_type": "stream",
          "name": "stdout",
          "text": [
            "1/1 [==============================] - 0s 24ms/step\n"
          ]
        }
      ],
      "source": [
        "pred_final = model.predict(X_test)"
      ]
    },
    {
      "cell_type": "markdown",
      "metadata": {
        "id": "pk8ade9Hcllm"
      },
      "source": [
        "### 4.5. Inverse transformation of predictions"
      ]
    },
    {
      "cell_type": "code",
      "execution_count": 24,
      "metadata": {
        "id": "Ys__JvK9csEI"
      },
      "outputs": [],
      "source": [
        "scaler = joblib.load('data/03_primary/scaler_js.joblib')"
      ]
    },
    {
      "cell_type": "code",
      "execution_count": 25,
      "metadata": {
        "colab": {
          "base_uri": "https://localhost:8080/"
        },
        "id": "y3vKlBKBcm-B",
        "outputId": "237b6ae9-79b7-496e-f52a-ecb5eec62eef"
      },
      "outputs": [
        {
          "output_type": "execute_result",
          "data": {
            "text/plain": [
              "(27, 20)"
            ]
          },
          "metadata": {},
          "execution_count": 25
        }
      ],
      "source": [
        "arr_pred = pred_final[:, :, 0]\n",
        "y_pred = pd.DataFrame(arr_pred).T\n",
        "y_pred_rescaled = scaler.inv_transform(y_pred)\n",
        "y_pred_rescaled.shape"
      ]
    },
    {
      "cell_type": "markdown",
      "metadata": {
        "id": "HJyYOGDhcfl9"
      },
      "source": [
        "### 4.6. Generation of the final result"
      ]
    },
    {
      "cell_type": "code",
      "execution_count": 26,
      "metadata": {
        "colab": {
          "base_uri": "https://localhost:8080/",
          "height": 147
        },
        "id": "siV8XdBscJpb",
        "outputId": "6a11f64d-c11c-44bf-adf3-82e35309231e"
      },
      "outputs": [
        {
          "output_type": "stream",
          "name": "stdout",
          "text": [
            "test.shape = (540, 3)\n",
            "\n"
          ]
        },
        {
          "output_type": "execute_result",
          "data": {
            "text/plain": [
              "   id          dt  target\n",
              "0   0  2017-07-01     500\n",
              "1   0  2017-07-02     500"
            ],
            "text/html": [
              "\n",
              "  <div id=\"df-163b4b9b-0009-4614-a2fb-725d5d230e38\">\n",
              "    <div class=\"colab-df-container\">\n",
              "      <div>\n",
              "<style scoped>\n",
              "    .dataframe tbody tr th:only-of-type {\n",
              "        vertical-align: middle;\n",
              "    }\n",
              "\n",
              "    .dataframe tbody tr th {\n",
              "        vertical-align: top;\n",
              "    }\n",
              "\n",
              "    .dataframe thead th {\n",
              "        text-align: right;\n",
              "    }\n",
              "</style>\n",
              "<table border=\"1\" class=\"dataframe\">\n",
              "  <thead>\n",
              "    <tr style=\"text-align: right;\">\n",
              "      <th></th>\n",
              "      <th>id</th>\n",
              "      <th>dt</th>\n",
              "      <th>target</th>\n",
              "    </tr>\n",
              "  </thead>\n",
              "  <tbody>\n",
              "    <tr>\n",
              "      <th>0</th>\n",
              "      <td>0</td>\n",
              "      <td>2017-07-01</td>\n",
              "      <td>500</td>\n",
              "    </tr>\n",
              "    <tr>\n",
              "      <th>1</th>\n",
              "      <td>0</td>\n",
              "      <td>2017-07-02</td>\n",
              "      <td>500</td>\n",
              "    </tr>\n",
              "  </tbody>\n",
              "</table>\n",
              "</div>\n",
              "      <button class=\"colab-df-convert\" onclick=\"convertToInteractive('df-163b4b9b-0009-4614-a2fb-725d5d230e38')\"\n",
              "              title=\"Convert this dataframe to an interactive table.\"\n",
              "              style=\"display:none;\">\n",
              "        \n",
              "  <svg xmlns=\"http://www.w3.org/2000/svg\" height=\"24px\"viewBox=\"0 0 24 24\"\n",
              "       width=\"24px\">\n",
              "    <path d=\"M0 0h24v24H0V0z\" fill=\"none\"/>\n",
              "    <path d=\"M18.56 5.44l.94 2.06.94-2.06 2.06-.94-2.06-.94-.94-2.06-.94 2.06-2.06.94zm-11 1L8.5 8.5l.94-2.06 2.06-.94-2.06-.94L8.5 2.5l-.94 2.06-2.06.94zm10 10l.94 2.06.94-2.06 2.06-.94-2.06-.94-.94-2.06-.94 2.06-2.06.94z\"/><path d=\"M17.41 7.96l-1.37-1.37c-.4-.4-.92-.59-1.43-.59-.52 0-1.04.2-1.43.59L10.3 9.45l-7.72 7.72c-.78.78-.78 2.05 0 2.83L4 21.41c.39.39.9.59 1.41.59.51 0 1.02-.2 1.41-.59l7.78-7.78 2.81-2.81c.8-.78.8-2.07 0-2.86zM5.41 20L4 18.59l7.72-7.72 1.47 1.35L5.41 20z\"/>\n",
              "  </svg>\n",
              "      </button>\n",
              "      \n",
              "  <style>\n",
              "    .colab-df-container {\n",
              "      display:flex;\n",
              "      flex-wrap:wrap;\n",
              "      gap: 12px;\n",
              "    }\n",
              "\n",
              "    .colab-df-convert {\n",
              "      background-color: #E8F0FE;\n",
              "      border: none;\n",
              "      border-radius: 50%;\n",
              "      cursor: pointer;\n",
              "      display: none;\n",
              "      fill: #1967D2;\n",
              "      height: 32px;\n",
              "      padding: 0 0 0 0;\n",
              "      width: 32px;\n",
              "    }\n",
              "\n",
              "    .colab-df-convert:hover {\n",
              "      background-color: #E2EBFA;\n",
              "      box-shadow: 0px 1px 2px rgba(60, 64, 67, 0.3), 0px 1px 3px 1px rgba(60, 64, 67, 0.15);\n",
              "      fill: #174EA6;\n",
              "    }\n",
              "\n",
              "    [theme=dark] .colab-df-convert {\n",
              "      background-color: #3B4455;\n",
              "      fill: #D2E3FC;\n",
              "    }\n",
              "\n",
              "    [theme=dark] .colab-df-convert:hover {\n",
              "      background-color: #434B5C;\n",
              "      box-shadow: 0px 1px 3px 1px rgba(0, 0, 0, 0.15);\n",
              "      filter: drop-shadow(0px 1px 2px rgba(0, 0, 0, 0.3));\n",
              "      fill: #FFFFFF;\n",
              "    }\n",
              "  </style>\n",
              "\n",
              "      <script>\n",
              "        const buttonEl =\n",
              "          document.querySelector('#df-163b4b9b-0009-4614-a2fb-725d5d230e38 button.colab-df-convert');\n",
              "        buttonEl.style.display =\n",
              "          google.colab.kernel.accessAllowed ? 'block' : 'none';\n",
              "\n",
              "        async function convertToInteractive(key) {\n",
              "          const element = document.querySelector('#df-163b4b9b-0009-4614-a2fb-725d5d230e38');\n",
              "          const dataTable =\n",
              "            await google.colab.kernel.invokeFunction('convertToInteractive',\n",
              "                                                     [key], {});\n",
              "          if (!dataTable) return;\n",
              "\n",
              "          const docLinkHtml = 'Like what you see? Visit the ' +\n",
              "            '<a target=\"_blank\" href=https://colab.research.google.com/notebooks/data_table.ipynb>data table notebook</a>'\n",
              "            + ' to learn more about interactive tables.';\n",
              "          element.innerHTML = '';\n",
              "          dataTable['output_type'] = 'display_data';\n",
              "          await google.colab.output.renderOutput(dataTable, element);\n",
              "          const docLink = document.createElement('div');\n",
              "          docLink.innerHTML = docLinkHtml;\n",
              "          element.appendChild(docLink);\n",
              "        }\n",
              "      </script>\n",
              "    </div>\n",
              "  </div>\n",
              "  "
            ]
          },
          "metadata": {},
          "execution_count": 26
        }
      ],
      "source": [
        "predict_example = pd.read_parquet(PATH + 'data/01_raw/sample_submit.parquet.gzip')\n",
        "print(f'test.shape = {predict_example.shape}\\n')\n",
        "predict_example.head(2)"
      ]
    },
    {
      "cell_type": "code",
      "execution_count": 27,
      "metadata": {
        "colab": {
          "base_uri": "https://localhost:8080/",
          "height": 206
        },
        "id": "BCB_XnyDb1P5",
        "outputId": "0c99239f-d133-4bb8-9cc7-f97b8bf69f24"
      },
      "outputs": [
        {
          "output_type": "execute_result",
          "data": {
            "text/plain": [
              "   id          dt      target\n",
              "0   0  2017-07-01  759.775545\n",
              "1   0  2017-07-02  918.983393\n",
              "2   0  2017-07-03  874.970825\n",
              "3   0  2017-07-04  830.613766\n",
              "4   0  2017-07-06  720.444868"
            ],
            "text/html": [
              "\n",
              "  <div id=\"df-17147187-efc3-4285-af25-d6f5445b13d2\">\n",
              "    <div class=\"colab-df-container\">\n",
              "      <div>\n",
              "<style scoped>\n",
              "    .dataframe tbody tr th:only-of-type {\n",
              "        vertical-align: middle;\n",
              "    }\n",
              "\n",
              "    .dataframe tbody tr th {\n",
              "        vertical-align: top;\n",
              "    }\n",
              "\n",
              "    .dataframe thead th {\n",
              "        text-align: right;\n",
              "    }\n",
              "</style>\n",
              "<table border=\"1\" class=\"dataframe\">\n",
              "  <thead>\n",
              "    <tr style=\"text-align: right;\">\n",
              "      <th></th>\n",
              "      <th>id</th>\n",
              "      <th>dt</th>\n",
              "      <th>target</th>\n",
              "    </tr>\n",
              "  </thead>\n",
              "  <tbody>\n",
              "    <tr>\n",
              "      <th>0</th>\n",
              "      <td>0</td>\n",
              "      <td>2017-07-01</td>\n",
              "      <td>759.775545</td>\n",
              "    </tr>\n",
              "    <tr>\n",
              "      <th>1</th>\n",
              "      <td>0</td>\n",
              "      <td>2017-07-02</td>\n",
              "      <td>918.983393</td>\n",
              "    </tr>\n",
              "    <tr>\n",
              "      <th>2</th>\n",
              "      <td>0</td>\n",
              "      <td>2017-07-03</td>\n",
              "      <td>874.970825</td>\n",
              "    </tr>\n",
              "    <tr>\n",
              "      <th>3</th>\n",
              "      <td>0</td>\n",
              "      <td>2017-07-04</td>\n",
              "      <td>830.613766</td>\n",
              "    </tr>\n",
              "    <tr>\n",
              "      <th>4</th>\n",
              "      <td>0</td>\n",
              "      <td>2017-07-06</td>\n",
              "      <td>720.444868</td>\n",
              "    </tr>\n",
              "  </tbody>\n",
              "</table>\n",
              "</div>\n",
              "      <button class=\"colab-df-convert\" onclick=\"convertToInteractive('df-17147187-efc3-4285-af25-d6f5445b13d2')\"\n",
              "              title=\"Convert this dataframe to an interactive table.\"\n",
              "              style=\"display:none;\">\n",
              "        \n",
              "  <svg xmlns=\"http://www.w3.org/2000/svg\" height=\"24px\"viewBox=\"0 0 24 24\"\n",
              "       width=\"24px\">\n",
              "    <path d=\"M0 0h24v24H0V0z\" fill=\"none\"/>\n",
              "    <path d=\"M18.56 5.44l.94 2.06.94-2.06 2.06-.94-2.06-.94-.94-2.06-.94 2.06-2.06.94zm-11 1L8.5 8.5l.94-2.06 2.06-.94-2.06-.94L8.5 2.5l-.94 2.06-2.06.94zm10 10l.94 2.06.94-2.06 2.06-.94-2.06-.94-.94-2.06-.94 2.06-2.06.94z\"/><path d=\"M17.41 7.96l-1.37-1.37c-.4-.4-.92-.59-1.43-.59-.52 0-1.04.2-1.43.59L10.3 9.45l-7.72 7.72c-.78.78-.78 2.05 0 2.83L4 21.41c.39.39.9.59 1.41.59.51 0 1.02-.2 1.41-.59l7.78-7.78 2.81-2.81c.8-.78.8-2.07 0-2.86zM5.41 20L4 18.59l7.72-7.72 1.47 1.35L5.41 20z\"/>\n",
              "  </svg>\n",
              "      </button>\n",
              "      \n",
              "  <style>\n",
              "    .colab-df-container {\n",
              "      display:flex;\n",
              "      flex-wrap:wrap;\n",
              "      gap: 12px;\n",
              "    }\n",
              "\n",
              "    .colab-df-convert {\n",
              "      background-color: #E8F0FE;\n",
              "      border: none;\n",
              "      border-radius: 50%;\n",
              "      cursor: pointer;\n",
              "      display: none;\n",
              "      fill: #1967D2;\n",
              "      height: 32px;\n",
              "      padding: 0 0 0 0;\n",
              "      width: 32px;\n",
              "    }\n",
              "\n",
              "    .colab-df-convert:hover {\n",
              "      background-color: #E2EBFA;\n",
              "      box-shadow: 0px 1px 2px rgba(60, 64, 67, 0.3), 0px 1px 3px 1px rgba(60, 64, 67, 0.15);\n",
              "      fill: #174EA6;\n",
              "    }\n",
              "\n",
              "    [theme=dark] .colab-df-convert {\n",
              "      background-color: #3B4455;\n",
              "      fill: #D2E3FC;\n",
              "    }\n",
              "\n",
              "    [theme=dark] .colab-df-convert:hover {\n",
              "      background-color: #434B5C;\n",
              "      box-shadow: 0px 1px 3px 1px rgba(0, 0, 0, 0.15);\n",
              "      filter: drop-shadow(0px 1px 2px rgba(0, 0, 0, 0.3));\n",
              "      fill: #FFFFFF;\n",
              "    }\n",
              "  </style>\n",
              "\n",
              "      <script>\n",
              "        const buttonEl =\n",
              "          document.querySelector('#df-17147187-efc3-4285-af25-d6f5445b13d2 button.colab-df-convert');\n",
              "        buttonEl.style.display =\n",
              "          google.colab.kernel.accessAllowed ? 'block' : 'none';\n",
              "\n",
              "        async function convertToInteractive(key) {\n",
              "          const element = document.querySelector('#df-17147187-efc3-4285-af25-d6f5445b13d2');\n",
              "          const dataTable =\n",
              "            await google.colab.kernel.invokeFunction('convertToInteractive',\n",
              "                                                     [key], {});\n",
              "          if (!dataTable) return;\n",
              "\n",
              "          const docLinkHtml = 'Like what you see? Visit the ' +\n",
              "            '<a target=\"_blank\" href=https://colab.research.google.com/notebooks/data_table.ipynb>data table notebook</a>'\n",
              "            + ' to learn more about interactive tables.';\n",
              "          element.innerHTML = '';\n",
              "          dataTable['output_type'] = 'display_data';\n",
              "          await google.colab.output.renderOutput(dataTable, element);\n",
              "          const docLink = document.createElement('div');\n",
              "          docLink.innerHTML = docLinkHtml;\n",
              "          element.appendChild(docLink);\n",
              "        }\n",
              "      </script>\n",
              "    </div>\n",
              "  </div>\n",
              "  "
            ]
          },
          "metadata": {},
          "execution_count": 27
        }
      ],
      "source": [
        "n_shops = 20\n",
        "for i in range(n_shops):\n",
        "  predict_example.loc[predict_example['id'] == i, 'target'] = y_pred_rescaled.loc[:, i].values\n",
        "\n",
        "predict_example.to_parquet(\n",
        "    'data/06_model_output/sales_forecast_lstm.parquet.gzip', compression='gzip'\n",
        ")\n",
        "predict_example.head()"
      ]
    },
    {
      "cell_type": "markdown",
      "metadata": {
        "id": "k5l6afUrb7Iy"
      },
      "source": [
        "## 5. Findings"
      ]
    },
    {
      "cell_type": "markdown",
      "metadata": {
        "id": "4I1SyQe3b_ht"
      },
      "source": [
        "* LSTM model has significantlyoutperformed naive forecast with sales of the previous month. "
      ]
    }
  ],
  "metadata": {
    "colab": {
      "provenance": [],
      "authorship_tag": "ABX9TyOS9rNXEP5v33SUFanZtejF",
      "include_colab_link": true
    },
    "gpuClass": "standard",
    "kernelspec": {
      "display_name": "Python 3",
      "name": "python3"
    },
    "language_info": {
      "name": "python"
    },
    "accelerator": "GPU"
  },
  "nbformat": 4,
  "nbformat_minor": 0
}