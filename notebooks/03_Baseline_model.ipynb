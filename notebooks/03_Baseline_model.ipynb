{
  "cells": [
    {
      "cell_type": "markdown",
      "metadata": {
        "id": "view-in-github",
        "colab_type": "text"
      },
      "source": [
        "<a href=\"https://colab.research.google.com/github/YaninaK/sales-forecast/blob/main/notebooks/03_Baseline_model.ipynb\" target=\"_parent\"><img src=\"https://colab.research.google.com/assets/colab-badge.svg\" alt=\"Open In Colab\"/></a>"
      ]
    },
    {
      "cell_type": "markdown",
      "metadata": {
        "id": "yw1w9JFTOyl0"
      },
      "source": [
        "# Sales forecast for 20 stores for 31 days' period.\n",
        "\n",
        "## Baseline model - LSTM"
      ]
    },
    {
      "cell_type": "markdown",
      "metadata": {
        "id": "0ntOLUaWO_Zl"
      },
      "source": [
        "[EDA - omissions and cluster analysis](\n",
        "https://colab.research.google.com/drive/1udCgyEt7lusSY43lnduVDEnZvdvVEt9h?usp=sharing)\n",
        "\n",
        "[Feature extraction](https://colab.research.google.com/drive/1H-vQoHnycp62YuZD1xrmIDjufpDu7ig3?usp=sharing)"
      ]
    },
    {
      "cell_type": "code",
      "execution_count": 1,
      "metadata": {
        "colab": {
          "base_uri": "https://localhost:8080/"
        },
        "id": "NP9i317dO3-E",
        "outputId": "ffbae0f0-ae48-43d4-e089-6736b9fe360b"
      },
      "outputs": [
        {
          "output_type": "stream",
          "name": "stdout",
          "text": [
            "Mounted at /content/drive\n"
          ]
        }
      ],
      "source": [
        "from google.colab import drive\n",
        "drive.mount('/content/drive')"
      ]
    },
    {
      "cell_type": "code",
      "execution_count": 2,
      "metadata": {
        "colab": {
          "base_uri": "https://localhost:8080/"
        },
        "id": "NOaainxsPvh1",
        "outputId": "bc085421-a56b-4bf8-ec5e-86828d33c244"
      },
      "outputs": [
        {
          "output_type": "stream",
          "name": "stdout",
          "text": [
            "\u001b[2K     \u001b[90m━━━━━━━━━━━━━━━━━━━━━━━━━━━━━━━━━━━━━━\u001b[0m \u001b[32m358.2/358.2 KB\u001b[0m \u001b[31m11.2 MB/s\u001b[0m eta \u001b[36m0:00:00\u001b[0m\n",
            "\u001b[2K     \u001b[90m━━━━━━━━━━━━━━━━━━━━━━━━━━━━━━━━━━━━━━━━\u001b[0m \u001b[32m98.2/98.2 KB\u001b[0m \u001b[31m12.2 MB/s\u001b[0m eta \u001b[36m0:00:00\u001b[0m\n",
            "\u001b[2K     \u001b[90m━━━━━━━━━━━━━━━━━━━━━━━━━━━━━━━━━━━━━━\u001b[0m \u001b[32m136.2/136.2 KB\u001b[0m \u001b[31m17.7 MB/s\u001b[0m eta \u001b[36m0:00:00\u001b[0m\n",
            "\u001b[2K     \u001b[90m━━━━━━━━━━━━━━━━━━━━━━━━━━━━━━━━━━━━━━━━\u001b[0m \u001b[32m9.9/9.9 MB\u001b[0m \u001b[31m96.9 MB/s\u001b[0m eta \u001b[36m0:00:00\u001b[0m\n",
            "\u001b[?25h"
          ]
        }
      ],
      "source": [
        "!git clone -q https://github.com/YaninaK/sales-forecast.git\n",
        "!pip install -r sales-forecast/requirements_Colab.txt -q "
      ]
    },
    {
      "cell_type": "code",
      "execution_count": 3,
      "metadata": {
        "colab": {
          "base_uri": "https://localhost:8080/"
        },
        "id": "oGpZTC0tP0QI",
        "outputId": "cea95f92-6b07-4a2f-d50a-d18ca2516185"
      },
      "outputs": [
        {
          "output_type": "stream",
          "name": "stdout",
          "text": [
            "/content/sales-forecast\n"
          ]
        }
      ],
      "source": [
        "%cd sales-forecast"
      ]
    },
    {
      "cell_type": "code",
      "execution_count": 4,
      "metadata": {
        "id": "9JdDC3FUP1J7"
      },
      "outputs": [],
      "source": [
        "import sys\n",
        "import os\n",
        "\n",
        "sys.path.append(os.getcwd())\n",
        "sys.path.append(os.path.join(os.getcwd(), \"src\", \"sales_forecast\"))"
      ]
    },
    {
      "cell_type": "code",
      "execution_count": 5,
      "metadata": {
        "id": "9IzhaR8jP302"
      },
      "outputs": [],
      "source": [
        "import random\n",
        "import pandas as pd\n",
        "import numpy as np\n",
        "import tensorflow as tf\n",
        "import joblib\n",
        "\n",
        "from data.make_dataset import load_data\n",
        "from src.sales_forecast.models import train\n",
        "\n",
        "from data.johnson_su_transformation import JohnsonSU\n",
        "from data.train_test_datasets import get_train_dataset, get_test_dataset\n",
        "from models.model_LSTM import get_model_LSTM\n",
        "from scripts.train_save_model import train_store"
      ]
    },
    {
      "cell_type": "code",
      "execution_count": 6,
      "metadata": {
        "id": "1htDECSWLpcT"
      },
      "outputs": [],
      "source": [
        "import warnings\n",
        "warnings.filterwarnings('ignore')"
      ]
    },
    {
      "cell_type": "code",
      "execution_count": 7,
      "metadata": {
        "id": "llog_mfTQIGB"
      },
      "outputs": [],
      "source": [
        "PATH = '/content/drive/MyDrive/ML_projects/01_Time_series/sales_forecast/'\n",
        "DEFAULT_RANDOM_SEED = 3"
      ]
    },
    {
      "cell_type": "code",
      "execution_count": 8,
      "metadata": {
        "id": "Q9iGOsyiQLA8"
      },
      "outputs": [],
      "source": [
        "def set_all_seeds(seed=DEFAULT_RANDOM_SEED):\n",
        "  random.seed(seed)\n",
        "  os.environ['PYTHONHASHSEED'] = str(seed)\n",
        "  np.random.seed(seed)\n",
        "  tf.random.set_seed(seed)\n",
        "  \n",
        "set_all_seeds()"
      ]
    },
    {
      "cell_type": "markdown",
      "metadata": {
        "id": "6FplTdRyQ4kR"
      },
      "source": [
        "## 1. Data ingestion"
      ]
    },
    {
      "cell_type": "code",
      "execution_count": 9,
      "metadata": {
        "colab": {
          "base_uri": "https://localhost:8080/",
          "height": 147
        },
        "id": "q20ClbC4Kzr7",
        "outputId": "70b315c8-0d9d-47d9-f38d-9cfd2f219f48"
      },
      "outputs": [
        {
          "output_type": "stream",
          "name": "stdout",
          "text": [
            "data.shape = (8230, 3)\n",
            "\n"
          ]
        },
        {
          "output_type": "execute_result",
          "data": {
            "text/plain": [
              "   id          dt  target\n",
              "0   0  2016-01-02   747.8\n",
              "1   0  2016-01-03   681.2"
            ],
            "text/html": [
              "\n",
              "  <div id=\"df-375724f7-f280-4ad9-a813-dadbc85e3dfc\">\n",
              "    <div class=\"colab-df-container\">\n",
              "      <div>\n",
              "<style scoped>\n",
              "    .dataframe tbody tr th:only-of-type {\n",
              "        vertical-align: middle;\n",
              "    }\n",
              "\n",
              "    .dataframe tbody tr th {\n",
              "        vertical-align: top;\n",
              "    }\n",
              "\n",
              "    .dataframe thead th {\n",
              "        text-align: right;\n",
              "    }\n",
              "</style>\n",
              "<table border=\"1\" class=\"dataframe\">\n",
              "  <thead>\n",
              "    <tr style=\"text-align: right;\">\n",
              "      <th></th>\n",
              "      <th>id</th>\n",
              "      <th>dt</th>\n",
              "      <th>target</th>\n",
              "    </tr>\n",
              "  </thead>\n",
              "  <tbody>\n",
              "    <tr>\n",
              "      <th>0</th>\n",
              "      <td>0</td>\n",
              "      <td>2016-01-02</td>\n",
              "      <td>747.8</td>\n",
              "    </tr>\n",
              "    <tr>\n",
              "      <th>1</th>\n",
              "      <td>0</td>\n",
              "      <td>2016-01-03</td>\n",
              "      <td>681.2</td>\n",
              "    </tr>\n",
              "  </tbody>\n",
              "</table>\n",
              "</div>\n",
              "      <button class=\"colab-df-convert\" onclick=\"convertToInteractive('df-375724f7-f280-4ad9-a813-dadbc85e3dfc')\"\n",
              "              title=\"Convert this dataframe to an interactive table.\"\n",
              "              style=\"display:none;\">\n",
              "        \n",
              "  <svg xmlns=\"http://www.w3.org/2000/svg\" height=\"24px\"viewBox=\"0 0 24 24\"\n",
              "       width=\"24px\">\n",
              "    <path d=\"M0 0h24v24H0V0z\" fill=\"none\"/>\n",
              "    <path d=\"M18.56 5.44l.94 2.06.94-2.06 2.06-.94-2.06-.94-.94-2.06-.94 2.06-2.06.94zm-11 1L8.5 8.5l.94-2.06 2.06-.94-2.06-.94L8.5 2.5l-.94 2.06-2.06.94zm10 10l.94 2.06.94-2.06 2.06-.94-2.06-.94-.94-2.06-.94 2.06-2.06.94z\"/><path d=\"M17.41 7.96l-1.37-1.37c-.4-.4-.92-.59-1.43-.59-.52 0-1.04.2-1.43.59L10.3 9.45l-7.72 7.72c-.78.78-.78 2.05 0 2.83L4 21.41c.39.39.9.59 1.41.59.51 0 1.02-.2 1.41-.59l7.78-7.78 2.81-2.81c.8-.78.8-2.07 0-2.86zM5.41 20L4 18.59l7.72-7.72 1.47 1.35L5.41 20z\"/>\n",
              "  </svg>\n",
              "      </button>\n",
              "      \n",
              "  <style>\n",
              "    .colab-df-container {\n",
              "      display:flex;\n",
              "      flex-wrap:wrap;\n",
              "      gap: 12px;\n",
              "    }\n",
              "\n",
              "    .colab-df-convert {\n",
              "      background-color: #E8F0FE;\n",
              "      border: none;\n",
              "      border-radius: 50%;\n",
              "      cursor: pointer;\n",
              "      display: none;\n",
              "      fill: #1967D2;\n",
              "      height: 32px;\n",
              "      padding: 0 0 0 0;\n",
              "      width: 32px;\n",
              "    }\n",
              "\n",
              "    .colab-df-convert:hover {\n",
              "      background-color: #E2EBFA;\n",
              "      box-shadow: 0px 1px 2px rgba(60, 64, 67, 0.3), 0px 1px 3px 1px rgba(60, 64, 67, 0.15);\n",
              "      fill: #174EA6;\n",
              "    }\n",
              "\n",
              "    [theme=dark] .colab-df-convert {\n",
              "      background-color: #3B4455;\n",
              "      fill: #D2E3FC;\n",
              "    }\n",
              "\n",
              "    [theme=dark] .colab-df-convert:hover {\n",
              "      background-color: #434B5C;\n",
              "      box-shadow: 0px 1px 3px 1px rgba(0, 0, 0, 0.15);\n",
              "      filter: drop-shadow(0px 1px 2px rgba(0, 0, 0, 0.3));\n",
              "      fill: #FFFFFF;\n",
              "    }\n",
              "  </style>\n",
              "\n",
              "      <script>\n",
              "        const buttonEl =\n",
              "          document.querySelector('#df-375724f7-f280-4ad9-a813-dadbc85e3dfc button.colab-df-convert');\n",
              "        buttonEl.style.display =\n",
              "          google.colab.kernel.accessAllowed ? 'block' : 'none';\n",
              "\n",
              "        async function convertToInteractive(key) {\n",
              "          const element = document.querySelector('#df-375724f7-f280-4ad9-a813-dadbc85e3dfc');\n",
              "          const dataTable =\n",
              "            await google.colab.kernel.invokeFunction('convertToInteractive',\n",
              "                                                     [key], {});\n",
              "          if (!dataTable) return;\n",
              "\n",
              "          const docLinkHtml = 'Like what you see? Visit the ' +\n",
              "            '<a target=\"_blank\" href=https://colab.research.google.com/notebooks/data_table.ipynb>data table notebook</a>'\n",
              "            + ' to learn more about interactive tables.';\n",
              "          element.innerHTML = '';\n",
              "          dataTable['output_type'] = 'display_data';\n",
              "          await google.colab.output.renderOutput(dataTable, element);\n",
              "          const docLink = document.createElement('div');\n",
              "          docLink.innerHTML = docLinkHtml;\n",
              "          element.appendChild(docLink);\n",
              "        }\n",
              "      </script>\n",
              "    </div>\n",
              "  </div>\n",
              "  "
            ]
          },
          "metadata": {},
          "execution_count": 9
        }
      ],
      "source": [
        "data = load_data(PATH)\n",
        "\n",
        "print(f'data.shape = {data.shape}\\n')\n",
        "data.head(2)"
      ]
    },
    {
      "cell_type": "markdown",
      "metadata": {
        "id": "BWN9VH40WEMK"
      },
      "source": [
        "## 2. Data preprocessing pipeline"
      ]
    },
    {
      "cell_type": "code",
      "execution_count": 10,
      "metadata": {
        "colab": {
          "base_uri": "https://localhost:8080/"
        },
        "id": "uRbHm4snLIYS",
        "outputId": "8395d043-8166-4ccb-cddb-c4d0465f520a"
      },
      "outputs": [
        {
          "output_type": "stream",
          "name": "stdout",
          "text": [
            "Number of outliers = 8\n"
          ]
        },
        {
          "output_type": "execute_result",
          "data": {
            "text/plain": [
              "(153, 20, 40)"
            ]
          },
          "metadata": {},
          "execution_count": 10
        }
      ],
      "source": [
        "regenerate = True\n",
        "if regenerate:\n",
        "  X = train.data_preprocessing_pipeline(data)\n",
        "else:\n",
        "  X = np.load('data/04_feature/train_dataset.npy')\n",
        "\n",
        "X.shape"
      ]
    },
    {
      "cell_type": "markdown",
      "metadata": {
        "id": "a5yhOwIBedyY"
      },
      "source": [
        "## 3. Model LSTM"
      ]
    },
    {
      "cell_type": "markdown",
      "metadata": {
        "id": "jXi5ehMcei7i"
      },
      "source": [
        "### 3.1 Model architecture"
      ]
    },
    {
      "cell_type": "code",
      "execution_count": 11,
      "metadata": {
        "colab": {
          "base_uri": "https://localhost:8080/"
        },
        "id": "bx3QHckueeZe",
        "outputId": "7c9e5998-0826-4f68-be48-e6acfdd551cd"
      },
      "outputs": [
        {
          "output_type": "stream",
          "name": "stdout",
          "text": [
            "Model: \"model\"\n",
            "__________________________________________________________________________________________________\n",
            " Layer (type)                   Output Shape         Param #     Connected to                     \n",
            "==================================================================================================\n",
            " input_1 (InputLayer)           [(None, 54, 40)]     0           []                               \n",
            "                                                                                                  \n",
            " lstm (LSTM)                    [(None, 54, 150),    114600      ['input_1[0][0]']                \n",
            "                                 (None, 150),                                                     \n",
            "                                 (None, 150)]                                                     \n",
            "                                                                                                  \n",
            " lstm_1 (LSTM)                  [(None, 150),        180600      ['lstm[0][0]']                   \n",
            "                                 (None, 150),                                                     \n",
            "                                 (None, 150)]                                                     \n",
            "                                                                                                  \n",
            " repeat_vector (RepeatVector)   (None, 27, 150)      0           ['lstm_1[0][0]']                 \n",
            "                                                                                                  \n",
            " lstm_2 (LSTM)                  (None, 27, 150)      180600      ['repeat_vector[0][0]',          \n",
            "                                                                  'lstm[0][1]',                   \n",
            "                                                                  'lstm[0][2]']                   \n",
            "                                                                                                  \n",
            " lstm_3 (LSTM)                  (None, 27, 150)      180600      ['lstm_2[0][0]',                 \n",
            "                                                                  'lstm_1[0][1]',                 \n",
            "                                                                  'lstm_1[0][2]']                 \n",
            "                                                                                                  \n",
            " time_distributed (TimeDistribu  (None, 27, 40)      6040        ['lstm_3[0][0]']                 \n",
            " ted)                                                                                             \n",
            "                                                                                                  \n",
            "==================================================================================================\n",
            "Total params: 662,440\n",
            "Trainable params: 662,440\n",
            "Non-trainable params: 0\n",
            "__________________________________________________________________________________________________\n"
          ]
        }
      ],
      "source": [
        "n_features = X.shape[2]\n",
        "model = get_model_LSTM(n_features)\n",
        "model.summary()"
      ]
    },
    {
      "cell_type": "markdown",
      "metadata": {
        "id": "eqH3rDIHig3N"
      },
      "source": [
        "### 3.2 Training of the model"
      ]
    },
    {
      "cell_type": "code",
      "source": [
        "X_train, y_train = get_train_dataset(X)\n",
        "X_train.shape, y_train.shape"
      ],
      "metadata": {
        "colab": {
          "base_uri": "https://localhost:8080/"
        },
        "id": "a6RWONYgWN9q",
        "outputId": "4c6de69e-bc82-45e3-9e38-0cf7b68725a9"
      },
      "execution_count": 12,
      "outputs": [
        {
          "output_type": "execute_result",
          "data": {
            "text/plain": [
              "((900, 54, 40), (900, 27, 40))"
            ]
          },
          "metadata": {},
          "execution_count": 12
        }
      ]
    },
    {
      "cell_type": "code",
      "execution_count": 13,
      "metadata": {
        "colab": {
          "base_uri": "https://localhost:8080/"
        },
        "id": "xHc3LM9eKEUW",
        "outputId": "3abb9e41-7a51-46be-cab5-c7edcfc497df"
      },
      "outputs": [
        {
          "output_type": "stream",
          "name": "stdout",
          "text": [
            "Epoch 1/40\n",
            "41/41 [==============================] - 17s 74ms/step - loss: 0.4266 - val_loss: 0.4264 - lr: 0.0300\n",
            "Epoch 2/40\n",
            "41/41 [==============================] - 1s 15ms/step - loss: 0.3980 - val_loss: 0.4121 - lr: 0.0285\n",
            "Epoch 3/40\n",
            "41/41 [==============================] - 1s 12ms/step - loss: 0.3811 - val_loss: 0.3953 - lr: 0.0271\n",
            "Epoch 4/40\n",
            "41/41 [==============================] - 1s 13ms/step - loss: 0.3573 - val_loss: 0.3723 - lr: 0.0257\n",
            "Epoch 5/40\n",
            "41/41 [==============================] - 1s 13ms/step - loss: 0.3275 - val_loss: 0.3339 - lr: 0.0244\n",
            "Epoch 6/40\n",
            "41/41 [==============================] - 1s 12ms/step - loss: 0.3077 - val_loss: 0.3343 - lr: 0.0232\n",
            "Epoch 7/40\n",
            "41/41 [==============================] - 1s 12ms/step - loss: 0.2892 - val_loss: 0.3075 - lr: 0.0221\n",
            "Epoch 8/40\n",
            "41/41 [==============================] - 0s 12ms/step - loss: 0.2775 - val_loss: 0.2977 - lr: 0.0210\n",
            "Epoch 9/40\n",
            "41/41 [==============================] - 0s 11ms/step - loss: 0.2710 - val_loss: 0.3012 - lr: 0.0199\n",
            "Epoch 10/40\n",
            "41/41 [==============================] - 0s 11ms/step - loss: 0.2662 - val_loss: 0.3135 - lr: 0.0189\n",
            "Epoch 11/40\n",
            "41/41 [==============================] - 0s 12ms/step - loss: 0.2744 - val_loss: 0.3138 - lr: 0.0180\n",
            "Epoch 12/40\n",
            "41/41 [==============================] - 0s 12ms/step - loss: 0.2665 - val_loss: 0.2807 - lr: 0.0171\n",
            "Epoch 13/40\n",
            "41/41 [==============================] - 1s 12ms/step - loss: 0.2688 - val_loss: 0.2908 - lr: 0.0162\n",
            "Epoch 14/40\n",
            "41/41 [==============================] - 0s 12ms/step - loss: 0.2715 - val_loss: 0.2976 - lr: 0.0154\n",
            "Epoch 15/40\n",
            "41/41 [==============================] - 1s 12ms/step - loss: 0.2673 - val_loss: 0.2730 - lr: 0.0146\n",
            "Epoch 16/40\n",
            "41/41 [==============================] - 0s 12ms/step - loss: 0.2616 - val_loss: 0.3111 - lr: 0.0139\n",
            "Epoch 17/40\n",
            "41/41 [==============================] - 1s 13ms/step - loss: 0.2621 - val_loss: 0.2718 - lr: 0.0132\n",
            "Epoch 18/40\n",
            "41/41 [==============================] - 1s 13ms/step - loss: 0.2455 - val_loss: 0.2719 - lr: 0.0125\n",
            "Epoch 19/40\n",
            "41/41 [==============================] - 1s 15ms/step - loss: 0.2499 - val_loss: 0.2925 - lr: 0.0119\n",
            "Epoch 20/40\n",
            "41/41 [==============================] - 1s 16ms/step - loss: 0.2391 - val_loss: 0.2648 - lr: 0.0113\n",
            "Epoch 21/40\n",
            "41/41 [==============================] - 1s 16ms/step - loss: 0.2549 - val_loss: 0.2840 - lr: 0.0108\n",
            "Epoch 22/40\n",
            "41/41 [==============================] - 1s 16ms/step - loss: 0.2411 - val_loss: 0.2599 - lr: 0.0102\n",
            "Epoch 23/40\n",
            "41/41 [==============================] - 1s 17ms/step - loss: 0.2440 - val_loss: 0.3111 - lr: 0.0097\n",
            "Epoch 24/40\n",
            "41/41 [==============================] - 1s 18ms/step - loss: 0.2399 - val_loss: 0.2629 - lr: 0.0092\n",
            "Epoch 25/40\n",
            "41/41 [==============================] - 1s 17ms/step - loss: 0.2477 - val_loss: 0.2782 - lr: 0.0088\n",
            "Epoch 26/40\n",
            "41/41 [==============================] - 1s 12ms/step - loss: 0.2313 - val_loss: 0.2604 - lr: 0.0083\n",
            "Epoch 27/40\n",
            "41/41 [==============================] - 1s 13ms/step - loss: 0.2220 - val_loss: 0.2539 - lr: 0.0079\n",
            "Epoch 28/40\n",
            "41/41 [==============================] - 0s 12ms/step - loss: 0.2235 - val_loss: 0.2523 - lr: 0.0075\n",
            "Epoch 29/40\n",
            "41/41 [==============================] - 0s 12ms/step - loss: 0.2193 - val_loss: 0.2502 - lr: 0.0071\n",
            "Epoch 30/40\n",
            "41/41 [==============================] - 0s 12ms/step - loss: 0.2169 - val_loss: 0.2481 - lr: 0.0068\n",
            "Epoch 31/40\n",
            "41/41 [==============================] - 1s 13ms/step - loss: 0.2140 - val_loss: 0.2444 - lr: 0.0064\n",
            "Epoch 32/40\n",
            "41/41 [==============================] - 0s 12ms/step - loss: 0.2121 - val_loss: 0.2437 - lr: 0.0061\n",
            "Epoch 33/40\n",
            "41/41 [==============================] - 0s 12ms/step - loss: 0.2119 - val_loss: 0.2426 - lr: 0.0058\n",
            "Epoch 34/40\n",
            "41/41 [==============================] - 1s 13ms/step - loss: 0.2106 - val_loss: 0.2419 - lr: 0.0055\n",
            "Epoch 35/40\n",
            "41/41 [==============================] - 1s 12ms/step - loss: 0.2095 - val_loss: 0.2442 - lr: 0.0052\n",
            "Epoch 36/40\n",
            "41/41 [==============================] - 0s 12ms/step - loss: 0.2092 - val_loss: 0.2411 - lr: 0.0050\n",
            "Epoch 37/40\n",
            "41/41 [==============================] - 1s 13ms/step - loss: 0.2077 - val_loss: 0.2395 - lr: 0.0047\n",
            "Epoch 38/40\n",
            "41/41 [==============================] - 0s 12ms/step - loss: 0.2057 - val_loss: 0.2396 - lr: 0.0045\n",
            "Epoch 39/40\n",
            "41/41 [==============================] - 1s 12ms/step - loss: 0.2041 - val_loss: 0.2374 - lr: 0.0043\n",
            "Epoch 40/40\n",
            "41/41 [==============================] - 0s 12ms/step - loss: 0.2027 - val_loss: 0.2366 - lr: 0.0041\n"
          ]
        }
      ],
      "source": [
        "from tensorflow.python.ops.math_ops import truncate_mod_eager_fallback\n",
        "n_shops = 20\n",
        "n_epochs = 40\n",
        "batch_size = 20\n",
        "m = n_shops * 4\n",
        "\n",
        "reduce_lr = tf.keras.callbacks.LearningRateScheduler(\n",
        "    lambda epoch: 3e-2 * 0.95 ** epoch\n",
        ")\n",
        "model.compile(\n",
        "    optimizer=tf.keras.optimizers.Adam(), \n",
        "    loss=tf.keras.losses.Huber()\n",
        ")\n",
        "history = model.fit(\n",
        "    X_train[:-m, :, :], y_train[:-m, :, :], \n",
        "    epochs=n_epochs,\n",
        "    validation_data=(X_train[-m:, :, :], y_train[-m:, :, :]),\n",
        "    batch_size=batch_size, \n",
        "    verbose=1,\n",
        "    callbacks=[reduce_lr],\n",
        "    shuffle=True,\n",
        "    workers=-1,\n",
        "    use_multiprocessing=True\n",
        ")"
      ]
    },
    {
      "cell_type": "markdown",
      "metadata": {
        "id": "-T-FivMrYoH5"
      },
      "source": [
        "### 3.3 Inference"
      ]
    },
    {
      "cell_type": "code",
      "execution_count": 14,
      "metadata": {
        "id": "uyn5BLhgYHO3"
      },
      "outputs": [],
      "source": [
        "X_test, y_test = get_test_dataset(X)"
      ]
    },
    {
      "cell_type": "code",
      "execution_count": 15,
      "metadata": {
        "colab": {
          "base_uri": "https://localhost:8080/"
        },
        "id": "dgZcymnwX7hH",
        "outputId": "f8f3f47b-3aba-4971-f756-586e9ab1b21a"
      },
      "outputs": [
        {
          "output_type": "stream",
          "name": "stdout",
          "text": [
            "1/1 [==============================] - 2s 2s/step\n"
          ]
        },
        {
          "output_type": "execute_result",
          "data": {
            "text/plain": [
              "(20, 27, 40)"
            ]
          },
          "metadata": {},
          "execution_count": 15
        }
      ],
      "source": [
        "pred = model.predict(X_test)\n",
        "pred.shape"
      ]
    },
    {
      "cell_type": "markdown",
      "metadata": {
        "id": "LphmAbjGZkA3"
      },
      "source": [
        "### 3.4 Model evaluation"
      ]
    },
    {
      "cell_type": "markdown",
      "metadata": {
        "id": "nkFU4RxZZk8-"
      },
      "source": [
        "#### Mean absolute scaled error (MASE) \n",
        "https://en.wikipedia.org/wiki/Mean_absolute_scaled_error"
      ]
    },
    {
      "cell_type": "markdown",
      "metadata": {
        "id": "nM1Cj-_XZpsO"
      },
      "source": [
        "The denominator of mean absolute scaled error is the mean absolute error of the one-step \"seasonal naive forecast method\" on the training set, which uses the actual value from the prior 30 days as the forecast: \n",
        "* F(t) = Y(t−30)\n",
        "\n",
        "MASE is scale-free error metric. So, it can be applied to scaled data without extra iteration of inverse scaling."
      ]
    },
    {
      "cell_type": "code",
      "execution_count": 16,
      "metadata": {
        "colab": {
          "base_uri": "https://localhost:8080/"
        },
        "id": "jSPdjqEztRix",
        "outputId": "3ab56b8c-454a-415c-a53a-5845d169b159"
      },
      "outputs": [
        {
          "output_type": "execute_result",
          "data": {
            "text/plain": [
              "((20, 27, 40), (20, 27, 40))"
            ]
          },
          "metadata": {},
          "execution_count": 16
        }
      ],
      "source": [
        "pred.shape, y_test.shape"
      ]
    },
    {
      "cell_type": "code",
      "execution_count": 17,
      "metadata": {
        "colab": {
          "base_uri": "https://localhost:8080/"
        },
        "id": "H7m2mh1I8rm6",
        "outputId": "306a0e15-6b70-42a0-e470-1d176ebf90c1"
      },
      "outputs": [
        {
          "output_type": "stream",
          "name": "stdout",
          "text": [
            "Mean absolute scaled error = 0.9667\n"
          ]
        }
      ],
      "source": [
        "forecast_error = abs(pred[:, :, 0] - y_test[:, :, 0]).mean()\n",
        "mase = forecast_error / abs(y_test[:, :, 6]).mean()\n",
        "\n",
        "print(f'Mean absolute scaled error = {round(mase.mean(), 4)}')"
      ]
    },
    {
      "cell_type": "markdown",
      "metadata": {
        "id": "sYbpp1abZzxQ"
      },
      "source": [
        "__Findings:__\n",
        "\n",
        "* Out of 72 samples available for training (153 less input and output sequence length) 4 were used for validation of the model and 27 for testing. So, we had only 41 samples for training of the model and it is definately not sufficient.\n",
        "\n",
        "* To get more accurate predictions, we need to retrain the model on the full set of data. It should improve the final results."
      ]
    },
    {
      "cell_type": "markdown",
      "metadata": {
        "id": "vmXsJCA5Z0t9"
      },
      "source": [
        "## 4. Final prediction"
      ]
    },
    {
      "cell_type": "markdown",
      "metadata": {
        "id": "wpg_5giedIV5"
      },
      "source": [
        "### 4.1. Dataset"
      ]
    },
    {
      "cell_type": "code",
      "execution_count": 18,
      "metadata": {
        "colab": {
          "base_uri": "https://localhost:8080/"
        },
        "id": "cN70_li0aLy2",
        "outputId": "df5f0fc1-78c8-4e97-cca4-860f2297654a"
      },
      "outputs": [
        {
          "output_type": "execute_result",
          "data": {
            "text/plain": [
              "((1440, 54, 40), (1440, 27, 40), (20, 54, 40))"
            ]
          },
          "metadata": {},
          "execution_count": 18
        }
      ],
      "source": [
        "X_train, y_train = get_train_dataset(X, final=True)\n",
        "X_test = get_test_dataset(X, final=True)\n",
        "\n",
        "X_train.shape, y_train.shape, X_test.shape"
      ]
    },
    {
      "cell_type": "markdown",
      "metadata": {
        "id": "MC_L5BwPdCb-"
      },
      "source": [
        "### 4.2. Retraining the model on full dataset"
      ]
    },
    {
      "cell_type": "code",
      "execution_count": 19,
      "metadata": {
        "colab": {
          "base_uri": "https://localhost:8080/"
        },
        "id": "jYh4p4YQaffn",
        "outputId": "9b2218d7-2e2d-44ae-eeca-f955e6b1ce04"
      },
      "outputs": [
        {
          "output_type": "stream",
          "name": "stdout",
          "text": [
            "Epoch 1/50\n",
            "34/34 [==============================] - 11s 85ms/step - loss: 0.3910 - val_loss: 0.3685 - lr: 0.0300\n",
            "Epoch 2/50\n",
            "34/34 [==============================] - 1s 15ms/step - loss: 0.3662 - val_loss: 0.3586 - lr: 0.0285\n",
            "Epoch 3/50\n",
            "34/34 [==============================] - 0s 13ms/step - loss: 0.3543 - val_loss: 0.3481 - lr: 0.0271\n",
            "Epoch 4/50\n",
            "34/34 [==============================] - 0s 13ms/step - loss: 0.3435 - val_loss: 0.3421 - lr: 0.0257\n",
            "Epoch 5/50\n",
            "34/34 [==============================] - 0s 12ms/step - loss: 0.3353 - val_loss: 0.3413 - lr: 0.0244\n",
            "Epoch 6/50\n",
            "34/34 [==============================] - 0s 12ms/step - loss: 0.3286 - val_loss: 0.3382 - lr: 0.0232\n",
            "Epoch 7/50\n",
            "34/34 [==============================] - 0s 12ms/step - loss: 0.3180 - val_loss: 0.3353 - lr: 0.0221\n",
            "Epoch 8/50\n",
            "34/34 [==============================] - 0s 12ms/step - loss: 0.3018 - val_loss: 0.3161 - lr: 0.0210\n",
            "Epoch 9/50\n",
            "34/34 [==============================] - 0s 12ms/step - loss: 0.2867 - val_loss: 0.3128 - lr: 0.0199\n",
            "Epoch 10/50\n",
            "34/34 [==============================] - 0s 12ms/step - loss: 0.2790 - val_loss: 0.2901 - lr: 0.0189\n",
            "Epoch 11/50\n",
            "34/34 [==============================] - 0s 12ms/step - loss: 0.2706 - val_loss: 0.3015 - lr: 0.0180\n",
            "Epoch 12/50\n",
            "34/34 [==============================] - 0s 12ms/step - loss: 0.2637 - val_loss: 0.2912 - lr: 0.0171\n",
            "Epoch 13/50\n",
            "34/34 [==============================] - 0s 12ms/step - loss: 0.2597 - val_loss: 0.2885 - lr: 0.0162\n",
            "Epoch 14/50\n",
            "34/34 [==============================] - 0s 12ms/step - loss: 0.2533 - val_loss: 0.2870 - lr: 0.0154\n",
            "Epoch 15/50\n",
            "34/34 [==============================] - 0s 13ms/step - loss: 0.2496 - val_loss: 0.2874 - lr: 0.0146\n",
            "Epoch 16/50\n",
            "34/34 [==============================] - 0s 14ms/step - loss: 0.2456 - val_loss: 0.2805 - lr: 0.0139\n",
            "Epoch 17/50\n",
            "34/34 [==============================] - 1s 17ms/step - loss: 0.2413 - val_loss: 0.2797 - lr: 0.0132\n",
            "Epoch 18/50\n",
            "34/34 [==============================] - 1s 18ms/step - loss: 0.2367 - val_loss: 0.2746 - lr: 0.0125\n",
            "Epoch 19/50\n",
            "34/34 [==============================] - 1s 17ms/step - loss: 0.2303 - val_loss: 0.2688 - lr: 0.0119\n",
            "Epoch 20/50\n",
            "34/34 [==============================] - 1s 17ms/step - loss: 0.2254 - val_loss: 0.2623 - lr: 0.0113\n",
            "Epoch 21/50\n",
            "34/34 [==============================] - 1s 16ms/step - loss: 0.2200 - val_loss: 0.2505 - lr: 0.0108\n",
            "Epoch 22/50\n",
            "34/34 [==============================] - 1s 16ms/step - loss: 0.2158 - val_loss: 0.2486 - lr: 0.0102\n",
            "Epoch 23/50\n",
            "34/34 [==============================] - 1s 18ms/step - loss: 0.2120 - val_loss: 0.2467 - lr: 0.0097\n",
            "Epoch 24/50\n",
            "34/34 [==============================] - 1s 16ms/step - loss: 0.2071 - val_loss: 0.2472 - lr: 0.0092\n",
            "Epoch 25/50\n",
            "34/34 [==============================] - 0s 13ms/step - loss: 0.2033 - val_loss: 0.2460 - lr: 0.0088\n",
            "Epoch 26/50\n",
            "34/34 [==============================] - 0s 12ms/step - loss: 0.2000 - val_loss: 0.2491 - lr: 0.0083\n",
            "Epoch 27/50\n",
            "34/34 [==============================] - 0s 12ms/step - loss: 0.1966 - val_loss: 0.2405 - lr: 0.0079\n",
            "Epoch 28/50\n",
            "34/34 [==============================] - 0s 13ms/step - loss: 0.1940 - val_loss: 0.2417 - lr: 0.0075\n",
            "Epoch 29/50\n",
            "34/34 [==============================] - 0s 13ms/step - loss: 0.1919 - val_loss: 0.2446 - lr: 0.0071\n",
            "Epoch 30/50\n",
            "34/34 [==============================] - 0s 12ms/step - loss: 0.1890 - val_loss: 0.2480 - lr: 0.0068\n",
            "Epoch 31/50\n",
            "34/34 [==============================] - 0s 13ms/step - loss: 0.1855 - val_loss: 0.2337 - lr: 0.0064\n",
            "Epoch 32/50\n",
            "34/34 [==============================] - 0s 13ms/step - loss: 0.1826 - val_loss: 0.2299 - lr: 0.0061\n",
            "Epoch 33/50\n",
            "34/34 [==============================] - 0s 12ms/step - loss: 0.1785 - val_loss: 0.2303 - lr: 0.0058\n",
            "Epoch 34/50\n",
            "34/34 [==============================] - 0s 12ms/step - loss: 0.1756 - val_loss: 0.2264 - lr: 0.0055\n",
            "Epoch 35/50\n",
            "34/34 [==============================] - 0s 12ms/step - loss: 0.1727 - val_loss: 0.2298 - lr: 0.0052\n",
            "Epoch 36/50\n",
            "34/34 [==============================] - 0s 12ms/step - loss: 0.1708 - val_loss: 0.2294 - lr: 0.0050\n",
            "Epoch 37/50\n",
            "34/34 [==============================] - 0s 13ms/step - loss: 0.1696 - val_loss: 0.2212 - lr: 0.0047\n",
            "Epoch 38/50\n",
            "34/34 [==============================] - 0s 13ms/step - loss: 0.1656 - val_loss: 0.2252 - lr: 0.0045\n",
            "Epoch 39/50\n",
            "34/34 [==============================] - 0s 13ms/step - loss: 0.1629 - val_loss: 0.2163 - lr: 0.0043\n",
            "Epoch 40/50\n",
            "34/34 [==============================] - 0s 12ms/step - loss: 0.1604 - val_loss: 0.2167 - lr: 0.0041\n",
            "Epoch 41/50\n",
            "34/34 [==============================] - 0s 12ms/step - loss: 0.1586 - val_loss: 0.2104 - lr: 0.0039\n",
            "Epoch 42/50\n",
            "34/34 [==============================] - 0s 13ms/step - loss: 0.1559 - val_loss: 0.2090 - lr: 0.0037\n",
            "Epoch 43/50\n",
            "34/34 [==============================] - 0s 12ms/step - loss: 0.1532 - val_loss: 0.2126 - lr: 0.0035\n",
            "Epoch 44/50\n",
            "34/34 [==============================] - 0s 12ms/step - loss: 0.1511 - val_loss: 0.2116 - lr: 0.0033\n",
            "Epoch 45/50\n",
            "34/34 [==============================] - 0s 13ms/step - loss: 0.1492 - val_loss: 0.2086 - lr: 0.0031\n",
            "Epoch 46/50\n",
            "34/34 [==============================] - 0s 13ms/step - loss: 0.1478 - val_loss: 0.2076 - lr: 0.0030\n",
            "Epoch 47/50\n",
            "34/34 [==============================] - 0s 14ms/step - loss: 0.1468 - val_loss: 0.2082 - lr: 0.0028\n",
            "Epoch 48/50\n",
            "34/34 [==============================] - 1s 17ms/step - loss: 0.1450 - val_loss: 0.2093 - lr: 0.0027\n",
            "Epoch 49/50\n",
            "34/34 [==============================] - 1s 18ms/step - loss: 0.1438 - val_loss: 0.2094 - lr: 0.0026\n",
            "Epoch 50/50\n",
            "34/34 [==============================] - 1s 17ms/step - loss: 0.1422 - val_loss: 0.2068 - lr: 0.0024\n"
          ]
        }
      ],
      "source": [
        "n_shops = 20\n",
        "n_epochs = 50\n",
        "batch_size = n_shops * 2\n",
        "m = n_shops * 4\n",
        "\n",
        "model = get_model_LSTM(n_features=X_train.shape[2], n_units=150)\n",
        "\n",
        "reduce_lr = tf.keras.callbacks.LearningRateScheduler(\n",
        "    lambda epoch: 3e-2 * 0.95 ** epoch\n",
        ")\n",
        "model.compile(\n",
        "    optimizer=tf.keras.optimizers.Adam(), \n",
        "    loss=tf.keras.losses.Huber()\n",
        ")\n",
        "history = model.fit(\n",
        "    X_train[:-m, :, :], y_train[:-m, :, :], \n",
        "    epochs=n_epochs,\n",
        "    validation_data=(X_train[-m:, :, :], y_train[-m:, :, :]),\n",
        "    batch_size=batch_size, \n",
        "    verbose=1,\n",
        "    callbacks=[reduce_lr],\n",
        "    shuffle=True,\n",
        "    workers=-1,\n",
        "    use_multiprocessing=True,    \n",
        ")"
      ]
    },
    {
      "cell_type": "code",
      "execution_count": 20,
      "metadata": {
        "colab": {
          "base_uri": "https://localhost:8080/",
          "height": 295
        },
        "id": "ys70q4i4bOj8",
        "outputId": "ab201726-09a3-4266-f21f-f76f1d68fe6a"
      },
      "outputs": [
        {
          "output_type": "display_data",
          "data": {
            "text/plain": [
              "<Figure size 432x288 with 1 Axes>"
            ],
            "image/png": "[encoded data removed]"
          },
          "metadata": {
            "needs_background": "light"
          }
        }
      ],
      "source": [
        "import matplotlib.pyplot as plt\n",
        "\n",
        "plt.plot(history.history['loss'])\n",
        "plt.plot(history.history['val_loss'])\n",
        "plt.title(\"Model Loss\")\n",
        "plt.xlabel('Epochs')\n",
        "plt.ylabel('Loss')\n",
        "plt.legend(['Train', 'Valid'])\n",
        "plt.show()"
      ]
    },
    {
      "cell_type": "markdown",
      "metadata": {
        "id": "_n6z3yuZc0Uj"
      },
      "source": [
        "### 4.3 Model evaluation on validation set"
      ]
    },
    {
      "cell_type": "code",
      "source": [
        "pred = model.predict(X_train[-m:, :, :])\n",
        "pred[:, :, 0].shape,"
      ],
      "metadata": {
        "colab": {
          "base_uri": "https://localhost:8080/"
        },
        "id": "w0SzRmu52i5b",
        "outputId": "d5eda7df-9e10-4d66-912c-327865adb4c4"
      },
      "execution_count": 21,
      "outputs": [
        {
          "output_type": "stream",
          "name": "stdout",
          "text": [
            "3/3 [==============================] - 2s 10ms/step\n"
          ]
        },
        {
          "output_type": "execute_result",
          "data": {
            "text/plain": [
              "((80, 27),)"
            ]
          },
          "metadata": {},
          "execution_count": 21
        }
      ]
    },
    {
      "cell_type": "code",
      "source": [
        "forecast_error = abs(pred[:, :, 0] -  y_train[-m:, :, 0]).mean()\n",
        "mase = forecast_error / abs( y_train[-m:, :, 6]).mean()\n",
        "\n",
        "print(f'Mean absolute scaled error = {round(mase.mean(), 4)}')"
      ],
      "metadata": {
        "colab": {
          "base_uri": "https://localhost:8080/"
        },
        "id": "XFTzEJ8Plx_g",
        "outputId": "74a6de68-6505-4791-e7ce-8eb07241c18d"
      },
      "execution_count": 22,
      "outputs": [
        {
          "output_type": "stream",
          "name": "stdout",
          "text": [
            "Mean absolute scaled error = 0.4771\n"
          ]
        }
      ]
    },
    {
      "cell_type": "markdown",
      "metadata": {
        "id": "kZhWz7U2eEEt"
      },
      "source": [
        "### 4.4. Inference"
      ]
    },
    {
      "cell_type": "code",
      "execution_count": 23,
      "metadata": {
        "colab": {
          "base_uri": "https://localhost:8080/"
        },
        "id": "2tID_JZRd8Za",
        "outputId": "381c5006-7a34-4ed2-f655-69cf1fa60f0c"
      },
      "outputs": [
        {
          "output_type": "stream",
          "name": "stdout",
          "text": [
            "1/1 [==============================] - 0s 41ms/step\n"
          ]
        }
      ],
      "source": [
        "pred_final = model.predict(X_test)"
      ]
    },
    {
      "cell_type": "markdown",
      "metadata": {
        "id": "pk8ade9Hcllm"
      },
      "source": [
        "### 4.5. Inverse transformation of predictions"
      ]
    },
    {
      "cell_type": "code",
      "execution_count": 24,
      "metadata": {
        "id": "Ys__JvK9csEI"
      },
      "outputs": [],
      "source": [
        "scaler = joblib.load('data/03_primary/scaler_js.joblib')"
      ]
    },
    {
      "cell_type": "code",
      "execution_count": 25,
      "metadata": {
        "colab": {
          "base_uri": "https://localhost:8080/"
        },
        "id": "y3vKlBKBcm-B",
        "outputId": "ece8e280-7166-493b-cf3f-f695a3d153fe"
      },
      "outputs": [
        {
          "output_type": "execute_result",
          "data": {
            "text/plain": [
              "(27, 20)"
            ]
          },
          "metadata": {},
          "execution_count": 25
        }
      ],
      "source": [
        "arr_pred = pred_final[:, :, 0]\n",
        "y_pred = pd.DataFrame(arr_pred).T\n",
        "y_pred_rescaled = scaler.inv_transform(y_pred)\n",
        "y_pred_rescaled.shape"
      ]
    },
    {
      "cell_type": "markdown",
      "metadata": {
        "id": "HJyYOGDhcfl9"
      },
      "source": [
        "### 4.6. Generation of the final result"
      ]
    },
    {
      "cell_type": "code",
      "execution_count": 26,
      "metadata": {
        "colab": {
          "base_uri": "https://localhost:8080/",
          "height": 147
        },
        "id": "siV8XdBscJpb",
        "outputId": "88abe5ef-f18d-4f11-afd4-d1364c583644"
      },
      "outputs": [
        {
          "output_type": "stream",
          "name": "stdout",
          "text": [
            "test.shape = (540, 3)\n",
            "\n"
          ]
        },
        {
          "output_type": "execute_result",
          "data": {
            "text/plain": [
              "   id          dt  target\n",
              "0   0  2017-07-01     500\n",
              "1   0  2017-07-02     500"
            ],
            "text/html": [
              "\n",
              "  <div id=\"df-bd1b8f0b-66a0-4772-a782-984c6830e25b\">\n",
              "    <div class=\"colab-df-container\">\n",
              "      <div>\n",
              "<style scoped>\n",
              "    .dataframe tbody tr th:only-of-type {\n",
              "        vertical-align: middle;\n",
              "    }\n",
              "\n",
              "    .dataframe tbody tr th {\n",
              "        vertical-align: top;\n",
              "    }\n",
              "\n",
              "    .dataframe thead th {\n",
              "        text-align: right;\n",
              "    }\n",
              "</style>\n",
              "<table border=\"1\" class=\"dataframe\">\n",
              "  <thead>\n",
              "    <tr style=\"text-align: right;\">\n",
              "      <th></th>\n",
              "      <th>id</th>\n",
              "      <th>dt</th>\n",
              "      <th>target</th>\n",
              "    </tr>\n",
              "  </thead>\n",
              "  <tbody>\n",
              "    <tr>\n",
              "      <th>0</th>\n",
              "      <td>0</td>\n",
              "      <td>2017-07-01</td>\n",
              "      <td>500</td>\n",
              "    </tr>\n",
              "    <tr>\n",
              "      <th>1</th>\n",
              "      <td>0</td>\n",
              "      <td>2017-07-02</td>\n",
              "      <td>500</td>\n",
              "    </tr>\n",
              "  </tbody>\n",
              "</table>\n",
              "</div>\n",
              "      <button class=\"colab-df-convert\" onclick=\"convertToInteractive('df-bd1b8f0b-66a0-4772-a782-984c6830e25b')\"\n",
              "              title=\"Convert this dataframe to an interactive table.\"\n",
              "              style=\"display:none;\">\n",
              "        \n",
              "  <svg xmlns=\"http://www.w3.org/2000/svg\" height=\"24px\"viewBox=\"0 0 24 24\"\n",
              "       width=\"24px\">\n",
              "    <path d=\"M0 0h24v24H0V0z\" fill=\"none\"/>\n",
              "    <path d=\"M18.56 5.44l.94 2.06.94-2.06 2.06-.94-2.06-.94-.94-2.06-.94 2.06-2.06.94zm-11 1L8.5 8.5l.94-2.06 2.06-.94-2.06-.94L8.5 2.5l-.94 2.06-2.06.94zm10 10l.94 2.06.94-2.06 2.06-.94-2.06-.94-.94-2.06-.94 2.06-2.06.94z\"/><path d=\"M17.41 7.96l-1.37-1.37c-.4-.4-.92-.59-1.43-.59-.52 0-1.04.2-1.43.59L10.3 9.45l-7.72 7.72c-.78.78-.78 2.05 0 2.83L4 21.41c.39.39.9.59 1.41.59.51 0 1.02-.2 1.41-.59l7.78-7.78 2.81-2.81c.8-.78.8-2.07 0-2.86zM5.41 20L4 18.59l7.72-7.72 1.47 1.35L5.41 20z\"/>\n",
              "  </svg>\n",
              "      </button>\n",
              "      \n",
              "  <style>\n",
              "    .colab-df-container {\n",
              "      display:flex;\n",
              "      flex-wrap:wrap;\n",
              "      gap: 12px;\n",
              "    }\n",
              "\n",
              "    .colab-df-convert {\n",
              "      background-color: #E8F0FE;\n",
              "      border: none;\n",
              "      border-radius: 50%;\n",
              "      cursor: pointer;\n",
              "      display: none;\n",
              "      fill: #1967D2;\n",
              "      height: 32px;\n",
              "      padding: 0 0 0 0;\n",
              "      width: 32px;\n",
              "    }\n",
              "\n",
              "    .colab-df-convert:hover {\n",
              "      background-color: #E2EBFA;\n",
              "      box-shadow: 0px 1px 2px rgba(60, 64, 67, 0.3), 0px 1px 3px 1px rgba(60, 64, 67, 0.15);\n",
              "      fill: #174EA6;\n",
              "    }\n",
              "\n",
              "    [theme=dark] .colab-df-convert {\n",
              "      background-color: #3B4455;\n",
              "      fill: #D2E3FC;\n",
              "    }\n",
              "\n",
              "    [theme=dark] .colab-df-convert:hover {\n",
              "      background-color: #434B5C;\n",
              "      box-shadow: 0px 1px 3px 1px rgba(0, 0, 0, 0.15);\n",
              "      filter: drop-shadow(0px 1px 2px rgba(0, 0, 0, 0.3));\n",
              "      fill: #FFFFFF;\n",
              "    }\n",
              "  </style>\n",
              "\n",
              "      <script>\n",
              "        const buttonEl =\n",
              "          document.querySelector('#df-bd1b8f0b-66a0-4772-a782-984c6830e25b button.colab-df-convert');\n",
              "        buttonEl.style.display =\n",
              "          google.colab.kernel.accessAllowed ? 'block' : 'none';\n",
              "\n",
              "        async function convertToInteractive(key) {\n",
              "          const element = document.querySelector('#df-bd1b8f0b-66a0-4772-a782-984c6830e25b');\n",
              "          const dataTable =\n",
              "            await google.colab.kernel.invokeFunction('convertToInteractive',\n",
              "                                                     [key], {});\n",
              "          if (!dataTable) return;\n",
              "\n",
              "          const docLinkHtml = 'Like what you see? Visit the ' +\n",
              "            '<a target=\"_blank\" href=https://colab.research.google.com/notebooks/data_table.ipynb>data table notebook</a>'\n",
              "            + ' to learn more about interactive tables.';\n",
              "          element.innerHTML = '';\n",
              "          dataTable['output_type'] = 'display_data';\n",
              "          await google.colab.output.renderOutput(dataTable, element);\n",
              "          const docLink = document.createElement('div');\n",
              "          docLink.innerHTML = docLinkHtml;\n",
              "          element.appendChild(docLink);\n",
              "        }\n",
              "      </script>\n",
              "    </div>\n",
              "  </div>\n",
              "  "
            ]
          },
          "metadata": {},
          "execution_count": 26
        }
      ],
      "source": [
        "predict_example = pd.read_parquet(PATH + 'data/01_raw/sample_submit.parquet.gzip')\n",
        "print(f'test.shape = {predict_example.shape}\\n')\n",
        "predict_example.head(2)"
      ]
    },
    {
      "cell_type": "code",
      "execution_count": 27,
      "metadata": {
        "colab": {
          "base_uri": "https://localhost:8080/",
          "height": 206
        },
        "id": "BCB_XnyDb1P5",
        "outputId": "8a58d543-9961-43bd-e6a4-f354350d6d76"
      },
      "outputs": [
        {
          "output_type": "execute_result",
          "data": {
            "text/plain": [
              "   id          dt      target\n",
              "0   0  2017-07-01  961.853571\n",
              "1   0  2017-07-02  785.537303\n",
              "2   0  2017-07-03  766.956075\n",
              "3   0  2017-07-04  738.968325\n",
              "4   0  2017-07-06  833.440588"
            ],
            "text/html": [
              "\n",
              "  <div id=\"df-14863d9a-8f41-4192-9bbf-e5b0f26bab89\">\n",
              "    <div class=\"colab-df-container\">\n",
              "      <div>\n",
              "<style scoped>\n",
              "    .dataframe tbody tr th:only-of-type {\n",
              "        vertical-align: middle;\n",
              "    }\n",
              "\n",
              "    .dataframe tbody tr th {\n",
              "        vertical-align: top;\n",
              "    }\n",
              "\n",
              "    .dataframe thead th {\n",
              "        text-align: right;\n",
              "    }\n",
              "</style>\n",
              "<table border=\"1\" class=\"dataframe\">\n",
              "  <thead>\n",
              "    <tr style=\"text-align: right;\">\n",
              "      <th></th>\n",
              "      <th>id</th>\n",
              "      <th>dt</th>\n",
              "      <th>target</th>\n",
              "    </tr>\n",
              "  </thead>\n",
              "  <tbody>\n",
              "    <tr>\n",
              "      <th>0</th>\n",
              "      <td>0</td>\n",
              "      <td>2017-07-01</td>\n",
              "      <td>961.853571</td>\n",
              "    </tr>\n",
              "    <tr>\n",
              "      <th>1</th>\n",
              "      <td>0</td>\n",
              "      <td>2017-07-02</td>\n",
              "      <td>785.537303</td>\n",
              "    </tr>\n",
              "    <tr>\n",
              "      <th>2</th>\n",
              "      <td>0</td>\n",
              "      <td>2017-07-03</td>\n",
              "      <td>766.956075</td>\n",
              "    </tr>\n",
              "    <tr>\n",
              "      <th>3</th>\n",
              "      <td>0</td>\n",
              "      <td>2017-07-04</td>\n",
              "      <td>738.968325</td>\n",
              "    </tr>\n",
              "    <tr>\n",
              "      <th>4</th>\n",
              "      <td>0</td>\n",
              "      <td>2017-07-06</td>\n",
              "      <td>833.440588</td>\n",
              "    </tr>\n",
              "  </tbody>\n",
              "</table>\n",
              "</div>\n",
              "      <button class=\"colab-df-convert\" onclick=\"convertToInteractive('df-14863d9a-8f41-4192-9bbf-e5b0f26bab89')\"\n",
              "              title=\"Convert this dataframe to an interactive table.\"\n",
              "              style=\"display:none;\">\n",
              "        \n",
              "  <svg xmlns=\"http://www.w3.org/2000/svg\" height=\"24px\"viewBox=\"0 0 24 24\"\n",
              "       width=\"24px\">\n",
              "    <path d=\"M0 0h24v24H0V0z\" fill=\"none\"/>\n",
              "    <path d=\"M18.56 5.44l.94 2.06.94-2.06 2.06-.94-2.06-.94-.94-2.06-.94 2.06-2.06.94zm-11 1L8.5 8.5l.94-2.06 2.06-.94-2.06-.94L8.5 2.5l-.94 2.06-2.06.94zm10 10l.94 2.06.94-2.06 2.06-.94-2.06-.94-.94-2.06-.94 2.06-2.06.94z\"/><path d=\"M17.41 7.96l-1.37-1.37c-.4-.4-.92-.59-1.43-.59-.52 0-1.04.2-1.43.59L10.3 9.45l-7.72 7.72c-.78.78-.78 2.05 0 2.83L4 21.41c.39.39.9.59 1.41.59.51 0 1.02-.2 1.41-.59l7.78-7.78 2.81-2.81c.8-.78.8-2.07 0-2.86zM5.41 20L4 18.59l7.72-7.72 1.47 1.35L5.41 20z\"/>\n",
              "  </svg>\n",
              "      </button>\n",
              "      \n",
              "  <style>\n",
              "    .colab-df-container {\n",
              "      display:flex;\n",
              "      flex-wrap:wrap;\n",
              "      gap: 12px;\n",
              "    }\n",
              "\n",
              "    .colab-df-convert {\n",
              "      background-color: #E8F0FE;\n",
              "      border: none;\n",
              "      border-radius: 50%;\n",
              "      cursor: pointer;\n",
              "      display: none;\n",
              "      fill: #1967D2;\n",
              "      height: 32px;\n",
              "      padding: 0 0 0 0;\n",
              "      width: 32px;\n",
              "    }\n",
              "\n",
              "    .colab-df-convert:hover {\n",
              "      background-color: #E2EBFA;\n",
              "      box-shadow: 0px 1px 2px rgba(60, 64, 67, 0.3), 0px 1px 3px 1px rgba(60, 64, 67, 0.15);\n",
              "      fill: #174EA6;\n",
              "    }\n",
              "\n",
              "    [theme=dark] .colab-df-convert {\n",
              "      background-color: #3B4455;\n",
              "      fill: #D2E3FC;\n",
              "    }\n",
              "\n",
              "    [theme=dark] .colab-df-convert:hover {\n",
              "      background-color: #434B5C;\n",
              "      box-shadow: 0px 1px 3px 1px rgba(0, 0, 0, 0.15);\n",
              "      filter: drop-shadow(0px 1px 2px rgba(0, 0, 0, 0.3));\n",
              "      fill: #FFFFFF;\n",
              "    }\n",
              "  </style>\n",
              "\n",
              "      <script>\n",
              "        const buttonEl =\n",
              "          document.querySelector('#df-14863d9a-8f41-4192-9bbf-e5b0f26bab89 button.colab-df-convert');\n",
              "        buttonEl.style.display =\n",
              "          google.colab.kernel.accessAllowed ? 'block' : 'none';\n",
              "\n",
              "        async function convertToInteractive(key) {\n",
              "          const element = document.querySelector('#df-14863d9a-8f41-4192-9bbf-e5b0f26bab89');\n",
              "          const dataTable =\n",
              "            await google.colab.kernel.invokeFunction('convertToInteractive',\n",
              "                                                     [key], {});\n",
              "          if (!dataTable) return;\n",
              "\n",
              "          const docLinkHtml = 'Like what you see? Visit the ' +\n",
              "            '<a target=\"_blank\" href=https://colab.research.google.com/notebooks/data_table.ipynb>data table notebook</a>'\n",
              "            + ' to learn more about interactive tables.';\n",
              "          element.innerHTML = '';\n",
              "          dataTable['output_type'] = 'display_data';\n",
              "          await google.colab.output.renderOutput(dataTable, element);\n",
              "          const docLink = document.createElement('div');\n",
              "          docLink.innerHTML = docLinkHtml;\n",
              "          element.appendChild(docLink);\n",
              "        }\n",
              "      </script>\n",
              "    </div>\n",
              "  </div>\n",
              "  "
            ]
          },
          "metadata": {},
          "execution_count": 27
        }
      ],
      "source": [
        "n_shops = 20\n",
        "for i in range(n_shops):\n",
        "  predict_example.loc[predict_example['id'] == i, 'target'] = y_pred_rescaled.loc[:, i]\n",
        "\n",
        "predict_example.to_parquet(\n",
        "    'data/06_model_output/sales_forecast_lstm.parquet.gzip', compression='gzip'\n",
        ")\n",
        "predict_example.head()"
      ]
    },
    {
      "cell_type": "markdown",
      "metadata": {
        "id": "k5l6afUrb7Iy"
      },
      "source": [
        "## 5. Findings"
      ]
    },
    {
      "cell_type": "markdown",
      "metadata": {
        "id": "4I1SyQe3b_ht"
      },
      "source": [
        "* LSTM model has not generated the prominent results. However, model predictions are better than the naive forecast with sales for the previous month. "
      ]
    }
  ],
  "metadata": {
    "colab": {
      "provenance": [],
      "authorship_tag": "ABX9TyPrsZNsG/Bgfc1UFtGtcN6y",
      "include_colab_link": true
    },
    "gpuClass": "standard",
    "kernelspec": {
      "display_name": "Python 3",
      "name": "python3"
    },
    "language_info": {
      "name": "python"
    },
    "accelerator": "GPU"
  },
  "nbformat": 4,
  "nbformat_minor": 0
}