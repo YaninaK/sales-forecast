{
  "cells": [
    {
      "cell_type": "markdown",
      "metadata": {
        "id": "view-in-github",
        "colab_type": "text"
      },
      "source": [
        "<a href=\"https://colab.research.google.com/github/YaninaK/sales-forecast/blob/main/notebooks/03_Baseline_model.ipynb\" target=\"_parent\"><img src=\"https://colab.research.google.com/assets/colab-badge.svg\" alt=\"Open In Colab\"/></a>"
      ]
    },
    {
      "cell_type": "markdown",
      "metadata": {
        "id": "yw1w9JFTOyl0"
      },
      "source": [
        "# Sales forecast for 20 stores for for 31 days' period.\n",
        "\n",
        "## Baseline model - Tensorflow LSTM"
      ]
    },
    {
      "cell_type": "markdown",
      "metadata": {
        "id": "0ntOLUaWO_Zl"
      },
      "source": [
        "[EDA - omissions and cluster analysis](\n",
        "https://colab.research.google.com/drive/1udCgyEt7lusSY43lnduVDEnZvdvVEt9h?usp=sharing)\n",
        "\n",
        "[Feature extraction](https://colab.research.google.com/drive/1H-vQoHnycp62YuZD1xrmIDjufpDu7ig3?usp=sharing)"
      ]
    },
    {
      "cell_type": "code",
      "execution_count": 1,
      "metadata": {
        "colab": {
          "base_uri": "https://localhost:8080/"
        },
        "id": "NP9i317dO3-E",
        "outputId": "147469ae-b414-44e2-a147-5b428d53d452"
      },
      "outputs": [
        {
          "output_type": "stream",
          "name": "stdout",
          "text": [
            "Mounted at /content/drive\n"
          ]
        }
      ],
      "source": [
        "from google.colab import drive\n",
        "drive.mount('/content/drive')"
      ]
    },
    {
      "cell_type": "code",
      "execution_count": 2,
      "metadata": {
        "colab": {
          "base_uri": "https://localhost:8080/"
        },
        "id": "NOaainxsPvh1",
        "outputId": "68f73432-17de-4511-c632-26ad19d383d9"
      },
      "outputs": [
        {
          "output_type": "stream",
          "name": "stdout",
          "text": [
            "\u001b[2K     \u001b[90m━━━━━━━━━━━━━━━━━━━━━━━━━━━━━━━━━━━━━━━\u001b[0m \u001b[32m358.2/358.2 KB\u001b[0m \u001b[31m7.6 MB/s\u001b[0m eta \u001b[36m0:00:00\u001b[0m\n",
            "\u001b[2K     \u001b[90m━━━━━━━━━━━━━━━━━━━━━━━━━━━━━━━━━━━━━━━━\u001b[0m \u001b[32m98.2/98.2 KB\u001b[0m \u001b[31m6.0 MB/s\u001b[0m eta \u001b[36m0:00:00\u001b[0m\n",
            "\u001b[2K     \u001b[90m━━━━━━━━━━━━━━━━━━━━━━━━━━━━━━━━━━━━━━\u001b[0m \u001b[32m136.2/136.2 KB\u001b[0m \u001b[31m16.9 MB/s\u001b[0m eta \u001b[36m0:00:00\u001b[0m\n",
            "\u001b[2K     \u001b[90m━━━━━━━━━━━━━━━━━━━━━━━━━━━━━━━━━━━━━━━━\u001b[0m \u001b[32m9.9/9.9 MB\u001b[0m \u001b[31m83.4 MB/s\u001b[0m eta \u001b[36m0:00:00\u001b[0m\n",
            "\u001b[?25h"
          ]
        }
      ],
      "source": [
        "!git clone -q https://github.com/YaninaK/sales-forecast.git\n",
        "!pip install -r sales-forecast/requirements_Colab.txt -q "
      ]
    },
    {
      "cell_type": "code",
      "execution_count": 3,
      "metadata": {
        "colab": {
          "base_uri": "https://localhost:8080/"
        },
        "id": "oGpZTC0tP0QI",
        "outputId": "fd261ce3-7620-4b59-e79c-f4314e7cf99b"
      },
      "outputs": [
        {
          "output_type": "stream",
          "name": "stdout",
          "text": [
            "/content/sales-forecast\n"
          ]
        }
      ],
      "source": [
        "%cd sales-forecast"
      ]
    },
    {
      "cell_type": "code",
      "execution_count": 4,
      "metadata": {
        "id": "9JdDC3FUP1J7"
      },
      "outputs": [],
      "source": [
        "import sys\n",
        "import os\n",
        "\n",
        "sys.path.append(os.getcwd())\n",
        "sys.path.append(os.path.join(os.getcwd(), \"src\", \"sales_forecast\"))"
      ]
    },
    {
      "cell_type": "code",
      "execution_count": 5,
      "metadata": {
        "id": "9IzhaR8jP302"
      },
      "outputs": [],
      "source": [
        "import random\n",
        "import pandas as pd\n",
        "import numpy as np\n",
        "import tensorflow as tf\n",
        "import joblib\n",
        "\n",
        "from data.make_dataset import load_data\n",
        "from src.sales_forecast.models import train\n",
        "\n",
        "from data.johnson_su_transformation import JohnsonSU\n",
        "from data.train_test_datasets import get_train_dataset, get_test_dataset\n",
        "from models.model_LSTM import get_model_LSTM\n",
        "from scripts.train_save_model import train_store"
      ]
    },
    {
      "cell_type": "code",
      "execution_count": 6,
      "metadata": {
        "id": "1htDECSWLpcT"
      },
      "outputs": [],
      "source": [
        "import warnings\n",
        "warnings.filterwarnings('ignore')"
      ]
    },
    {
      "cell_type": "code",
      "execution_count": 7,
      "metadata": {
        "id": "llog_mfTQIGB"
      },
      "outputs": [],
      "source": [
        "PATH = '/content/drive/MyDrive/ML_projects/01_Time_series/sales_forecast/'\n",
        "DEFAULT_RANDOM_SEED = 3"
      ]
    },
    {
      "cell_type": "code",
      "execution_count": 8,
      "metadata": {
        "id": "Q9iGOsyiQLA8"
      },
      "outputs": [],
      "source": [
        "def set_all_seeds(seed=DEFAULT_RANDOM_SEED):\n",
        "  random.seed(seed)\n",
        "  os.environ['PYTHONHASHSEED'] = str(seed)\n",
        "  np.random.seed(seed)\n",
        "  tf.random.set_seed(seed)\n",
        "  \n",
        "set_all_seeds()"
      ]
    },
    {
      "cell_type": "markdown",
      "metadata": {
        "id": "6FplTdRyQ4kR"
      },
      "source": [
        "## 1. Data ingestion"
      ]
    },
    {
      "cell_type": "code",
      "execution_count": 9,
      "metadata": {
        "colab": {
          "base_uri": "https://localhost:8080/",
          "height": 147
        },
        "id": "q20ClbC4Kzr7",
        "outputId": "fbe42a5a-3c10-4eac-93d9-6748653b2396"
      },
      "outputs": [
        {
          "output_type": "stream",
          "name": "stdout",
          "text": [
            "data.shape = (8230, 3)\n",
            "\n"
          ]
        },
        {
          "output_type": "execute_result",
          "data": {
            "text/plain": [
              "   id          dt  target\n",
              "0   0  2016-01-02   747.8\n",
              "1   0  2016-01-03   681.2"
            ],
            "text/html": [
              "\n",
              "  <div id=\"df-1b33c758-e1a6-4b53-b059-9622f4c7b5dd\">\n",
              "    <div class=\"colab-df-container\">\n",
              "      <div>\n",
              "<style scoped>\n",
              "    .dataframe tbody tr th:only-of-type {\n",
              "        vertical-align: middle;\n",
              "    }\n",
              "\n",
              "    .dataframe tbody tr th {\n",
              "        vertical-align: top;\n",
              "    }\n",
              "\n",
              "    .dataframe thead th {\n",
              "        text-align: right;\n",
              "    }\n",
              "</style>\n",
              "<table border=\"1\" class=\"dataframe\">\n",
              "  <thead>\n",
              "    <tr style=\"text-align: right;\">\n",
              "      <th></th>\n",
              "      <th>id</th>\n",
              "      <th>dt</th>\n",
              "      <th>target</th>\n",
              "    </tr>\n",
              "  </thead>\n",
              "  <tbody>\n",
              "    <tr>\n",
              "      <th>0</th>\n",
              "      <td>0</td>\n",
              "      <td>2016-01-02</td>\n",
              "      <td>747.8</td>\n",
              "    </tr>\n",
              "    <tr>\n",
              "      <th>1</th>\n",
              "      <td>0</td>\n",
              "      <td>2016-01-03</td>\n",
              "      <td>681.2</td>\n",
              "    </tr>\n",
              "  </tbody>\n",
              "</table>\n",
              "</div>\n",
              "      <button class=\"colab-df-convert\" onclick=\"convertToInteractive('df-1b33c758-e1a6-4b53-b059-9622f4c7b5dd')\"\n",
              "              title=\"Convert this dataframe to an interactive table.\"\n",
              "              style=\"display:none;\">\n",
              "        \n",
              "  <svg xmlns=\"http://www.w3.org/2000/svg\" height=\"24px\"viewBox=\"0 0 24 24\"\n",
              "       width=\"24px\">\n",
              "    <path d=\"M0 0h24v24H0V0z\" fill=\"none\"/>\n",
              "    <path d=\"M18.56 5.44l.94 2.06.94-2.06 2.06-.94-2.06-.94-.94-2.06-.94 2.06-2.06.94zm-11 1L8.5 8.5l.94-2.06 2.06-.94-2.06-.94L8.5 2.5l-.94 2.06-2.06.94zm10 10l.94 2.06.94-2.06 2.06-.94-2.06-.94-.94-2.06-.94 2.06-2.06.94z\"/><path d=\"M17.41 7.96l-1.37-1.37c-.4-.4-.92-.59-1.43-.59-.52 0-1.04.2-1.43.59L10.3 9.45l-7.72 7.72c-.78.78-.78 2.05 0 2.83L4 21.41c.39.39.9.59 1.41.59.51 0 1.02-.2 1.41-.59l7.78-7.78 2.81-2.81c.8-.78.8-2.07 0-2.86zM5.41 20L4 18.59l7.72-7.72 1.47 1.35L5.41 20z\"/>\n",
              "  </svg>\n",
              "      </button>\n",
              "      \n",
              "  <style>\n",
              "    .colab-df-container {\n",
              "      display:flex;\n",
              "      flex-wrap:wrap;\n",
              "      gap: 12px;\n",
              "    }\n",
              "\n",
              "    .colab-df-convert {\n",
              "      background-color: #E8F0FE;\n",
              "      border: none;\n",
              "      border-radius: 50%;\n",
              "      cursor: pointer;\n",
              "      display: none;\n",
              "      fill: #1967D2;\n",
              "      height: 32px;\n",
              "      padding: 0 0 0 0;\n",
              "      width: 32px;\n",
              "    }\n",
              "\n",
              "    .colab-df-convert:hover {\n",
              "      background-color: #E2EBFA;\n",
              "      box-shadow: 0px 1px 2px rgba(60, 64, 67, 0.3), 0px 1px 3px 1px rgba(60, 64, 67, 0.15);\n",
              "      fill: #174EA6;\n",
              "    }\n",
              "\n",
              "    [theme=dark] .colab-df-convert {\n",
              "      background-color: #3B4455;\n",
              "      fill: #D2E3FC;\n",
              "    }\n",
              "\n",
              "    [theme=dark] .colab-df-convert:hover {\n",
              "      background-color: #434B5C;\n",
              "      box-shadow: 0px 1px 3px 1px rgba(0, 0, 0, 0.15);\n",
              "      filter: drop-shadow(0px 1px 2px rgba(0, 0, 0, 0.3));\n",
              "      fill: #FFFFFF;\n",
              "    }\n",
              "  </style>\n",
              "\n",
              "      <script>\n",
              "        const buttonEl =\n",
              "          document.querySelector('#df-1b33c758-e1a6-4b53-b059-9622f4c7b5dd button.colab-df-convert');\n",
              "        buttonEl.style.display =\n",
              "          google.colab.kernel.accessAllowed ? 'block' : 'none';\n",
              "\n",
              "        async function convertToInteractive(key) {\n",
              "          const element = document.querySelector('#df-1b33c758-e1a6-4b53-b059-9622f4c7b5dd');\n",
              "          const dataTable =\n",
              "            await google.colab.kernel.invokeFunction('convertToInteractive',\n",
              "                                                     [key], {});\n",
              "          if (!dataTable) return;\n",
              "\n",
              "          const docLinkHtml = 'Like what you see? Visit the ' +\n",
              "            '<a target=\"_blank\" href=https://colab.research.google.com/notebooks/data_table.ipynb>data table notebook</a>'\n",
              "            + ' to learn more about interactive tables.';\n",
              "          element.innerHTML = '';\n",
              "          dataTable['output_type'] = 'display_data';\n",
              "          await google.colab.output.renderOutput(dataTable, element);\n",
              "          const docLink = document.createElement('div');\n",
              "          docLink.innerHTML = docLinkHtml;\n",
              "          element.appendChild(docLink);\n",
              "        }\n",
              "      </script>\n",
              "    </div>\n",
              "  </div>\n",
              "  "
            ]
          },
          "metadata": {},
          "execution_count": 9
        }
      ],
      "source": [
        "data = load_data(PATH)\n",
        "\n",
        "print(f'data.shape = {data.shape}\\n')\n",
        "data.head(2)"
      ]
    },
    {
      "cell_type": "markdown",
      "metadata": {
        "id": "BWN9VH40WEMK"
      },
      "source": [
        "## 2. Data preprocessing pipeline"
      ]
    },
    {
      "cell_type": "code",
      "execution_count": 10,
      "metadata": {
        "colab": {
          "base_uri": "https://localhost:8080/"
        },
        "id": "uRbHm4snLIYS",
        "outputId": "4ce3715c-efd1-4b37-c932-3baa583bec74"
      },
      "outputs": [
        {
          "output_type": "stream",
          "name": "stdout",
          "text": [
            "Number of outliers = 8\n"
          ]
        },
        {
          "output_type": "execute_result",
          "data": {
            "text/plain": [
              "(153, 20, 34)"
            ]
          },
          "metadata": {},
          "execution_count": 10
        }
      ],
      "source": [
        "regenerate = True\n",
        "if regenerate:\n",
        "  X = train.data_preprocessing_pipeline(data)\n",
        "else:\n",
        "  X = np.load('data/04_feature/train_dataset.npy')\n",
        "\n",
        "X.shape"
      ]
    },
    {
      "cell_type": "markdown",
      "metadata": {
        "id": "a5yhOwIBedyY"
      },
      "source": [
        "## 3. Model LSTM"
      ]
    },
    {
      "cell_type": "markdown",
      "metadata": {
        "id": "jXi5ehMcei7i"
      },
      "source": [
        "### 3.1 Model architecture"
      ]
    },
    {
      "cell_type": "code",
      "execution_count": 11,
      "metadata": {
        "colab": {
          "base_uri": "https://localhost:8080/"
        },
        "id": "bx3QHckueeZe",
        "outputId": "5b2e9bc8-c218-46d2-ff91-2885ccd87efc"
      },
      "outputs": [
        {
          "output_type": "stream",
          "name": "stdout",
          "text": [
            "Model: \"model\"\n",
            "__________________________________________________________________________________________________\n",
            " Layer (type)                   Output Shape         Param #     Connected to                     \n",
            "==================================================================================================\n",
            " input_1 (InputLayer)           [(None, 54, 34)]     0           []                               \n",
            "                                                                                                  \n",
            " lstm (LSTM)                    [(None, 54, 150),    111000      ['input_1[0][0]']                \n",
            "                                 (None, 150),                                                     \n",
            "                                 (None, 150)]                                                     \n",
            "                                                                                                  \n",
            " lstm_1 (LSTM)                  [(None, 150),        180600      ['lstm[0][0]']                   \n",
            "                                 (None, 150),                                                     \n",
            "                                 (None, 150)]                                                     \n",
            "                                                                                                  \n",
            " repeat_vector (RepeatVector)   (None, 27, 150)      0           ['lstm_1[0][0]']                 \n",
            "                                                                                                  \n",
            " lstm_2 (LSTM)                  (None, 27, 150)      180600      ['repeat_vector[0][0]',          \n",
            "                                                                  'lstm[0][1]',                   \n",
            "                                                                  'lstm[0][2]']                   \n",
            "                                                                                                  \n",
            " lstm_3 (LSTM)                  (None, 27, 150)      180600      ['lstm_2[0][0]',                 \n",
            "                                                                  'lstm_1[0][1]',                 \n",
            "                                                                  'lstm_1[0][2]']                 \n",
            "                                                                                                  \n",
            " time_distributed (TimeDistribu  (None, 27, 34)      5134        ['lstm_3[0][0]']                 \n",
            " ted)                                                                                             \n",
            "                                                                                                  \n",
            "==================================================================================================\n",
            "Total params: 657,934\n",
            "Trainable params: 657,934\n",
            "Non-trainable params: 0\n",
            "__________________________________________________________________________________________________\n"
          ]
        }
      ],
      "source": [
        "n_features = X.shape[2]\n",
        "model = get_model_LSTM(n_features)\n",
        "model.summary()"
      ]
    },
    {
      "cell_type": "markdown",
      "metadata": {
        "id": "eqH3rDIHig3N"
      },
      "source": [
        "### 3.2 Training of the model"
      ]
    },
    {
      "cell_type": "code",
      "source": [
        "X_train, y_train = get_train_dataset(X)\n",
        "X_train.shape, y_train.shape"
      ],
      "metadata": {
        "colab": {
          "base_uri": "https://localhost:8080/"
        },
        "id": "a6RWONYgWN9q",
        "outputId": "a02d04a2-b679-4f3c-9ef3-2a985bb91cf9"
      },
      "execution_count": 12,
      "outputs": [
        {
          "output_type": "execute_result",
          "data": {
            "text/plain": [
              "((900, 54, 34), (900, 27, 34))"
            ]
          },
          "metadata": {},
          "execution_count": 12
        }
      ]
    },
    {
      "cell_type": "code",
      "execution_count": 13,
      "metadata": {
        "colab": {
          "base_uri": "https://localhost:8080/"
        },
        "id": "xHc3LM9eKEUW",
        "outputId": "387960bc-a6f1-4061-bd82-5cacef0168a1"
      },
      "outputs": [
        {
          "output_type": "stream",
          "name": "stdout",
          "text": [
            "Epoch 1/15\n",
            "41/41 [==============================] - 13s 46ms/step - loss: 0.4982 - val_loss: 0.4836 - lr: 0.0300\n",
            "Epoch 2/15\n",
            "41/41 [==============================] - 0s 11ms/step - loss: 0.4357 - val_loss: 0.4596 - lr: 0.0285\n",
            "Epoch 3/15\n",
            "41/41 [==============================] - 0s 11ms/step - loss: 0.4189 - val_loss: 0.4540 - lr: 0.0271\n",
            "Epoch 4/15\n",
            "41/41 [==============================] - 0s 12ms/step - loss: 0.4016 - val_loss: 0.4316 - lr: 0.0257\n",
            "Epoch 5/15\n",
            "41/41 [==============================] - 0s 11ms/step - loss: 0.3873 - val_loss: 0.4158 - lr: 0.0244\n",
            "Epoch 6/15\n",
            "41/41 [==============================] - 0s 12ms/step - loss: 0.3644 - val_loss: 0.3743 - lr: 0.0232\n",
            "Epoch 7/15\n",
            "41/41 [==============================] - 0s 12ms/step - loss: 0.3406 - val_loss: 0.3556 - lr: 0.0221\n",
            "Epoch 8/15\n",
            "41/41 [==============================] - 0s 12ms/step - loss: 0.3259 - val_loss: 0.3412 - lr: 0.0210\n",
            "Epoch 9/15\n",
            "41/41 [==============================] - 0s 12ms/step - loss: 0.3210 - val_loss: 0.3569 - lr: 0.0199\n",
            "Epoch 10/15\n",
            "41/41 [==============================] - 0s 11ms/step - loss: 0.3178 - val_loss: 0.3371 - lr: 0.0189\n",
            "Epoch 11/15\n",
            "41/41 [==============================] - 0s 12ms/step - loss: 0.3104 - val_loss: 0.3733 - lr: 0.0180\n",
            "Epoch 12/15\n",
            "41/41 [==============================] - 1s 12ms/step - loss: 0.3079 - val_loss: 0.3240 - lr: 0.0171\n",
            "Epoch 13/15\n",
            "41/41 [==============================] - 1s 17ms/step - loss: 0.2977 - val_loss: 0.3203 - lr: 0.0162\n",
            "Epoch 14/15\n",
            "41/41 [==============================] - 1s 16ms/step - loss: 0.2905 - val_loss: 0.3232 - lr: 0.0154\n",
            "Epoch 15/15\n",
            "41/41 [==============================] - 1s 16ms/step - loss: 0.2974 - val_loss: 0.3408 - lr: 0.0146\n"
          ]
        }
      ],
      "source": [
        "n_shops = 20\n",
        "n_epochs = 15\n",
        "batch_size = 20\n",
        "m = n_shops * 4\n",
        "\n",
        "reduce_lr = tf.keras.callbacks.LearningRateScheduler(\n",
        "    lambda epoch: 3e-2 * 0.95 ** epoch\n",
        ")\n",
        "model.compile(\n",
        "    optimizer=tf.keras.optimizers.Adam(), \n",
        "    loss=tf.keras.losses.Huber()\n",
        ")\n",
        "history = model.fit(\n",
        "    X_train[:-m, :, :], y_train[:-m, :, :], \n",
        "    epochs=n_epochs,\n",
        "    validation_data=(X_train[-m:, :, :], y_train[-m:, :, :]),\n",
        "    batch_size=batch_size, \n",
        "    verbose=1,\n",
        "    callbacks=[reduce_lr]\n",
        ")"
      ]
    },
    {
      "cell_type": "markdown",
      "metadata": {
        "id": "-T-FivMrYoH5"
      },
      "source": [
        "### 3.3 Inference"
      ]
    },
    {
      "cell_type": "code",
      "execution_count": 14,
      "metadata": {
        "id": "uyn5BLhgYHO3"
      },
      "outputs": [],
      "source": [
        "X_test, y_test = get_test_dataset(X)"
      ]
    },
    {
      "cell_type": "code",
      "execution_count": 15,
      "metadata": {
        "colab": {
          "base_uri": "https://localhost:8080/"
        },
        "id": "dgZcymnwX7hH",
        "outputId": "f37446c2-637c-4529-9c23-9f9666343319"
      },
      "outputs": [
        {
          "output_type": "stream",
          "name": "stdout",
          "text": [
            "1/1 [==============================] - 2s 2s/step\n"
          ]
        },
        {
          "output_type": "execute_result",
          "data": {
            "text/plain": [
              "(20, 27, 34)"
            ]
          },
          "metadata": {},
          "execution_count": 15
        }
      ],
      "source": [
        "pred = model.predict(X_test)\n",
        "pred.shape"
      ]
    },
    {
      "cell_type": "markdown",
      "metadata": {
        "id": "LphmAbjGZkA3"
      },
      "source": [
        "### 3.4 Model evaluation"
      ]
    },
    {
      "cell_type": "markdown",
      "metadata": {
        "id": "nkFU4RxZZk8-"
      },
      "source": [
        "#### Mean absolute scaled error (MASE) \n",
        "https://en.wikipedia.org/wiki/Mean_absolute_scaled_error"
      ]
    },
    {
      "cell_type": "markdown",
      "metadata": {
        "id": "nM1Cj-_XZpsO"
      },
      "source": [
        "The denominator of mean absolute scaled error is the mean absolute error of the one-step \"seasonal naive forecast method\" on the training set, which uses the actual value from the prior 30 days as the forecast: \n",
        "* F(t) = Y(t−30)\n",
        "\n",
        "MASE is scale-free error metric. So, it can be applied to scaled data without extra iteration of inverse scaling."
      ]
    },
    {
      "cell_type": "code",
      "execution_count": 16,
      "metadata": {
        "colab": {
          "base_uri": "https://localhost:8080/"
        },
        "id": "jSPdjqEztRix",
        "outputId": "f79615c6-fcf9-4895-f6f5-d8701682a8d9"
      },
      "outputs": [
        {
          "output_type": "execute_result",
          "data": {
            "text/plain": [
              "((20, 27, 34), (20, 27, 34))"
            ]
          },
          "metadata": {},
          "execution_count": 16
        }
      ],
      "source": [
        "pred.shape, y_test.shape"
      ]
    },
    {
      "cell_type": "code",
      "execution_count": 17,
      "metadata": {
        "colab": {
          "base_uri": "https://localhost:8080/"
        },
        "id": "H7m2mh1I8rm6",
        "outputId": "413bbd27-85ed-4ec1-e4a4-f87e02163b66"
      },
      "outputs": [
        {
          "output_type": "stream",
          "name": "stdout",
          "text": [
            "Mean absolute scaled error = 0.9445\n"
          ]
        }
      ],
      "source": [
        "forecast_error = abs(pred[:, :, 0] - y_test[:, :, 0]).mean()\n",
        "mase = forecast_error / abs(y_test[:, :, 6]).mean()\n",
        "\n",
        "print(f'Mean absolute scaled error = {round(mase.mean(), 4)}')"
      ]
    },
    {
      "cell_type": "markdown",
      "metadata": {
        "id": "sYbpp1abZzxQ"
      },
      "source": [
        "__Findings:__\n",
        "\n",
        "* Out of 72 samples available for training (153 less input and output sequence length) 4 were used for validation of the model and 27 for testing. So, we had only 41 samples for training of the model and it is definately not sufficient.\n",
        "\n",
        "* To get more accurate predictions, we need to retrain the model on the full set of data. It should improve the final results."
      ]
    },
    {
      "cell_type": "markdown",
      "metadata": {
        "id": "vmXsJCA5Z0t9"
      },
      "source": [
        "## 4. Final prediction"
      ]
    },
    {
      "cell_type": "markdown",
      "metadata": {
        "id": "wpg_5giedIV5"
      },
      "source": [
        "### 4.1. Dataset"
      ]
    },
    {
      "cell_type": "code",
      "execution_count": 18,
      "metadata": {
        "colab": {
          "base_uri": "https://localhost:8080/"
        },
        "id": "cN70_li0aLy2",
        "outputId": "bf190fb8-52de-428a-db87-d347658cc1e7"
      },
      "outputs": [
        {
          "output_type": "execute_result",
          "data": {
            "text/plain": [
              "((1440, 54, 34), (1440, 27, 34), (20, 54, 34))"
            ]
          },
          "metadata": {},
          "execution_count": 18
        }
      ],
      "source": [
        "X_train, y_train = get_train_dataset(X, final=True)\n",
        "X_test = get_test_dataset(X, final=True)\n",
        "\n",
        "X_train.shape, y_train.shape, X_test.shape"
      ]
    },
    {
      "cell_type": "markdown",
      "metadata": {
        "id": "MC_L5BwPdCb-"
      },
      "source": [
        "### 4.2. Retraining the model on full dataset"
      ]
    },
    {
      "cell_type": "code",
      "execution_count": 19,
      "metadata": {
        "colab": {
          "base_uri": "https://localhost:8080/"
        },
        "id": "jYh4p4YQaffn",
        "outputId": "1b527cb6-8407-4554-910a-3efa6202eeb7"
      },
      "outputs": [
        {
          "output_type": "stream",
          "name": "stdout",
          "text": [
            "Epoch 1/15\n",
            "68/68 [==============================] - 8s 31ms/step - loss: 0.4542 - val_loss: 0.4276 - lr: 0.0300\n",
            "Epoch 2/15\n",
            "68/68 [==============================] - 1s 11ms/step - loss: 0.4226 - val_loss: 0.4262 - lr: 0.0285\n",
            "Epoch 3/15\n",
            "68/68 [==============================] - 1s 12ms/step - loss: 0.4065 - val_loss: 0.4139 - lr: 0.0271\n",
            "Epoch 4/15\n",
            "68/68 [==============================] - 1s 15ms/step - loss: 0.3964 - val_loss: 0.4054 - lr: 0.0257\n",
            "Epoch 5/15\n",
            "68/68 [==============================] - 1s 15ms/step - loss: 0.3843 - val_loss: 0.3679 - lr: 0.0244\n",
            "Epoch 6/15\n",
            "68/68 [==============================] - 1s 16ms/step - loss: 0.3694 - val_loss: 0.3554 - lr: 0.0232\n",
            "Epoch 7/15\n",
            "68/68 [==============================] - 1s 18ms/step - loss: 0.3535 - val_loss: 0.3447 - lr: 0.0221\n",
            "Epoch 8/15\n",
            "68/68 [==============================] - 2s 23ms/step - loss: 0.3461 - val_loss: 0.3405 - lr: 0.0210\n",
            "Epoch 9/15\n",
            "68/68 [==============================] - 1s 12ms/step - loss: 0.3353 - val_loss: 0.3337 - lr: 0.0199\n",
            "Epoch 10/15\n",
            "68/68 [==============================] - 1s 11ms/step - loss: 0.3262 - val_loss: 0.3200 - lr: 0.0189\n",
            "Epoch 11/15\n",
            "68/68 [==============================] - 1s 11ms/step - loss: 0.3146 - val_loss: 0.3106 - lr: 0.0180\n",
            "Epoch 12/15\n",
            "68/68 [==============================] - 1s 11ms/step - loss: 0.3034 - val_loss: 0.3083 - lr: 0.0171\n",
            "Epoch 13/15\n",
            "68/68 [==============================] - 1s 11ms/step - loss: 0.2968 - val_loss: 0.3016 - lr: 0.0162\n",
            "Epoch 14/15\n",
            "68/68 [==============================] - 1s 11ms/step - loss: 0.2864 - val_loss: 0.3068 - lr: 0.0154\n",
            "Epoch 15/15\n",
            "68/68 [==============================] - 1s 11ms/step - loss: 0.2827 - val_loss: 0.3020 - lr: 0.0146\n"
          ]
        }
      ],
      "source": [
        "n_shops = 20\n",
        "n_epochs = 15\n",
        "batch_size = 20\n",
        "m = n_shops * 4\n",
        "\n",
        "model = get_model_LSTM(n_features=X_train.shape[2], n_units=150)\n",
        "\n",
        "reduce_lr = tf.keras.callbacks.LearningRateScheduler(\n",
        "    lambda epoch: 3e-2 * 0.95 ** epoch\n",
        ")\n",
        "model.compile(\n",
        "    optimizer=tf.keras.optimizers.Adam(), \n",
        "    loss=tf.keras.losses.Huber()\n",
        ")\n",
        "history = model.fit(\n",
        "    X_train[:-m, :, :], y_train[:-m, :, :], \n",
        "    epochs=n_epochs,\n",
        "    validation_data=(X_train[-m:, :, :], y_train[-m:, :, :]),\n",
        "    batch_size=batch_size, \n",
        "    verbose=1,\n",
        "    callbacks=[reduce_lr]\n",
        ")"
      ]
    },
    {
      "cell_type": "code",
      "execution_count": 20,
      "metadata": {
        "colab": {
          "base_uri": "https://localhost:8080/",
          "height": 295
        },
        "id": "ys70q4i4bOj8",
        "outputId": "453ed7aa-6aee-4a71-ce0c-f05e89de56d7"
      },
      "outputs": [
        {
          "output_type": "display_data",
          "data": {
            "text/plain": [
              "<Figure size 432x288 with 1 Axes>"
            ],
            "image/png": "[encoded data removed]"
          },
          "metadata": {
            "needs_background": "light"
          }
        }
      ],
      "source": [
        "import matplotlib.pyplot as plt\n",
        "\n",
        "plt.plot(history.history['loss'])\n",
        "plt.plot(history.history['val_loss'])\n",
        "plt.title(\"Model Loss\")\n",
        "plt.xlabel('Epochs')\n",
        "plt.ylabel('Loss')\n",
        "plt.legend(['Train', 'Valid'])\n",
        "plt.show()"
      ]
    },
    {
      "cell_type": "markdown",
      "metadata": {
        "id": "_n6z3yuZc0Uj"
      },
      "source": [
        "### 4.3 Model evaluation on validation set"
      ]
    },
    {
      "cell_type": "code",
      "source": [
        "pred = model.predict(X_train[-m:, :, :])\n",
        "pred[:, :, 0].shape,"
      ],
      "metadata": {
        "colab": {
          "base_uri": "https://localhost:8080/"
        },
        "id": "w0SzRmu52i5b",
        "outputId": "a7621f23-8799-4b73-deb7-a6542f82bb24"
      },
      "execution_count": 21,
      "outputs": [
        {
          "output_type": "stream",
          "name": "stdout",
          "text": [
            "3/3 [==============================] - 1s 9ms/step\n"
          ]
        },
        {
          "output_type": "execute_result",
          "data": {
            "text/plain": [
              "((80, 27),)"
            ]
          },
          "metadata": {},
          "execution_count": 21
        }
      ]
    },
    {
      "cell_type": "code",
      "source": [
        "forecast_error = abs(pred[:, :, 0] -  y_train[-m:, :, 0]).mean()\n",
        "mase = forecast_error / abs( y_train[-m:, :, 6]).mean()\n",
        "\n",
        "print(f'Mean absolute scaled error = {round(mase.mean(), 4)}')"
      ],
      "metadata": {
        "colab": {
          "base_uri": "https://localhost:8080/"
        },
        "id": "XFTzEJ8Plx_g",
        "outputId": "5f009228-33f4-4402-c888-0df6ecf31e48"
      },
      "execution_count": 22,
      "outputs": [
        {
          "output_type": "stream",
          "name": "stdout",
          "text": [
            "Mean absolute scaled error = 0.5157\n"
          ]
        }
      ]
    },
    {
      "cell_type": "markdown",
      "metadata": {
        "id": "kZhWz7U2eEEt"
      },
      "source": [
        "### 4.4. Inference"
      ]
    },
    {
      "cell_type": "code",
      "execution_count": 23,
      "metadata": {
        "colab": {
          "base_uri": "https://localhost:8080/"
        },
        "id": "2tID_JZRd8Za",
        "outputId": "495611c5-1ce4-4774-b092-43702dc8e539"
      },
      "outputs": [
        {
          "output_type": "stream",
          "name": "stdout",
          "text": [
            "1/1 [==============================] - 0s 31ms/step\n"
          ]
        }
      ],
      "source": [
        "pred_final = model.predict(X_test)"
      ]
    },
    {
      "cell_type": "markdown",
      "metadata": {
        "id": "pk8ade9Hcllm"
      },
      "source": [
        "### 4.5. Inverse transformation of predictions"
      ]
    },
    {
      "cell_type": "code",
      "execution_count": 24,
      "metadata": {
        "id": "Ys__JvK9csEI"
      },
      "outputs": [],
      "source": [
        "scaler = joblib.load('data/03_primary/scaler_js.joblib')"
      ]
    },
    {
      "cell_type": "code",
      "execution_count": 25,
      "metadata": {
        "colab": {
          "base_uri": "https://localhost:8080/"
        },
        "id": "y3vKlBKBcm-B",
        "outputId": "c1d640dd-7225-4004-b91d-b13f6c6297fe"
      },
      "outputs": [
        {
          "output_type": "execute_result",
          "data": {
            "text/plain": [
              "(27, 20)"
            ]
          },
          "metadata": {},
          "execution_count": 25
        }
      ],
      "source": [
        "arr_pred = pred_final[:, :, 0]\n",
        "y_pred = pd.DataFrame(arr_pred).T\n",
        "y_pred_rescaled = scaler.inv_transform(y_pred)\n",
        "y_pred_rescaled.shape"
      ]
    },
    {
      "cell_type": "markdown",
      "metadata": {
        "id": "HJyYOGDhcfl9"
      },
      "source": [
        "### 4.6. Generation of the final result"
      ]
    },
    {
      "cell_type": "code",
      "execution_count": 26,
      "metadata": {
        "colab": {
          "base_uri": "https://localhost:8080/",
          "height": 147
        },
        "id": "siV8XdBscJpb",
        "outputId": "a971654d-b4e5-43a4-9f2c-13ad442fbc25"
      },
      "outputs": [
        {
          "output_type": "stream",
          "name": "stdout",
          "text": [
            "test.shape = (540, 3)\n",
            "\n"
          ]
        },
        {
          "output_type": "execute_result",
          "data": {
            "text/plain": [
              "   id          dt  target\n",
              "0   0  2017-07-01     500\n",
              "1   0  2017-07-02     500"
            ],
            "text/html": [
              "\n",
              "  <div id=\"df-c2d626da-4995-4837-b0e6-d0870aa8679c\">\n",
              "    <div class=\"colab-df-container\">\n",
              "      <div>\n",
              "<style scoped>\n",
              "    .dataframe tbody tr th:only-of-type {\n",
              "        vertical-align: middle;\n",
              "    }\n",
              "\n",
              "    .dataframe tbody tr th {\n",
              "        vertical-align: top;\n",
              "    }\n",
              "\n",
              "    .dataframe thead th {\n",
              "        text-align: right;\n",
              "    }\n",
              "</style>\n",
              "<table border=\"1\" class=\"dataframe\">\n",
              "  <thead>\n",
              "    <tr style=\"text-align: right;\">\n",
              "      <th></th>\n",
              "      <th>id</th>\n",
              "      <th>dt</th>\n",
              "      <th>target</th>\n",
              "    </tr>\n",
              "  </thead>\n",
              "  <tbody>\n",
              "    <tr>\n",
              "      <th>0</th>\n",
              "      <td>0</td>\n",
              "      <td>2017-07-01</td>\n",
              "      <td>500</td>\n",
              "    </tr>\n",
              "    <tr>\n",
              "      <th>1</th>\n",
              "      <td>0</td>\n",
              "      <td>2017-07-02</td>\n",
              "      <td>500</td>\n",
              "    </tr>\n",
              "  </tbody>\n",
              "</table>\n",
              "</div>\n",
              "      <button class=\"colab-df-convert\" onclick=\"convertToInteractive('df-c2d626da-4995-4837-b0e6-d0870aa8679c')\"\n",
              "              title=\"Convert this dataframe to an interactive table.\"\n",
              "              style=\"display:none;\">\n",
              "        \n",
              "  <svg xmlns=\"http://www.w3.org/2000/svg\" height=\"24px\"viewBox=\"0 0 24 24\"\n",
              "       width=\"24px\">\n",
              "    <path d=\"M0 0h24v24H0V0z\" fill=\"none\"/>\n",
              "    <path d=\"M18.56 5.44l.94 2.06.94-2.06 2.06-.94-2.06-.94-.94-2.06-.94 2.06-2.06.94zm-11 1L8.5 8.5l.94-2.06 2.06-.94-2.06-.94L8.5 2.5l-.94 2.06-2.06.94zm10 10l.94 2.06.94-2.06 2.06-.94-2.06-.94-.94-2.06-.94 2.06-2.06.94z\"/><path d=\"M17.41 7.96l-1.37-1.37c-.4-.4-.92-.59-1.43-.59-.52 0-1.04.2-1.43.59L10.3 9.45l-7.72 7.72c-.78.78-.78 2.05 0 2.83L4 21.41c.39.39.9.59 1.41.59.51 0 1.02-.2 1.41-.59l7.78-7.78 2.81-2.81c.8-.78.8-2.07 0-2.86zM5.41 20L4 18.59l7.72-7.72 1.47 1.35L5.41 20z\"/>\n",
              "  </svg>\n",
              "      </button>\n",
              "      \n",
              "  <style>\n",
              "    .colab-df-container {\n",
              "      display:flex;\n",
              "      flex-wrap:wrap;\n",
              "      gap: 12px;\n",
              "    }\n",
              "\n",
              "    .colab-df-convert {\n",
              "      background-color: #E8F0FE;\n",
              "      border: none;\n",
              "      border-radius: 50%;\n",
              "      cursor: pointer;\n",
              "      display: none;\n",
              "      fill: #1967D2;\n",
              "      height: 32px;\n",
              "      padding: 0 0 0 0;\n",
              "      width: 32px;\n",
              "    }\n",
              "\n",
              "    .colab-df-convert:hover {\n",
              "      background-color: #E2EBFA;\n",
              "      box-shadow: 0px 1px 2px rgba(60, 64, 67, 0.3), 0px 1px 3px 1px rgba(60, 64, 67, 0.15);\n",
              "      fill: #174EA6;\n",
              "    }\n",
              "\n",
              "    [theme=dark] .colab-df-convert {\n",
              "      background-color: #3B4455;\n",
              "      fill: #D2E3FC;\n",
              "    }\n",
              "\n",
              "    [theme=dark] .colab-df-convert:hover {\n",
              "      background-color: #434B5C;\n",
              "      box-shadow: 0px 1px 3px 1px rgba(0, 0, 0, 0.15);\n",
              "      filter: drop-shadow(0px 1px 2px rgba(0, 0, 0, 0.3));\n",
              "      fill: #FFFFFF;\n",
              "    }\n",
              "  </style>\n",
              "\n",
              "      <script>\n",
              "        const buttonEl =\n",
              "          document.querySelector('#df-c2d626da-4995-4837-b0e6-d0870aa8679c button.colab-df-convert');\n",
              "        buttonEl.style.display =\n",
              "          google.colab.kernel.accessAllowed ? 'block' : 'none';\n",
              "\n",
              "        async function convertToInteractive(key) {\n",
              "          const element = document.querySelector('#df-c2d626da-4995-4837-b0e6-d0870aa8679c');\n",
              "          const dataTable =\n",
              "            await google.colab.kernel.invokeFunction('convertToInteractive',\n",
              "                                                     [key], {});\n",
              "          if (!dataTable) return;\n",
              "\n",
              "          const docLinkHtml = 'Like what you see? Visit the ' +\n",
              "            '<a target=\"_blank\" href=https://colab.research.google.com/notebooks/data_table.ipynb>data table notebook</a>'\n",
              "            + ' to learn more about interactive tables.';\n",
              "          element.innerHTML = '';\n",
              "          dataTable['output_type'] = 'display_data';\n",
              "          await google.colab.output.renderOutput(dataTable, element);\n",
              "          const docLink = document.createElement('div');\n",
              "          docLink.innerHTML = docLinkHtml;\n",
              "          element.appendChild(docLink);\n",
              "        }\n",
              "      </script>\n",
              "    </div>\n",
              "  </div>\n",
              "  "
            ]
          },
          "metadata": {},
          "execution_count": 26
        }
      ],
      "source": [
        "predict_example = pd.read_parquet(PATH + 'data/01_raw/sample_submit.parquet.gzip')\n",
        "print(f'test.shape = {predict_example.shape}\\n')\n",
        "predict_example.head(2)"
      ]
    },
    {
      "cell_type": "code",
      "execution_count": 27,
      "metadata": {
        "colab": {
          "base_uri": "https://localhost:8080/",
          "height": 206
        },
        "id": "BCB_XnyDb1P5",
        "outputId": "cda294fa-a70a-4fa3-f52f-728dccbc9107"
      },
      "outputs": [
        {
          "output_type": "execute_result",
          "data": {
            "text/plain": [
              "   id          dt      target\n",
              "0   0  2017-07-01  700.501168\n",
              "1   0  2017-07-02  627.573811\n",
              "2   0  2017-07-03  653.019479\n",
              "3   0  2017-07-04  672.022311\n",
              "4   0  2017-07-06  881.259424"
            ],
            "text/html": [
              "\n",
              "  <div id=\"df-f163944a-4b9b-4575-8228-315e71d2e3a3\">\n",
              "    <div class=\"colab-df-container\">\n",
              "      <div>\n",
              "<style scoped>\n",
              "    .dataframe tbody tr th:only-of-type {\n",
              "        vertical-align: middle;\n",
              "    }\n",
              "\n",
              "    .dataframe tbody tr th {\n",
              "        vertical-align: top;\n",
              "    }\n",
              "\n",
              "    .dataframe thead th {\n",
              "        text-align: right;\n",
              "    }\n",
              "</style>\n",
              "<table border=\"1\" class=\"dataframe\">\n",
              "  <thead>\n",
              "    <tr style=\"text-align: right;\">\n",
              "      <th></th>\n",
              "      <th>id</th>\n",
              "      <th>dt</th>\n",
              "      <th>target</th>\n",
              "    </tr>\n",
              "  </thead>\n",
              "  <tbody>\n",
              "    <tr>\n",
              "      <th>0</th>\n",
              "      <td>0</td>\n",
              "      <td>2017-07-01</td>\n",
              "      <td>700.501168</td>\n",
              "    </tr>\n",
              "    <tr>\n",
              "      <th>1</th>\n",
              "      <td>0</td>\n",
              "      <td>2017-07-02</td>\n",
              "      <td>627.573811</td>\n",
              "    </tr>\n",
              "    <tr>\n",
              "      <th>2</th>\n",
              "      <td>0</td>\n",
              "      <td>2017-07-03</td>\n",
              "      <td>653.019479</td>\n",
              "    </tr>\n",
              "    <tr>\n",
              "      <th>3</th>\n",
              "      <td>0</td>\n",
              "      <td>2017-07-04</td>\n",
              "      <td>672.022311</td>\n",
              "    </tr>\n",
              "    <tr>\n",
              "      <th>4</th>\n",
              "      <td>0</td>\n",
              "      <td>2017-07-06</td>\n",
              "      <td>881.259424</td>\n",
              "    </tr>\n",
              "  </tbody>\n",
              "</table>\n",
              "</div>\n",
              "      <button class=\"colab-df-convert\" onclick=\"convertToInteractive('df-f163944a-4b9b-4575-8228-315e71d2e3a3')\"\n",
              "              title=\"Convert this dataframe to an interactive table.\"\n",
              "              style=\"display:none;\">\n",
              "        \n",
              "  <svg xmlns=\"http://www.w3.org/2000/svg\" height=\"24px\"viewBox=\"0 0 24 24\"\n",
              "       width=\"24px\">\n",
              "    <path d=\"M0 0h24v24H0V0z\" fill=\"none\"/>\n",
              "    <path d=\"M18.56 5.44l.94 2.06.94-2.06 2.06-.94-2.06-.94-.94-2.06-.94 2.06-2.06.94zm-11 1L8.5 8.5l.94-2.06 2.06-.94-2.06-.94L8.5 2.5l-.94 2.06-2.06.94zm10 10l.94 2.06.94-2.06 2.06-.94-2.06-.94-.94-2.06-.94 2.06-2.06.94z\"/><path d=\"M17.41 7.96l-1.37-1.37c-.4-.4-.92-.59-1.43-.59-.52 0-1.04.2-1.43.59L10.3 9.45l-7.72 7.72c-.78.78-.78 2.05 0 2.83L4 21.41c.39.39.9.59 1.41.59.51 0 1.02-.2 1.41-.59l7.78-7.78 2.81-2.81c.8-.78.8-2.07 0-2.86zM5.41 20L4 18.59l7.72-7.72 1.47 1.35L5.41 20z\"/>\n",
              "  </svg>\n",
              "      </button>\n",
              "      \n",
              "  <style>\n",
              "    .colab-df-container {\n",
              "      display:flex;\n",
              "      flex-wrap:wrap;\n",
              "      gap: 12px;\n",
              "    }\n",
              "\n",
              "    .colab-df-convert {\n",
              "      background-color: #E8F0FE;\n",
              "      border: none;\n",
              "      border-radius: 50%;\n",
              "      cursor: pointer;\n",
              "      display: none;\n",
              "      fill: #1967D2;\n",
              "      height: 32px;\n",
              "      padding: 0 0 0 0;\n",
              "      width: 32px;\n",
              "    }\n",
              "\n",
              "    .colab-df-convert:hover {\n",
              "      background-color: #E2EBFA;\n",
              "      box-shadow: 0px 1px 2px rgba(60, 64, 67, 0.3), 0px 1px 3px 1px rgba(60, 64, 67, 0.15);\n",
              "      fill: #174EA6;\n",
              "    }\n",
              "\n",
              "    [theme=dark] .colab-df-convert {\n",
              "      background-color: #3B4455;\n",
              "      fill: #D2E3FC;\n",
              "    }\n",
              "\n",
              "    [theme=dark] .colab-df-convert:hover {\n",
              "      background-color: #434B5C;\n",
              "      box-shadow: 0px 1px 3px 1px rgba(0, 0, 0, 0.15);\n",
              "      filter: drop-shadow(0px 1px 2px rgba(0, 0, 0, 0.3));\n",
              "      fill: #FFFFFF;\n",
              "    }\n",
              "  </style>\n",
              "\n",
              "      <script>\n",
              "        const buttonEl =\n",
              "          document.querySelector('#df-f163944a-4b9b-4575-8228-315e71d2e3a3 button.colab-df-convert');\n",
              "        buttonEl.style.display =\n",
              "          google.colab.kernel.accessAllowed ? 'block' : 'none';\n",
              "\n",
              "        async function convertToInteractive(key) {\n",
              "          const element = document.querySelector('#df-f163944a-4b9b-4575-8228-315e71d2e3a3');\n",
              "          const dataTable =\n",
              "            await google.colab.kernel.invokeFunction('convertToInteractive',\n",
              "                                                     [key], {});\n",
              "          if (!dataTable) return;\n",
              "\n",
              "          const docLinkHtml = 'Like what you see? Visit the ' +\n",
              "            '<a target=\"_blank\" href=https://colab.research.google.com/notebooks/data_table.ipynb>data table notebook</a>'\n",
              "            + ' to learn more about interactive tables.';\n",
              "          element.innerHTML = '';\n",
              "          dataTable['output_type'] = 'display_data';\n",
              "          await google.colab.output.renderOutput(dataTable, element);\n",
              "          const docLink = document.createElement('div');\n",
              "          docLink.innerHTML = docLinkHtml;\n",
              "          element.appendChild(docLink);\n",
              "        }\n",
              "      </script>\n",
              "    </div>\n",
              "  </div>\n",
              "  "
            ]
          },
          "metadata": {},
          "execution_count": 27
        }
      ],
      "source": [
        "n_shops = 20\n",
        "for i in range(n_shops):\n",
        "  predict_example.loc[predict_example['id'] == i, 'target'] = y_pred_rescaled.loc[:, i]\n",
        "\n",
        "predict_example.to_parquet(\n",
        "    'data/06_model_output/sales_forecast_lstm.parquet.gzip', compression='gzip'\n",
        ")\n",
        "predict_example.head()"
      ]
    },
    {
      "cell_type": "markdown",
      "metadata": {
        "id": "k5l6afUrb7Iy"
      },
      "source": [
        "## 5. Findings"
      ]
    },
    {
      "cell_type": "markdown",
      "metadata": {
        "id": "4I1SyQe3b_ht"
      },
      "source": [
        "* LSTM model has not generated the prominent results. However, model predictions are better than the naive forecast with sales for the previous month. "
      ]
    }
  ],
  "metadata": {
    "colab": {
      "provenance": [],
      "authorship_tag": "ABX9TyNAWyGQucTJdbW7h/8fxiTB",
      "include_colab_link": true
    },
    "gpuClass": "standard",
    "kernelspec": {
      "display_name": "Python 3",
      "name": "python3"
    },
    "language_info": {
      "name": "python"
    },
    "accelerator": "GPU"
  },
  "nbformat": 4,
  "nbformat_minor": 0
}