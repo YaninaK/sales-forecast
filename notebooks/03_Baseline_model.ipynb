{
  "cells": [
    {
      "cell_type": "markdown",
      "metadata": {
        "id": "view-in-github",
        "colab_type": "text"
      },
      "source": [
        "<a href=\"https://colab.research.google.com/github/YaninaK/sales-forecast/blob/main/notebooks/03_Baseline_model.ipynb\" target=\"_parent\"><img src=\"https://colab.research.google.com/assets/colab-badge.svg\" alt=\"Open In Colab\"/></a>"
      ]
    },
    {
      "cell_type": "markdown",
      "metadata": {
        "id": "yw1w9JFTOyl0"
      },
      "source": [
        "# Sales forecast for 20 stores for 31 days' period.\n",
        "\n",
        "## Baseline model - LSTM"
      ]
    },
    {
      "cell_type": "markdown",
      "metadata": {
        "id": "0ntOLUaWO_Zl"
      },
      "source": [
        "[EDA - omissions and cluster analysis](\n",
        "https://colab.research.google.com/drive/1udCgyEt7lusSY43lnduVDEnZvdvVEt9h?usp=sharing)\n",
        "\n",
        "[Feature extraction](https://colab.research.google.com/drive/1H-vQoHnycp62YuZD1xrmIDjufpDu7ig3?usp=sharing)"
      ]
    },
    {
      "cell_type": "code",
      "execution_count": 1,
      "metadata": {
        "colab": {
          "base_uri": "https://localhost:8080/"
        },
        "id": "NP9i317dO3-E",
        "outputId": "f3382964-45d0-4b51-d30d-f2f6008d3324"
      },
      "outputs": [
        {
          "output_type": "stream",
          "name": "stdout",
          "text": [
            "Mounted at /content/drive\n"
          ]
        }
      ],
      "source": [
        "from google.colab import drive\n",
        "drive.mount('/content/drive')"
      ]
    },
    {
      "cell_type": "code",
      "execution_count": 2,
      "metadata": {
        "colab": {
          "base_uri": "https://localhost:8080/"
        },
        "id": "NOaainxsPvh1",
        "outputId": "43ddf964-73f3-45e4-d6f4-87b953b29254"
      },
      "outputs": [
        {
          "output_type": "stream",
          "name": "stdout",
          "text": [
            "\u001b[?25l     \u001b[90m━━━━━━━━━━━━━━━━━━━━━━━━━━━━━━━━━━━━━━━━\u001b[0m \u001b[32m0.0/358.2 KB\u001b[0m \u001b[31m?\u001b[0m eta \u001b[36m-:--:--\u001b[0m\r\u001b[2K     \u001b[91m━━━━━━━━━━━━━━━━━━━━━━━━━\u001b[0m\u001b[91m╸\u001b[0m\u001b[90m━━━━━━━━━━━━━\u001b[0m \u001b[32m235.5/358.2 KB\u001b[0m \u001b[31m7.0 MB/s\u001b[0m eta \u001b[36m0:00:01\u001b[0m\r\u001b[2K     \u001b[90m━━━━━━━━━━━━━━━━━━━━━━━━━━━━━━━━━━━━━━━\u001b[0m \u001b[32m358.2/358.2 KB\u001b[0m \u001b[31m7.0 MB/s\u001b[0m eta \u001b[36m0:00:00\u001b[0m\n",
            "\u001b[2K     \u001b[90m━━━━━━━━━━━━━━━━━━━━━━━━━━━━━━━━━━━━━━━━\u001b[0m \u001b[32m98.2/98.2 KB\u001b[0m \u001b[31m12.6 MB/s\u001b[0m eta \u001b[36m0:00:00\u001b[0m\n",
            "\u001b[2K     \u001b[90m━━━━━━━━━━━━━━━━━━━━━━━━━━━━━━━━━━━━━━\u001b[0m \u001b[32m136.2/136.2 KB\u001b[0m \u001b[31m15.3 MB/s\u001b[0m eta \u001b[36m0:00:00\u001b[0m\n",
            "\u001b[2K     \u001b[90m━━━━━━━━━━━━━━━━━━━━━━━━━━━━━━━━━━━━━━━━\u001b[0m \u001b[32m9.9/9.9 MB\u001b[0m \u001b[31m84.5 MB/s\u001b[0m eta \u001b[36m0:00:00\u001b[0m\n",
            "\u001b[?25h"
          ]
        }
      ],
      "source": [
        "!git clone -q https://github.com/YaninaK/sales-forecast.git\n",
        "!pip install -r sales-forecast/requirements_Colab.txt -q "
      ]
    },
    {
      "cell_type": "code",
      "execution_count": 3,
      "metadata": {
        "colab": {
          "base_uri": "https://localhost:8080/"
        },
        "id": "oGpZTC0tP0QI",
        "outputId": "5fe60689-1610-42da-dd9c-ac0ea7be24c4"
      },
      "outputs": [
        {
          "output_type": "stream",
          "name": "stdout",
          "text": [
            "/content/sales-forecast\n"
          ]
        }
      ],
      "source": [
        "%cd sales-forecast"
      ]
    },
    {
      "cell_type": "code",
      "execution_count": 4,
      "metadata": {
        "id": "9JdDC3FUP1J7"
      },
      "outputs": [],
      "source": [
        "import sys\n",
        "import os\n",
        "\n",
        "sys.path.append(os.getcwd())\n",
        "sys.path.append(os.path.join(os.getcwd(), \"src\", \"sales_forecast\"))"
      ]
    },
    {
      "cell_type": "code",
      "execution_count": 5,
      "metadata": {
        "id": "9IzhaR8jP302"
      },
      "outputs": [],
      "source": [
        "import random\n",
        "import pandas as pd\n",
        "import numpy as np\n",
        "import tensorflow as tf\n",
        "import joblib\n",
        "\n",
        "from data.make_dataset import load_data\n",
        "from src.sales_forecast.models import train\n",
        "\n",
        "from data.johnson_su_transformation import JohnsonSU\n",
        "from data.train_test_datasets import get_train_dataset, get_test_dataset\n",
        "from models.model_LSTM import get_model_LSTM\n",
        "from scripts.train_save_model import train_store"
      ]
    },
    {
      "cell_type": "code",
      "execution_count": 6,
      "metadata": {
        "id": "1htDECSWLpcT"
      },
      "outputs": [],
      "source": [
        "import warnings\n",
        "warnings.filterwarnings('ignore')"
      ]
    },
    {
      "cell_type": "code",
      "execution_count": 7,
      "metadata": {
        "id": "llog_mfTQIGB"
      },
      "outputs": [],
      "source": [
        "PATH = '/content/drive/MyDrive/ML_projects/01_Time_series/sales_forecast/'\n",
        "DEFAULT_RANDOM_SEED = 3"
      ]
    },
    {
      "cell_type": "code",
      "execution_count": 8,
      "metadata": {
        "id": "Q9iGOsyiQLA8"
      },
      "outputs": [],
      "source": [
        "def set_all_seeds(seed=DEFAULT_RANDOM_SEED):\n",
        "  random.seed(seed)\n",
        "  os.environ['PYTHONHASHSEED'] = str(seed)\n",
        "  np.random.seed(seed)\n",
        "  tf.random.set_seed(seed)\n",
        "  \n",
        "set_all_seeds()"
      ]
    },
    {
      "cell_type": "markdown",
      "metadata": {
        "id": "6FplTdRyQ4kR"
      },
      "source": [
        "## 1. Data ingestion"
      ]
    },
    {
      "cell_type": "code",
      "execution_count": 9,
      "metadata": {
        "colab": {
          "base_uri": "https://localhost:8080/",
          "height": 147
        },
        "id": "q20ClbC4Kzr7",
        "outputId": "0f255aa7-43ba-4d72-8606-7b3b95428ab4"
      },
      "outputs": [
        {
          "output_type": "stream",
          "name": "stdout",
          "text": [
            "data.shape = (8230, 3)\n",
            "\n"
          ]
        },
        {
          "output_type": "execute_result",
          "data": {
            "text/plain": [
              "   id          dt  target\n",
              "0   0  2016-01-02   747.8\n",
              "1   0  2016-01-03   681.2"
            ],
            "text/html": [
              "\n",
              "  <div id=\"df-8a6bb382-687c-4e10-8930-60e26716f5d0\">\n",
              "    <div class=\"colab-df-container\">\n",
              "      <div>\n",
              "<style scoped>\n",
              "    .dataframe tbody tr th:only-of-type {\n",
              "        vertical-align: middle;\n",
              "    }\n",
              "\n",
              "    .dataframe tbody tr th {\n",
              "        vertical-align: top;\n",
              "    }\n",
              "\n",
              "    .dataframe thead th {\n",
              "        text-align: right;\n",
              "    }\n",
              "</style>\n",
              "<table border=\"1\" class=\"dataframe\">\n",
              "  <thead>\n",
              "    <tr style=\"text-align: right;\">\n",
              "      <th></th>\n",
              "      <th>id</th>\n",
              "      <th>dt</th>\n",
              "      <th>target</th>\n",
              "    </tr>\n",
              "  </thead>\n",
              "  <tbody>\n",
              "    <tr>\n",
              "      <th>0</th>\n",
              "      <td>0</td>\n",
              "      <td>2016-01-02</td>\n",
              "      <td>747.8</td>\n",
              "    </tr>\n",
              "    <tr>\n",
              "      <th>1</th>\n",
              "      <td>0</td>\n",
              "      <td>2016-01-03</td>\n",
              "      <td>681.2</td>\n",
              "    </tr>\n",
              "  </tbody>\n",
              "</table>\n",
              "</div>\n",
              "      <button class=\"colab-df-convert\" onclick=\"convertToInteractive('df-8a6bb382-687c-4e10-8930-60e26716f5d0')\"\n",
              "              title=\"Convert this dataframe to an interactive table.\"\n",
              "              style=\"display:none;\">\n",
              "        \n",
              "  <svg xmlns=\"http://www.w3.org/2000/svg\" height=\"24px\"viewBox=\"0 0 24 24\"\n",
              "       width=\"24px\">\n",
              "    <path d=\"M0 0h24v24H0V0z\" fill=\"none\"/>\n",
              "    <path d=\"M18.56 5.44l.94 2.06.94-2.06 2.06-.94-2.06-.94-.94-2.06-.94 2.06-2.06.94zm-11 1L8.5 8.5l.94-2.06 2.06-.94-2.06-.94L8.5 2.5l-.94 2.06-2.06.94zm10 10l.94 2.06.94-2.06 2.06-.94-2.06-.94-.94-2.06-.94 2.06-2.06.94z\"/><path d=\"M17.41 7.96l-1.37-1.37c-.4-.4-.92-.59-1.43-.59-.52 0-1.04.2-1.43.59L10.3 9.45l-7.72 7.72c-.78.78-.78 2.05 0 2.83L4 21.41c.39.39.9.59 1.41.59.51 0 1.02-.2 1.41-.59l7.78-7.78 2.81-2.81c.8-.78.8-2.07 0-2.86zM5.41 20L4 18.59l7.72-7.72 1.47 1.35L5.41 20z\"/>\n",
              "  </svg>\n",
              "      </button>\n",
              "      \n",
              "  <style>\n",
              "    .colab-df-container {\n",
              "      display:flex;\n",
              "      flex-wrap:wrap;\n",
              "      gap: 12px;\n",
              "    }\n",
              "\n",
              "    .colab-df-convert {\n",
              "      background-color: #E8F0FE;\n",
              "      border: none;\n",
              "      border-radius: 50%;\n",
              "      cursor: pointer;\n",
              "      display: none;\n",
              "      fill: #1967D2;\n",
              "      height: 32px;\n",
              "      padding: 0 0 0 0;\n",
              "      width: 32px;\n",
              "    }\n",
              "\n",
              "    .colab-df-convert:hover {\n",
              "      background-color: #E2EBFA;\n",
              "      box-shadow: 0px 1px 2px rgba(60, 64, 67, 0.3), 0px 1px 3px 1px rgba(60, 64, 67, 0.15);\n",
              "      fill: #174EA6;\n",
              "    }\n",
              "\n",
              "    [theme=dark] .colab-df-convert {\n",
              "      background-color: #3B4455;\n",
              "      fill: #D2E3FC;\n",
              "    }\n",
              "\n",
              "    [theme=dark] .colab-df-convert:hover {\n",
              "      background-color: #434B5C;\n",
              "      box-shadow: 0px 1px 3px 1px rgba(0, 0, 0, 0.15);\n",
              "      filter: drop-shadow(0px 1px 2px rgba(0, 0, 0, 0.3));\n",
              "      fill: #FFFFFF;\n",
              "    }\n",
              "  </style>\n",
              "\n",
              "      <script>\n",
              "        const buttonEl =\n",
              "          document.querySelector('#df-8a6bb382-687c-4e10-8930-60e26716f5d0 button.colab-df-convert');\n",
              "        buttonEl.style.display =\n",
              "          google.colab.kernel.accessAllowed ? 'block' : 'none';\n",
              "\n",
              "        async function convertToInteractive(key) {\n",
              "          const element = document.querySelector('#df-8a6bb382-687c-4e10-8930-60e26716f5d0');\n",
              "          const dataTable =\n",
              "            await google.colab.kernel.invokeFunction('convertToInteractive',\n",
              "                                                     [key], {});\n",
              "          if (!dataTable) return;\n",
              "\n",
              "          const docLinkHtml = 'Like what you see? Visit the ' +\n",
              "            '<a target=\"_blank\" href=https://colab.research.google.com/notebooks/data_table.ipynb>data table notebook</a>'\n",
              "            + ' to learn more about interactive tables.';\n",
              "          element.innerHTML = '';\n",
              "          dataTable['output_type'] = 'display_data';\n",
              "          await google.colab.output.renderOutput(dataTable, element);\n",
              "          const docLink = document.createElement('div');\n",
              "          docLink.innerHTML = docLinkHtml;\n",
              "          element.appendChild(docLink);\n",
              "        }\n",
              "      </script>\n",
              "    </div>\n",
              "  </div>\n",
              "  "
            ]
          },
          "metadata": {},
          "execution_count": 9
        }
      ],
      "source": [
        "data = load_data(PATH)\n",
        "\n",
        "print(f'data.shape = {data.shape}\\n')\n",
        "data.head(2)"
      ]
    },
    {
      "cell_type": "markdown",
      "metadata": {
        "id": "BWN9VH40WEMK"
      },
      "source": [
        "## 2. Data preprocessing pipeline"
      ]
    },
    {
      "cell_type": "code",
      "execution_count": 10,
      "metadata": {
        "colab": {
          "base_uri": "https://localhost:8080/"
        },
        "id": "uRbHm4snLIYS",
        "outputId": "9ddf1d2d-ba95-48be-9865-362e0796925e"
      },
      "outputs": [
        {
          "output_type": "stream",
          "name": "stdout",
          "text": [
            "Number of outliers = 8\n"
          ]
        },
        {
          "output_type": "execute_result",
          "data": {
            "text/plain": [
              "(153, 20, 34)"
            ]
          },
          "metadata": {},
          "execution_count": 10
        }
      ],
      "source": [
        "regenerate = True\n",
        "if regenerate:\n",
        "  X = train.data_preprocessing_pipeline(data)\n",
        "else:\n",
        "  X = np.load('data/04_feature/train_dataset.npy')\n",
        "\n",
        "X.shape"
      ]
    },
    {
      "cell_type": "markdown",
      "metadata": {
        "id": "a5yhOwIBedyY"
      },
      "source": [
        "## 3. Model LSTM"
      ]
    },
    {
      "cell_type": "markdown",
      "metadata": {
        "id": "jXi5ehMcei7i"
      },
      "source": [
        "### 3.1 Model architecture"
      ]
    },
    {
      "cell_type": "code",
      "execution_count": 11,
      "metadata": {
        "colab": {
          "base_uri": "https://localhost:8080/"
        },
        "id": "bx3QHckueeZe",
        "outputId": "950967aa-8c72-4f84-f4ba-880ce3bd239d"
      },
      "outputs": [
        {
          "output_type": "stream",
          "name": "stdout",
          "text": [
            "Model: \"model\"\n",
            "__________________________________________________________________________________________________\n",
            " Layer (type)                   Output Shape         Param #     Connected to                     \n",
            "==================================================================================================\n",
            " input_1 (InputLayer)           [(None, 54, 34)]     0           []                               \n",
            "                                                                                                  \n",
            " lstm (LSTM)                    [(None, 54, 150),    111000      ['input_1[0][0]']                \n",
            "                                 (None, 150),                                                     \n",
            "                                 (None, 150)]                                                     \n",
            "                                                                                                  \n",
            " lstm_1 (LSTM)                  [(None, 150),        180600      ['lstm[0][0]']                   \n",
            "                                 (None, 150),                                                     \n",
            "                                 (None, 150)]                                                     \n",
            "                                                                                                  \n",
            " repeat_vector (RepeatVector)   (None, 27, 150)      0           ['lstm_1[0][0]']                 \n",
            "                                                                                                  \n",
            " lstm_2 (LSTM)                  (None, 27, 150)      180600      ['repeat_vector[0][0]',          \n",
            "                                                                  'lstm[0][1]',                   \n",
            "                                                                  'lstm[0][2]']                   \n",
            "                                                                                                  \n",
            " lstm_3 (LSTM)                  (None, 27, 150)      180600      ['lstm_2[0][0]',                 \n",
            "                                                                  'lstm_1[0][1]',                 \n",
            "                                                                  'lstm_1[0][2]']                 \n",
            "                                                                                                  \n",
            " time_distributed (TimeDistribu  (None, 27, 34)      5134        ['lstm_3[0][0]']                 \n",
            " ted)                                                                                             \n",
            "                                                                                                  \n",
            "==================================================================================================\n",
            "Total params: 657,934\n",
            "Trainable params: 657,934\n",
            "Non-trainable params: 0\n",
            "__________________________________________________________________________________________________\n"
          ]
        }
      ],
      "source": [
        "n_features = X.shape[2]\n",
        "model = get_model_LSTM(n_features)\n",
        "model.summary()"
      ]
    },
    {
      "cell_type": "markdown",
      "metadata": {
        "id": "eqH3rDIHig3N"
      },
      "source": [
        "### 3.2 Training of the model"
      ]
    },
    {
      "cell_type": "code",
      "source": [
        "X_train, y_train = get_train_dataset(X)\n",
        "X_train.shape, y_train.shape"
      ],
      "metadata": {
        "colab": {
          "base_uri": "https://localhost:8080/"
        },
        "id": "a6RWONYgWN9q",
        "outputId": "d0a0f022-f46a-449f-b558-82b6bedad581"
      },
      "execution_count": 12,
      "outputs": [
        {
          "output_type": "execute_result",
          "data": {
            "text/plain": [
              "((900, 54, 34), (900, 27, 34))"
            ]
          },
          "metadata": {},
          "execution_count": 12
        }
      ]
    },
    {
      "cell_type": "code",
      "execution_count": 13,
      "metadata": {
        "colab": {
          "base_uri": "https://localhost:8080/"
        },
        "id": "xHc3LM9eKEUW",
        "outputId": "465f5298-61a2-4425-fbaa-d5e4cd0a363c"
      },
      "outputs": [
        {
          "output_type": "stream",
          "name": "stdout",
          "text": [
            "Epoch 1/15\n",
            "41/41 [==============================] - 16s 60ms/step - loss: 0.4985 - val_loss: 0.4948 - lr: 0.0300\n",
            "Epoch 2/15\n",
            "41/41 [==============================] - 1s 18ms/step - loss: 0.4629 - val_loss: 0.4904 - lr: 0.0285\n",
            "Epoch 3/15\n",
            "41/41 [==============================] - 1s 16ms/step - loss: 0.4568 - val_loss: 0.4840 - lr: 0.0271\n",
            "Epoch 4/15\n",
            "41/41 [==============================] - 1s 17ms/step - loss: 0.4504 - val_loss: 0.4816 - lr: 0.0257\n",
            "Epoch 5/15\n",
            "41/41 [==============================] - 1s 18ms/step - loss: 0.4461 - val_loss: 0.4774 - lr: 0.0244\n",
            "Epoch 6/15\n",
            "41/41 [==============================] - 1s 17ms/step - loss: 0.4399 - val_loss: 0.4712 - lr: 0.0232\n",
            "Epoch 7/15\n",
            "41/41 [==============================] - 0s 12ms/step - loss: 0.4376 - val_loss: 0.4628 - lr: 0.0221\n",
            "Epoch 8/15\n",
            "41/41 [==============================] - 1s 12ms/step - loss: 0.4306 - val_loss: 0.4573 - lr: 0.0210\n",
            "Epoch 9/15\n",
            "41/41 [==============================] - 1s 13ms/step - loss: 0.4263 - val_loss: 0.4548 - lr: 0.0199\n",
            "Epoch 10/15\n",
            "41/41 [==============================] - 1s 12ms/step - loss: 0.4194 - val_loss: 0.4534 - lr: 0.0189\n",
            "Epoch 11/15\n",
            "41/41 [==============================] - 1s 13ms/step - loss: 0.4164 - val_loss: 0.4515 - lr: 0.0180\n",
            "Epoch 12/15\n",
            "41/41 [==============================] - 1s 12ms/step - loss: 0.4186 - val_loss: 0.4412 - lr: 0.0171\n",
            "Epoch 13/15\n",
            "41/41 [==============================] - 1s 12ms/step - loss: 0.4094 - val_loss: 0.4295 - lr: 0.0162\n",
            "Epoch 14/15\n",
            "41/41 [==============================] - 1s 14ms/step - loss: 0.4021 - val_loss: 0.4290 - lr: 0.0154\n",
            "Epoch 15/15\n",
            "41/41 [==============================] - 1s 13ms/step - loss: 0.3964 - val_loss: 0.4191 - lr: 0.0146\n"
          ]
        }
      ],
      "source": [
        "from tensorflow.python.ops.math_ops import truncate_mod_eager_fallback\n",
        "n_shops = 20\n",
        "n_epochs = 15\n",
        "batch_size = 20\n",
        "m = n_shops * 4\n",
        "\n",
        "reduce_lr = tf.keras.callbacks.LearningRateScheduler(\n",
        "    lambda epoch: 3e-2 * 0.95 ** epoch\n",
        ")\n",
        "model.compile(\n",
        "    optimizer=tf.keras.optimizers.Adam(), \n",
        "    loss=tf.keras.losses.Huber()\n",
        ")\n",
        "history = model.fit(\n",
        "    X_train[:-m, :, :], y_train[:-m, :, :], \n",
        "    epochs=n_epochs,\n",
        "    validation_data=(X_train[-m:, :, :], y_train[-m:, :, :]),\n",
        "    batch_size=batch_size, \n",
        "    verbose=1,\n",
        "    callbacks=[reduce_lr],\n",
        "    shuffle=False,    \n",
        ")"
      ]
    },
    {
      "cell_type": "markdown",
      "metadata": {
        "id": "-T-FivMrYoH5"
      },
      "source": [
        "### 3.3 Inference"
      ]
    },
    {
      "cell_type": "code",
      "execution_count": 14,
      "metadata": {
        "id": "uyn5BLhgYHO3"
      },
      "outputs": [],
      "source": [
        "X_test, y_test = get_test_dataset(X)"
      ]
    },
    {
      "cell_type": "code",
      "execution_count": 15,
      "metadata": {
        "colab": {
          "base_uri": "https://localhost:8080/"
        },
        "id": "dgZcymnwX7hH",
        "outputId": "a6a61dcb-1453-4fa8-d3ad-3c2dd338e175"
      },
      "outputs": [
        {
          "output_type": "stream",
          "name": "stdout",
          "text": [
            "1/1 [==============================] - 2s 2s/step\n"
          ]
        },
        {
          "output_type": "execute_result",
          "data": {
            "text/plain": [
              "(20, 27, 34)"
            ]
          },
          "metadata": {},
          "execution_count": 15
        }
      ],
      "source": [
        "pred = model.predict(X_test)\n",
        "pred.shape"
      ]
    },
    {
      "cell_type": "markdown",
      "metadata": {
        "id": "LphmAbjGZkA3"
      },
      "source": [
        "### 3.4 Model evaluation"
      ]
    },
    {
      "cell_type": "markdown",
      "metadata": {
        "id": "nkFU4RxZZk8-"
      },
      "source": [
        "#### Mean absolute scaled error (MASE) \n",
        "https://en.wikipedia.org/wiki/Mean_absolute_scaled_error"
      ]
    },
    {
      "cell_type": "markdown",
      "metadata": {
        "id": "nM1Cj-_XZpsO"
      },
      "source": [
        "The denominator of mean absolute scaled error is the mean absolute error of the one-step \"seasonal naive forecast method\" on the training set, which uses the actual value from the prior 30 days as the forecast: \n",
        "* F(t) = Y(t−30)\n",
        "\n",
        "MASE is scale-free error metric. So, it can be applied to scaled data without extra iteration of inverse scaling."
      ]
    },
    {
      "cell_type": "code",
      "execution_count": 16,
      "metadata": {
        "colab": {
          "base_uri": "https://localhost:8080/"
        },
        "id": "jSPdjqEztRix",
        "outputId": "a1773039-6fcb-4b79-b678-36ddd5317d15"
      },
      "outputs": [
        {
          "output_type": "execute_result",
          "data": {
            "text/plain": [
              "((20, 27, 34), (20, 27, 34))"
            ]
          },
          "metadata": {},
          "execution_count": 16
        }
      ],
      "source": [
        "pred.shape, y_test.shape"
      ]
    },
    {
      "cell_type": "code",
      "execution_count": 17,
      "metadata": {
        "colab": {
          "base_uri": "https://localhost:8080/"
        },
        "id": "H7m2mh1I8rm6",
        "outputId": "bc24f1be-e3f6-46ab-8e41-4013f71c64d4"
      },
      "outputs": [
        {
          "output_type": "stream",
          "name": "stdout",
          "text": [
            "Mean absolute scaled error = 0.9276\n"
          ]
        }
      ],
      "source": [
        "forecast_error = abs(pred[:, :, 0] - y_test[:, :, 0]).mean()\n",
        "mase = forecast_error / abs(y_test[:, :, 6]).mean()\n",
        "\n",
        "print(f'Mean absolute scaled error = {round(mase.mean(), 4)}')"
      ]
    },
    {
      "cell_type": "markdown",
      "metadata": {
        "id": "sYbpp1abZzxQ"
      },
      "source": [
        "__Findings:__\n",
        "\n",
        "* Out of 72 samples available for training (153 less input and output sequence length) 4 were used for validation of the model and 27 for testing. So, we had only 41 samples for training of the model and it is definately not sufficient.\n",
        "\n",
        "* To get more accurate predictions, we need to retrain the model on the full set of data. It should improve the final results."
      ]
    },
    {
      "cell_type": "markdown",
      "metadata": {
        "id": "vmXsJCA5Z0t9"
      },
      "source": [
        "## 4. Final prediction"
      ]
    },
    {
      "cell_type": "markdown",
      "metadata": {
        "id": "wpg_5giedIV5"
      },
      "source": [
        "### 4.1. Dataset"
      ]
    },
    {
      "cell_type": "code",
      "execution_count": 18,
      "metadata": {
        "colab": {
          "base_uri": "https://localhost:8080/"
        },
        "id": "cN70_li0aLy2",
        "outputId": "2728fdb1-3227-4747-e823-5c562e5783b3"
      },
      "outputs": [
        {
          "output_type": "execute_result",
          "data": {
            "text/plain": [
              "((1440, 54, 34), (1440, 27, 34), (20, 54, 34))"
            ]
          },
          "metadata": {},
          "execution_count": 18
        }
      ],
      "source": [
        "X_train, y_train = get_train_dataset(X, final=True)\n",
        "X_test = get_test_dataset(X, final=True)\n",
        "\n",
        "X_train.shape, y_train.shape, X_test.shape"
      ]
    },
    {
      "cell_type": "markdown",
      "metadata": {
        "id": "MC_L5BwPdCb-"
      },
      "source": [
        "### 4.2. Retraining the model on full dataset"
      ]
    },
    {
      "cell_type": "code",
      "execution_count": 19,
      "metadata": {
        "colab": {
          "base_uri": "https://localhost:8080/"
        },
        "id": "jYh4p4YQaffn",
        "outputId": "e2272e24-2c74-4a95-ff18-71ab10982da0"
      },
      "outputs": [
        {
          "output_type": "stream",
          "name": "stdout",
          "text": [
            "Epoch 1/20\n",
            "68/68 [==============================] - 12s 63ms/step - loss: 0.4511 - val_loss: 0.4285 - lr: 0.0300\n",
            "Epoch 2/20\n",
            "68/68 [==============================] - 2s 23ms/step - loss: 0.4309 - val_loss: 0.4279 - lr: 0.0285\n",
            "Epoch 3/20\n",
            "68/68 [==============================] - 2s 28ms/step - loss: 0.4305 - val_loss: 0.4275 - lr: 0.0271\n",
            "Epoch 4/20\n",
            "68/68 [==============================] - 2s 28ms/step - loss: 0.4267 - val_loss: 0.4221 - lr: 0.0257\n",
            "Epoch 5/20\n",
            "68/68 [==============================] - 2s 25ms/step - loss: 0.4235 - val_loss: 0.4229 - lr: 0.0244\n",
            "Epoch 6/20\n",
            "68/68 [==============================] - 1s 11ms/step - loss: 0.4222 - val_loss: 0.4201 - lr: 0.0232\n",
            "Epoch 7/20\n",
            "68/68 [==============================] - 1s 12ms/step - loss: 0.4213 - val_loss: 0.4200 - lr: 0.0221\n",
            "Epoch 8/20\n",
            "68/68 [==============================] - 1s 12ms/step - loss: 0.4206 - val_loss: 0.4211 - lr: 0.0210\n",
            "Epoch 9/20\n",
            "68/68 [==============================] - 1s 11ms/step - loss: 0.4178 - val_loss: 0.4184 - lr: 0.0199\n",
            "Epoch 10/20\n",
            "68/68 [==============================] - 1s 12ms/step - loss: 0.4169 - val_loss: 0.4189 - lr: 0.0189\n",
            "Epoch 11/20\n",
            "68/68 [==============================] - 1s 12ms/step - loss: 0.4157 - val_loss: 0.4177 - lr: 0.0180\n",
            "Epoch 12/20\n",
            "68/68 [==============================] - 1s 12ms/step - loss: 0.4139 - val_loss: 0.4194 - lr: 0.0171\n",
            "Epoch 13/20\n",
            "68/68 [==============================] - 1s 11ms/step - loss: 0.4142 - val_loss: 0.4149 - lr: 0.0162\n",
            "Epoch 14/20\n",
            "68/68 [==============================] - 1s 12ms/step - loss: 0.4058 - val_loss: 0.4087 - lr: 0.0154\n",
            "Epoch 15/20\n",
            "68/68 [==============================] - 1s 11ms/step - loss: 0.4046 - val_loss: 0.4069 - lr: 0.0146\n",
            "Epoch 16/20\n",
            "68/68 [==============================] - 1s 12ms/step - loss: 0.4012 - val_loss: 0.3991 - lr: 0.0139\n",
            "Epoch 17/20\n",
            "68/68 [==============================] - 1s 14ms/step - loss: 0.3975 - val_loss: 0.4035 - lr: 0.0132\n",
            "Epoch 18/20\n",
            "68/68 [==============================] - 1s 16ms/step - loss: 0.3942 - val_loss: 0.3944 - lr: 0.0125\n",
            "Epoch 19/20\n",
            "68/68 [==============================] - 1s 16ms/step - loss: 0.3909 - val_loss: 0.3866 - lr: 0.0119\n",
            "Epoch 20/20\n",
            "68/68 [==============================] - 1s 16ms/step - loss: 0.3797 - val_loss: 0.3872 - lr: 0.0113\n"
          ]
        }
      ],
      "source": [
        "n_shops = 20\n",
        "n_epochs = 20\n",
        "batch_size = 20\n",
        "m = n_shops * 4\n",
        "\n",
        "model = get_model_LSTM(n_features=X_train.shape[2], n_units=150)\n",
        "\n",
        "reduce_lr = tf.keras.callbacks.LearningRateScheduler(\n",
        "    lambda epoch: 3e-2 * 0.95 ** epoch\n",
        ")\n",
        "model.compile(\n",
        "    optimizer=tf.keras.optimizers.Adam(), \n",
        "    loss=tf.keras.losses.Huber()\n",
        ")\n",
        "history = model.fit(\n",
        "    X_train[:-m, :, :], y_train[:-m, :, :], \n",
        "    epochs=n_epochs,\n",
        "    validation_data=(X_train[-m:, :, :], y_train[-m:, :, :]),\n",
        "    batch_size=batch_size, \n",
        "    verbose=1,\n",
        "    callbacks=[reduce_lr],\n",
        "    shuffle=False,    \n",
        ")"
      ]
    },
    {
      "cell_type": "code",
      "execution_count": 20,
      "metadata": {
        "colab": {
          "base_uri": "https://localhost:8080/",
          "height": 295
        },
        "id": "ys70q4i4bOj8",
        "outputId": "c0fcd44f-7f15-4ad7-c803-50e8bfee410a"
      },
      "outputs": [
        {
          "output_type": "display_data",
          "data": {
            "text/plain": [
              "<Figure size 432x288 with 1 Axes>"
            ],
            "image/png": "[encoded data removed]"
          },
          "metadata": {
            "needs_background": "light"
          }
        }
      ],
      "source": [
        "import matplotlib.pyplot as plt\n",
        "\n",
        "plt.plot(history.history['loss'])\n",
        "plt.plot(history.history['val_loss'])\n",
        "plt.title(\"Model Loss\")\n",
        "plt.xlabel('Epochs')\n",
        "plt.ylabel('Loss')\n",
        "plt.legend(['Train', 'Valid'])\n",
        "plt.show()"
      ]
    },
    {
      "cell_type": "markdown",
      "metadata": {
        "id": "_n6z3yuZc0Uj"
      },
      "source": [
        "### 4.3 Model evaluation on validation set"
      ]
    },
    {
      "cell_type": "code",
      "source": [
        "pred = model.predict(X_train[-m:, :, :])\n",
        "pred[:, :, 0].shape,"
      ],
      "metadata": {
        "colab": {
          "base_uri": "https://localhost:8080/"
        },
        "id": "w0SzRmu52i5b",
        "outputId": "5ec7aa42-7852-412d-c9f9-1651a39b56b0"
      },
      "execution_count": 21,
      "outputs": [
        {
          "output_type": "stream",
          "name": "stdout",
          "text": [
            "3/3 [==============================] - 1s 10ms/step\n"
          ]
        },
        {
          "output_type": "execute_result",
          "data": {
            "text/plain": [
              "((80, 27),)"
            ]
          },
          "metadata": {},
          "execution_count": 21
        }
      ]
    },
    {
      "cell_type": "code",
      "source": [
        "forecast_error = abs(pred[:, :, 0] -  y_train[-m:, :, 0]).mean()\n",
        "mase = forecast_error / abs( y_train[-m:, :, 6]).mean()\n",
        "\n",
        "print(f'Mean absolute scaled error = {round(mase.mean(), 4)}')"
      ],
      "metadata": {
        "colab": {
          "base_uri": "https://localhost:8080/"
        },
        "id": "XFTzEJ8Plx_g",
        "outputId": "7921b410-cede-4eb6-9368-a16a073608c8"
      },
      "execution_count": 22,
      "outputs": [
        {
          "output_type": "stream",
          "name": "stdout",
          "text": [
            "Mean absolute scaled error = 0.7003\n"
          ]
        }
      ]
    },
    {
      "cell_type": "markdown",
      "metadata": {
        "id": "kZhWz7U2eEEt"
      },
      "source": [
        "### 4.4. Inference"
      ]
    },
    {
      "cell_type": "code",
      "execution_count": 23,
      "metadata": {
        "colab": {
          "base_uri": "https://localhost:8080/"
        },
        "id": "2tID_JZRd8Za",
        "outputId": "3c80d8e8-d897-4543-f7c5-6b2047589631"
      },
      "outputs": [
        {
          "output_type": "stream",
          "name": "stdout",
          "text": [
            "1/1 [==============================] - 0s 24ms/step\n"
          ]
        }
      ],
      "source": [
        "pred_final = model.predict(X_test)"
      ]
    },
    {
      "cell_type": "markdown",
      "metadata": {
        "id": "pk8ade9Hcllm"
      },
      "source": [
        "### 4.5. Inverse transformation of predictions"
      ]
    },
    {
      "cell_type": "code",
      "execution_count": 24,
      "metadata": {
        "id": "Ys__JvK9csEI"
      },
      "outputs": [],
      "source": [
        "scaler = joblib.load('data/03_primary/scaler_js.joblib')"
      ]
    },
    {
      "cell_type": "code",
      "execution_count": 25,
      "metadata": {
        "colab": {
          "base_uri": "https://localhost:8080/"
        },
        "id": "y3vKlBKBcm-B",
        "outputId": "9866936f-f6aa-4ada-db1f-e850693fdfc8"
      },
      "outputs": [
        {
          "output_type": "execute_result",
          "data": {
            "text/plain": [
              "(27, 20)"
            ]
          },
          "metadata": {},
          "execution_count": 25
        }
      ],
      "source": [
        "arr_pred = pred_final[:, :, 0]\n",
        "y_pred = pd.DataFrame(arr_pred).T\n",
        "y_pred_rescaled = scaler.inv_transform(y_pred)\n",
        "y_pred_rescaled.shape"
      ]
    },
    {
      "cell_type": "markdown",
      "metadata": {
        "id": "HJyYOGDhcfl9"
      },
      "source": [
        "### 4.6. Generation of the final result"
      ]
    },
    {
      "cell_type": "code",
      "execution_count": 26,
      "metadata": {
        "colab": {
          "base_uri": "https://localhost:8080/",
          "height": 147
        },
        "id": "siV8XdBscJpb",
        "outputId": "bf0588d9-48c4-4a7b-d018-ccfa18030b59"
      },
      "outputs": [
        {
          "output_type": "stream",
          "name": "stdout",
          "text": [
            "test.shape = (540, 3)\n",
            "\n"
          ]
        },
        {
          "output_type": "execute_result",
          "data": {
            "text/plain": [
              "   id          dt  target\n",
              "0   0  2017-07-01     500\n",
              "1   0  2017-07-02     500"
            ],
            "text/html": [
              "\n",
              "  <div id=\"df-8ac50d52-3442-49e3-9d40-f541980955ff\">\n",
              "    <div class=\"colab-df-container\">\n",
              "      <div>\n",
              "<style scoped>\n",
              "    .dataframe tbody tr th:only-of-type {\n",
              "        vertical-align: middle;\n",
              "    }\n",
              "\n",
              "    .dataframe tbody tr th {\n",
              "        vertical-align: top;\n",
              "    }\n",
              "\n",
              "    .dataframe thead th {\n",
              "        text-align: right;\n",
              "    }\n",
              "</style>\n",
              "<table border=\"1\" class=\"dataframe\">\n",
              "  <thead>\n",
              "    <tr style=\"text-align: right;\">\n",
              "      <th></th>\n",
              "      <th>id</th>\n",
              "      <th>dt</th>\n",
              "      <th>target</th>\n",
              "    </tr>\n",
              "  </thead>\n",
              "  <tbody>\n",
              "    <tr>\n",
              "      <th>0</th>\n",
              "      <td>0</td>\n",
              "      <td>2017-07-01</td>\n",
              "      <td>500</td>\n",
              "    </tr>\n",
              "    <tr>\n",
              "      <th>1</th>\n",
              "      <td>0</td>\n",
              "      <td>2017-07-02</td>\n",
              "      <td>500</td>\n",
              "    </tr>\n",
              "  </tbody>\n",
              "</table>\n",
              "</div>\n",
              "      <button class=\"colab-df-convert\" onclick=\"convertToInteractive('df-8ac50d52-3442-49e3-9d40-f541980955ff')\"\n",
              "              title=\"Convert this dataframe to an interactive table.\"\n",
              "              style=\"display:none;\">\n",
              "        \n",
              "  <svg xmlns=\"http://www.w3.org/2000/svg\" height=\"24px\"viewBox=\"0 0 24 24\"\n",
              "       width=\"24px\">\n",
              "    <path d=\"M0 0h24v24H0V0z\" fill=\"none\"/>\n",
              "    <path d=\"M18.56 5.44l.94 2.06.94-2.06 2.06-.94-2.06-.94-.94-2.06-.94 2.06-2.06.94zm-11 1L8.5 8.5l.94-2.06 2.06-.94-2.06-.94L8.5 2.5l-.94 2.06-2.06.94zm10 10l.94 2.06.94-2.06 2.06-.94-2.06-.94-.94-2.06-.94 2.06-2.06.94z\"/><path d=\"M17.41 7.96l-1.37-1.37c-.4-.4-.92-.59-1.43-.59-.52 0-1.04.2-1.43.59L10.3 9.45l-7.72 7.72c-.78.78-.78 2.05 0 2.83L4 21.41c.39.39.9.59 1.41.59.51 0 1.02-.2 1.41-.59l7.78-7.78 2.81-2.81c.8-.78.8-2.07 0-2.86zM5.41 20L4 18.59l7.72-7.72 1.47 1.35L5.41 20z\"/>\n",
              "  </svg>\n",
              "      </button>\n",
              "      \n",
              "  <style>\n",
              "    .colab-df-container {\n",
              "      display:flex;\n",
              "      flex-wrap:wrap;\n",
              "      gap: 12px;\n",
              "    }\n",
              "\n",
              "    .colab-df-convert {\n",
              "      background-color: #E8F0FE;\n",
              "      border: none;\n",
              "      border-radius: 50%;\n",
              "      cursor: pointer;\n",
              "      display: none;\n",
              "      fill: #1967D2;\n",
              "      height: 32px;\n",
              "      padding: 0 0 0 0;\n",
              "      width: 32px;\n",
              "    }\n",
              "\n",
              "    .colab-df-convert:hover {\n",
              "      background-color: #E2EBFA;\n",
              "      box-shadow: 0px 1px 2px rgba(60, 64, 67, 0.3), 0px 1px 3px 1px rgba(60, 64, 67, 0.15);\n",
              "      fill: #174EA6;\n",
              "    }\n",
              "\n",
              "    [theme=dark] .colab-df-convert {\n",
              "      background-color: #3B4455;\n",
              "      fill: #D2E3FC;\n",
              "    }\n",
              "\n",
              "    [theme=dark] .colab-df-convert:hover {\n",
              "      background-color: #434B5C;\n",
              "      box-shadow: 0px 1px 3px 1px rgba(0, 0, 0, 0.15);\n",
              "      filter: drop-shadow(0px 1px 2px rgba(0, 0, 0, 0.3));\n",
              "      fill: #FFFFFF;\n",
              "    }\n",
              "  </style>\n",
              "\n",
              "      <script>\n",
              "        const buttonEl =\n",
              "          document.querySelector('#df-8ac50d52-3442-49e3-9d40-f541980955ff button.colab-df-convert');\n",
              "        buttonEl.style.display =\n",
              "          google.colab.kernel.accessAllowed ? 'block' : 'none';\n",
              "\n",
              "        async function convertToInteractive(key) {\n",
              "          const element = document.querySelector('#df-8ac50d52-3442-49e3-9d40-f541980955ff');\n",
              "          const dataTable =\n",
              "            await google.colab.kernel.invokeFunction('convertToInteractive',\n",
              "                                                     [key], {});\n",
              "          if (!dataTable) return;\n",
              "\n",
              "          const docLinkHtml = 'Like what you see? Visit the ' +\n",
              "            '<a target=\"_blank\" href=https://colab.research.google.com/notebooks/data_table.ipynb>data table notebook</a>'\n",
              "            + ' to learn more about interactive tables.';\n",
              "          element.innerHTML = '';\n",
              "          dataTable['output_type'] = 'display_data';\n",
              "          await google.colab.output.renderOutput(dataTable, element);\n",
              "          const docLink = document.createElement('div');\n",
              "          docLink.innerHTML = docLinkHtml;\n",
              "          element.appendChild(docLink);\n",
              "        }\n",
              "      </script>\n",
              "    </div>\n",
              "  </div>\n",
              "  "
            ]
          },
          "metadata": {},
          "execution_count": 26
        }
      ],
      "source": [
        "predict_example = pd.read_parquet(PATH + 'data/01_raw/sample_submit.parquet.gzip')\n",
        "print(f'test.shape = {predict_example.shape}\\n')\n",
        "predict_example.head(2)"
      ]
    },
    {
      "cell_type": "code",
      "execution_count": 27,
      "metadata": {
        "colab": {
          "base_uri": "https://localhost:8080/",
          "height": 206
        },
        "id": "BCB_XnyDb1P5",
        "outputId": "e194c1d6-8a3c-47a6-9a36-cc94951efacd"
      },
      "outputs": [
        {
          "output_type": "execute_result",
          "data": {
            "text/plain": [
              "   id          dt      target\n",
              "0   0  2017-07-01  865.689948\n",
              "1   0  2017-07-02  845.114820\n",
              "2   0  2017-07-03  839.049430\n",
              "3   0  2017-07-04  823.770592\n",
              "4   0  2017-07-06  772.956206"
            ],
            "text/html": [
              "\n",
              "  <div id=\"df-ab502380-bebc-4311-9381-7f0789ce4d6b\">\n",
              "    <div class=\"colab-df-container\">\n",
              "      <div>\n",
              "<style scoped>\n",
              "    .dataframe tbody tr th:only-of-type {\n",
              "        vertical-align: middle;\n",
              "    }\n",
              "\n",
              "    .dataframe tbody tr th {\n",
              "        vertical-align: top;\n",
              "    }\n",
              "\n",
              "    .dataframe thead th {\n",
              "        text-align: right;\n",
              "    }\n",
              "</style>\n",
              "<table border=\"1\" class=\"dataframe\">\n",
              "  <thead>\n",
              "    <tr style=\"text-align: right;\">\n",
              "      <th></th>\n",
              "      <th>id</th>\n",
              "      <th>dt</th>\n",
              "      <th>target</th>\n",
              "    </tr>\n",
              "  </thead>\n",
              "  <tbody>\n",
              "    <tr>\n",
              "      <th>0</th>\n",
              "      <td>0</td>\n",
              "      <td>2017-07-01</td>\n",
              "      <td>865.689948</td>\n",
              "    </tr>\n",
              "    <tr>\n",
              "      <th>1</th>\n",
              "      <td>0</td>\n",
              "      <td>2017-07-02</td>\n",
              "      <td>845.114820</td>\n",
              "    </tr>\n",
              "    <tr>\n",
              "      <th>2</th>\n",
              "      <td>0</td>\n",
              "      <td>2017-07-03</td>\n",
              "      <td>839.049430</td>\n",
              "    </tr>\n",
              "    <tr>\n",
              "      <th>3</th>\n",
              "      <td>0</td>\n",
              "      <td>2017-07-04</td>\n",
              "      <td>823.770592</td>\n",
              "    </tr>\n",
              "    <tr>\n",
              "      <th>4</th>\n",
              "      <td>0</td>\n",
              "      <td>2017-07-06</td>\n",
              "      <td>772.956206</td>\n",
              "    </tr>\n",
              "  </tbody>\n",
              "</table>\n",
              "</div>\n",
              "      <button class=\"colab-df-convert\" onclick=\"convertToInteractive('df-ab502380-bebc-4311-9381-7f0789ce4d6b')\"\n",
              "              title=\"Convert this dataframe to an interactive table.\"\n",
              "              style=\"display:none;\">\n",
              "        \n",
              "  <svg xmlns=\"http://www.w3.org/2000/svg\" height=\"24px\"viewBox=\"0 0 24 24\"\n",
              "       width=\"24px\">\n",
              "    <path d=\"M0 0h24v24H0V0z\" fill=\"none\"/>\n",
              "    <path d=\"M18.56 5.44l.94 2.06.94-2.06 2.06-.94-2.06-.94-.94-2.06-.94 2.06-2.06.94zm-11 1L8.5 8.5l.94-2.06 2.06-.94-2.06-.94L8.5 2.5l-.94 2.06-2.06.94zm10 10l.94 2.06.94-2.06 2.06-.94-2.06-.94-.94-2.06-.94 2.06-2.06.94z\"/><path d=\"M17.41 7.96l-1.37-1.37c-.4-.4-.92-.59-1.43-.59-.52 0-1.04.2-1.43.59L10.3 9.45l-7.72 7.72c-.78.78-.78 2.05 0 2.83L4 21.41c.39.39.9.59 1.41.59.51 0 1.02-.2 1.41-.59l7.78-7.78 2.81-2.81c.8-.78.8-2.07 0-2.86zM5.41 20L4 18.59l7.72-7.72 1.47 1.35L5.41 20z\"/>\n",
              "  </svg>\n",
              "      </button>\n",
              "      \n",
              "  <style>\n",
              "    .colab-df-container {\n",
              "      display:flex;\n",
              "      flex-wrap:wrap;\n",
              "      gap: 12px;\n",
              "    }\n",
              "\n",
              "    .colab-df-convert {\n",
              "      background-color: #E8F0FE;\n",
              "      border: none;\n",
              "      border-radius: 50%;\n",
              "      cursor: pointer;\n",
              "      display: none;\n",
              "      fill: #1967D2;\n",
              "      height: 32px;\n",
              "      padding: 0 0 0 0;\n",
              "      width: 32px;\n",
              "    }\n",
              "\n",
              "    .colab-df-convert:hover {\n",
              "      background-color: #E2EBFA;\n",
              "      box-shadow: 0px 1px 2px rgba(60, 64, 67, 0.3), 0px 1px 3px 1px rgba(60, 64, 67, 0.15);\n",
              "      fill: #174EA6;\n",
              "    }\n",
              "\n",
              "    [theme=dark] .colab-df-convert {\n",
              "      background-color: #3B4455;\n",
              "      fill: #D2E3FC;\n",
              "    }\n",
              "\n",
              "    [theme=dark] .colab-df-convert:hover {\n",
              "      background-color: #434B5C;\n",
              "      box-shadow: 0px 1px 3px 1px rgba(0, 0, 0, 0.15);\n",
              "      filter: drop-shadow(0px 1px 2px rgba(0, 0, 0, 0.3));\n",
              "      fill: #FFFFFF;\n",
              "    }\n",
              "  </style>\n",
              "\n",
              "      <script>\n",
              "        const buttonEl =\n",
              "          document.querySelector('#df-ab502380-bebc-4311-9381-7f0789ce4d6b button.colab-df-convert');\n",
              "        buttonEl.style.display =\n",
              "          google.colab.kernel.accessAllowed ? 'block' : 'none';\n",
              "\n",
              "        async function convertToInteractive(key) {\n",
              "          const element = document.querySelector('#df-ab502380-bebc-4311-9381-7f0789ce4d6b');\n",
              "          const dataTable =\n",
              "            await google.colab.kernel.invokeFunction('convertToInteractive',\n",
              "                                                     [key], {});\n",
              "          if (!dataTable) return;\n",
              "\n",
              "          const docLinkHtml = 'Like what you see? Visit the ' +\n",
              "            '<a target=\"_blank\" href=https://colab.research.google.com/notebooks/data_table.ipynb>data table notebook</a>'\n",
              "            + ' to learn more about interactive tables.';\n",
              "          element.innerHTML = '';\n",
              "          dataTable['output_type'] = 'display_data';\n",
              "          await google.colab.output.renderOutput(dataTable, element);\n",
              "          const docLink = document.createElement('div');\n",
              "          docLink.innerHTML = docLinkHtml;\n",
              "          element.appendChild(docLink);\n",
              "        }\n",
              "      </script>\n",
              "    </div>\n",
              "  </div>\n",
              "  "
            ]
          },
          "metadata": {},
          "execution_count": 27
        }
      ],
      "source": [
        "n_shops = 20\n",
        "for i in range(n_shops):\n",
        "  predict_example.loc[predict_example['id'] == i, 'target'] = y_pred_rescaled.loc[:, i]\n",
        "\n",
        "predict_example.to_parquet(\n",
        "    'data/06_model_output/sales_forecast_lstm.parquet.gzip', compression='gzip'\n",
        ")\n",
        "predict_example.head()"
      ]
    },
    {
      "cell_type": "markdown",
      "metadata": {
        "id": "k5l6afUrb7Iy"
      },
      "source": [
        "## 5. Findings"
      ]
    },
    {
      "cell_type": "markdown",
      "metadata": {
        "id": "4I1SyQe3b_ht"
      },
      "source": [
        "* LSTM model has not generated the prominent results. However, model predictions are better than the naive forecast with sales for the previous month. "
      ]
    }
  ],
  "metadata": {
    "colab": {
      "provenance": [],
      "authorship_tag": "ABX9TyOyVdtkW612X1xsSc0usXq8",
      "include_colab_link": true
    },
    "gpuClass": "standard",
    "kernelspec": {
      "display_name": "Python 3",
      "name": "python3"
    },
    "language_info": {
      "name": "python"
    },
    "accelerator": "GPU"
  },
  "nbformat": 4,
  "nbformat_minor": 0
}