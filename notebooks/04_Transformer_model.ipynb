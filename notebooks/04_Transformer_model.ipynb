{
  "cells": [
    {
      "cell_type": "markdown",
      "metadata": {
        "id": "view-in-github",
        "colab_type": "text"
      },
      "source": [
        "<a href=\"https://colab.research.google.com/github/YaninaK/sales-forecast/blob/main/notebooks/04_Transformer_model.ipynb\" target=\"_parent\"><img src=\"https://colab.research.google.com/assets/colab-badge.svg\" alt=\"Open In Colab\"/></a>"
      ]
    },
    {
      "cell_type": "markdown",
      "metadata": {
        "id": "yw1w9JFTOyl0"
      },
      "source": [
        "# Sales forecast for 20 stores for 31 days' period.\n",
        "\n",
        "## Transformer model"
      ]
    },
    {
      "cell_type": "markdown",
      "metadata": {
        "id": "0ntOLUaWO_Zl"
      },
      "source": [
        "[EDA: omissions, clustering & Fourier transformations](\n",
        "https://colab.research.google.com/drive/1udCgyEt7lusSY43lnduVDEnZvdvVEt9h?usp=sharing)\n",
        "\n",
        "[Feature extraction](https://colab.research.google.com/drive/1H-vQoHnycp62YuZD1xrmIDjufpDu7ig3?usp=sharing)"
      ]
    },
    {
      "cell_type": "code",
      "execution_count": 1,
      "metadata": {
        "id": "NP9i317dO3-E",
        "colab": {
          "base_uri": "https://localhost:8080/"
        },
        "outputId": "3a50593e-7d25-43a8-f23d-b16103e77d2b"
      },
      "outputs": [
        {
          "output_type": "stream",
          "name": "stdout",
          "text": [
            "Mounted at /content/drive\n"
          ]
        }
      ],
      "source": [
        "from google.colab import drive\n",
        "drive.mount('/content/drive')"
      ]
    },
    {
      "cell_type": "code",
      "execution_count": 2,
      "metadata": {
        "id": "NOaainxsPvh1",
        "colab": {
          "base_uri": "https://localhost:8080/"
        },
        "outputId": "bd3e1e27-93a8-4851-ca3b-6928fc1444c6"
      },
      "outputs": [
        {
          "output_type": "stream",
          "name": "stdout",
          "text": [
            "\u001b[2K     \u001b[90m━━━━━━━━━━━━━━━━━━━━━━━━━━━━━━━━━━━━━━\u001b[0m \u001b[32m358.2/358.2 KB\u001b[0m \u001b[31m27.4 MB/s\u001b[0m eta \u001b[36m0:00:00\u001b[0m\n",
            "\u001b[2K     \u001b[90m━━━━━━━━━━━━━━━━━━━━━━━━━━━━━━━━━━━━━━━━\u001b[0m \u001b[32m98.2/98.2 KB\u001b[0m \u001b[31m13.1 MB/s\u001b[0m eta \u001b[36m0:00:00\u001b[0m\n",
            "\u001b[2K     \u001b[90m━━━━━━━━━━━━━━━━━━━━━━━━━━━━━━━━━━━━━━\u001b[0m \u001b[32m136.2/136.2 KB\u001b[0m \u001b[31m17.4 MB/s\u001b[0m eta \u001b[36m0:00:00\u001b[0m\n",
            "\u001b[?25h"
          ]
        }
      ],
      "source": [
        "!git clone -q https://github.com/YaninaK/sales-forecast.git\n",
        "!pip install -r sales-forecast/requirements_Colab.txt -q "
      ]
    },
    {
      "cell_type": "code",
      "execution_count": 3,
      "metadata": {
        "id": "oGpZTC0tP0QI",
        "colab": {
          "base_uri": "https://localhost:8080/"
        },
        "outputId": "6c6f8ca6-ffff-436a-e17b-1028c3890119"
      },
      "outputs": [
        {
          "output_type": "stream",
          "name": "stdout",
          "text": [
            "/content/sales-forecast\n"
          ]
        }
      ],
      "source": [
        "%cd sales-forecast"
      ]
    },
    {
      "cell_type": "code",
      "execution_count": 4,
      "metadata": {
        "id": "9JdDC3FUP1J7"
      },
      "outputs": [],
      "source": [
        "import sys\n",
        "import os\n",
        "\n",
        "sys.path.append(os.getcwd())\n",
        "sys.path.append(os.path.join(os.getcwd(), \"src\", \"sales_forecast\"))"
      ]
    },
    {
      "cell_type": "code",
      "execution_count": 5,
      "metadata": {
        "id": "9IzhaR8jP302"
      },
      "outputs": [],
      "source": [
        "import random\n",
        "import pandas as pd\n",
        "import numpy as np\n",
        "import tensorflow as tf\n",
        "import joblib\n",
        "\n",
        "from data.make_dataset import load_data\n",
        "from src.sales_forecast.models import train\n",
        "\n",
        "from data.johnson_su_transformation import JohnsonSU\n",
        "from data.train_test_datasets import get_train_dataset, get_test_dataset\n",
        "from models.model_TF import get_model_TF"
      ]
    },
    {
      "cell_type": "code",
      "execution_count": 6,
      "metadata": {
        "id": "1htDECSWLpcT"
      },
      "outputs": [],
      "source": [
        "import warnings\n",
        "warnings.filterwarnings('ignore')"
      ]
    },
    {
      "cell_type": "code",
      "execution_count": 7,
      "metadata": {
        "id": "llog_mfTQIGB"
      },
      "outputs": [],
      "source": [
        "PATH = '/content/drive/MyDrive/ML_projects/01_Time_series/sales_forecast/'\n",
        "DEFAULT_RANDOM_SEED = 3"
      ]
    },
    {
      "cell_type": "code",
      "execution_count": 8,
      "metadata": {
        "id": "Q9iGOsyiQLA8"
      },
      "outputs": [],
      "source": [
        "def set_all_seeds(seed=DEFAULT_RANDOM_SEED):\n",
        "  random.seed(seed)\n",
        "  os.environ['PYTHONHASHSEED'] = str(seed)\n",
        "  np.random.seed(seed)\n",
        "  tf.random.set_seed(seed)\n",
        "  \n",
        "set_all_seeds()"
      ]
    },
    {
      "cell_type": "markdown",
      "metadata": {
        "id": "6FplTdRyQ4kR"
      },
      "source": [
        "## 1. Data ingestion"
      ]
    },
    {
      "cell_type": "code",
      "execution_count": 9,
      "metadata": {
        "id": "q20ClbC4Kzr7",
        "colab": {
          "base_uri": "https://localhost:8080/",
          "height": 149
        },
        "outputId": "42d1c472-8aad-4c2e-d059-0c3ff2423d43"
      },
      "outputs": [
        {
          "output_type": "stream",
          "name": "stdout",
          "text": [
            "data.shape = (8230, 3)\n",
            "\n"
          ]
        },
        {
          "output_type": "execute_result",
          "data": {
            "text/plain": [
              "   id          dt  target\n",
              "0   0  2016-01-02   747.8\n",
              "1   0  2016-01-03   681.2"
            ],
            "text/html": [
              "\n",
              "  <div id=\"df-56c7010c-b91b-4608-ad3b-68fd59604c42\">\n",
              "    <div class=\"colab-df-container\">\n",
              "      <div>\n",
              "<style scoped>\n",
              "    .dataframe tbody tr th:only-of-type {\n",
              "        vertical-align: middle;\n",
              "    }\n",
              "\n",
              "    .dataframe tbody tr th {\n",
              "        vertical-align: top;\n",
              "    }\n",
              "\n",
              "    .dataframe thead th {\n",
              "        text-align: right;\n",
              "    }\n",
              "</style>\n",
              "<table border=\"1\" class=\"dataframe\">\n",
              "  <thead>\n",
              "    <tr style=\"text-align: right;\">\n",
              "      <th></th>\n",
              "      <th>id</th>\n",
              "      <th>dt</th>\n",
              "      <th>target</th>\n",
              "    </tr>\n",
              "  </thead>\n",
              "  <tbody>\n",
              "    <tr>\n",
              "      <th>0</th>\n",
              "      <td>0</td>\n",
              "      <td>2016-01-02</td>\n",
              "      <td>747.8</td>\n",
              "    </tr>\n",
              "    <tr>\n",
              "      <th>1</th>\n",
              "      <td>0</td>\n",
              "      <td>2016-01-03</td>\n",
              "      <td>681.2</td>\n",
              "    </tr>\n",
              "  </tbody>\n",
              "</table>\n",
              "</div>\n",
              "      <button class=\"colab-df-convert\" onclick=\"convertToInteractive('df-56c7010c-b91b-4608-ad3b-68fd59604c42')\"\n",
              "              title=\"Convert this dataframe to an interactive table.\"\n",
              "              style=\"display:none;\">\n",
              "        \n",
              "  <svg xmlns=\"http://www.w3.org/2000/svg\" height=\"24px\"viewBox=\"0 0 24 24\"\n",
              "       width=\"24px\">\n",
              "    <path d=\"M0 0h24v24H0V0z\" fill=\"none\"/>\n",
              "    <path d=\"M18.56 5.44l.94 2.06.94-2.06 2.06-.94-2.06-.94-.94-2.06-.94 2.06-2.06.94zm-11 1L8.5 8.5l.94-2.06 2.06-.94-2.06-.94L8.5 2.5l-.94 2.06-2.06.94zm10 10l.94 2.06.94-2.06 2.06-.94-2.06-.94-.94-2.06-.94 2.06-2.06.94z\"/><path d=\"M17.41 7.96l-1.37-1.37c-.4-.4-.92-.59-1.43-.59-.52 0-1.04.2-1.43.59L10.3 9.45l-7.72 7.72c-.78.78-.78 2.05 0 2.83L4 21.41c.39.39.9.59 1.41.59.51 0 1.02-.2 1.41-.59l7.78-7.78 2.81-2.81c.8-.78.8-2.07 0-2.86zM5.41 20L4 18.59l7.72-7.72 1.47 1.35L5.41 20z\"/>\n",
              "  </svg>\n",
              "      </button>\n",
              "      \n",
              "  <style>\n",
              "    .colab-df-container {\n",
              "      display:flex;\n",
              "      flex-wrap:wrap;\n",
              "      gap: 12px;\n",
              "    }\n",
              "\n",
              "    .colab-df-convert {\n",
              "      background-color: #E8F0FE;\n",
              "      border: none;\n",
              "      border-radius: 50%;\n",
              "      cursor: pointer;\n",
              "      display: none;\n",
              "      fill: #1967D2;\n",
              "      height: 32px;\n",
              "      padding: 0 0 0 0;\n",
              "      width: 32px;\n",
              "    }\n",
              "\n",
              "    .colab-df-convert:hover {\n",
              "      background-color: #E2EBFA;\n",
              "      box-shadow: 0px 1px 2px rgba(60, 64, 67, 0.3), 0px 1px 3px 1px rgba(60, 64, 67, 0.15);\n",
              "      fill: #174EA6;\n",
              "    }\n",
              "\n",
              "    [theme=dark] .colab-df-convert {\n",
              "      background-color: #3B4455;\n",
              "      fill: #D2E3FC;\n",
              "    }\n",
              "\n",
              "    [theme=dark] .colab-df-convert:hover {\n",
              "      background-color: #434B5C;\n",
              "      box-shadow: 0px 1px 3px 1px rgba(0, 0, 0, 0.15);\n",
              "      filter: drop-shadow(0px 1px 2px rgba(0, 0, 0, 0.3));\n",
              "      fill: #FFFFFF;\n",
              "    }\n",
              "  </style>\n",
              "\n",
              "      <script>\n",
              "        const buttonEl =\n",
              "          document.querySelector('#df-56c7010c-b91b-4608-ad3b-68fd59604c42 button.colab-df-convert');\n",
              "        buttonEl.style.display =\n",
              "          google.colab.kernel.accessAllowed ? 'block' : 'none';\n",
              "\n",
              "        async function convertToInteractive(key) {\n",
              "          const element = document.querySelector('#df-56c7010c-b91b-4608-ad3b-68fd59604c42');\n",
              "          const dataTable =\n",
              "            await google.colab.kernel.invokeFunction('convertToInteractive',\n",
              "                                                     [key], {});\n",
              "          if (!dataTable) return;\n",
              "\n",
              "          const docLinkHtml = 'Like what you see? Visit the ' +\n",
              "            '<a target=\"_blank\" href=https://colab.research.google.com/notebooks/data_table.ipynb>data table notebook</a>'\n",
              "            + ' to learn more about interactive tables.';\n",
              "          element.innerHTML = '';\n",
              "          dataTable['output_type'] = 'display_data';\n",
              "          await google.colab.output.renderOutput(dataTable, element);\n",
              "          const docLink = document.createElement('div');\n",
              "          docLink.innerHTML = docLinkHtml;\n",
              "          element.appendChild(docLink);\n",
              "        }\n",
              "      </script>\n",
              "    </div>\n",
              "  </div>\n",
              "  "
            ]
          },
          "metadata": {},
          "execution_count": 9
        }
      ],
      "source": [
        "data = load_data(PATH)\n",
        "\n",
        "print(f'data.shape = {data.shape}\\n')\n",
        "data.head(2)"
      ]
    },
    {
      "cell_type": "markdown",
      "metadata": {
        "id": "BWN9VH40WEMK"
      },
      "source": [
        "## 2. Data preprocessing pipeline"
      ]
    },
    {
      "cell_type": "code",
      "execution_count": 10,
      "metadata": {
        "id": "uRbHm4snLIYS",
        "colab": {
          "base_uri": "https://localhost:8080/"
        },
        "outputId": "68399682-ac48-4a37-b94b-570a1df14f5f"
      },
      "outputs": [
        {
          "output_type": "stream",
          "name": "stdout",
          "text": [
            "Number of outliers = 8\n"
          ]
        },
        {
          "output_type": "execute_result",
          "data": {
            "text/plain": [
              "(153, 20, 40)"
            ]
          },
          "metadata": {},
          "execution_count": 10
        }
      ],
      "source": [
        "regenerate = True\n",
        "if regenerate:\n",
        "  X = train.data_preprocessing_pipeline(data)\n",
        "else:\n",
        "  X = np.load('data/04_feature/train_dataset.npy')\n",
        "\n",
        "X.shape"
      ]
    },
    {
      "cell_type": "markdown",
      "metadata": {
        "id": "a5yhOwIBedyY"
      },
      "source": [
        "## 3. Transformer model"
      ]
    },
    {
      "cell_type": "markdown",
      "metadata": {
        "id": "eqH3rDIHig3N"
      },
      "source": [
        "### 3.1 Train dataset"
      ]
    },
    {
      "cell_type": "code",
      "source": [
        "X_train, y_train = get_train_dataset(X)\n",
        "X_train.shape, y_train.shape"
      ],
      "metadata": {
        "id": "a6RWONYgWN9q",
        "colab": {
          "base_uri": "https://localhost:8080/"
        },
        "outputId": "314f8421-4a05-41d1-b088-f55a6b179229"
      },
      "execution_count": 11,
      "outputs": [
        {
          "output_type": "execute_result",
          "data": {
            "text/plain": [
              "((900, 54, 40), (900, 27, 40))"
            ]
          },
          "metadata": {},
          "execution_count": 11
        }
      ]
    },
    {
      "cell_type": "markdown",
      "source": [
        "### 3.2 Training of the model"
      ],
      "metadata": {
        "id": "Ce4QTKenSRy-"
      }
    },
    {
      "cell_type": "code",
      "source": [
        "model = get_model_TF(X_train.shape[1:])\n",
        "model.summary()"
      ],
      "metadata": {
        "id": "H7HhrBm3RRyw",
        "colab": {
          "base_uri": "https://localhost:8080/"
        },
        "outputId": "2e5c8fed-95d9-43be-ed96-d946a9404461"
      },
      "execution_count": 12,
      "outputs": [
        {
          "output_type": "stream",
          "name": "stdout",
          "text": [
            "Model: \"model\"\n",
            "__________________________________________________________________________________________________\n",
            " Layer (type)                   Output Shape         Param #     Connected to                     \n",
            "==================================================================================================\n",
            " input_1 (InputLayer)           [(None, 54, 40)]     0           []                               \n",
            "                                                                                                  \n",
            " layer_normalization (LayerNorm  (None, 54, 40)      80          ['input_1[0][0]']                \n",
            " alization)                                                                                       \n",
            "                                                                                                  \n",
            " transformer_block (Transformer  (None, 54, 40)      52432       ['layer_normalization[0][0]']    \n",
            " Block)                                                                                           \n",
            "                                                                                                  \n",
            " tf.math.multiply (TFOpLambda)  (None, 54, 40)       0           ['transformer_block[0][0]']      \n",
            "                                                                                                  \n",
            " tf.math.multiply_1 (TFOpLambda  (None, 54, 40)      0           ['layer_normalization[0][0]']    \n",
            " )                                                                                                \n",
            "                                                                                                  \n",
            " tf.__operators__.add (TFOpLamb  (None, 54, 40)      0           ['tf.math.multiply[0][0]',       \n",
            " da)                                                              'tf.math.multiply_1[0][0]']     \n",
            "                                                                                                  \n",
            " transformer_block_1 (Transform  (None, 54, 40)      52432       ['tf.__operators__.add[0][0]']   \n",
            " erBlock)                                                                                         \n",
            "                                                                                                  \n",
            " tf.math.multiply_2 (TFOpLambda  (None, 54, 40)      0           ['transformer_block_1[0][0]']    \n",
            " )                                                                                                \n",
            "                                                                                                  \n",
            " tf.math.multiply_3 (TFOpLambda  (None, 54, 40)      0           ['tf.__operators__.add[0][0]']   \n",
            " )                                                                                                \n",
            "                                                                                                  \n",
            " tf.__operators__.add_1 (TFOpLa  (None, 54, 40)      0           ['tf.math.multiply_2[0][0]',     \n",
            " mbda)                                                            'tf.math.multiply_3[0][0]']     \n",
            "                                                                                                  \n",
            " transformer_block_2 (Transform  (None, 54, 40)      52432       ['tf.__operators__.add_1[0][0]'] \n",
            " erBlock)                                                                                         \n",
            "                                                                                                  \n",
            " tf.math.multiply_4 (TFOpLambda  (None, 54, 40)      0           ['transformer_block_2[0][0]']    \n",
            " )                                                                                                \n",
            "                                                                                                  \n",
            " tf.math.multiply_5 (TFOpLambda  (None, 54, 40)      0           ['tf.__operators__.add_1[0][0]'] \n",
            " )                                                                                                \n",
            "                                                                                                  \n",
            " tf.__operators__.add_2 (TFOpLa  (None, 54, 40)      0           ['tf.math.multiply_4[0][0]',     \n",
            " mbda)                                                            'tf.math.multiply_5[0][0]']     \n",
            "                                                                                                  \n",
            " transformer_block_3 (Transform  (None, 54, 40)      52432       ['tf.__operators__.add_2[0][0]'] \n",
            " erBlock)                                                                                         \n",
            "                                                                                                  \n",
            " tf.math.multiply_6 (TFOpLambda  (None, 54, 40)      0           ['transformer_block_3[0][0]']    \n",
            " )                                                                                                \n",
            "                                                                                                  \n",
            " tf.math.multiply_7 (TFOpLambda  (None, 54, 40)      0           ['tf.__operators__.add_2[0][0]'] \n",
            " )                                                                                                \n",
            "                                                                                                  \n",
            " tf.__operators__.add_3 (TFOpLa  (None, 54, 40)      0           ['tf.math.multiply_6[0][0]',     \n",
            " mbda)                                                            'tf.math.multiply_7[0][0]']     \n",
            "                                                                                                  \n",
            " transformer_block_4 (Transform  (None, 54, 40)      52432       ['tf.__operators__.add_3[0][0]'] \n",
            " erBlock)                                                                                         \n",
            "                                                                                                  \n",
            " tf.math.multiply_8 (TFOpLambda  (None, 54, 40)      0           ['transformer_block_4[0][0]']    \n",
            " )                                                                                                \n",
            "                                                                                                  \n",
            " tf.math.multiply_9 (TFOpLambda  (None, 54, 40)      0           ['tf.__operators__.add_3[0][0]'] \n",
            " )                                                                                                \n",
            "                                                                                                  \n",
            " tf.__operators__.add_4 (TFOpLa  (None, 54, 40)      0           ['tf.math.multiply_8[0][0]',     \n",
            " mbda)                                                            'tf.math.multiply_9[0][0]']     \n",
            "                                                                                                  \n",
            " transformer_block_5 (Transform  (None, 54, 40)      52432       ['tf.__operators__.add_4[0][0]'] \n",
            " erBlock)                                                                                         \n",
            "                                                                                                  \n",
            " tf.math.multiply_10 (TFOpLambd  (None, 54, 40)      0           ['transformer_block_5[0][0]']    \n",
            " a)                                                                                               \n",
            "                                                                                                  \n",
            " tf.math.multiply_11 (TFOpLambd  (None, 54, 40)      0           ['tf.__operators__.add_4[0][0]'] \n",
            " a)                                                                                               \n",
            "                                                                                                  \n",
            " tf.__operators__.add_5 (TFOpLa  (None, 54, 40)      0           ['tf.math.multiply_10[0][0]',    \n",
            " mbda)                                                            'tf.math.multiply_11[0][0]']    \n",
            "                                                                                                  \n",
            " reshape (Reshape)              (None, 27, 80)       0           ['tf.__operators__.add_5[0][0]'] \n",
            "                                                                                                  \n",
            " time_distributed (TimeDistribu  (None, 27, 40)      3240        ['reshape[0][0]']                \n",
            " ted)                                                                                             \n",
            "                                                                                                  \n",
            "==================================================================================================\n",
            "Total params: 317,912\n",
            "Trainable params: 316,952\n",
            "Non-trainable params: 960\n",
            "__________________________________________________________________________________________________\n"
          ]
        }
      ]
    },
    {
      "cell_type": "code",
      "source": [
        "n_shops = 20\n",
        "n_epochs = 40\n",
        "batch_size = n_shops * 2\n",
        "m = n_shops * 4\n",
        "\n",
        "reduce_lr = tf.keras.callbacks.LearningRateScheduler(\n",
        "    lambda epoch: 3e-2 * 0.95 ** epoch\n",
        ")\n",
        "model.compile(\n",
        "    optimizer=tf.keras.optimizers.Adam(),\n",
        "    loss=tf.keras.losses.Huber()\n",
        ")\n",
        "history = model.fit(\n",
        "    X_train[:-m, :, :], y_train[:-m, :, :], \n",
        "    epochs=n_epochs,\n",
        "    validation_data=(X_train[-m:, :, :], y_train[-m:, :, :]),\n",
        "    batch_size=batch_size, \n",
        "    verbose=1,\n",
        "    callbacks=[reduce_lr],\n",
        "    shuffle=True,\n",
        "    workers=-1,\n",
        "    use_multiprocessing=True\n",
        ")"
      ],
      "metadata": {
        "id": "0eaYOlXkueJE",
        "colab": {
          "base_uri": "https://localhost:8080/"
        },
        "outputId": "d77a854a-6344-450c-8473-63546c527f53"
      },
      "execution_count": 13,
      "outputs": [
        {
          "output_type": "stream",
          "name": "stdout",
          "text": [
            "Epoch 1/40\n",
            "21/21 [==============================] - 28s 73ms/step - loss: 0.4356 - val_loss: 52.1566 - lr: 0.0300\n",
            "Epoch 2/40\n",
            "21/21 [==============================] - 1s 31ms/step - loss: 0.3781 - val_loss: 1.2020 - lr: 0.0285\n",
            "Epoch 3/40\n",
            "21/21 [==============================] - 1s 30ms/step - loss: 0.3688 - val_loss: 0.9518 - lr: 0.0271\n",
            "Epoch 4/40\n",
            "21/21 [==============================] - 1s 29ms/step - loss: 0.3602 - val_loss: 0.7140 - lr: 0.0257\n",
            "Epoch 5/40\n",
            "21/21 [==============================] - 1s 30ms/step - loss: 0.3497 - val_loss: 0.6378 - lr: 0.0244\n",
            "Epoch 6/40\n",
            "21/21 [==============================] - 1s 30ms/step - loss: 0.3402 - val_loss: 0.5886 - lr: 0.0232\n",
            "Epoch 7/40\n",
            "21/21 [==============================] - 1s 29ms/step - loss: 0.3309 - val_loss: 0.5416 - lr: 0.0221\n",
            "Epoch 8/40\n",
            "21/21 [==============================] - 1s 38ms/step - loss: 0.3223 - val_loss: 0.5448 - lr: 0.0210\n",
            "Epoch 9/40\n",
            "21/21 [==============================] - 1s 42ms/step - loss: 0.3129 - val_loss: 0.4634 - lr: 0.0199\n",
            "Epoch 10/40\n",
            "21/21 [==============================] - 1s 43ms/step - loss: 0.3058 - val_loss: 0.4827 - lr: 0.0189\n",
            "Epoch 11/40\n",
            "21/21 [==============================] - 1s 43ms/step - loss: 0.2965 - val_loss: 0.3892 - lr: 0.0180\n",
            "Epoch 12/40\n",
            "21/21 [==============================] - 1s 36ms/step - loss: 0.2928 - val_loss: 0.3809 - lr: 0.0171\n",
            "Epoch 13/40\n",
            "21/21 [==============================] - 1s 31ms/step - loss: 0.2854 - val_loss: 0.3608 - lr: 0.0162\n",
            "Epoch 14/40\n",
            "21/21 [==============================] - 1s 29ms/step - loss: 0.2801 - val_loss: 0.3231 - lr: 0.0154\n",
            "Epoch 15/40\n",
            "21/21 [==============================] - 1s 30ms/step - loss: 0.2756 - val_loss: 0.3379 - lr: 0.0146\n",
            "Epoch 16/40\n",
            "21/21 [==============================] - 1s 30ms/step - loss: 0.2738 - val_loss: 0.3062 - lr: 0.0139\n",
            "Epoch 17/40\n",
            "21/21 [==============================] - 1s 30ms/step - loss: 0.2689 - val_loss: 0.3088 - lr: 0.0132\n",
            "Epoch 18/40\n",
            "21/21 [==============================] - 1s 29ms/step - loss: 0.2685 - val_loss: 0.2972 - lr: 0.0125\n",
            "Epoch 19/40\n",
            "21/21 [==============================] - 1s 28ms/step - loss: 0.2618 - val_loss: 0.2803 - lr: 0.0119\n",
            "Epoch 20/40\n",
            "21/21 [==============================] - 1s 28ms/step - loss: 0.2590 - val_loss: 0.2725 - lr: 0.0113\n",
            "Epoch 21/40\n",
            "21/21 [==============================] - 1s 27ms/step - loss: 0.2566 - val_loss: 0.2761 - lr: 0.0108\n",
            "Epoch 22/40\n",
            "21/21 [==============================] - 1s 28ms/step - loss: 0.2545 - val_loss: 0.2630 - lr: 0.0102\n",
            "Epoch 23/40\n",
            "21/21 [==============================] - 1s 39ms/step - loss: 0.2479 - val_loss: 0.2600 - lr: 0.0097\n",
            "Epoch 24/40\n",
            "21/21 [==============================] - 1s 41ms/step - loss: 0.2458 - val_loss: 0.2563 - lr: 0.0092\n",
            "Epoch 25/40\n",
            "21/21 [==============================] - 1s 41ms/step - loss: 0.2428 - val_loss: 0.2550 - lr: 0.0088\n",
            "Epoch 26/40\n",
            "21/21 [==============================] - 1s 29ms/step - loss: 0.2420 - val_loss: 0.2518 - lr: 0.0083\n",
            "Epoch 27/40\n",
            "21/21 [==============================] - 1s 38ms/step - loss: 0.2379 - val_loss: 0.2472 - lr: 0.0079\n",
            "Epoch 28/40\n",
            "21/21 [==============================] - 1s 42ms/step - loss: 0.2371 - val_loss: 0.2410 - lr: 0.0075\n",
            "Epoch 29/40\n",
            "21/21 [==============================] - 1s 42ms/step - loss: 0.2344 - val_loss: 0.2373 - lr: 0.0071\n",
            "Epoch 30/40\n",
            "21/21 [==============================] - 1s 41ms/step - loss: 0.2370 - val_loss: 0.2316 - lr: 0.0068\n",
            "Epoch 31/40\n",
            "21/21 [==============================] - 1s 37ms/step - loss: 0.2269 - val_loss: 0.2253 - lr: 0.0064\n",
            "Epoch 32/40\n",
            "21/21 [==============================] - 1s 29ms/step - loss: 0.2255 - val_loss: 0.2332 - lr: 0.0061\n",
            "Epoch 33/40\n",
            "21/21 [==============================] - 1s 29ms/step - loss: 0.2229 - val_loss: 0.2208 - lr: 0.0058\n",
            "Epoch 34/40\n",
            "21/21 [==============================] - 1s 29ms/step - loss: 0.2226 - val_loss: 0.2275 - lr: 0.0055\n",
            "Epoch 35/40\n",
            "21/21 [==============================] - 1s 29ms/step - loss: 0.2232 - val_loss: 0.2129 - lr: 0.0052\n",
            "Epoch 36/40\n",
            "21/21 [==============================] - 1s 29ms/step - loss: 0.2153 - val_loss: 0.2123 - lr: 0.0050\n",
            "Epoch 37/40\n",
            "21/21 [==============================] - 1s 29ms/step - loss: 0.2167 - val_loss: 0.2113 - lr: 0.0047\n",
            "Epoch 38/40\n",
            "21/21 [==============================] - 1s 30ms/step - loss: 0.2156 - val_loss: 0.2152 - lr: 0.0045\n",
            "Epoch 39/40\n",
            "21/21 [==============================] - 1s 31ms/step - loss: 0.2149 - val_loss: 0.2070 - lr: 0.0043\n",
            "Epoch 40/40\n",
            "21/21 [==============================] - 1s 29ms/step - loss: 0.2096 - val_loss: 0.2042 - lr: 0.0041\n"
          ]
        }
      ]
    },
    {
      "cell_type": "markdown",
      "metadata": {
        "id": "-T-FivMrYoH5"
      },
      "source": [
        "### 3.3 Inference"
      ]
    },
    {
      "cell_type": "code",
      "execution_count": 14,
      "metadata": {
        "id": "uyn5BLhgYHO3"
      },
      "outputs": [],
      "source": [
        "X_test, y_test = get_test_dataset(X)"
      ]
    },
    {
      "cell_type": "code",
      "execution_count": 15,
      "metadata": {
        "id": "dgZcymnwX7hH",
        "colab": {
          "base_uri": "https://localhost:8080/"
        },
        "outputId": "e58899cb-e755-48ab-edf2-2dc7ee9d4c57"
      },
      "outputs": [
        {
          "output_type": "stream",
          "name": "stdout",
          "text": [
            "1/1 [==============================] - 1s 1s/step\n"
          ]
        },
        {
          "output_type": "execute_result",
          "data": {
            "text/plain": [
              "(20, 27, 40)"
            ]
          },
          "metadata": {},
          "execution_count": 15
        }
      ],
      "source": [
        "pred = model.predict(X_test)\n",
        "pred.shape"
      ]
    },
    {
      "cell_type": "markdown",
      "metadata": {
        "id": "LphmAbjGZkA3"
      },
      "source": [
        "### 3.4 Model evaluation"
      ]
    },
    {
      "cell_type": "markdown",
      "metadata": {
        "id": "nkFU4RxZZk8-"
      },
      "source": [
        "#### Mean absolute scaled error (MASE) \n",
        "https://en.wikipedia.org/wiki/Mean_absolute_scaled_error"
      ]
    },
    {
      "cell_type": "markdown",
      "metadata": {
        "id": "nM1Cj-_XZpsO"
      },
      "source": [
        "The denominator of mean absolute scaled error is the mean absolute error of the one-step \"seasonal naive forecast method\" on the training set, which uses the actual value from the prior 30 days as the forecast: \n",
        "* F(t) = Y(t−30)\n",
        "\n",
        "MASE is scale-free error metric. So, it can be applied to scaled data without extra iteration of inverse scaling."
      ]
    },
    {
      "cell_type": "code",
      "execution_count": 16,
      "metadata": {
        "id": "jSPdjqEztRix",
        "colab": {
          "base_uri": "https://localhost:8080/"
        },
        "outputId": "d450650a-fdbe-485d-84b1-9cd4c9ccc5ac"
      },
      "outputs": [
        {
          "output_type": "execute_result",
          "data": {
            "text/plain": [
              "((20, 27, 40), (20, 27, 40))"
            ]
          },
          "metadata": {},
          "execution_count": 16
        }
      ],
      "source": [
        "pred.shape, y_test.shape"
      ]
    },
    {
      "cell_type": "code",
      "execution_count": 17,
      "metadata": {
        "id": "H7m2mh1I8rm6",
        "colab": {
          "base_uri": "https://localhost:8080/"
        },
        "outputId": "a7e31018-05ca-4ddb-b3fd-c5c634257380"
      },
      "outputs": [
        {
          "output_type": "stream",
          "name": "stdout",
          "text": [
            "Mean absolute scaled error = 0.9206\n"
          ]
        }
      ],
      "source": [
        "forecast_error = abs(pred[:, :, 0] - y_test[:, :, 0]).mean()\n",
        "mase = forecast_error / abs(y_test[:, :, 6]).mean()\n",
        "\n",
        "print(f'Mean absolute scaled error = {round(mase.mean(), 4)}')"
      ]
    },
    {
      "cell_type": "markdown",
      "metadata": {
        "id": "sYbpp1abZzxQ"
      },
      "source": [
        "__Findings:__\n",
        "\n",
        "* Out of 72 samples available for training (153 less input and output sequence length) 4 were used for validation of the model and 27 for testing. So, we had only 41 samples for training of the model and it is definately not sufficient.\n",
        "\n",
        "* To get more accurate predictions, we need to retrain the model on the full set of data. It should improve the final results."
      ]
    },
    {
      "cell_type": "markdown",
      "metadata": {
        "id": "vmXsJCA5Z0t9"
      },
      "source": [
        "## 4. Final prediction"
      ]
    },
    {
      "cell_type": "markdown",
      "metadata": {
        "id": "wpg_5giedIV5"
      },
      "source": [
        "### 4.1. Dataset"
      ]
    },
    {
      "cell_type": "code",
      "execution_count": 18,
      "metadata": {
        "id": "cN70_li0aLy2",
        "colab": {
          "base_uri": "https://localhost:8080/"
        },
        "outputId": "b8559d91-96cb-47cc-dafc-93628f512b93"
      },
      "outputs": [
        {
          "output_type": "execute_result",
          "data": {
            "text/plain": [
              "((1440, 54, 40), (1440, 27, 40), (20, 54, 40))"
            ]
          },
          "metadata": {},
          "execution_count": 18
        }
      ],
      "source": [
        "X_train, y_train = get_train_dataset(X, final=True)\n",
        "X_test = get_test_dataset(X, final=True)\n",
        "\n",
        "X_train.shape, y_train.shape, X_test.shape"
      ]
    },
    {
      "cell_type": "markdown",
      "metadata": {
        "id": "MC_L5BwPdCb-"
      },
      "source": [
        "### 4.2. Retraining the model on full dataset"
      ]
    },
    {
      "cell_type": "code",
      "execution_count": 19,
      "metadata": {
        "id": "jYh4p4YQaffn",
        "colab": {
          "base_uri": "https://localhost:8080/"
        },
        "outputId": "30499588-d296-4ad1-d72e-22363efa7bc2"
      },
      "outputs": [
        {
          "output_type": "stream",
          "name": "stdout",
          "text": [
            "Epoch 1/50\n",
            "34/34 [==============================] - 21s 45ms/step - loss: 0.3871 - val_loss: 4.1456 - lr: 0.0300\n",
            "Epoch 2/50\n",
            "34/34 [==============================] - 1s 18ms/step - loss: 0.3430 - val_loss: 0.6324 - lr: 0.0285\n",
            "Epoch 3/50\n",
            "34/34 [==============================] - 1s 19ms/step - loss: 0.3357 - val_loss: 0.4000 - lr: 0.0271\n",
            "Epoch 4/50\n",
            "34/34 [==============================] - 1s 20ms/step - loss: 0.3314 - val_loss: 0.3770 - lr: 0.0257\n",
            "Epoch 5/50\n",
            "34/34 [==============================] - 1s 19ms/step - loss: 0.3245 - val_loss: 0.3503 - lr: 0.0244\n",
            "Epoch 6/50\n",
            "34/34 [==============================] - 1s 19ms/step - loss: 0.3131 - val_loss: 0.3946 - lr: 0.0232\n",
            "Epoch 7/50\n",
            "34/34 [==============================] - 1s 20ms/step - loss: 0.3057 - val_loss: 0.3616 - lr: 0.0221\n",
            "Epoch 8/50\n",
            "34/34 [==============================] - 1s 29ms/step - loss: 0.3012 - val_loss: 0.4132 - lr: 0.0210\n",
            "Epoch 9/50\n",
            "34/34 [==============================] - 1s 28ms/step - loss: 0.2942 - val_loss: 0.3065 - lr: 0.0199\n",
            "Epoch 10/50\n",
            "34/34 [==============================] - 1s 28ms/step - loss: 0.2875 - val_loss: 0.2910 - lr: 0.0189\n",
            "Epoch 11/50\n",
            "34/34 [==============================] - 1s 25ms/step - loss: 0.2821 - val_loss: 0.2822 - lr: 0.0180\n",
            "Epoch 12/50\n",
            "34/34 [==============================] - 1s 19ms/step - loss: 0.2773 - val_loss: 0.2774 - lr: 0.0171\n",
            "Epoch 13/50\n",
            "34/34 [==============================] - 1s 19ms/step - loss: 0.2724 - val_loss: 0.2646 - lr: 0.0162\n",
            "Epoch 14/50\n",
            "34/34 [==============================] - 1s 19ms/step - loss: 0.2670 - val_loss: 0.2584 - lr: 0.0154\n",
            "Epoch 15/50\n",
            "34/34 [==============================] - 1s 19ms/step - loss: 0.2626 - val_loss: 0.2577 - lr: 0.0146\n",
            "Epoch 16/50\n",
            "34/34 [==============================] - 1s 19ms/step - loss: 0.2588 - val_loss: 0.2507 - lr: 0.0139\n",
            "Epoch 17/50\n",
            "34/34 [==============================] - 1s 19ms/step - loss: 0.2560 - val_loss: 0.2518 - lr: 0.0132\n",
            "Epoch 18/50\n",
            "34/34 [==============================] - 1s 19ms/step - loss: 0.2529 - val_loss: 0.2422 - lr: 0.0125\n",
            "Epoch 19/50\n",
            "34/34 [==============================] - 1s 19ms/step - loss: 0.2505 - val_loss: 0.2412 - lr: 0.0119\n",
            "Epoch 20/50\n",
            "34/34 [==============================] - 1s 19ms/step - loss: 0.2470 - val_loss: 0.2377 - lr: 0.0113\n",
            "Epoch 21/50\n",
            "34/34 [==============================] - 1s 19ms/step - loss: 0.2456 - val_loss: 0.2379 - lr: 0.0108\n",
            "Epoch 22/50\n",
            "34/34 [==============================] - 1s 19ms/step - loss: 0.2426 - val_loss: 0.2319 - lr: 0.0102\n",
            "Epoch 23/50\n",
            "34/34 [==============================] - 1s 20ms/step - loss: 0.2391 - val_loss: 0.2265 - lr: 0.0097\n",
            "Epoch 24/50\n",
            "34/34 [==============================] - 1s 19ms/step - loss: 0.2364 - val_loss: 0.2237 - lr: 0.0092\n",
            "Epoch 25/50\n",
            "34/34 [==============================] - 1s 19ms/step - loss: 0.2339 - val_loss: 0.2325 - lr: 0.0088\n",
            "Epoch 26/50\n",
            "34/34 [==============================] - 1s 22ms/step - loss: 0.2309 - val_loss: 0.2215 - lr: 0.0083\n",
            "Epoch 27/50\n",
            "34/34 [==============================] - 1s 29ms/step - loss: 0.2279 - val_loss: 0.2269 - lr: 0.0079\n",
            "Epoch 28/50\n",
            "34/34 [==============================] - 1s 29ms/step - loss: 0.2260 - val_loss: 0.2219 - lr: 0.0075\n",
            "Epoch 29/50\n",
            "34/34 [==============================] - 1s 29ms/step - loss: 0.2245 - val_loss: 0.2198 - lr: 0.0071\n",
            "Epoch 30/50\n",
            "34/34 [==============================] - 1s 22ms/step - loss: 0.2234 - val_loss: 0.2163 - lr: 0.0068\n",
            "Epoch 31/50\n",
            "34/34 [==============================] - 1s 20ms/step - loss: 0.2204 - val_loss: 0.2089 - lr: 0.0064\n",
            "Epoch 32/50\n",
            "34/34 [==============================] - 1s 21ms/step - loss: 0.2189 - val_loss: 0.2124 - lr: 0.0061\n",
            "Epoch 33/50\n",
            "34/34 [==============================] - 1s 20ms/step - loss: 0.2182 - val_loss: 0.2109 - lr: 0.0058\n",
            "Epoch 34/50\n",
            "34/34 [==============================] - 1s 19ms/step - loss: 0.2150 - val_loss: 0.2011 - lr: 0.0055\n",
            "Epoch 35/50\n",
            "34/34 [==============================] - 1s 19ms/step - loss: 0.2143 - val_loss: 0.2045 - lr: 0.0052\n",
            "Epoch 36/50\n",
            "34/34 [==============================] - 1s 19ms/step - loss: 0.2122 - val_loss: 0.1991 - lr: 0.0050\n",
            "Epoch 37/50\n",
            "34/34 [==============================] - 1s 19ms/step - loss: 0.2103 - val_loss: 0.2059 - lr: 0.0047\n",
            "Epoch 38/50\n",
            "34/34 [==============================] - 1s 19ms/step - loss: 0.2091 - val_loss: 0.1975 - lr: 0.0045\n",
            "Epoch 39/50\n",
            "34/34 [==============================] - 1s 20ms/step - loss: 0.2106 - val_loss: 0.1944 - lr: 0.0043\n",
            "Epoch 40/50\n",
            "34/34 [==============================] - 1s 20ms/step - loss: 0.2073 - val_loss: 0.1946 - lr: 0.0041\n",
            "Epoch 41/50\n",
            "34/34 [==============================] - 1s 21ms/step - loss: 0.2048 - val_loss: 0.1940 - lr: 0.0039\n",
            "Epoch 42/50\n",
            "34/34 [==============================] - 1s 20ms/step - loss: 0.2054 - val_loss: 0.1968 - lr: 0.0037\n",
            "Epoch 43/50\n",
            "34/34 [==============================] - 1s 20ms/step - loss: 0.2039 - val_loss: 0.1943 - lr: 0.0035\n",
            "Epoch 44/50\n",
            "34/34 [==============================] - 1s 20ms/step - loss: 0.2045 - val_loss: 0.1964 - lr: 0.0033\n",
            "Epoch 45/50\n",
            "34/34 [==============================] - 1s 28ms/step - loss: 0.2011 - val_loss: 0.1910 - lr: 0.0031\n",
            "Epoch 46/50\n",
            "34/34 [==============================] - 1s 28ms/step - loss: 0.2013 - val_loss: 0.1926 - lr: 0.0030\n",
            "Epoch 47/50\n",
            "34/34 [==============================] - 1s 28ms/step - loss: 0.2007 - val_loss: 0.1904 - lr: 0.0028\n",
            "Epoch 48/50\n",
            "34/34 [==============================] - 1s 28ms/step - loss: 0.2014 - val_loss: 0.1930 - lr: 0.0027\n",
            "Epoch 49/50\n",
            "34/34 [==============================] - 1s 20ms/step - loss: 0.2000 - val_loss: 0.1873 - lr: 0.0026\n",
            "Epoch 50/50\n",
            "34/34 [==============================] - 1s 20ms/step - loss: 0.1995 - val_loss: 0.1902 - lr: 0.0024\n"
          ]
        }
      ],
      "source": [
        "n_shops = 20\n",
        "n_epochs = 50\n",
        "batch_size = n_shops * 2\n",
        "m = n_shops * 4\n",
        "\n",
        "model = model = get_model_TF(X_train.shape[1:])\n",
        "reduce_lr = tf.keras.callbacks.LearningRateScheduler(\n",
        "    lambda epoch: 3e-2 * 0.95 ** epoch\n",
        ")\n",
        "model.compile(\n",
        "    optimizer=tf.keras.optimizers.Adam(), \n",
        "    loss=tf.keras.losses.Huber()\n",
        ")\n",
        "history = model.fit(\n",
        "    X_train[:-m, :, :], y_train[:-m, :, :], \n",
        "    epochs=n_epochs,\n",
        "    validation_data=(X_train[-m:, :, :], y_train[-m:, :, :]),\n",
        "    batch_size=batch_size, \n",
        "    verbose=1,\n",
        "    callbacks=[reduce_lr],\n",
        "    shuffle=True,\n",
        "    workers=-1,\n",
        "    use_multiprocessing=True,    \n",
        ")"
      ]
    },
    {
      "cell_type": "markdown",
      "metadata": {
        "id": "_n6z3yuZc0Uj"
      },
      "source": [
        "### 4.3 Model evaluation on validation set"
      ]
    },
    {
      "cell_type": "code",
      "source": [
        "pred = model.predict(X_train[-m:, :, :])\n",
        "pred[:, :, 0].shape,"
      ],
      "metadata": {
        "id": "w0SzRmu52i5b",
        "colab": {
          "base_uri": "https://localhost:8080/"
        },
        "outputId": "0d9301d6-13cd-4358-df4f-8b72bd56eca7"
      },
      "execution_count": 20,
      "outputs": [
        {
          "output_type": "stream",
          "name": "stdout",
          "text": [
            "3/3 [==============================] - 1s 13ms/step\n"
          ]
        },
        {
          "output_type": "execute_result",
          "data": {
            "text/plain": [
              "((80, 27),)"
            ]
          },
          "metadata": {},
          "execution_count": 20
        }
      ]
    },
    {
      "cell_type": "code",
      "source": [
        "forecast_error = abs(pred[:, :, 0] -  y_train[-m:, :, 0]).mean()\n",
        "mase = forecast_error / abs( y_train[-m:, :, 6]).mean()\n",
        "\n",
        "print(f'Mean absolute scaled error = {round(mase.mean(), 4)}')"
      ],
      "metadata": {
        "id": "XFTzEJ8Plx_g",
        "colab": {
          "base_uri": "https://localhost:8080/"
        },
        "outputId": "2d3d6488-d111-43e5-e224-2b61c6a93b06"
      },
      "execution_count": 21,
      "outputs": [
        {
          "output_type": "stream",
          "name": "stdout",
          "text": [
            "Mean absolute scaled error = 0.5155\n"
          ]
        }
      ]
    },
    {
      "cell_type": "markdown",
      "source": [
        "### 4.4. Inference"
      ],
      "metadata": {
        "id": "uK27enu6Zxri"
      }
    },
    {
      "cell_type": "code",
      "source": [
        "pred_final = model.predict(X_test)"
      ],
      "metadata": {
        "id": "tmjSKzcyETZ0",
        "colab": {
          "base_uri": "https://localhost:8080/"
        },
        "outputId": "3900475c-aee8-432c-d275-20fdae1b94a4"
      },
      "execution_count": 22,
      "outputs": [
        {
          "output_type": "stream",
          "name": "stdout",
          "text": [
            "1/1 [==============================] - 0s 29ms/step\n"
          ]
        }
      ]
    },
    {
      "cell_type": "markdown",
      "source": [
        "### 4.5. Inverse transformation of predictions"
      ],
      "metadata": {
        "id": "RZukUO0_Z_zE"
      }
    },
    {
      "cell_type": "code",
      "source": [
        "scaler = joblib.load('data/03_primary/scaler_js.joblib')"
      ],
      "metadata": {
        "id": "FiK-WPRqEZBQ"
      },
      "execution_count": 23,
      "outputs": []
    },
    {
      "cell_type": "code",
      "source": [
        "arr_pred = pred_final[:, :, 0]\n",
        "y_pred = pd.DataFrame(arr_pred).T\n",
        "y_pred_rescaled = scaler.inv_transform(y_pred)\n",
        "y_pred_rescaled.shape\n",
        "     "
      ],
      "metadata": {
        "id": "eSowZPOUEcci",
        "colab": {
          "base_uri": "https://localhost:8080/"
        },
        "outputId": "d14457e7-a240-4a95-f689-a156cac2a1de"
      },
      "execution_count": 24,
      "outputs": [
        {
          "output_type": "execute_result",
          "data": {
            "text/plain": [
              "(27, 20)"
            ]
          },
          "metadata": {},
          "execution_count": 24
        }
      ]
    },
    {
      "cell_type": "markdown",
      "source": [
        "### 4.6. Generation of the final result"
      ],
      "metadata": {
        "id": "38-vuWRZaEdE"
      }
    },
    {
      "cell_type": "code",
      "source": [
        "predict_example = pd.read_parquet(PATH + 'data/01_raw/sample_submit.parquet.gzip')\n",
        "print(f'test.shape = {predict_example.shape}\\n')\n",
        "predict_example.head(2)"
      ],
      "metadata": {
        "id": "F2NVgCjSEfrh",
        "colab": {
          "base_uri": "https://localhost:8080/",
          "height": 149
        },
        "outputId": "cee4e3cf-0314-43c0-8f6d-244ce19e306b"
      },
      "execution_count": 25,
      "outputs": [
        {
          "output_type": "stream",
          "name": "stdout",
          "text": [
            "test.shape = (540, 3)\n",
            "\n"
          ]
        },
        {
          "output_type": "execute_result",
          "data": {
            "text/plain": [
              "   id          dt  target\n",
              "0   0  2017-07-01     500\n",
              "1   0  2017-07-02     500"
            ],
            "text/html": [
              "\n",
              "  <div id=\"df-9322b977-85d2-40da-bf8c-2a3312c1f4f2\">\n",
              "    <div class=\"colab-df-container\">\n",
              "      <div>\n",
              "<style scoped>\n",
              "    .dataframe tbody tr th:only-of-type {\n",
              "        vertical-align: middle;\n",
              "    }\n",
              "\n",
              "    .dataframe tbody tr th {\n",
              "        vertical-align: top;\n",
              "    }\n",
              "\n",
              "    .dataframe thead th {\n",
              "        text-align: right;\n",
              "    }\n",
              "</style>\n",
              "<table border=\"1\" class=\"dataframe\">\n",
              "  <thead>\n",
              "    <tr style=\"text-align: right;\">\n",
              "      <th></th>\n",
              "      <th>id</th>\n",
              "      <th>dt</th>\n",
              "      <th>target</th>\n",
              "    </tr>\n",
              "  </thead>\n",
              "  <tbody>\n",
              "    <tr>\n",
              "      <th>0</th>\n",
              "      <td>0</td>\n",
              "      <td>2017-07-01</td>\n",
              "      <td>500</td>\n",
              "    </tr>\n",
              "    <tr>\n",
              "      <th>1</th>\n",
              "      <td>0</td>\n",
              "      <td>2017-07-02</td>\n",
              "      <td>500</td>\n",
              "    </tr>\n",
              "  </tbody>\n",
              "</table>\n",
              "</div>\n",
              "      <button class=\"colab-df-convert\" onclick=\"convertToInteractive('df-9322b977-85d2-40da-bf8c-2a3312c1f4f2')\"\n",
              "              title=\"Convert this dataframe to an interactive table.\"\n",
              "              style=\"display:none;\">\n",
              "        \n",
              "  <svg xmlns=\"http://www.w3.org/2000/svg\" height=\"24px\"viewBox=\"0 0 24 24\"\n",
              "       width=\"24px\">\n",
              "    <path d=\"M0 0h24v24H0V0z\" fill=\"none\"/>\n",
              "    <path d=\"M18.56 5.44l.94 2.06.94-2.06 2.06-.94-2.06-.94-.94-2.06-.94 2.06-2.06.94zm-11 1L8.5 8.5l.94-2.06 2.06-.94-2.06-.94L8.5 2.5l-.94 2.06-2.06.94zm10 10l.94 2.06.94-2.06 2.06-.94-2.06-.94-.94-2.06-.94 2.06-2.06.94z\"/><path d=\"M17.41 7.96l-1.37-1.37c-.4-.4-.92-.59-1.43-.59-.52 0-1.04.2-1.43.59L10.3 9.45l-7.72 7.72c-.78.78-.78 2.05 0 2.83L4 21.41c.39.39.9.59 1.41.59.51 0 1.02-.2 1.41-.59l7.78-7.78 2.81-2.81c.8-.78.8-2.07 0-2.86zM5.41 20L4 18.59l7.72-7.72 1.47 1.35L5.41 20z\"/>\n",
              "  </svg>\n",
              "      </button>\n",
              "      \n",
              "  <style>\n",
              "    .colab-df-container {\n",
              "      display:flex;\n",
              "      flex-wrap:wrap;\n",
              "      gap: 12px;\n",
              "    }\n",
              "\n",
              "    .colab-df-convert {\n",
              "      background-color: #E8F0FE;\n",
              "      border: none;\n",
              "      border-radius: 50%;\n",
              "      cursor: pointer;\n",
              "      display: none;\n",
              "      fill: #1967D2;\n",
              "      height: 32px;\n",
              "      padding: 0 0 0 0;\n",
              "      width: 32px;\n",
              "    }\n",
              "\n",
              "    .colab-df-convert:hover {\n",
              "      background-color: #E2EBFA;\n",
              "      box-shadow: 0px 1px 2px rgba(60, 64, 67, 0.3), 0px 1px 3px 1px rgba(60, 64, 67, 0.15);\n",
              "      fill: #174EA6;\n",
              "    }\n",
              "\n",
              "    [theme=dark] .colab-df-convert {\n",
              "      background-color: #3B4455;\n",
              "      fill: #D2E3FC;\n",
              "    }\n",
              "\n",
              "    [theme=dark] .colab-df-convert:hover {\n",
              "      background-color: #434B5C;\n",
              "      box-shadow: 0px 1px 3px 1px rgba(0, 0, 0, 0.15);\n",
              "      filter: drop-shadow(0px 1px 2px rgba(0, 0, 0, 0.3));\n",
              "      fill: #FFFFFF;\n",
              "    }\n",
              "  </style>\n",
              "\n",
              "      <script>\n",
              "        const buttonEl =\n",
              "          document.querySelector('#df-9322b977-85d2-40da-bf8c-2a3312c1f4f2 button.colab-df-convert');\n",
              "        buttonEl.style.display =\n",
              "          google.colab.kernel.accessAllowed ? 'block' : 'none';\n",
              "\n",
              "        async function convertToInteractive(key) {\n",
              "          const element = document.querySelector('#df-9322b977-85d2-40da-bf8c-2a3312c1f4f2');\n",
              "          const dataTable =\n",
              "            await google.colab.kernel.invokeFunction('convertToInteractive',\n",
              "                                                     [key], {});\n",
              "          if (!dataTable) return;\n",
              "\n",
              "          const docLinkHtml = 'Like what you see? Visit the ' +\n",
              "            '<a target=\"_blank\" href=https://colab.research.google.com/notebooks/data_table.ipynb>data table notebook</a>'\n",
              "            + ' to learn more about interactive tables.';\n",
              "          element.innerHTML = '';\n",
              "          dataTable['output_type'] = 'display_data';\n",
              "          await google.colab.output.renderOutput(dataTable, element);\n",
              "          const docLink = document.createElement('div');\n",
              "          docLink.innerHTML = docLinkHtml;\n",
              "          element.appendChild(docLink);\n",
              "        }\n",
              "      </script>\n",
              "    </div>\n",
              "  </div>\n",
              "  "
            ]
          },
          "metadata": {},
          "execution_count": 25
        }
      ]
    },
    {
      "cell_type": "code",
      "source": [
        "n_shops = 20\n",
        "for i in range(n_shops):\n",
        "  predict_example.loc[predict_example['id'] == i, 'target'] = y_pred_rescaled.loc[:, i]\n",
        "\n",
        "predict_example.to_parquet(\n",
        "    'data/06_model_output/sales_forecast_tf.parquet.gzip', compression='gzip'\n",
        ")\n",
        "predict_example.head()"
      ],
      "metadata": {
        "id": "BOzBIFNZEkGy",
        "colab": {
          "base_uri": "https://localhost:8080/",
          "height": 206
        },
        "outputId": "bec411b6-6074-439c-f44c-1ccf5b6e5ea2"
      },
      "execution_count": 26,
      "outputs": [
        {
          "output_type": "execute_result",
          "data": {
            "text/plain": [
              "   id          dt      target\n",
              "0   0  2017-07-01  685.356857\n",
              "1   0  2017-07-02  680.697329\n",
              "2   0  2017-07-03  676.016056\n",
              "3   0  2017-07-04  686.506050\n",
              "4   0  2017-07-06  710.401847"
            ],
            "text/html": [
              "\n",
              "  <div id=\"df-14075228-1b9c-4616-be67-a5ac69e83fbd\">\n",
              "    <div class=\"colab-df-container\">\n",
              "      <div>\n",
              "<style scoped>\n",
              "    .dataframe tbody tr th:only-of-type {\n",
              "        vertical-align: middle;\n",
              "    }\n",
              "\n",
              "    .dataframe tbody tr th {\n",
              "        vertical-align: top;\n",
              "    }\n",
              "\n",
              "    .dataframe thead th {\n",
              "        text-align: right;\n",
              "    }\n",
              "</style>\n",
              "<table border=\"1\" class=\"dataframe\">\n",
              "  <thead>\n",
              "    <tr style=\"text-align: right;\">\n",
              "      <th></th>\n",
              "      <th>id</th>\n",
              "      <th>dt</th>\n",
              "      <th>target</th>\n",
              "    </tr>\n",
              "  </thead>\n",
              "  <tbody>\n",
              "    <tr>\n",
              "      <th>0</th>\n",
              "      <td>0</td>\n",
              "      <td>2017-07-01</td>\n",
              "      <td>685.356857</td>\n",
              "    </tr>\n",
              "    <tr>\n",
              "      <th>1</th>\n",
              "      <td>0</td>\n",
              "      <td>2017-07-02</td>\n",
              "      <td>680.697329</td>\n",
              "    </tr>\n",
              "    <tr>\n",
              "      <th>2</th>\n",
              "      <td>0</td>\n",
              "      <td>2017-07-03</td>\n",
              "      <td>676.016056</td>\n",
              "    </tr>\n",
              "    <tr>\n",
              "      <th>3</th>\n",
              "      <td>0</td>\n",
              "      <td>2017-07-04</td>\n",
              "      <td>686.506050</td>\n",
              "    </tr>\n",
              "    <tr>\n",
              "      <th>4</th>\n",
              "      <td>0</td>\n",
              "      <td>2017-07-06</td>\n",
              "      <td>710.401847</td>\n",
              "    </tr>\n",
              "  </tbody>\n",
              "</table>\n",
              "</div>\n",
              "      <button class=\"colab-df-convert\" onclick=\"convertToInteractive('df-14075228-1b9c-4616-be67-a5ac69e83fbd')\"\n",
              "              title=\"Convert this dataframe to an interactive table.\"\n",
              "              style=\"display:none;\">\n",
              "        \n",
              "  <svg xmlns=\"http://www.w3.org/2000/svg\" height=\"24px\"viewBox=\"0 0 24 24\"\n",
              "       width=\"24px\">\n",
              "    <path d=\"M0 0h24v24H0V0z\" fill=\"none\"/>\n",
              "    <path d=\"M18.56 5.44l.94 2.06.94-2.06 2.06-.94-2.06-.94-.94-2.06-.94 2.06-2.06.94zm-11 1L8.5 8.5l.94-2.06 2.06-.94-2.06-.94L8.5 2.5l-.94 2.06-2.06.94zm10 10l.94 2.06.94-2.06 2.06-.94-2.06-.94-.94-2.06-.94 2.06-2.06.94z\"/><path d=\"M17.41 7.96l-1.37-1.37c-.4-.4-.92-.59-1.43-.59-.52 0-1.04.2-1.43.59L10.3 9.45l-7.72 7.72c-.78.78-.78 2.05 0 2.83L4 21.41c.39.39.9.59 1.41.59.51 0 1.02-.2 1.41-.59l7.78-7.78 2.81-2.81c.8-.78.8-2.07 0-2.86zM5.41 20L4 18.59l7.72-7.72 1.47 1.35L5.41 20z\"/>\n",
              "  </svg>\n",
              "      </button>\n",
              "      \n",
              "  <style>\n",
              "    .colab-df-container {\n",
              "      display:flex;\n",
              "      flex-wrap:wrap;\n",
              "      gap: 12px;\n",
              "    }\n",
              "\n",
              "    .colab-df-convert {\n",
              "      background-color: #E8F0FE;\n",
              "      border: none;\n",
              "      border-radius: 50%;\n",
              "      cursor: pointer;\n",
              "      display: none;\n",
              "      fill: #1967D2;\n",
              "      height: 32px;\n",
              "      padding: 0 0 0 0;\n",
              "      width: 32px;\n",
              "    }\n",
              "\n",
              "    .colab-df-convert:hover {\n",
              "      background-color: #E2EBFA;\n",
              "      box-shadow: 0px 1px 2px rgba(60, 64, 67, 0.3), 0px 1px 3px 1px rgba(60, 64, 67, 0.15);\n",
              "      fill: #174EA6;\n",
              "    }\n",
              "\n",
              "    [theme=dark] .colab-df-convert {\n",
              "      background-color: #3B4455;\n",
              "      fill: #D2E3FC;\n",
              "    }\n",
              "\n",
              "    [theme=dark] .colab-df-convert:hover {\n",
              "      background-color: #434B5C;\n",
              "      box-shadow: 0px 1px 3px 1px rgba(0, 0, 0, 0.15);\n",
              "      filter: drop-shadow(0px 1px 2px rgba(0, 0, 0, 0.3));\n",
              "      fill: #FFFFFF;\n",
              "    }\n",
              "  </style>\n",
              "\n",
              "      <script>\n",
              "        const buttonEl =\n",
              "          document.querySelector('#df-14075228-1b9c-4616-be67-a5ac69e83fbd button.colab-df-convert');\n",
              "        buttonEl.style.display =\n",
              "          google.colab.kernel.accessAllowed ? 'block' : 'none';\n",
              "\n",
              "        async function convertToInteractive(key) {\n",
              "          const element = document.querySelector('#df-14075228-1b9c-4616-be67-a5ac69e83fbd');\n",
              "          const dataTable =\n",
              "            await google.colab.kernel.invokeFunction('convertToInteractive',\n",
              "                                                     [key], {});\n",
              "          if (!dataTable) return;\n",
              "\n",
              "          const docLinkHtml = 'Like what you see? Visit the ' +\n",
              "            '<a target=\"_blank\" href=https://colab.research.google.com/notebooks/data_table.ipynb>data table notebook</a>'\n",
              "            + ' to learn more about interactive tables.';\n",
              "          element.innerHTML = '';\n",
              "          dataTable['output_type'] = 'display_data';\n",
              "          await google.colab.output.renderOutput(dataTable, element);\n",
              "          const docLink = document.createElement('div');\n",
              "          docLink.innerHTML = docLinkHtml;\n",
              "          element.appendChild(docLink);\n",
              "        }\n",
              "      </script>\n",
              "    </div>\n",
              "  </div>\n",
              "  "
            ]
          },
          "metadata": {},
          "execution_count": 26
        }
      ]
    },
    {
      "cell_type": "markdown",
      "metadata": {
        "id": "k5l6afUrb7Iy"
      },
      "source": [
        "## 5. Findings"
      ]
    },
    {
      "cell_type": "markdown",
      "metadata": {
        "id": "4I1SyQe3b_ht"
      },
      "source": [
        "Transformer model has not outperformed LSTM model. There is not enough data for transformers. The use of transformers could be justified on the longer time sequences."
      ]
    }
  ],
  "metadata": {
    "colab": {
      "provenance": [],
      "toc_visible": true,
      "authorship_tag": "ABX9TyMfs6qdcxIt2sr7/C8qwq1T",
      "include_colab_link": true
    },
    "gpuClass": "standard",
    "kernelspec": {
      "display_name": "Python 3",
      "name": "python3"
    },
    "language_info": {
      "name": "python"
    },
    "accelerator": "GPU"
  },
  "nbformat": 4,
  "nbformat_minor": 0
}