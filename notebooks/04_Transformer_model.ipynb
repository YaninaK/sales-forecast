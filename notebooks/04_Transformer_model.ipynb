{
  "cells": [
    {
      "cell_type": "markdown",
      "metadata": {
        "id": "view-in-github",
        "colab_type": "text"
      },
      "source": [
        "<a href=\"https://colab.research.google.com/github/YaninaK/sales-forecast/blob/main/notebooks/04_Transformer_model.ipynb\" target=\"_parent\"><img src=\"https://colab.research.google.com/assets/colab-badge.svg\" alt=\"Open In Colab\"/></a>"
      ]
    },
    {
      "cell_type": "markdown",
      "metadata": {
        "id": "yw1w9JFTOyl0"
      },
      "source": [
        "# Sales forecast for 20 stores for 31 days' period.\n",
        "\n",
        "## Transformer model"
      ]
    },
    {
      "cell_type": "markdown",
      "metadata": {
        "id": "0ntOLUaWO_Zl"
      },
      "source": [
        "[EDA: omissions, clustering & Fourier transformations](\n",
        "https://colab.research.google.com/drive/1udCgyEt7lusSY43lnduVDEnZvdvVEt9h?usp=sharing)\n",
        "\n",
        "[Feature extraction](https://colab.research.google.com/drive/1H-vQoHnycp62YuZD1xrmIDjufpDu7ig3?usp=sharing)"
      ]
    },
    {
      "cell_type": "code",
      "execution_count": 1,
      "metadata": {
        "id": "NP9i317dO3-E",
        "colab": {
          "base_uri": "https://localhost:8080/"
        },
        "outputId": "fe483127-52a7-4ac0-8075-8f1031a36611"
      },
      "outputs": [
        {
          "output_type": "stream",
          "name": "stdout",
          "text": [
            "Mounted at /content/drive\n"
          ]
        }
      ],
      "source": [
        "from google.colab import drive\n",
        "drive.mount('/content/drive')"
      ]
    },
    {
      "cell_type": "code",
      "execution_count": 2,
      "metadata": {
        "id": "NOaainxsPvh1",
        "colab": {
          "base_uri": "https://localhost:8080/"
        },
        "outputId": "d427a016-c1b6-4a88-e402-1b6b86edb8ae"
      },
      "outputs": [
        {
          "output_type": "stream",
          "name": "stdout",
          "text": [
            "\u001b[?25l     \u001b[90m━━━━━━━━━━━━━━━━━━━━━━━━━━━━━━━━━━━━━━━━\u001b[0m \u001b[32m0.0/358.2 KB\u001b[0m \u001b[31m?\u001b[0m eta \u001b[36m-:--:--\u001b[0m\r\u001b[2K     \u001b[91m━━━━━━━━━━━━━━━━━━━━━━━━━━━━━━━━━━━\u001b[0m\u001b[91m╸\u001b[0m\u001b[90m━━\u001b[0m \u001b[32m337.9/358.2 KB\u001b[0m \u001b[31m10.0 MB/s\u001b[0m eta \u001b[36m0:00:01\u001b[0m\r\u001b[2K     \u001b[90m━━━━━━━━━━━━━━━━━━━━━━━━━━━━━━━━━━━━━━━\u001b[0m \u001b[32m358.2/358.2 KB\u001b[0m \u001b[31m7.8 MB/s\u001b[0m eta \u001b[36m0:00:00\u001b[0m\n",
            "\u001b[2K     \u001b[90m━━━━━━━━━━━━━━━━━━━━━━━━━━━━━━━━━━━━━━━━\u001b[0m \u001b[32m98.2/98.2 KB\u001b[0m \u001b[31m16.0 MB/s\u001b[0m eta \u001b[36m0:00:00\u001b[0m\n",
            "\u001b[2K     \u001b[90m━━━━━━━━━━━━━━━━━━━━━━━━━━━━━━━━━━━━━━\u001b[0m \u001b[32m136.2/136.2 KB\u001b[0m \u001b[31m18.9 MB/s\u001b[0m eta \u001b[36m0:00:00\u001b[0m\n",
            "\u001b[?25h"
          ]
        }
      ],
      "source": [
        "!git clone -q https://github.com/YaninaK/sales-forecast.git\n",
        "!pip install -r sales-forecast/requirements_Colab.txt -q "
      ]
    },
    {
      "cell_type": "code",
      "execution_count": 3,
      "metadata": {
        "id": "oGpZTC0tP0QI",
        "colab": {
          "base_uri": "https://localhost:8080/"
        },
        "outputId": "20859d23-1fa8-4b63-8ee8-acd77416e715"
      },
      "outputs": [
        {
          "output_type": "stream",
          "name": "stdout",
          "text": [
            "/content/sales-forecast\n"
          ]
        }
      ],
      "source": [
        "%cd sales-forecast"
      ]
    },
    {
      "cell_type": "code",
      "execution_count": 4,
      "metadata": {
        "id": "9JdDC3FUP1J7"
      },
      "outputs": [],
      "source": [
        "import sys\n",
        "import os\n",
        "\n",
        "sys.path.append(os.getcwd())\n",
        "sys.path.append(os.path.join(os.getcwd(), \"src\", \"sales_forecast\"))"
      ]
    },
    {
      "cell_type": "code",
      "execution_count": 5,
      "metadata": {
        "id": "9IzhaR8jP302"
      },
      "outputs": [],
      "source": [
        "import random\n",
        "import pandas as pd\n",
        "import numpy as np\n",
        "import tensorflow as tf\n",
        "import joblib\n",
        "\n",
        "from data.make_dataset import load_data\n",
        "from src.sales_forecast.models import train\n",
        "\n",
        "from data.johnson_su_transformation import JohnsonSU\n",
        "from data.train_test_datasets import get_train_dataset, get_test_dataset\n",
        "from models.model_TF import get_model_TF"
      ]
    },
    {
      "cell_type": "code",
      "execution_count": 6,
      "metadata": {
        "id": "1htDECSWLpcT"
      },
      "outputs": [],
      "source": [
        "import warnings\n",
        "warnings.filterwarnings('ignore')"
      ]
    },
    {
      "cell_type": "code",
      "execution_count": 7,
      "metadata": {
        "id": "llog_mfTQIGB"
      },
      "outputs": [],
      "source": [
        "PATH = '/content/drive/MyDrive/ML_projects/01_Time_series/sales_forecast/'\n",
        "DEFAULT_RANDOM_SEED = 3"
      ]
    },
    {
      "cell_type": "code",
      "execution_count": 8,
      "metadata": {
        "id": "Q9iGOsyiQLA8"
      },
      "outputs": [],
      "source": [
        "def set_all_seeds(seed=DEFAULT_RANDOM_SEED):\n",
        "  random.seed(seed)\n",
        "  os.environ['PYTHONHASHSEED'] = str(seed)\n",
        "  np.random.seed(seed)\n",
        "  tf.random.set_seed(seed)\n",
        "  \n",
        "set_all_seeds()"
      ]
    },
    {
      "cell_type": "markdown",
      "metadata": {
        "id": "6FplTdRyQ4kR"
      },
      "source": [
        "## 1. Data ingestion"
      ]
    },
    {
      "cell_type": "code",
      "execution_count": 9,
      "metadata": {
        "id": "q20ClbC4Kzr7",
        "colab": {
          "base_uri": "https://localhost:8080/",
          "height": 147
        },
        "outputId": "cf9e4ea3-d025-436f-f7fe-59c11546260c"
      },
      "outputs": [
        {
          "output_type": "stream",
          "name": "stdout",
          "text": [
            "data.shape = (8230, 3)\n",
            "\n"
          ]
        },
        {
          "output_type": "execute_result",
          "data": {
            "text/plain": [
              "   id          dt  target\n",
              "0   0  2016-01-02   747.8\n",
              "1   0  2016-01-03   681.2"
            ],
            "text/html": [
              "\n",
              "  <div id=\"df-22e6cade-d7a9-423b-bf1d-6439c1fce1f5\">\n",
              "    <div class=\"colab-df-container\">\n",
              "      <div>\n",
              "<style scoped>\n",
              "    .dataframe tbody tr th:only-of-type {\n",
              "        vertical-align: middle;\n",
              "    }\n",
              "\n",
              "    .dataframe tbody tr th {\n",
              "        vertical-align: top;\n",
              "    }\n",
              "\n",
              "    .dataframe thead th {\n",
              "        text-align: right;\n",
              "    }\n",
              "</style>\n",
              "<table border=\"1\" class=\"dataframe\">\n",
              "  <thead>\n",
              "    <tr style=\"text-align: right;\">\n",
              "      <th></th>\n",
              "      <th>id</th>\n",
              "      <th>dt</th>\n",
              "      <th>target</th>\n",
              "    </tr>\n",
              "  </thead>\n",
              "  <tbody>\n",
              "    <tr>\n",
              "      <th>0</th>\n",
              "      <td>0</td>\n",
              "      <td>2016-01-02</td>\n",
              "      <td>747.8</td>\n",
              "    </tr>\n",
              "    <tr>\n",
              "      <th>1</th>\n",
              "      <td>0</td>\n",
              "      <td>2016-01-03</td>\n",
              "      <td>681.2</td>\n",
              "    </tr>\n",
              "  </tbody>\n",
              "</table>\n",
              "</div>\n",
              "      <button class=\"colab-df-convert\" onclick=\"convertToInteractive('df-22e6cade-d7a9-423b-bf1d-6439c1fce1f5')\"\n",
              "              title=\"Convert this dataframe to an interactive table.\"\n",
              "              style=\"display:none;\">\n",
              "        \n",
              "  <svg xmlns=\"http://www.w3.org/2000/svg\" height=\"24px\"viewBox=\"0 0 24 24\"\n",
              "       width=\"24px\">\n",
              "    <path d=\"M0 0h24v24H0V0z\" fill=\"none\"/>\n",
              "    <path d=\"M18.56 5.44l.94 2.06.94-2.06 2.06-.94-2.06-.94-.94-2.06-.94 2.06-2.06.94zm-11 1L8.5 8.5l.94-2.06 2.06-.94-2.06-.94L8.5 2.5l-.94 2.06-2.06.94zm10 10l.94 2.06.94-2.06 2.06-.94-2.06-.94-.94-2.06-.94 2.06-2.06.94z\"/><path d=\"M17.41 7.96l-1.37-1.37c-.4-.4-.92-.59-1.43-.59-.52 0-1.04.2-1.43.59L10.3 9.45l-7.72 7.72c-.78.78-.78 2.05 0 2.83L4 21.41c.39.39.9.59 1.41.59.51 0 1.02-.2 1.41-.59l7.78-7.78 2.81-2.81c.8-.78.8-2.07 0-2.86zM5.41 20L4 18.59l7.72-7.72 1.47 1.35L5.41 20z\"/>\n",
              "  </svg>\n",
              "      </button>\n",
              "      \n",
              "  <style>\n",
              "    .colab-df-container {\n",
              "      display:flex;\n",
              "      flex-wrap:wrap;\n",
              "      gap: 12px;\n",
              "    }\n",
              "\n",
              "    .colab-df-convert {\n",
              "      background-color: #E8F0FE;\n",
              "      border: none;\n",
              "      border-radius: 50%;\n",
              "      cursor: pointer;\n",
              "      display: none;\n",
              "      fill: #1967D2;\n",
              "      height: 32px;\n",
              "      padding: 0 0 0 0;\n",
              "      width: 32px;\n",
              "    }\n",
              "\n",
              "    .colab-df-convert:hover {\n",
              "      background-color: #E2EBFA;\n",
              "      box-shadow: 0px 1px 2px rgba(60, 64, 67, 0.3), 0px 1px 3px 1px rgba(60, 64, 67, 0.15);\n",
              "      fill: #174EA6;\n",
              "    }\n",
              "\n",
              "    [theme=dark] .colab-df-convert {\n",
              "      background-color: #3B4455;\n",
              "      fill: #D2E3FC;\n",
              "    }\n",
              "\n",
              "    [theme=dark] .colab-df-convert:hover {\n",
              "      background-color: #434B5C;\n",
              "      box-shadow: 0px 1px 3px 1px rgba(0, 0, 0, 0.15);\n",
              "      filter: drop-shadow(0px 1px 2px rgba(0, 0, 0, 0.3));\n",
              "      fill: #FFFFFF;\n",
              "    }\n",
              "  </style>\n",
              "\n",
              "      <script>\n",
              "        const buttonEl =\n",
              "          document.querySelector('#df-22e6cade-d7a9-423b-bf1d-6439c1fce1f5 button.colab-df-convert');\n",
              "        buttonEl.style.display =\n",
              "          google.colab.kernel.accessAllowed ? 'block' : 'none';\n",
              "\n",
              "        async function convertToInteractive(key) {\n",
              "          const element = document.querySelector('#df-22e6cade-d7a9-423b-bf1d-6439c1fce1f5');\n",
              "          const dataTable =\n",
              "            await google.colab.kernel.invokeFunction('convertToInteractive',\n",
              "                                                     [key], {});\n",
              "          if (!dataTable) return;\n",
              "\n",
              "          const docLinkHtml = 'Like what you see? Visit the ' +\n",
              "            '<a target=\"_blank\" href=https://colab.research.google.com/notebooks/data_table.ipynb>data table notebook</a>'\n",
              "            + ' to learn more about interactive tables.';\n",
              "          element.innerHTML = '';\n",
              "          dataTable['output_type'] = 'display_data';\n",
              "          await google.colab.output.renderOutput(dataTable, element);\n",
              "          const docLink = document.createElement('div');\n",
              "          docLink.innerHTML = docLinkHtml;\n",
              "          element.appendChild(docLink);\n",
              "        }\n",
              "      </script>\n",
              "    </div>\n",
              "  </div>\n",
              "  "
            ]
          },
          "metadata": {},
          "execution_count": 9
        }
      ],
      "source": [
        "data = load_data(PATH)\n",
        "\n",
        "print(f'data.shape = {data.shape}\\n')\n",
        "data.head(2)"
      ]
    },
    {
      "cell_type": "markdown",
      "metadata": {
        "id": "BWN9VH40WEMK"
      },
      "source": [
        "## 2. Data preprocessing pipeline"
      ]
    },
    {
      "cell_type": "code",
      "execution_count": 10,
      "metadata": {
        "id": "uRbHm4snLIYS",
        "colab": {
          "base_uri": "https://localhost:8080/"
        },
        "outputId": "465c3792-d1fd-47f6-d828-81bb29dde9b2"
      },
      "outputs": [
        {
          "output_type": "stream",
          "name": "stdout",
          "text": [
            "Number of outliers = 8\n"
          ]
        },
        {
          "output_type": "execute_result",
          "data": {
            "text/plain": [
              "(153, 20, 40)"
            ]
          },
          "metadata": {},
          "execution_count": 10
        }
      ],
      "source": [
        "regenerate = True\n",
        "if regenerate:\n",
        "  X = train.data_preprocessing_pipeline(data)\n",
        "else:\n",
        "  X = np.load('data/04_feature/train_dataset.npy')\n",
        "\n",
        "X.shape"
      ]
    },
    {
      "cell_type": "markdown",
      "metadata": {
        "id": "a5yhOwIBedyY"
      },
      "source": [
        "## 3. Transformer model"
      ]
    },
    {
      "cell_type": "markdown",
      "metadata": {
        "id": "eqH3rDIHig3N"
      },
      "source": [
        "### 3.1 Train dataset"
      ]
    },
    {
      "cell_type": "code",
      "source": [
        "X_train, y_train = get_train_dataset(X)\n",
        "X_train.shape, y_train.shape"
      ],
      "metadata": {
        "id": "a6RWONYgWN9q",
        "colab": {
          "base_uri": "https://localhost:8080/"
        },
        "outputId": "1213540b-19fb-4b38-d80f-2fc7af907b89"
      },
      "execution_count": 11,
      "outputs": [
        {
          "output_type": "execute_result",
          "data": {
            "text/plain": [
              "((900, 54, 40), (900, 27, 40))"
            ]
          },
          "metadata": {},
          "execution_count": 11
        }
      ]
    },
    {
      "cell_type": "markdown",
      "source": [
        "### 3.2 Training of the model"
      ],
      "metadata": {
        "id": "Ce4QTKenSRy-"
      }
    },
    {
      "cell_type": "code",
      "source": [
        "model = get_model_TF(X_train.shape[1:])\n",
        "model.summary()"
      ],
      "metadata": {
        "id": "H7HhrBm3RRyw",
        "colab": {
          "base_uri": "https://localhost:8080/"
        },
        "outputId": "40836536-4e82-4006-a0d1-b8b2e086ae04"
      },
      "execution_count": 12,
      "outputs": [
        {
          "output_type": "stream",
          "name": "stdout",
          "text": [
            "Model: \"model\"\n",
            "__________________________________________________________________________________________________\n",
            " Layer (type)                   Output Shape         Param #     Connected to                     \n",
            "==================================================================================================\n",
            " input_1 (InputLayer)           [(None, 54, 40)]     0           []                               \n",
            "                                                                                                  \n",
            " layer_normalization (LayerNorm  (None, 54, 40)      80          ['input_1[0][0]']                \n",
            " alization)                                                                                       \n",
            "                                                                                                  \n",
            " transformer_block (Transformer  (None, 54, 40)      83728       ['layer_normalization[0][0]']    \n",
            " Block)                                                                                           \n",
            "                                                                                                  \n",
            " tf.math.multiply (TFOpLambda)  (None, 54, 40)       0           ['transformer_block[0][0]']      \n",
            "                                                                                                  \n",
            " tf.math.multiply_1 (TFOpLambda  (None, 54, 40)      0           ['layer_normalization[0][0]']    \n",
            " )                                                                                                \n",
            "                                                                                                  \n",
            " tf.__operators__.add (TFOpLamb  (None, 54, 40)      0           ['tf.math.multiply[0][0]',       \n",
            " da)                                                              'tf.math.multiply_1[0][0]']     \n",
            "                                                                                                  \n",
            " transformer_block_1 (Transform  (None, 54, 40)      83728       ['tf.__operators__.add[0][0]']   \n",
            " erBlock)                                                                                         \n",
            "                                                                                                  \n",
            " tf.math.multiply_2 (TFOpLambda  (None, 54, 40)      0           ['transformer_block_1[0][0]']    \n",
            " )                                                                                                \n",
            "                                                                                                  \n",
            " tf.math.multiply_3 (TFOpLambda  (None, 54, 40)      0           ['tf.__operators__.add[0][0]']   \n",
            " )                                                                                                \n",
            "                                                                                                  \n",
            " tf.__operators__.add_1 (TFOpLa  (None, 54, 40)      0           ['tf.math.multiply_2[0][0]',     \n",
            " mbda)                                                            'tf.math.multiply_3[0][0]']     \n",
            "                                                                                                  \n",
            " transformer_block_2 (Transform  (None, 54, 40)      83728       ['tf.__operators__.add_1[0][0]'] \n",
            " erBlock)                                                                                         \n",
            "                                                                                                  \n",
            " tf.math.multiply_4 (TFOpLambda  (None, 54, 40)      0           ['transformer_block_2[0][0]']    \n",
            " )                                                                                                \n",
            "                                                                                                  \n",
            " tf.math.multiply_5 (TFOpLambda  (None, 54, 40)      0           ['tf.__operators__.add_1[0][0]'] \n",
            " )                                                                                                \n",
            "                                                                                                  \n",
            " tf.__operators__.add_2 (TFOpLa  (None, 54, 40)      0           ['tf.math.multiply_4[0][0]',     \n",
            " mbda)                                                            'tf.math.multiply_5[0][0]']     \n",
            "                                                                                                  \n",
            " transformer_block_3 (Transform  (None, 54, 40)      83728       ['tf.__operators__.add_2[0][0]'] \n",
            " erBlock)                                                                                         \n",
            "                                                                                                  \n",
            " tf.math.multiply_6 (TFOpLambda  (None, 54, 40)      0           ['transformer_block_3[0][0]']    \n",
            " )                                                                                                \n",
            "                                                                                                  \n",
            " tf.math.multiply_7 (TFOpLambda  (None, 54, 40)      0           ['tf.__operators__.add_2[0][0]'] \n",
            " )                                                                                                \n",
            "                                                                                                  \n",
            " tf.__operators__.add_3 (TFOpLa  (None, 54, 40)      0           ['tf.math.multiply_6[0][0]',     \n",
            " mbda)                                                            'tf.math.multiply_7[0][0]']     \n",
            "                                                                                                  \n",
            " transformer_block_4 (Transform  (None, 54, 40)      83728       ['tf.__operators__.add_3[0][0]'] \n",
            " erBlock)                                                                                         \n",
            "                                                                                                  \n",
            " tf.math.multiply_8 (TFOpLambda  (None, 54, 40)      0           ['transformer_block_4[0][0]']    \n",
            " )                                                                                                \n",
            "                                                                                                  \n",
            " tf.math.multiply_9 (TFOpLambda  (None, 54, 40)      0           ['tf.__operators__.add_3[0][0]'] \n",
            " )                                                                                                \n",
            "                                                                                                  \n",
            " tf.__operators__.add_4 (TFOpLa  (None, 54, 40)      0           ['tf.math.multiply_8[0][0]',     \n",
            " mbda)                                                            'tf.math.multiply_9[0][0]']     \n",
            "                                                                                                  \n",
            " transformer_block_5 (Transform  (None, 54, 40)      83728       ['tf.__operators__.add_4[0][0]'] \n",
            " erBlock)                                                                                         \n",
            "                                                                                                  \n",
            " tf.math.multiply_10 (TFOpLambd  (None, 54, 40)      0           ['transformer_block_5[0][0]']    \n",
            " a)                                                                                               \n",
            "                                                                                                  \n",
            " tf.math.multiply_11 (TFOpLambd  (None, 54, 40)      0           ['tf.__operators__.add_4[0][0]'] \n",
            " a)                                                                                               \n",
            "                                                                                                  \n",
            " tf.__operators__.add_5 (TFOpLa  (None, 54, 40)      0           ['tf.math.multiply_10[0][0]',    \n",
            " mbda)                                                            'tf.math.multiply_11[0][0]']    \n",
            "                                                                                                  \n",
            " reshape (Reshape)              (None, 27, 80)       0           ['tf.__operators__.add_5[0][0]'] \n",
            "                                                                                                  \n",
            " time_distributed (TimeDistribu  (None, 27, 40)      3240        ['reshape[0][0]']                \n",
            " ted)                                                                                             \n",
            "                                                                                                  \n",
            "==================================================================================================\n",
            "Total params: 505,688\n",
            "Trainable params: 504,728\n",
            "Non-trainable params: 960\n",
            "__________________________________________________________________________________________________\n"
          ]
        }
      ]
    },
    {
      "cell_type": "code",
      "source": [
        "n_shops = 20\n",
        "n_epochs = 25\n",
        "batch_size = n_shops * 2\n",
        "m = n_shops * 4\n",
        "\n",
        "reduce_lr = tf.keras.callbacks.LearningRateScheduler(\n",
        "    lambda epoch: 3e-2 * 0.95 ** epoch\n",
        ")\n",
        "model.compile(\n",
        "    optimizer=tf.keras.optimizers.Adam(),\n",
        "    loss=tf.keras.losses.Huber()\n",
        ")\n",
        "history = model.fit(\n",
        "    X_train[:-m, :, :], y_train[:-m, :, :], \n",
        "    epochs=n_epochs,\n",
        "    validation_data=(X_train[-m:, :, :], y_train[-m:, :, :]),\n",
        "    batch_size=batch_size, \n",
        "    verbose=1,\n",
        "    callbacks=[reduce_lr],\n",
        "    shuffle=True,\n",
        "    workers=-1,\n",
        "    use_multiprocessing=True\n",
        ")"
      ],
      "metadata": {
        "id": "0eaYOlXkueJE",
        "colab": {
          "base_uri": "https://localhost:8080/"
        },
        "outputId": "b03fffd5-b868-457c-eae4-4f18d2f8914c"
      },
      "execution_count": 13,
      "outputs": [
        {
          "output_type": "stream",
          "name": "stdout",
          "text": [
            "Epoch 1/25\n",
            "21/21 [==============================] - 23s 456ms/step - loss: 0.4458 - val_loss: 471.8015 - lr: 0.0300\n",
            "Epoch 2/25\n",
            "21/21 [==============================] - 9s 421ms/step - loss: 0.3862 - val_loss: 4.6869 - lr: 0.0285\n",
            "Epoch 3/25\n",
            "21/21 [==============================] - 8s 367ms/step - loss: 0.3775 - val_loss: 0.9021 - lr: 0.0271\n",
            "Epoch 4/25\n",
            "21/21 [==============================] - 9s 421ms/step - loss: 0.3720 - val_loss: 0.6177 - lr: 0.0257\n",
            "Epoch 5/25\n",
            "21/21 [==============================] - 9s 427ms/step - loss: 0.3651 - val_loss: 0.4739 - lr: 0.0244\n",
            "Epoch 6/25\n",
            "21/21 [==============================] - 8s 360ms/step - loss: 0.3575 - val_loss: 0.5456 - lr: 0.0232\n",
            "Epoch 7/25\n",
            "21/21 [==============================] - 9s 420ms/step - loss: 0.3508 - val_loss: 0.4719 - lr: 0.0221\n",
            "Epoch 8/25\n",
            "21/21 [==============================] - 8s 392ms/step - loss: 0.3406 - val_loss: 0.5816 - lr: 0.0210\n",
            "Epoch 9/25\n",
            "21/21 [==============================] - 8s 368ms/step - loss: 0.3325 - val_loss: 0.4897 - lr: 0.0199\n",
            "Epoch 10/25\n",
            "21/21 [==============================] - 9s 418ms/step - loss: 0.3251 - val_loss: 0.4290 - lr: 0.0189\n",
            "Epoch 11/25\n",
            "21/21 [==============================] - 8s 358ms/step - loss: 0.3172 - val_loss: 0.3806 - lr: 0.0180\n",
            "Epoch 12/25\n",
            "21/21 [==============================] - 9s 402ms/step - loss: 0.3094 - val_loss: 0.3501 - lr: 0.0171\n",
            "Epoch 13/25\n",
            "21/21 [==============================] - 9s 424ms/step - loss: 0.3055 - val_loss: 0.3645 - lr: 0.0162\n",
            "Epoch 14/25\n",
            "21/21 [==============================] - 8s 362ms/step - loss: 0.3016 - val_loss: 0.3258 - lr: 0.0154\n",
            "Epoch 15/25\n",
            "21/21 [==============================] - 9s 427ms/step - loss: 0.2959 - val_loss: 0.3256 - lr: 0.0146\n",
            "Epoch 16/25\n",
            "21/21 [==============================] - 9s 419ms/step - loss: 0.2934 - val_loss: 0.3130 - lr: 0.0139\n",
            "Epoch 17/25\n",
            "21/21 [==============================] - 7s 355ms/step - loss: 0.2888 - val_loss: 0.3036 - lr: 0.0132\n",
            "Epoch 18/25\n",
            "21/21 [==============================] - 9s 413ms/step - loss: 0.2869 - val_loss: 0.3016 - lr: 0.0125\n",
            "Epoch 19/25\n",
            "21/21 [==============================] - 8s 407ms/step - loss: 0.2822 - val_loss: 0.2885 - lr: 0.0119\n",
            "Epoch 20/25\n",
            "21/21 [==============================] - 9s 418ms/step - loss: 0.2771 - val_loss: 0.2903 - lr: 0.0113\n",
            "Epoch 21/25\n",
            "21/21 [==============================] - 9s 412ms/step - loss: 0.2760 - val_loss: 0.2876 - lr: 0.0108\n",
            "Epoch 22/25\n",
            "21/21 [==============================] - 9s 417ms/step - loss: 0.2715 - val_loss: 0.2848 - lr: 0.0102\n",
            "Epoch 23/25\n",
            "21/21 [==============================] - 8s 358ms/step - loss: 0.2697 - val_loss: 0.2847 - lr: 0.0097\n",
            "Epoch 24/25\n",
            "21/21 [==============================] - 9s 418ms/step - loss: 0.2665 - val_loss: 0.2790 - lr: 0.0092\n",
            "Epoch 25/25\n",
            "21/21 [==============================] - 8s 387ms/step - loss: 0.2649 - val_loss: 0.2740 - lr: 0.0088\n"
          ]
        }
      ]
    },
    {
      "cell_type": "markdown",
      "metadata": {
        "id": "-T-FivMrYoH5"
      },
      "source": [
        "### 3.3 Inference"
      ]
    },
    {
      "cell_type": "code",
      "execution_count": 14,
      "metadata": {
        "id": "uyn5BLhgYHO3"
      },
      "outputs": [],
      "source": [
        "X_test, y_test = get_test_dataset(X)"
      ]
    },
    {
      "cell_type": "code",
      "execution_count": 15,
      "metadata": {
        "id": "dgZcymnwX7hH",
        "colab": {
          "base_uri": "https://localhost:8080/"
        },
        "outputId": "9c3aa593-fd9a-41f9-d1f0-9e569573835a"
      },
      "outputs": [
        {
          "output_type": "stream",
          "name": "stdout",
          "text": [
            "1/1 [==============================] - 1s 952ms/step\n"
          ]
        },
        {
          "output_type": "execute_result",
          "data": {
            "text/plain": [
              "(20, 27, 40)"
            ]
          },
          "metadata": {},
          "execution_count": 15
        }
      ],
      "source": [
        "pred = model.predict(X_test)\n",
        "pred.shape"
      ]
    },
    {
      "cell_type": "markdown",
      "metadata": {
        "id": "LphmAbjGZkA3"
      },
      "source": [
        "### 3.4 Model evaluation"
      ]
    },
    {
      "cell_type": "markdown",
      "metadata": {
        "id": "nkFU4RxZZk8-"
      },
      "source": [
        "#### Mean absolute scaled error (MASE) \n",
        "https://en.wikipedia.org/wiki/Mean_absolute_scaled_error"
      ]
    },
    {
      "cell_type": "markdown",
      "metadata": {
        "id": "nM1Cj-_XZpsO"
      },
      "source": [
        "The denominator of mean absolute scaled error is the mean absolute error of the one-step \"seasonal naive forecast method\" on the training set, which uses the actual value from the prior 30 days as the forecast: \n",
        "* F(t) = Y(t−30)\n",
        "\n",
        "MASE is scale-free error metric. So, it can be applied to scaled data without extra iteration of inverse scaling."
      ]
    },
    {
      "cell_type": "code",
      "execution_count": 16,
      "metadata": {
        "id": "jSPdjqEztRix",
        "colab": {
          "base_uri": "https://localhost:8080/"
        },
        "outputId": "96be6389-1dcc-49b0-e7c2-7c3f93e55230"
      },
      "outputs": [
        {
          "output_type": "execute_result",
          "data": {
            "text/plain": [
              "((20, 27, 40), (20, 27, 40))"
            ]
          },
          "metadata": {},
          "execution_count": 16
        }
      ],
      "source": [
        "pred.shape, y_test.shape"
      ]
    },
    {
      "cell_type": "code",
      "execution_count": 17,
      "metadata": {
        "id": "H7m2mh1I8rm6",
        "colab": {
          "base_uri": "https://localhost:8080/"
        },
        "outputId": "5fb124ac-ccb0-4578-f117-8154d0a636c0"
      },
      "outputs": [
        {
          "output_type": "stream",
          "name": "stdout",
          "text": [
            "Mean absolute scaled error = 0.9818\n"
          ]
        }
      ],
      "source": [
        "forecast_error = abs(pred[:, :, 0] - y_test[:, :, 0]).mean()\n",
        "mase = forecast_error / abs(y_test[:, :, 6]).mean()\n",
        "\n",
        "print(f'Mean absolute scaled error = {round(mase.mean(), 4)}')"
      ]
    },
    {
      "cell_type": "markdown",
      "metadata": {
        "id": "sYbpp1abZzxQ"
      },
      "source": [
        "__Findings:__\n",
        "\n",
        "* Out of 72 samples available for training (153 less input and output sequence length) 4 were used for validation of the model and 27 for testing. So, we had only 41 samples for training of the model and it is definately not sufficient.\n",
        "\n",
        "* To get more accurate predictions, we need to retrain the model on the full set of data. It should improve the final results."
      ]
    },
    {
      "cell_type": "markdown",
      "metadata": {
        "id": "vmXsJCA5Z0t9"
      },
      "source": [
        "## 4. Final prediction"
      ]
    },
    {
      "cell_type": "markdown",
      "metadata": {
        "id": "wpg_5giedIV5"
      },
      "source": [
        "### 4.1. Dataset"
      ]
    },
    {
      "cell_type": "code",
      "execution_count": 18,
      "metadata": {
        "id": "cN70_li0aLy2",
        "colab": {
          "base_uri": "https://localhost:8080/"
        },
        "outputId": "75bff272-c8fb-45d6-96dc-0e42307520cb"
      },
      "outputs": [
        {
          "output_type": "execute_result",
          "data": {
            "text/plain": [
              "((1440, 54, 40), (1440, 27, 40), (20, 54, 40))"
            ]
          },
          "metadata": {},
          "execution_count": 18
        }
      ],
      "source": [
        "X_train, y_train = get_train_dataset(X, final=True)\n",
        "X_test = get_test_dataset(X, final=True)\n",
        "\n",
        "X_train.shape, y_train.shape, X_test.shape"
      ]
    },
    {
      "cell_type": "markdown",
      "metadata": {
        "id": "MC_L5BwPdCb-"
      },
      "source": [
        "### 4.2. Retraining the model on full dataset"
      ]
    },
    {
      "cell_type": "code",
      "execution_count": 19,
      "metadata": {
        "id": "jYh4p4YQaffn",
        "colab": {
          "base_uri": "https://localhost:8080/"
        },
        "outputId": "2ac3cafc-2f22-4a64-c21a-368da647d0ce"
      },
      "outputs": [
        {
          "output_type": "stream",
          "name": "stdout",
          "text": [
            "Epoch 1/30\n",
            "34/34 [==============================] - 25s 409ms/step - loss: 0.3983 - val_loss: 19.5247 - lr: 0.0300\n",
            "Epoch 2/30\n",
            "34/34 [==============================] - 13s 389ms/step - loss: 0.3521 - val_loss: 0.6643 - lr: 0.0285\n",
            "Epoch 3/30\n",
            "34/34 [==============================] - 13s 388ms/step - loss: 0.3445 - val_loss: 0.4152 - lr: 0.0271\n",
            "Epoch 4/30\n",
            "34/34 [==============================] - 13s 384ms/step - loss: 0.3399 - val_loss: 0.3758 - lr: 0.0257\n",
            "Epoch 5/30\n",
            "34/34 [==============================] - 13s 391ms/step - loss: 0.3367 - val_loss: 0.3650 - lr: 0.0244\n",
            "Epoch 6/30\n",
            "34/34 [==============================] - 13s 394ms/step - loss: 0.3316 - val_loss: 0.3360 - lr: 0.0232\n",
            "Epoch 7/30\n",
            "34/34 [==============================] - 14s 425ms/step - loss: 0.3294 - val_loss: 0.3368 - lr: 0.0221\n",
            "Epoch 8/30\n",
            "34/34 [==============================] - 13s 388ms/step - loss: 0.3259 - val_loss: 0.3469 - lr: 0.0210\n",
            "Epoch 9/30\n",
            "34/34 [==============================] - 13s 385ms/step - loss: 0.3223 - val_loss: 0.3326 - lr: 0.0199\n",
            "Epoch 10/30\n",
            "34/34 [==============================] - 13s 378ms/step - loss: 0.3153 - val_loss: 0.3169 - lr: 0.0189\n",
            "Epoch 11/30\n",
            "34/34 [==============================] - 13s 391ms/step - loss: 0.3107 - val_loss: 0.3191 - lr: 0.0180\n",
            "Epoch 12/30\n",
            "34/34 [==============================] - 13s 390ms/step - loss: 0.3043 - val_loss: 0.3015 - lr: 0.0171\n",
            "Epoch 13/30\n",
            "34/34 [==============================] - 13s 390ms/step - loss: 0.2974 - val_loss: 0.2876 - lr: 0.0162\n",
            "Epoch 14/30\n",
            "34/34 [==============================] - 13s 385ms/step - loss: 0.2913 - val_loss: 0.2882 - lr: 0.0154\n",
            "Epoch 15/30\n",
            "34/34 [==============================] - 15s 444ms/step - loss: 0.2879 - val_loss: 0.2789 - lr: 0.0146\n",
            "Epoch 16/30\n",
            "34/34 [==============================] - 13s 395ms/step - loss: 0.2846 - val_loss: 0.2744 - lr: 0.0139\n",
            "Epoch 17/30\n",
            "34/34 [==============================] - 13s 391ms/step - loss: 0.2801 - val_loss: 0.2729 - lr: 0.0132\n",
            "Epoch 18/30\n",
            "34/34 [==============================] - 13s 389ms/step - loss: 0.2767 - val_loss: 0.2633 - lr: 0.0125\n",
            "Epoch 19/30\n",
            "34/34 [==============================] - 14s 401ms/step - loss: 0.2732 - val_loss: 0.2595 - lr: 0.0119\n",
            "Epoch 20/30\n",
            "34/34 [==============================] - 13s 398ms/step - loss: 0.2702 - val_loss: 0.2546 - lr: 0.0113\n",
            "Epoch 21/30\n",
            "34/34 [==============================] - 13s 394ms/step - loss: 0.2661 - val_loss: 0.2561 - lr: 0.0108\n",
            "Epoch 22/30\n",
            "34/34 [==============================] - 16s 459ms/step - loss: 0.2623 - val_loss: 0.2512 - lr: 0.0102\n",
            "Epoch 23/30\n",
            "34/34 [==============================] - 14s 406ms/step - loss: 0.2600 - val_loss: 0.2483 - lr: 0.0097\n",
            "Epoch 24/30\n",
            "34/34 [==============================] - 14s 398ms/step - loss: 0.2579 - val_loss: 0.2452 - lr: 0.0092\n",
            "Epoch 25/30\n",
            "34/34 [==============================] - 13s 393ms/step - loss: 0.2542 - val_loss: 0.2435 - lr: 0.0088\n",
            "Epoch 26/30\n",
            "34/34 [==============================] - 13s 398ms/step - loss: 0.2523 - val_loss: 0.2402 - lr: 0.0083\n",
            "Epoch 27/30\n",
            "34/34 [==============================] - 13s 390ms/step - loss: 0.2494 - val_loss: 0.2439 - lr: 0.0079\n",
            "Epoch 28/30\n",
            "34/34 [==============================] - 13s 391ms/step - loss: 0.2471 - val_loss: 0.2399 - lr: 0.0075\n",
            "Epoch 29/30\n",
            "34/34 [==============================] - 13s 387ms/step - loss: 0.2449 - val_loss: 0.2336 - lr: 0.0071\n",
            "Epoch 30/30\n",
            "34/34 [==============================] - 13s 394ms/step - loss: 0.2434 - val_loss: 0.2323 - lr: 0.0068\n"
          ]
        }
      ],
      "source": [
        "n_shops = 20\n",
        "n_epochs = 30\n",
        "batch_size = n_shops * 2\n",
        "m = n_shops * 4\n",
        "\n",
        "model = model = get_model_TF(X_train.shape[1:])\n",
        "reduce_lr = tf.keras.callbacks.LearningRateScheduler(\n",
        "    lambda epoch: 3e-2 * 0.95 ** epoch\n",
        ")\n",
        "model.compile(\n",
        "    optimizer=tf.keras.optimizers.Adam(), \n",
        "    loss=tf.keras.losses.Huber()\n",
        ")\n",
        "history = model.fit(\n",
        "    X_train[:-m, :, :], y_train[:-m, :, :], \n",
        "    epochs=n_epochs,\n",
        "    validation_data=(X_train[-m:, :, :], y_train[-m:, :, :]),\n",
        "    batch_size=batch_size, \n",
        "    verbose=1,\n",
        "    callbacks=[reduce_lr],\n",
        "    shuffle=True,\n",
        "    workers=-1,\n",
        "    use_multiprocessing=True,    \n",
        ")"
      ]
    },
    {
      "cell_type": "markdown",
      "metadata": {
        "id": "_n6z3yuZc0Uj"
      },
      "source": [
        "### 4.3 Model evaluation on validation set"
      ]
    },
    {
      "cell_type": "code",
      "source": [
        "pred = model.predict(X_train[-m:, :, :])\n",
        "pred[:, :, 0].shape,"
      ],
      "metadata": {
        "id": "w0SzRmu52i5b",
        "colab": {
          "base_uri": "https://localhost:8080/"
        },
        "outputId": "2cb00382-69cf-4636-e223-dbd3592eac74"
      },
      "execution_count": 20,
      "outputs": [
        {
          "output_type": "stream",
          "name": "stdout",
          "text": [
            "3/3 [==============================] - 1s 70ms/step\n"
          ]
        },
        {
          "output_type": "execute_result",
          "data": {
            "text/plain": [
              "((80, 27),)"
            ]
          },
          "metadata": {},
          "execution_count": 20
        }
      ]
    },
    {
      "cell_type": "code",
      "source": [
        "forecast_error = abs(pred[:, :, 0] -  y_train[-m:, :, 0]).mean()\n",
        "mase = forecast_error / abs( y_train[-m:, :, 6]).mean()\n",
        "\n",
        "print(f'Mean absolute scaled error = {round(mase.mean(), 4)}')"
      ],
      "metadata": {
        "id": "XFTzEJ8Plx_g",
        "colab": {
          "base_uri": "https://localhost:8080/"
        },
        "outputId": "8820860a-2124-4776-a23d-b98f11f1d123"
      },
      "execution_count": 21,
      "outputs": [
        {
          "output_type": "stream",
          "name": "stdout",
          "text": [
            "Mean absolute scaled error = 0.5833\n"
          ]
        }
      ]
    },
    {
      "cell_type": "markdown",
      "source": [
        "### 4.4. Inference"
      ],
      "metadata": {
        "id": "uK27enu6Zxri"
      }
    },
    {
      "cell_type": "code",
      "source": [
        "pred_final = model.predict(X_test)"
      ],
      "metadata": {
        "id": "tmjSKzcyETZ0",
        "colab": {
          "base_uri": "https://localhost:8080/"
        },
        "outputId": "dd16f65a-6d62-40db-aaff-3bf09897027b"
      },
      "execution_count": 22,
      "outputs": [
        {
          "output_type": "stream",
          "name": "stdout",
          "text": [
            "1/1 [==============================] - 0s 80ms/step\n"
          ]
        }
      ]
    },
    {
      "cell_type": "markdown",
      "source": [
        "### 4.5. Inverse transformation of predictions"
      ],
      "metadata": {
        "id": "RZukUO0_Z_zE"
      }
    },
    {
      "cell_type": "code",
      "source": [
        "scaler = joblib.load('data/03_primary/scaler_js.joblib')"
      ],
      "metadata": {
        "id": "FiK-WPRqEZBQ"
      },
      "execution_count": 23,
      "outputs": []
    },
    {
      "cell_type": "code",
      "source": [
        "arr_pred = pred_final[:, :, 0]\n",
        "y_pred = pd.DataFrame(arr_pred).T\n",
        "y_pred_rescaled = scaler.inv_transform(y_pred)\n",
        "y_pred_rescaled.shape\n",
        "     "
      ],
      "metadata": {
        "id": "eSowZPOUEcci",
        "colab": {
          "base_uri": "https://localhost:8080/"
        },
        "outputId": "6306766c-b2f2-4258-f78a-b5b0e868379c"
      },
      "execution_count": 24,
      "outputs": [
        {
          "output_type": "execute_result",
          "data": {
            "text/plain": [
              "(27, 20)"
            ]
          },
          "metadata": {},
          "execution_count": 24
        }
      ]
    },
    {
      "cell_type": "markdown",
      "source": [
        "### 4.6. Generation of the final result"
      ],
      "metadata": {
        "id": "38-vuWRZaEdE"
      }
    },
    {
      "cell_type": "code",
      "source": [
        "predict_example = pd.read_parquet(PATH + 'data/01_raw/sample_submit.parquet.gzip')\n",
        "print(f'test.shape = {predict_example.shape}\\n')\n",
        "predict_example.head(2)"
      ],
      "metadata": {
        "id": "F2NVgCjSEfrh",
        "colab": {
          "base_uri": "https://localhost:8080/",
          "height": 147
        },
        "outputId": "3f09ccdf-1851-4836-d1fd-293b9e41489d"
      },
      "execution_count": 25,
      "outputs": [
        {
          "output_type": "stream",
          "name": "stdout",
          "text": [
            "test.shape = (540, 3)\n",
            "\n"
          ]
        },
        {
          "output_type": "execute_result",
          "data": {
            "text/plain": [
              "   id          dt  target\n",
              "0   0  2017-07-01     500\n",
              "1   0  2017-07-02     500"
            ],
            "text/html": [
              "\n",
              "  <div id=\"df-3e9239d9-4bbc-4cf6-8d2b-2ba1b9101342\">\n",
              "    <div class=\"colab-df-container\">\n",
              "      <div>\n",
              "<style scoped>\n",
              "    .dataframe tbody tr th:only-of-type {\n",
              "        vertical-align: middle;\n",
              "    }\n",
              "\n",
              "    .dataframe tbody tr th {\n",
              "        vertical-align: top;\n",
              "    }\n",
              "\n",
              "    .dataframe thead th {\n",
              "        text-align: right;\n",
              "    }\n",
              "</style>\n",
              "<table border=\"1\" class=\"dataframe\">\n",
              "  <thead>\n",
              "    <tr style=\"text-align: right;\">\n",
              "      <th></th>\n",
              "      <th>id</th>\n",
              "      <th>dt</th>\n",
              "      <th>target</th>\n",
              "    </tr>\n",
              "  </thead>\n",
              "  <tbody>\n",
              "    <tr>\n",
              "      <th>0</th>\n",
              "      <td>0</td>\n",
              "      <td>2017-07-01</td>\n",
              "      <td>500</td>\n",
              "    </tr>\n",
              "    <tr>\n",
              "      <th>1</th>\n",
              "      <td>0</td>\n",
              "      <td>2017-07-02</td>\n",
              "      <td>500</td>\n",
              "    </tr>\n",
              "  </tbody>\n",
              "</table>\n",
              "</div>\n",
              "      <button class=\"colab-df-convert\" onclick=\"convertToInteractive('df-3e9239d9-4bbc-4cf6-8d2b-2ba1b9101342')\"\n",
              "              title=\"Convert this dataframe to an interactive table.\"\n",
              "              style=\"display:none;\">\n",
              "        \n",
              "  <svg xmlns=\"http://www.w3.org/2000/svg\" height=\"24px\"viewBox=\"0 0 24 24\"\n",
              "       width=\"24px\">\n",
              "    <path d=\"M0 0h24v24H0V0z\" fill=\"none\"/>\n",
              "    <path d=\"M18.56 5.44l.94 2.06.94-2.06 2.06-.94-2.06-.94-.94-2.06-.94 2.06-2.06.94zm-11 1L8.5 8.5l.94-2.06 2.06-.94-2.06-.94L8.5 2.5l-.94 2.06-2.06.94zm10 10l.94 2.06.94-2.06 2.06-.94-2.06-.94-.94-2.06-.94 2.06-2.06.94z\"/><path d=\"M17.41 7.96l-1.37-1.37c-.4-.4-.92-.59-1.43-.59-.52 0-1.04.2-1.43.59L10.3 9.45l-7.72 7.72c-.78.78-.78 2.05 0 2.83L4 21.41c.39.39.9.59 1.41.59.51 0 1.02-.2 1.41-.59l7.78-7.78 2.81-2.81c.8-.78.8-2.07 0-2.86zM5.41 20L4 18.59l7.72-7.72 1.47 1.35L5.41 20z\"/>\n",
              "  </svg>\n",
              "      </button>\n",
              "      \n",
              "  <style>\n",
              "    .colab-df-container {\n",
              "      display:flex;\n",
              "      flex-wrap:wrap;\n",
              "      gap: 12px;\n",
              "    }\n",
              "\n",
              "    .colab-df-convert {\n",
              "      background-color: #E8F0FE;\n",
              "      border: none;\n",
              "      border-radius: 50%;\n",
              "      cursor: pointer;\n",
              "      display: none;\n",
              "      fill: #1967D2;\n",
              "      height: 32px;\n",
              "      padding: 0 0 0 0;\n",
              "      width: 32px;\n",
              "    }\n",
              "\n",
              "    .colab-df-convert:hover {\n",
              "      background-color: #E2EBFA;\n",
              "      box-shadow: 0px 1px 2px rgba(60, 64, 67, 0.3), 0px 1px 3px 1px rgba(60, 64, 67, 0.15);\n",
              "      fill: #174EA6;\n",
              "    }\n",
              "\n",
              "    [theme=dark] .colab-df-convert {\n",
              "      background-color: #3B4455;\n",
              "      fill: #D2E3FC;\n",
              "    }\n",
              "\n",
              "    [theme=dark] .colab-df-convert:hover {\n",
              "      background-color: #434B5C;\n",
              "      box-shadow: 0px 1px 3px 1px rgba(0, 0, 0, 0.15);\n",
              "      filter: drop-shadow(0px 1px 2px rgba(0, 0, 0, 0.3));\n",
              "      fill: #FFFFFF;\n",
              "    }\n",
              "  </style>\n",
              "\n",
              "      <script>\n",
              "        const buttonEl =\n",
              "          document.querySelector('#df-3e9239d9-4bbc-4cf6-8d2b-2ba1b9101342 button.colab-df-convert');\n",
              "        buttonEl.style.display =\n",
              "          google.colab.kernel.accessAllowed ? 'block' : 'none';\n",
              "\n",
              "        async function convertToInteractive(key) {\n",
              "          const element = document.querySelector('#df-3e9239d9-4bbc-4cf6-8d2b-2ba1b9101342');\n",
              "          const dataTable =\n",
              "            await google.colab.kernel.invokeFunction('convertToInteractive',\n",
              "                                                     [key], {});\n",
              "          if (!dataTable) return;\n",
              "\n",
              "          const docLinkHtml = 'Like what you see? Visit the ' +\n",
              "            '<a target=\"_blank\" href=https://colab.research.google.com/notebooks/data_table.ipynb>data table notebook</a>'\n",
              "            + ' to learn more about interactive tables.';\n",
              "          element.innerHTML = '';\n",
              "          dataTable['output_type'] = 'display_data';\n",
              "          await google.colab.output.renderOutput(dataTable, element);\n",
              "          const docLink = document.createElement('div');\n",
              "          docLink.innerHTML = docLinkHtml;\n",
              "          element.appendChild(docLink);\n",
              "        }\n",
              "      </script>\n",
              "    </div>\n",
              "  </div>\n",
              "  "
            ]
          },
          "metadata": {},
          "execution_count": 25
        }
      ]
    },
    {
      "cell_type": "code",
      "source": [
        "n_shops = 20\n",
        "for i in range(n_shops):\n",
        "  predict_example.loc[predict_example['id'] == i, 'target'] = y_pred_rescaled.loc[:, i]\n",
        "\n",
        "predict_example.to_parquet(\n",
        "    'data/06_model_output/sales_forecast_tf.parquet.gzip', compression='gzip'\n",
        ")\n",
        "predict_example.head()"
      ],
      "metadata": {
        "id": "BOzBIFNZEkGy",
        "colab": {
          "base_uri": "https://localhost:8080/",
          "height": 206
        },
        "outputId": "6d88dbe8-a756-4eee-d5eb-fa329543a5e2"
      },
      "execution_count": 26,
      "outputs": [
        {
          "output_type": "execute_result",
          "data": {
            "text/plain": [
              "   id          dt      target\n",
              "0   0  2017-07-01  619.632609\n",
              "1   0  2017-07-02  675.047331\n",
              "2   0  2017-07-03  693.516457\n",
              "3   0  2017-07-04  785.935977\n",
              "4   0  2017-07-06  820.721869"
            ],
            "text/html": [
              "\n",
              "  <div id=\"df-0cc88654-c9fd-4299-831c-6488094e9eb5\">\n",
              "    <div class=\"colab-df-container\">\n",
              "      <div>\n",
              "<style scoped>\n",
              "    .dataframe tbody tr th:only-of-type {\n",
              "        vertical-align: middle;\n",
              "    }\n",
              "\n",
              "    .dataframe tbody tr th {\n",
              "        vertical-align: top;\n",
              "    }\n",
              "\n",
              "    .dataframe thead th {\n",
              "        text-align: right;\n",
              "    }\n",
              "</style>\n",
              "<table border=\"1\" class=\"dataframe\">\n",
              "  <thead>\n",
              "    <tr style=\"text-align: right;\">\n",
              "      <th></th>\n",
              "      <th>id</th>\n",
              "      <th>dt</th>\n",
              "      <th>target</th>\n",
              "    </tr>\n",
              "  </thead>\n",
              "  <tbody>\n",
              "    <tr>\n",
              "      <th>0</th>\n",
              "      <td>0</td>\n",
              "      <td>2017-07-01</td>\n",
              "      <td>619.632609</td>\n",
              "    </tr>\n",
              "    <tr>\n",
              "      <th>1</th>\n",
              "      <td>0</td>\n",
              "      <td>2017-07-02</td>\n",
              "      <td>675.047331</td>\n",
              "    </tr>\n",
              "    <tr>\n",
              "      <th>2</th>\n",
              "      <td>0</td>\n",
              "      <td>2017-07-03</td>\n",
              "      <td>693.516457</td>\n",
              "    </tr>\n",
              "    <tr>\n",
              "      <th>3</th>\n",
              "      <td>0</td>\n",
              "      <td>2017-07-04</td>\n",
              "      <td>785.935977</td>\n",
              "    </tr>\n",
              "    <tr>\n",
              "      <th>4</th>\n",
              "      <td>0</td>\n",
              "      <td>2017-07-06</td>\n",
              "      <td>820.721869</td>\n",
              "    </tr>\n",
              "  </tbody>\n",
              "</table>\n",
              "</div>\n",
              "      <button class=\"colab-df-convert\" onclick=\"convertToInteractive('df-0cc88654-c9fd-4299-831c-6488094e9eb5')\"\n",
              "              title=\"Convert this dataframe to an interactive table.\"\n",
              "              style=\"display:none;\">\n",
              "        \n",
              "  <svg xmlns=\"http://www.w3.org/2000/svg\" height=\"24px\"viewBox=\"0 0 24 24\"\n",
              "       width=\"24px\">\n",
              "    <path d=\"M0 0h24v24H0V0z\" fill=\"none\"/>\n",
              "    <path d=\"M18.56 5.44l.94 2.06.94-2.06 2.06-.94-2.06-.94-.94-2.06-.94 2.06-2.06.94zm-11 1L8.5 8.5l.94-2.06 2.06-.94-2.06-.94L8.5 2.5l-.94 2.06-2.06.94zm10 10l.94 2.06.94-2.06 2.06-.94-2.06-.94-.94-2.06-.94 2.06-2.06.94z\"/><path d=\"M17.41 7.96l-1.37-1.37c-.4-.4-.92-.59-1.43-.59-.52 0-1.04.2-1.43.59L10.3 9.45l-7.72 7.72c-.78.78-.78 2.05 0 2.83L4 21.41c.39.39.9.59 1.41.59.51 0 1.02-.2 1.41-.59l7.78-7.78 2.81-2.81c.8-.78.8-2.07 0-2.86zM5.41 20L4 18.59l7.72-7.72 1.47 1.35L5.41 20z\"/>\n",
              "  </svg>\n",
              "      </button>\n",
              "      \n",
              "  <style>\n",
              "    .colab-df-container {\n",
              "      display:flex;\n",
              "      flex-wrap:wrap;\n",
              "      gap: 12px;\n",
              "    }\n",
              "\n",
              "    .colab-df-convert {\n",
              "      background-color: #E8F0FE;\n",
              "      border: none;\n",
              "      border-radius: 50%;\n",
              "      cursor: pointer;\n",
              "      display: none;\n",
              "      fill: #1967D2;\n",
              "      height: 32px;\n",
              "      padding: 0 0 0 0;\n",
              "      width: 32px;\n",
              "    }\n",
              "\n",
              "    .colab-df-convert:hover {\n",
              "      background-color: #E2EBFA;\n",
              "      box-shadow: 0px 1px 2px rgba(60, 64, 67, 0.3), 0px 1px 3px 1px rgba(60, 64, 67, 0.15);\n",
              "      fill: #174EA6;\n",
              "    }\n",
              "\n",
              "    [theme=dark] .colab-df-convert {\n",
              "      background-color: #3B4455;\n",
              "      fill: #D2E3FC;\n",
              "    }\n",
              "\n",
              "    [theme=dark] .colab-df-convert:hover {\n",
              "      background-color: #434B5C;\n",
              "      box-shadow: 0px 1px 3px 1px rgba(0, 0, 0, 0.15);\n",
              "      filter: drop-shadow(0px 1px 2px rgba(0, 0, 0, 0.3));\n",
              "      fill: #FFFFFF;\n",
              "    }\n",
              "  </style>\n",
              "\n",
              "      <script>\n",
              "        const buttonEl =\n",
              "          document.querySelector('#df-0cc88654-c9fd-4299-831c-6488094e9eb5 button.colab-df-convert');\n",
              "        buttonEl.style.display =\n",
              "          google.colab.kernel.accessAllowed ? 'block' : 'none';\n",
              "\n",
              "        async function convertToInteractive(key) {\n",
              "          const element = document.querySelector('#df-0cc88654-c9fd-4299-831c-6488094e9eb5');\n",
              "          const dataTable =\n",
              "            await google.colab.kernel.invokeFunction('convertToInteractive',\n",
              "                                                     [key], {});\n",
              "          if (!dataTable) return;\n",
              "\n",
              "          const docLinkHtml = 'Like what you see? Visit the ' +\n",
              "            '<a target=\"_blank\" href=https://colab.research.google.com/notebooks/data_table.ipynb>data table notebook</a>'\n",
              "            + ' to learn more about interactive tables.';\n",
              "          element.innerHTML = '';\n",
              "          dataTable['output_type'] = 'display_data';\n",
              "          await google.colab.output.renderOutput(dataTable, element);\n",
              "          const docLink = document.createElement('div');\n",
              "          docLink.innerHTML = docLinkHtml;\n",
              "          element.appendChild(docLink);\n",
              "        }\n",
              "      </script>\n",
              "    </div>\n",
              "  </div>\n",
              "  "
            ]
          },
          "metadata": {},
          "execution_count": 26
        }
      ]
    },
    {
      "cell_type": "markdown",
      "metadata": {
        "id": "k5l6afUrb7Iy"
      },
      "source": [
        "## 5. Findings"
      ]
    },
    {
      "cell_type": "markdown",
      "metadata": {
        "id": "4I1SyQe3b_ht"
      },
      "source": [
        "Transformer model has not outperformed LSTM model. There is not enough data for transformers. The use of transformers could be justified on the longer time sequences."
      ]
    }
  ],
  "metadata": {
    "colab": {
      "provenance": [],
      "authorship_tag": "ABX9TyOqFHWCDxCAGxNr3rgz9KQ/",
      "include_colab_link": true
    },
    "gpuClass": "standard",
    "kernelspec": {
      "display_name": "Python 3",
      "name": "python3"
    },
    "language_info": {
      "name": "python"
    },
    "accelerator": "GPU"
  },
  "nbformat": 4,
  "nbformat_minor": 0
}