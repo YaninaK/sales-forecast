{
  "cells": [
    {
      "cell_type": "markdown",
      "metadata": {
        "id": "view-in-github",
        "colab_type": "text"
      },
      "source": [
        "<a href=\"https://colab.research.google.com/github/YaninaK/sales-forecast/blob/main/notebooks/04_Transformer_model.ipynb\" target=\"_parent\"><img src=\"https://colab.research.google.com/assets/colab-badge.svg\" alt=\"Open In Colab\"/></a>"
      ]
    },
    {
      "cell_type": "markdown",
      "metadata": {
        "id": "yw1w9JFTOyl0"
      },
      "source": [
        "# Sales forecast for 20 stores for 31 days' period.\n",
        "\n",
        "## Transformer model"
      ]
    },
    {
      "cell_type": "markdown",
      "metadata": {
        "id": "0ntOLUaWO_Zl"
      },
      "source": [
        "[EDA: omissions, clustering & Fourier transformations](\n",
        "https://colab.research.google.com/drive/1udCgyEt7lusSY43lnduVDEnZvdvVEt9h?usp=sharing)\n",
        "\n",
        "[Feature extraction](https://colab.research.google.com/drive/1H-vQoHnycp62YuZD1xrmIDjufpDu7ig3?usp=sharing)"
      ]
    },
    {
      "cell_type": "code",
      "execution_count": 1,
      "metadata": {
        "id": "NP9i317dO3-E",
        "colab": {
          "base_uri": "https://localhost:8080/"
        },
        "outputId": "e2de1d37-862b-408d-c463-66a1a7dd9635"
      },
      "outputs": [
        {
          "output_type": "stream",
          "name": "stdout",
          "text": [
            "Mounted at /content/drive\n"
          ]
        }
      ],
      "source": [
        "from google.colab import drive\n",
        "drive.mount('/content/drive')"
      ]
    },
    {
      "cell_type": "code",
      "execution_count": 2,
      "metadata": {
        "id": "NOaainxsPvh1",
        "colab": {
          "base_uri": "https://localhost:8080/"
        },
        "outputId": "8f83b2b7-636a-4800-f43b-430e5b73baf5"
      },
      "outputs": [
        {
          "output_type": "stream",
          "name": "stdout",
          "text": [
            "\u001b[?25l     \u001b[90m━━━━━━━━━━━━━━━━━━━━━━━━━━━━━━━━━━━━━━━━\u001b[0m \u001b[32m0.0/358.2 KB\u001b[0m \u001b[31m?\u001b[0m eta \u001b[36m-:--:--\u001b[0m\r\u001b[2K     \u001b[90m━━━━━━━━━━━━━━━━━━━━━━━━━━━━━━━━━━━━━━\u001b[0m \u001b[32m358.2/358.2 KB\u001b[0m \u001b[31m11.2 MB/s\u001b[0m eta \u001b[36m0:00:00\u001b[0m\n",
            "\u001b[2K     \u001b[90m━━━━━━━━━━━━━━━━━━━━━━━━━━━━━━━━━━━━━━━━\u001b[0m \u001b[32m98.2/98.2 KB\u001b[0m \u001b[31m12.7 MB/s\u001b[0m eta \u001b[36m0:00:00\u001b[0m\n",
            "\u001b[2K     \u001b[90m━━━━━━━━━━━━━━━━━━━━━━━━━━━━━━━━━━━━━━\u001b[0m \u001b[32m136.2/136.2 KB\u001b[0m \u001b[31m16.7 MB/s\u001b[0m eta \u001b[36m0:00:00\u001b[0m\n",
            "\u001b[?25h"
          ]
        }
      ],
      "source": [
        "!git clone -q https://github.com/YaninaK/sales-forecast.git\n",
        "!pip install -r sales-forecast/requirements_Colab.txt -q "
      ]
    },
    {
      "cell_type": "code",
      "execution_count": 3,
      "metadata": {
        "id": "oGpZTC0tP0QI",
        "colab": {
          "base_uri": "https://localhost:8080/"
        },
        "outputId": "0c2d4865-3492-465c-b641-dc80394b932d"
      },
      "outputs": [
        {
          "output_type": "stream",
          "name": "stdout",
          "text": [
            "/content/sales-forecast\n"
          ]
        }
      ],
      "source": [
        "%cd sales-forecast"
      ]
    },
    {
      "cell_type": "code",
      "execution_count": 4,
      "metadata": {
        "id": "9JdDC3FUP1J7"
      },
      "outputs": [],
      "source": [
        "import sys\n",
        "import os\n",
        "\n",
        "sys.path.append(os.getcwd())\n",
        "sys.path.append(os.path.join(os.getcwd(), \"src\", \"sales_forecast\"))"
      ]
    },
    {
      "cell_type": "code",
      "execution_count": 5,
      "metadata": {
        "id": "9IzhaR8jP302"
      },
      "outputs": [],
      "source": [
        "import random\n",
        "import pandas as pd\n",
        "import numpy as np\n",
        "import tensorflow as tf\n",
        "import joblib\n",
        "\n",
        "from data.make_dataset import load_data\n",
        "from src.sales_forecast.models import train\n",
        "\n",
        "from data.johnson_su_transformation import JohnsonSU\n",
        "from data.train_test_datasets import get_train_dataset, get_test_dataset\n",
        "from models.model_TF import get_model_TF"
      ]
    },
    {
      "cell_type": "code",
      "execution_count": 6,
      "metadata": {
        "id": "1htDECSWLpcT"
      },
      "outputs": [],
      "source": [
        "import warnings\n",
        "warnings.filterwarnings('ignore')"
      ]
    },
    {
      "cell_type": "code",
      "execution_count": 7,
      "metadata": {
        "id": "llog_mfTQIGB"
      },
      "outputs": [],
      "source": [
        "PATH = '/content/drive/MyDrive/ML_projects/01_Time_series/sales_forecast/'\n",
        "DEFAULT_RANDOM_SEED = 3"
      ]
    },
    {
      "cell_type": "code",
      "execution_count": 8,
      "metadata": {
        "id": "Q9iGOsyiQLA8"
      },
      "outputs": [],
      "source": [
        "def set_all_seeds(seed=DEFAULT_RANDOM_SEED):\n",
        "  random.seed(seed)\n",
        "  os.environ['PYTHONHASHSEED'] = str(seed)\n",
        "  np.random.seed(seed)\n",
        "  tf.random.set_seed(seed)\n",
        "  \n",
        "set_all_seeds()"
      ]
    },
    {
      "cell_type": "markdown",
      "metadata": {
        "id": "6FplTdRyQ4kR"
      },
      "source": [
        "## 1. Data ingestion"
      ]
    },
    {
      "cell_type": "code",
      "execution_count": 9,
      "metadata": {
        "id": "q20ClbC4Kzr7",
        "colab": {
          "base_uri": "https://localhost:8080/",
          "height": 149
        },
        "outputId": "d2033a4a-5368-4be9-eada-505d372cb6a2"
      },
      "outputs": [
        {
          "output_type": "stream",
          "name": "stdout",
          "text": [
            "data.shape = (8230, 3)\n",
            "\n"
          ]
        },
        {
          "output_type": "execute_result",
          "data": {
            "text/plain": [
              "   id          dt  target\n",
              "0   0  2016-01-02   747.8\n",
              "1   0  2016-01-03   681.2"
            ],
            "text/html": [
              "\n",
              "  <div id=\"df-963fc1f9-15e0-44b4-9624-b5014f3d4a68\">\n",
              "    <div class=\"colab-df-container\">\n",
              "      <div>\n",
              "<style scoped>\n",
              "    .dataframe tbody tr th:only-of-type {\n",
              "        vertical-align: middle;\n",
              "    }\n",
              "\n",
              "    .dataframe tbody tr th {\n",
              "        vertical-align: top;\n",
              "    }\n",
              "\n",
              "    .dataframe thead th {\n",
              "        text-align: right;\n",
              "    }\n",
              "</style>\n",
              "<table border=\"1\" class=\"dataframe\">\n",
              "  <thead>\n",
              "    <tr style=\"text-align: right;\">\n",
              "      <th></th>\n",
              "      <th>id</th>\n",
              "      <th>dt</th>\n",
              "      <th>target</th>\n",
              "    </tr>\n",
              "  </thead>\n",
              "  <tbody>\n",
              "    <tr>\n",
              "      <th>0</th>\n",
              "      <td>0</td>\n",
              "      <td>2016-01-02</td>\n",
              "      <td>747.8</td>\n",
              "    </tr>\n",
              "    <tr>\n",
              "      <th>1</th>\n",
              "      <td>0</td>\n",
              "      <td>2016-01-03</td>\n",
              "      <td>681.2</td>\n",
              "    </tr>\n",
              "  </tbody>\n",
              "</table>\n",
              "</div>\n",
              "      <button class=\"colab-df-convert\" onclick=\"convertToInteractive('df-963fc1f9-15e0-44b4-9624-b5014f3d4a68')\"\n",
              "              title=\"Convert this dataframe to an interactive table.\"\n",
              "              style=\"display:none;\">\n",
              "        \n",
              "  <svg xmlns=\"http://www.w3.org/2000/svg\" height=\"24px\"viewBox=\"0 0 24 24\"\n",
              "       width=\"24px\">\n",
              "    <path d=\"M0 0h24v24H0V0z\" fill=\"none\"/>\n",
              "    <path d=\"M18.56 5.44l.94 2.06.94-2.06 2.06-.94-2.06-.94-.94-2.06-.94 2.06-2.06.94zm-11 1L8.5 8.5l.94-2.06 2.06-.94-2.06-.94L8.5 2.5l-.94 2.06-2.06.94zm10 10l.94 2.06.94-2.06 2.06-.94-2.06-.94-.94-2.06-.94 2.06-2.06.94z\"/><path d=\"M17.41 7.96l-1.37-1.37c-.4-.4-.92-.59-1.43-.59-.52 0-1.04.2-1.43.59L10.3 9.45l-7.72 7.72c-.78.78-.78 2.05 0 2.83L4 21.41c.39.39.9.59 1.41.59.51 0 1.02-.2 1.41-.59l7.78-7.78 2.81-2.81c.8-.78.8-2.07 0-2.86zM5.41 20L4 18.59l7.72-7.72 1.47 1.35L5.41 20z\"/>\n",
              "  </svg>\n",
              "      </button>\n",
              "      \n",
              "  <style>\n",
              "    .colab-df-container {\n",
              "      display:flex;\n",
              "      flex-wrap:wrap;\n",
              "      gap: 12px;\n",
              "    }\n",
              "\n",
              "    .colab-df-convert {\n",
              "      background-color: #E8F0FE;\n",
              "      border: none;\n",
              "      border-radius: 50%;\n",
              "      cursor: pointer;\n",
              "      display: none;\n",
              "      fill: #1967D2;\n",
              "      height: 32px;\n",
              "      padding: 0 0 0 0;\n",
              "      width: 32px;\n",
              "    }\n",
              "\n",
              "    .colab-df-convert:hover {\n",
              "      background-color: #E2EBFA;\n",
              "      box-shadow: 0px 1px 2px rgba(60, 64, 67, 0.3), 0px 1px 3px 1px rgba(60, 64, 67, 0.15);\n",
              "      fill: #174EA6;\n",
              "    }\n",
              "\n",
              "    [theme=dark] .colab-df-convert {\n",
              "      background-color: #3B4455;\n",
              "      fill: #D2E3FC;\n",
              "    }\n",
              "\n",
              "    [theme=dark] .colab-df-convert:hover {\n",
              "      background-color: #434B5C;\n",
              "      box-shadow: 0px 1px 3px 1px rgba(0, 0, 0, 0.15);\n",
              "      filter: drop-shadow(0px 1px 2px rgba(0, 0, 0, 0.3));\n",
              "      fill: #FFFFFF;\n",
              "    }\n",
              "  </style>\n",
              "\n",
              "      <script>\n",
              "        const buttonEl =\n",
              "          document.querySelector('#df-963fc1f9-15e0-44b4-9624-b5014f3d4a68 button.colab-df-convert');\n",
              "        buttonEl.style.display =\n",
              "          google.colab.kernel.accessAllowed ? 'block' : 'none';\n",
              "\n",
              "        async function convertToInteractive(key) {\n",
              "          const element = document.querySelector('#df-963fc1f9-15e0-44b4-9624-b5014f3d4a68');\n",
              "          const dataTable =\n",
              "            await google.colab.kernel.invokeFunction('convertToInteractive',\n",
              "                                                     [key], {});\n",
              "          if (!dataTable) return;\n",
              "\n",
              "          const docLinkHtml = 'Like what you see? Visit the ' +\n",
              "            '<a target=\"_blank\" href=https://colab.research.google.com/notebooks/data_table.ipynb>data table notebook</a>'\n",
              "            + ' to learn more about interactive tables.';\n",
              "          element.innerHTML = '';\n",
              "          dataTable['output_type'] = 'display_data';\n",
              "          await google.colab.output.renderOutput(dataTable, element);\n",
              "          const docLink = document.createElement('div');\n",
              "          docLink.innerHTML = docLinkHtml;\n",
              "          element.appendChild(docLink);\n",
              "        }\n",
              "      </script>\n",
              "    </div>\n",
              "  </div>\n",
              "  "
            ]
          },
          "metadata": {},
          "execution_count": 9
        }
      ],
      "source": [
        "data = load_data(PATH)\n",
        "\n",
        "print(f'data.shape = {data.shape}\\n')\n",
        "data.head(2)"
      ]
    },
    {
      "cell_type": "markdown",
      "metadata": {
        "id": "BWN9VH40WEMK"
      },
      "source": [
        "## 2. Data preprocessing pipeline"
      ]
    },
    {
      "cell_type": "code",
      "execution_count": 10,
      "metadata": {
        "id": "uRbHm4snLIYS",
        "colab": {
          "base_uri": "https://localhost:8080/"
        },
        "outputId": "9a5735f0-707f-4827-da43-9f0e407bbbbf"
      },
      "outputs": [
        {
          "output_type": "stream",
          "name": "stdout",
          "text": [
            "Number of outliers = 8\n"
          ]
        },
        {
          "output_type": "execute_result",
          "data": {
            "text/plain": [
              "(153, 20, 48)"
            ]
          },
          "metadata": {},
          "execution_count": 10
        }
      ],
      "source": [
        "regenerate = True\n",
        "if regenerate:\n",
        "  X = train.data_preprocessing_pipeline(data)\n",
        "else:\n",
        "  X = np.load('data/04_feature/train_dataset.npy')\n",
        "\n",
        "X.shape"
      ]
    },
    {
      "cell_type": "markdown",
      "metadata": {
        "id": "a5yhOwIBedyY"
      },
      "source": [
        "## 3. Transformer model"
      ]
    },
    {
      "cell_type": "markdown",
      "metadata": {
        "id": "eqH3rDIHig3N"
      },
      "source": [
        "### 3.1 Train dataset"
      ]
    },
    {
      "cell_type": "code",
      "source": [
        "X_train, y_train = get_train_dataset(X)\n",
        "X_train.shape, y_train.shape"
      ],
      "metadata": {
        "id": "a6RWONYgWN9q",
        "colab": {
          "base_uri": "https://localhost:8080/"
        },
        "outputId": "99c008a1-76c4-4746-dc60-b681918b9b08"
      },
      "execution_count": 11,
      "outputs": [
        {
          "output_type": "execute_result",
          "data": {
            "text/plain": [
              "((900, 54, 48), (900, 27, 48))"
            ]
          },
          "metadata": {},
          "execution_count": 11
        }
      ]
    },
    {
      "cell_type": "markdown",
      "source": [
        "### 3.2 Training of the model"
      ],
      "metadata": {
        "id": "Ce4QTKenSRy-"
      }
    },
    {
      "cell_type": "code",
      "source": [
        "model = get_model_TF(X_train.shape[1:])\n",
        "model.summary()"
      ],
      "metadata": {
        "id": "H7HhrBm3RRyw",
        "colab": {
          "base_uri": "https://localhost:8080/"
        },
        "outputId": "01e0e2a0-70dd-4916-ba84-a676ce7f8b4a"
      },
      "execution_count": 12,
      "outputs": [
        {
          "output_type": "stream",
          "name": "stdout",
          "text": [
            "Model: \"model\"\n",
            "__________________________________________________________________________________________________\n",
            " Layer (type)                   Output Shape         Param #     Connected to                     \n",
            "==================================================================================================\n",
            " input_1 (InputLayer)           [(None, 54, 48)]     0           []                               \n",
            "                                                                                                  \n",
            " layer_normalization (LayerNorm  (None, 54, 48)      96          ['input_1[0][0]']                \n",
            " alization)                                                                                       \n",
            "                                                                                                  \n",
            " transformer_block (Transformer  (None, 54, 48)      62752       ['layer_normalization[0][0]']    \n",
            " Block)                                                                                           \n",
            "                                                                                                  \n",
            " tf.math.multiply (TFOpLambda)  (None, 54, 48)       0           ['transformer_block[0][0]']      \n",
            "                                                                                                  \n",
            " tf.math.multiply_1 (TFOpLambda  (None, 54, 48)      0           ['layer_normalization[0][0]']    \n",
            " )                                                                                                \n",
            "                                                                                                  \n",
            " tf.__operators__.add (TFOpLamb  (None, 54, 48)      0           ['tf.math.multiply[0][0]',       \n",
            " da)                                                              'tf.math.multiply_1[0][0]']     \n",
            "                                                                                                  \n",
            " transformer_block_1 (Transform  (None, 54, 48)      62752       ['tf.__operators__.add[0][0]']   \n",
            " erBlock)                                                                                         \n",
            "                                                                                                  \n",
            " tf.math.multiply_2 (TFOpLambda  (None, 54, 48)      0           ['transformer_block_1[0][0]']    \n",
            " )                                                                                                \n",
            "                                                                                                  \n",
            " tf.math.multiply_3 (TFOpLambda  (None, 54, 48)      0           ['tf.__operators__.add[0][0]']   \n",
            " )                                                                                                \n",
            "                                                                                                  \n",
            " tf.__operators__.add_1 (TFOpLa  (None, 54, 48)      0           ['tf.math.multiply_2[0][0]',     \n",
            " mbda)                                                            'tf.math.multiply_3[0][0]']     \n",
            "                                                                                                  \n",
            " transformer_block_2 (Transform  (None, 54, 48)      62752       ['tf.__operators__.add_1[0][0]'] \n",
            " erBlock)                                                                                         \n",
            "                                                                                                  \n",
            " tf.math.multiply_4 (TFOpLambda  (None, 54, 48)      0           ['transformer_block_2[0][0]']    \n",
            " )                                                                                                \n",
            "                                                                                                  \n",
            " tf.math.multiply_5 (TFOpLambda  (None, 54, 48)      0           ['tf.__operators__.add_1[0][0]'] \n",
            " )                                                                                                \n",
            "                                                                                                  \n",
            " tf.__operators__.add_2 (TFOpLa  (None, 54, 48)      0           ['tf.math.multiply_4[0][0]',     \n",
            " mbda)                                                            'tf.math.multiply_5[0][0]']     \n",
            "                                                                                                  \n",
            " transformer_block_3 (Transform  (None, 54, 48)      62752       ['tf.__operators__.add_2[0][0]'] \n",
            " erBlock)                                                                                         \n",
            "                                                                                                  \n",
            " tf.math.multiply_6 (TFOpLambda  (None, 54, 48)      0           ['transformer_block_3[0][0]']    \n",
            " )                                                                                                \n",
            "                                                                                                  \n",
            " tf.math.multiply_7 (TFOpLambda  (None, 54, 48)      0           ['tf.__operators__.add_2[0][0]'] \n",
            " )                                                                                                \n",
            "                                                                                                  \n",
            " tf.__operators__.add_3 (TFOpLa  (None, 54, 48)      0           ['tf.math.multiply_6[0][0]',     \n",
            " mbda)                                                            'tf.math.multiply_7[0][0]']     \n",
            "                                                                                                  \n",
            " transformer_block_4 (Transform  (None, 54, 48)      62752       ['tf.__operators__.add_3[0][0]'] \n",
            " erBlock)                                                                                         \n",
            "                                                                                                  \n",
            " tf.math.multiply_8 (TFOpLambda  (None, 54, 48)      0           ['transformer_block_4[0][0]']    \n",
            " )                                                                                                \n",
            "                                                                                                  \n",
            " tf.math.multiply_9 (TFOpLambda  (None, 54, 48)      0           ['tf.__operators__.add_3[0][0]'] \n",
            " )                                                                                                \n",
            "                                                                                                  \n",
            " tf.__operators__.add_4 (TFOpLa  (None, 54, 48)      0           ['tf.math.multiply_8[0][0]',     \n",
            " mbda)                                                            'tf.math.multiply_9[0][0]']     \n",
            "                                                                                                  \n",
            " transformer_block_5 (Transform  (None, 54, 48)      62752       ['tf.__operators__.add_4[0][0]'] \n",
            " erBlock)                                                                                         \n",
            "                                                                                                  \n",
            " tf.math.multiply_10 (TFOpLambd  (None, 54, 48)      0           ['transformer_block_5[0][0]']    \n",
            " a)                                                                                               \n",
            "                                                                                                  \n",
            " tf.math.multiply_11 (TFOpLambd  (None, 54, 48)      0           ['tf.__operators__.add_4[0][0]'] \n",
            " a)                                                                                               \n",
            "                                                                                                  \n",
            " tf.__operators__.add_5 (TFOpLa  (None, 54, 48)      0           ['tf.math.multiply_10[0][0]',    \n",
            " mbda)                                                            'tf.math.multiply_11[0][0]']    \n",
            "                                                                                                  \n",
            " reshape (Reshape)              (None, 27, 96)       0           ['tf.__operators__.add_5[0][0]'] \n",
            "                                                                                                  \n",
            " time_distributed (TimeDistribu  (None, 27, 48)      4656        ['reshape[0][0]']                \n",
            " ted)                                                                                             \n",
            "                                                                                                  \n",
            "==================================================================================================\n",
            "Total params: 381,264\n",
            "Trainable params: 380,112\n",
            "Non-trainable params: 1,152\n",
            "__________________________________________________________________________________________________\n"
          ]
        }
      ]
    },
    {
      "cell_type": "code",
      "source": [
        "n_shops = 20\n",
        "n_epochs = 50\n",
        "batch_size = n_shops * 2\n",
        "m = n_shops * 4\n",
        "\n",
        "reduce_lr = tf.keras.callbacks.LearningRateScheduler(\n",
        "    lambda epoch: 3e-2 * 0.95 ** epoch\n",
        ")\n",
        "model.compile(\n",
        "    optimizer=tf.keras.optimizers.Adam(),\n",
        "    loss=tf.keras.losses.Huber()\n",
        ")\n",
        "history = model.fit(\n",
        "    X_train[:-m, :, :], y_train[:-m, :, :], \n",
        "    epochs=n_epochs,\n",
        "    validation_data=(X_train[-m:, :, :], y_train[-m:, :, :]),\n",
        "    batch_size=batch_size, \n",
        "    verbose=1,\n",
        "    callbacks=[reduce_lr],\n",
        "    shuffle=True,\n",
        "    workers=-1,\n",
        "    use_multiprocessing=True\n",
        ")"
      ],
      "metadata": {
        "id": "0eaYOlXkueJE",
        "colab": {
          "base_uri": "https://localhost:8080/"
        },
        "outputId": "e19ac012-ddc7-4e26-fd83-8eba4c283572"
      },
      "execution_count": 13,
      "outputs": [
        {
          "output_type": "stream",
          "name": "stdout",
          "text": [
            "Epoch 1/50\n",
            "21/21 [==============================] - 27s 451ms/step - loss: 0.4094 - val_loss: 31.7494 - lr: 0.0300\n",
            "Epoch 2/50\n",
            "21/21 [==============================] - 7s 329ms/step - loss: 0.3511 - val_loss: 1.3434 - lr: 0.0285\n",
            "Epoch 3/50\n",
            "21/21 [==============================] - 9s 398ms/step - loss: 0.3403 - val_loss: 0.6471 - lr: 0.0271\n",
            "Epoch 4/50\n",
            "21/21 [==============================] - 7s 326ms/step - loss: 0.3294 - val_loss: 0.6117 - lr: 0.0257\n",
            "Epoch 5/50\n",
            "21/21 [==============================] - 8s 373ms/step - loss: 0.3187 - val_loss: 0.7136 - lr: 0.0244\n",
            "Epoch 6/50\n",
            "21/21 [==============================] - 7s 356ms/step - loss: 0.3081 - val_loss: 0.5099 - lr: 0.0232\n",
            "Epoch 7/50\n",
            "21/21 [==============================] - 7s 340ms/step - loss: 0.2975 - val_loss: 0.4762 - lr: 0.0221\n",
            "Epoch 8/50\n",
            "21/21 [==============================] - 7s 359ms/step - loss: 0.2884 - val_loss: 0.5979 - lr: 0.0210\n",
            "Epoch 9/50\n",
            "21/21 [==============================] - 7s 329ms/step - loss: 0.2798 - val_loss: 0.4947 - lr: 0.0199\n",
            "Epoch 10/50\n",
            "21/21 [==============================] - 8s 363ms/step - loss: 0.2701 - val_loss: 0.4253 - lr: 0.0189\n",
            "Epoch 11/50\n",
            "21/21 [==============================] - 7s 324ms/step - loss: 0.2645 - val_loss: 0.3776 - lr: 0.0180\n",
            "Epoch 12/50\n",
            "21/21 [==============================] - 8s 370ms/step - loss: 0.2578 - val_loss: 0.3553 - lr: 0.0171\n",
            "Epoch 13/50\n",
            "21/21 [==============================] - 7s 318ms/step - loss: 0.2509 - val_loss: 0.3186 - lr: 0.0162\n",
            "Epoch 14/50\n",
            "21/21 [==============================] - 8s 401ms/step - loss: 0.2464 - val_loss: 0.2945 - lr: 0.0154\n",
            "Epoch 15/50\n",
            "21/21 [==============================] - 6s 299ms/step - loss: 0.2427 - val_loss: 0.2770 - lr: 0.0146\n",
            "Epoch 16/50\n",
            "21/21 [==============================] - 8s 397ms/step - loss: 0.2378 - val_loss: 0.2660 - lr: 0.0139\n",
            "Epoch 17/50\n",
            "21/21 [==============================] - 6s 308ms/step - loss: 0.2346 - val_loss: 0.2586 - lr: 0.0132\n",
            "Epoch 18/50\n",
            "21/21 [==============================] - 8s 403ms/step - loss: 0.2336 - val_loss: 0.2484 - lr: 0.0125\n",
            "Epoch 19/50\n",
            "21/21 [==============================] - 7s 312ms/step - loss: 0.2294 - val_loss: 0.2445 - lr: 0.0119\n",
            "Epoch 20/50\n",
            "21/21 [==============================] - 8s 402ms/step - loss: 0.2248 - val_loss: 0.2397 - lr: 0.0113\n",
            "Epoch 21/50\n",
            "21/21 [==============================] - 6s 309ms/step - loss: 0.2246 - val_loss: 0.2395 - lr: 0.0108\n",
            "Epoch 22/50\n",
            "21/21 [==============================] - 8s 396ms/step - loss: 0.2218 - val_loss: 0.2385 - lr: 0.0102\n",
            "Epoch 23/50\n",
            "21/21 [==============================] - 6s 303ms/step - loss: 0.2183 - val_loss: 0.2347 - lr: 0.0097\n",
            "Epoch 24/50\n",
            "21/21 [==============================] - 8s 401ms/step - loss: 0.2159 - val_loss: 0.2346 - lr: 0.0092\n",
            "Epoch 25/50\n",
            "21/21 [==============================] - 7s 311ms/step - loss: 0.2157 - val_loss: 0.2271 - lr: 0.0088\n",
            "Epoch 26/50\n",
            "21/21 [==============================] - 8s 399ms/step - loss: 0.2130 - val_loss: 0.2279 - lr: 0.0083\n",
            "Epoch 27/50\n",
            "21/21 [==============================] - 6s 305ms/step - loss: 0.2112 - val_loss: 0.2276 - lr: 0.0079\n",
            "Epoch 28/50\n",
            "21/21 [==============================] - 8s 402ms/step - loss: 0.2101 - val_loss: 0.2264 - lr: 0.0075\n",
            "Epoch 29/50\n",
            "21/21 [==============================] - 7s 313ms/step - loss: 0.2077 - val_loss: 0.2275 - lr: 0.0071\n",
            "Epoch 30/50\n",
            "21/21 [==============================] - 8s 402ms/step - loss: 0.2083 - val_loss: 0.2264 - lr: 0.0068\n",
            "Epoch 31/50\n",
            "21/21 [==============================] - 7s 312ms/step - loss: 0.2055 - val_loss: 0.2210 - lr: 0.0064\n",
            "Epoch 32/50\n",
            "21/21 [==============================] - 8s 407ms/step - loss: 0.2019 - val_loss: 0.2226 - lr: 0.0061\n",
            "Epoch 33/50\n",
            "21/21 [==============================] - 7s 311ms/step - loss: 0.2002 - val_loss: 0.2193 - lr: 0.0058\n",
            "Epoch 34/50\n",
            "21/21 [==============================] - 8s 389ms/step - loss: 0.1991 - val_loss: 0.2178 - lr: 0.0055\n",
            "Epoch 35/50\n",
            "21/21 [==============================] - 7s 334ms/step - loss: 0.1980 - val_loss: 0.2138 - lr: 0.0052\n",
            "Epoch 36/50\n",
            "21/21 [==============================] - 8s 369ms/step - loss: 0.1957 - val_loss: 0.2119 - lr: 0.0050\n",
            "Epoch 37/50\n",
            "21/21 [==============================] - 7s 343ms/step - loss: 0.1939 - val_loss: 0.2110 - lr: 0.0047\n",
            "Epoch 38/50\n",
            "21/21 [==============================] - 8s 354ms/step - loss: 0.1943 - val_loss: 0.2092 - lr: 0.0045\n",
            "Epoch 39/50\n",
            "21/21 [==============================] - 8s 360ms/step - loss: 0.1929 - val_loss: 0.2057 - lr: 0.0043\n",
            "Epoch 40/50\n",
            "21/21 [==============================] - 7s 339ms/step - loss: 0.1902 - val_loss: 0.2014 - lr: 0.0041\n",
            "Epoch 41/50\n",
            "21/21 [==============================] - 8s 391ms/step - loss: 0.1880 - val_loss: 0.1993 - lr: 0.0039\n",
            "Epoch 42/50\n",
            "21/21 [==============================] - 7s 311ms/step - loss: 0.1872 - val_loss: 0.1967 - lr: 0.0037\n",
            "Epoch 43/50\n",
            "21/21 [==============================] - 8s 398ms/step - loss: 0.1842 - val_loss: 0.1953 - lr: 0.0035\n",
            "Epoch 44/50\n",
            "21/21 [==============================] - 7s 310ms/step - loss: 0.1808 - val_loss: 0.1919 - lr: 0.0033\n",
            "Epoch 45/50\n",
            "21/21 [==============================] - 8s 406ms/step - loss: 0.1854 - val_loss: 0.1944 - lr: 0.0031\n",
            "Epoch 46/50\n",
            "21/21 [==============================] - 7s 313ms/step - loss: 0.1830 - val_loss: 0.1908 - lr: 0.0030\n",
            "Epoch 47/50\n",
            "21/21 [==============================] - 8s 398ms/step - loss: 0.1804 - val_loss: 0.1897 - lr: 0.0028\n",
            "Epoch 48/50\n",
            "21/21 [==============================] - 6s 310ms/step - loss: 0.1801 - val_loss: 0.1897 - lr: 0.0027\n",
            "Epoch 49/50\n",
            "21/21 [==============================] - 8s 398ms/step - loss: 0.1781 - val_loss: 0.1859 - lr: 0.0026\n",
            "Epoch 50/50\n",
            "21/21 [==============================] - 7s 356ms/step - loss: 0.1796 - val_loss: 0.1887 - lr: 0.0024\n"
          ]
        }
      ]
    },
    {
      "cell_type": "markdown",
      "metadata": {
        "id": "-T-FivMrYoH5"
      },
      "source": [
        "### 3.3 Inference"
      ]
    },
    {
      "cell_type": "code",
      "execution_count": 14,
      "metadata": {
        "id": "uyn5BLhgYHO3"
      },
      "outputs": [],
      "source": [
        "X_test, y_test = get_test_dataset(X)"
      ]
    },
    {
      "cell_type": "code",
      "execution_count": 15,
      "metadata": {
        "id": "dgZcymnwX7hH",
        "colab": {
          "base_uri": "https://localhost:8080/"
        },
        "outputId": "0e2b38d0-e837-4a23-b6a9-da05d50d93c5"
      },
      "outputs": [
        {
          "output_type": "stream",
          "name": "stdout",
          "text": [
            "1/1 [==============================] - 3s 3s/step\n"
          ]
        },
        {
          "output_type": "execute_result",
          "data": {
            "text/plain": [
              "(20, 27, 48)"
            ]
          },
          "metadata": {},
          "execution_count": 15
        }
      ],
      "source": [
        "pred = model.predict(X_test)\n",
        "pred.shape"
      ]
    },
    {
      "cell_type": "markdown",
      "metadata": {
        "id": "LphmAbjGZkA3"
      },
      "source": [
        "### 3.4 Model evaluation"
      ]
    },
    {
      "cell_type": "markdown",
      "metadata": {
        "id": "nkFU4RxZZk8-"
      },
      "source": [
        "#### Mean absolute scaled error (MASE) \n",
        "https://en.wikipedia.org/wiki/Mean_absolute_scaled_error"
      ]
    },
    {
      "cell_type": "markdown",
      "metadata": {
        "id": "nM1Cj-_XZpsO"
      },
      "source": [
        "The denominator of mean absolute scaled error is the mean absolute error of the one-step \"seasonal naive forecast method\" on the training set, which uses the actual value from the prior 30 days as the forecast: \n",
        "* F(t) = Y(t−30)\n",
        "\n",
        "MASE is scale-free error metric. So, it can be applied to scaled data without extra iteration of inverse scaling."
      ]
    },
    {
      "cell_type": "code",
      "execution_count": 16,
      "metadata": {
        "id": "jSPdjqEztRix",
        "colab": {
          "base_uri": "https://localhost:8080/"
        },
        "outputId": "f4b395b0-ea7d-49a2-e357-e5bde01eca83"
      },
      "outputs": [
        {
          "output_type": "execute_result",
          "data": {
            "text/plain": [
              "((20, 27, 48), (20, 27, 48))"
            ]
          },
          "metadata": {},
          "execution_count": 16
        }
      ],
      "source": [
        "pred.shape, y_test.shape"
      ]
    },
    {
      "cell_type": "code",
      "execution_count": 17,
      "metadata": {
        "id": "H7m2mh1I8rm6",
        "colab": {
          "base_uri": "https://localhost:8080/"
        },
        "outputId": "8df41df5-cae9-4178-d083-308b5bca4b5c"
      },
      "outputs": [
        {
          "output_type": "stream",
          "name": "stdout",
          "text": [
            "Mean absolute scaled error = 0.872\n"
          ]
        }
      ],
      "source": [
        "forecast_error = abs(pred[:, :, 0] - y_test[:, :, 0]).mean()\n",
        "mase = forecast_error / abs(y_test[:, :, 6]).mean()\n",
        "\n",
        "print(f'Mean absolute scaled error = {round(mase.mean(), 4)}')"
      ]
    },
    {
      "cell_type": "markdown",
      "metadata": {
        "id": "sYbpp1abZzxQ"
      },
      "source": [
        "__Findings:__\n",
        "\n",
        "* Out of 72 samples available for training (153 less input and output sequence length) 4 were used for validation of the model and 27 for testing. So, we had only 41 samples for training of the model and it is definately not sufficient.\n",
        "\n",
        "* To get more accurate predictions, we need to retrain the model on the full set of data. It should improve the final results."
      ]
    },
    {
      "cell_type": "markdown",
      "metadata": {
        "id": "vmXsJCA5Z0t9"
      },
      "source": [
        "## 4. Final prediction"
      ]
    },
    {
      "cell_type": "markdown",
      "metadata": {
        "id": "wpg_5giedIV5"
      },
      "source": [
        "### 4.1. Dataset"
      ]
    },
    {
      "cell_type": "code",
      "execution_count": 18,
      "metadata": {
        "id": "cN70_li0aLy2",
        "colab": {
          "base_uri": "https://localhost:8080/"
        },
        "outputId": "0bcb3eda-22e7-4ed2-fc52-bc2eb96d176d"
      },
      "outputs": [
        {
          "output_type": "execute_result",
          "data": {
            "text/plain": [
              "((1440, 54, 48), (1440, 27, 48), (20, 54, 48))"
            ]
          },
          "metadata": {},
          "execution_count": 18
        }
      ],
      "source": [
        "X_train, y_train = get_train_dataset(X, final=True)\n",
        "X_test = get_test_dataset(X, final=True)\n",
        "\n",
        "X_train.shape, y_train.shape, X_test.shape"
      ]
    },
    {
      "cell_type": "markdown",
      "metadata": {
        "id": "MC_L5BwPdCb-"
      },
      "source": [
        "### 4.2. Retraining the model on full dataset"
      ]
    },
    {
      "cell_type": "code",
      "execution_count": 19,
      "metadata": {
        "id": "jYh4p4YQaffn",
        "colab": {
          "base_uri": "https://localhost:8080/"
        },
        "outputId": "25358c0a-5501-4461-d1bb-65a82b5b5ce8"
      },
      "outputs": [
        {
          "output_type": "stream",
          "name": "stdout",
          "text": [
            "Epoch 1/60\n",
            "17/17 [==============================] - 30s 775ms/step - loss: 0.3919 - val_loss: 237.0665 - lr: 0.0300\n",
            "Epoch 2/60\n",
            "17/17 [==============================] - 10s 574ms/step - loss: 0.3259 - val_loss: 5.3379 - lr: 0.0285\n",
            "Epoch 3/60\n",
            "17/17 [==============================] - 12s 661ms/step - loss: 0.3159 - val_loss: 0.8256 - lr: 0.0271\n",
            "Epoch 4/60\n",
            "17/17 [==============================] - 12s 689ms/step - loss: 0.3096 - val_loss: 0.7145 - lr: 0.0257\n",
            "Epoch 5/60\n",
            "17/17 [==============================] - 12s 691ms/step - loss: 0.3031 - val_loss: 0.5622 - lr: 0.0244\n",
            "Epoch 6/60\n",
            "17/17 [==============================] - 10s 618ms/step - loss: 0.2940 - val_loss: 0.3916 - lr: 0.0232\n",
            "Epoch 7/60\n",
            "17/17 [==============================] - 11s 598ms/step - loss: 0.2851 - val_loss: 0.3641 - lr: 0.0221\n",
            "Epoch 8/60\n",
            "17/17 [==============================] - 11s 676ms/step - loss: 0.2754 - val_loss: 0.3637 - lr: 0.0210\n",
            "Epoch 9/60\n",
            "17/17 [==============================] - 12s 685ms/step - loss: 0.2678 - val_loss: 0.3224 - lr: 0.0199\n",
            "Epoch 10/60\n",
            "17/17 [==============================] - 11s 666ms/step - loss: 0.2607 - val_loss: 0.3071 - lr: 0.0189\n",
            "Epoch 11/60\n",
            "17/17 [==============================] - 10s 567ms/step - loss: 0.2531 - val_loss: 0.2935 - lr: 0.0180\n",
            "Epoch 12/60\n",
            "17/17 [==============================] - 12s 690ms/step - loss: 0.2469 - val_loss: 0.2717 - lr: 0.0171\n",
            "Epoch 13/60\n",
            "17/17 [==============================] - 12s 689ms/step - loss: 0.2415 - val_loss: 0.2685 - lr: 0.0162\n",
            "Epoch 14/60\n",
            "17/17 [==============================] - 12s 691ms/step - loss: 0.2363 - val_loss: 0.2433 - lr: 0.0154\n",
            "Epoch 15/60\n",
            "17/17 [==============================] - 10s 570ms/step - loss: 0.2323 - val_loss: 0.2365 - lr: 0.0146\n",
            "Epoch 16/60\n",
            "17/17 [==============================] - 11s 639ms/step - loss: 0.2283 - val_loss: 0.2288 - lr: 0.0139\n",
            "Epoch 17/60\n",
            "17/17 [==============================] - 12s 691ms/step - loss: 0.2263 - val_loss: 0.2226 - lr: 0.0132\n",
            "Epoch 18/60\n",
            "17/17 [==============================] - 12s 685ms/step - loss: 0.2225 - val_loss: 0.2169 - lr: 0.0125\n",
            "Epoch 19/60\n",
            "17/17 [==============================] - 10s 609ms/step - loss: 0.2186 - val_loss: 0.2186 - lr: 0.0119\n",
            "Epoch 20/60\n",
            "17/17 [==============================] - 10s 593ms/step - loss: 0.2166 - val_loss: 0.2116 - lr: 0.0113\n",
            "Epoch 21/60\n",
            "17/17 [==============================] - 12s 688ms/step - loss: 0.2130 - val_loss: 0.2069 - lr: 0.0108\n",
            "Epoch 22/60\n",
            "17/17 [==============================] - 11s 683ms/step - loss: 0.2096 - val_loss: 0.2046 - lr: 0.0102\n",
            "Epoch 23/60\n",
            "17/17 [==============================] - 11s 646ms/step - loss: 0.2069 - val_loss: 0.2041 - lr: 0.0097\n",
            "Epoch 24/60\n",
            "17/17 [==============================] - 10s 556ms/step - loss: 0.2041 - val_loss: 0.2018 - lr: 0.0092\n",
            "Epoch 25/60\n",
            "17/17 [==============================] - 12s 688ms/step - loss: 0.2016 - val_loss: 0.1994 - lr: 0.0088\n",
            "Epoch 26/60\n",
            "17/17 [==============================] - 12s 692ms/step - loss: 0.1985 - val_loss: 0.1979 - lr: 0.0083\n",
            "Epoch 27/60\n",
            "17/17 [==============================] - 11s 683ms/step - loss: 0.1963 - val_loss: 0.1930 - lr: 0.0079\n",
            "Epoch 28/60\n",
            "17/17 [==============================] - 10s 562ms/step - loss: 0.1918 - val_loss: 0.1891 - lr: 0.0075\n",
            "Epoch 29/60\n",
            "17/17 [==============================] - 11s 649ms/step - loss: 0.1894 - val_loss: 0.1902 - lr: 0.0071\n",
            "Epoch 30/60\n",
            "17/17 [==============================] - 12s 697ms/step - loss: 0.1884 - val_loss: 0.1856 - lr: 0.0068\n",
            "Epoch 31/60\n",
            "17/17 [==============================] - 12s 686ms/step - loss: 0.1846 - val_loss: 0.1848 - lr: 0.0064\n",
            "Epoch 32/60\n",
            "17/17 [==============================] - 11s 637ms/step - loss: 0.1827 - val_loss: 0.1837 - lr: 0.0061\n",
            "Epoch 33/60\n",
            "17/17 [==============================] - 11s 596ms/step - loss: 0.1809 - val_loss: 0.1751 - lr: 0.0058\n",
            "Epoch 34/60\n",
            "17/17 [==============================] - 12s 690ms/step - loss: 0.1788 - val_loss: 0.1699 - lr: 0.0055\n",
            "Epoch 35/60\n",
            "17/17 [==============================] - 11s 682ms/step - loss: 0.1778 - val_loss: 0.1730 - lr: 0.0052\n",
            "Epoch 36/60\n",
            "17/17 [==============================] - 11s 673ms/step - loss: 0.1757 - val_loss: 0.1668 - lr: 0.0050\n",
            "Epoch 37/60\n",
            "17/17 [==============================] - 9s 555ms/step - loss: 0.1728 - val_loss: 0.1692 - lr: 0.0047\n",
            "Epoch 38/60\n",
            "17/17 [==============================] - 11s 677ms/step - loss: 0.1720 - val_loss: 0.1670 - lr: 0.0045\n",
            "Epoch 39/60\n",
            "17/17 [==============================] - 11s 681ms/step - loss: 0.1699 - val_loss: 0.1630 - lr: 0.0043\n",
            "Epoch 40/60\n",
            "17/17 [==============================] - 11s 684ms/step - loss: 0.1683 - val_loss: 0.1648 - lr: 0.0041\n",
            "Epoch 41/60\n",
            "17/17 [==============================] - 10s 576ms/step - loss: 0.1666 - val_loss: 0.1602 - lr: 0.0039\n",
            "Epoch 42/60\n",
            "17/17 [==============================] - 11s 645ms/step - loss: 0.1658 - val_loss: 0.1591 - lr: 0.0037\n",
            "Epoch 43/60\n",
            "17/17 [==============================] - 12s 693ms/step - loss: 0.1644 - val_loss: 0.1570 - lr: 0.0035\n",
            "Epoch 44/60\n",
            "17/17 [==============================] - 12s 689ms/step - loss: 0.1646 - val_loss: 0.1573 - lr: 0.0033\n",
            "Epoch 45/60\n",
            "17/17 [==============================] - 11s 636ms/step - loss: 0.1613 - val_loss: 0.1577 - lr: 0.0031\n",
            "Epoch 46/60\n",
            "17/17 [==============================] - 10s 577ms/step - loss: 0.1607 - val_loss: 0.1547 - lr: 0.0030\n",
            "Epoch 47/60\n",
            "17/17 [==============================] - 12s 691ms/step - loss: 0.1614 - val_loss: 0.1609 - lr: 0.0028\n",
            "Epoch 48/60\n",
            "17/17 [==============================] - 11s 679ms/step - loss: 0.1618 - val_loss: 0.1550 - lr: 0.0027\n",
            "Epoch 49/60\n",
            "17/17 [==============================] - 11s 672ms/step - loss: 0.1596 - val_loss: 0.1536 - lr: 0.0026\n",
            "Epoch 50/60\n",
            "17/17 [==============================] - 9s 552ms/step - loss: 0.1578 - val_loss: 0.1533 - lr: 0.0024\n",
            "Epoch 51/60\n",
            "17/17 [==============================] - 11s 681ms/step - loss: 0.1588 - val_loss: 0.1534 - lr: 0.0023\n",
            "Epoch 52/60\n",
            "17/17 [==============================] - 12s 696ms/step - loss: 0.1569 - val_loss: 0.1507 - lr: 0.0022\n",
            "Epoch 53/60\n",
            "17/17 [==============================] - 13s 766ms/step - loss: 0.1563 - val_loss: 0.1494 - lr: 0.0021\n",
            "Epoch 54/60\n",
            "17/17 [==============================] - 11s 643ms/step - loss: 0.1555 - val_loss: 0.1494 - lr: 0.0020\n",
            "Epoch 55/60\n",
            "17/17 [==============================] - 10s 594ms/step - loss: 0.1557 - val_loss: 0.1502 - lr: 0.0019\n",
            "Epoch 56/60\n",
            "17/17 [==============================] - 11s 674ms/step - loss: 0.1560 - val_loss: 0.1481 - lr: 0.0018\n",
            "Epoch 57/60\n",
            "17/17 [==============================] - 11s 683ms/step - loss: 0.1554 - val_loss: 0.1510 - lr: 0.0017\n",
            "Epoch 58/60\n",
            "17/17 [==============================] - 11s 653ms/step - loss: 0.1548 - val_loss: 0.1487 - lr: 0.0016\n",
            "Epoch 59/60\n",
            "17/17 [==============================] - 10s 565ms/step - loss: 0.1550 - val_loss: 0.1482 - lr: 0.0015\n",
            "Epoch 60/60\n",
            "17/17 [==============================] - 12s 687ms/step - loss: 0.1547 - val_loss: 0.1482 - lr: 0.0015\n"
          ]
        }
      ],
      "source": [
        "n_shops = 20\n",
        "n_epochs = 60\n",
        "batch_size = n_shops * 4\n",
        "m = n_shops * 4\n",
        "\n",
        "model = model = get_model_TF(X_train.shape[1:])\n",
        "reduce_lr = tf.keras.callbacks.LearningRateScheduler(\n",
        "    lambda epoch: 3e-2 * 0.95 ** epoch\n",
        ")\n",
        "model.compile(\n",
        "    optimizer=tf.keras.optimizers.Adam(), \n",
        "    loss=tf.keras.losses.Huber()\n",
        ")\n",
        "history = model.fit(\n",
        "    X_train[:-m, :, :], y_train[:-m, :, :], \n",
        "    epochs=n_epochs,\n",
        "    validation_data=(X_train[-m:, :, :], y_train[-m:, :, :]),\n",
        "    batch_size=batch_size, \n",
        "    verbose=1,\n",
        "    callbacks=[reduce_lr],\n",
        "    shuffle=True,\n",
        "    workers=-1,\n",
        "    use_multiprocessing=True,    \n",
        ")"
      ]
    },
    {
      "cell_type": "markdown",
      "metadata": {
        "id": "_n6z3yuZc0Uj"
      },
      "source": [
        "### 4.3 Model evaluation on validation set"
      ]
    },
    {
      "cell_type": "code",
      "source": [
        "pred = model.predict(X_train[-m:, :, :])\n",
        "pred[:, :, 0].shape,"
      ],
      "metadata": {
        "id": "w0SzRmu52i5b",
        "colab": {
          "base_uri": "https://localhost:8080/"
        },
        "outputId": "b4ab423a-df91-4184-8632-d9c393f476f7"
      },
      "execution_count": 20,
      "outputs": [
        {
          "output_type": "stream",
          "name": "stdout",
          "text": [
            "3/3 [==============================] - 1s 63ms/step\n"
          ]
        },
        {
          "output_type": "execute_result",
          "data": {
            "text/plain": [
              "((80, 27),)"
            ]
          },
          "metadata": {},
          "execution_count": 20
        }
      ]
    },
    {
      "cell_type": "code",
      "source": [
        "forecast_error = abs(pred[:, :, 0] -  y_train[-m:, :, 0]).mean()\n",
        "mase = forecast_error / abs( y_train[-m:, :, 6]).mean()\n",
        "\n",
        "print(f'Mean absolute scaled error = {round(mase.mean(), 4)}')"
      ],
      "metadata": {
        "id": "XFTzEJ8Plx_g",
        "colab": {
          "base_uri": "https://localhost:8080/"
        },
        "outputId": "63263505-e0fc-4568-b1c1-48e185015f3e"
      },
      "execution_count": 21,
      "outputs": [
        {
          "output_type": "stream",
          "name": "stdout",
          "text": [
            "Mean absolute scaled error = 0.4995\n"
          ]
        }
      ]
    },
    {
      "cell_type": "markdown",
      "source": [
        "### 4.4. Inference"
      ],
      "metadata": {
        "id": "uK27enu6Zxri"
      }
    },
    {
      "cell_type": "code",
      "source": [
        "pred_final = model.predict(X_test)"
      ],
      "metadata": {
        "id": "tmjSKzcyETZ0",
        "colab": {
          "base_uri": "https://localhost:8080/"
        },
        "outputId": "53118cf4-e229-44c9-de30-d56b6ac5331f"
      },
      "execution_count": 22,
      "outputs": [
        {
          "output_type": "stream",
          "name": "stdout",
          "text": [
            "1/1 [==============================] - 0s 74ms/step\n"
          ]
        }
      ]
    },
    {
      "cell_type": "markdown",
      "source": [
        "### 4.5. Inverse transformation of predictions"
      ],
      "metadata": {
        "id": "RZukUO0_Z_zE"
      }
    },
    {
      "cell_type": "code",
      "source": [
        "scaler = joblib.load('data/03_primary/scaler_js.joblib')"
      ],
      "metadata": {
        "id": "FiK-WPRqEZBQ"
      },
      "execution_count": 23,
      "outputs": []
    },
    {
      "cell_type": "code",
      "source": [
        "arr_pred = pred_final[:, :, 0]\n",
        "y_pred = pd.DataFrame(arr_pred).T\n",
        "y_pred_rescaled = scaler.inv_transform(y_pred)\n",
        "y_pred_rescaled.shape\n",
        "     "
      ],
      "metadata": {
        "id": "eSowZPOUEcci",
        "colab": {
          "base_uri": "https://localhost:8080/"
        },
        "outputId": "5c6dd6eb-3192-448c-b9b2-3e40088eb16b"
      },
      "execution_count": 24,
      "outputs": [
        {
          "output_type": "execute_result",
          "data": {
            "text/plain": [
              "(27, 20)"
            ]
          },
          "metadata": {},
          "execution_count": 24
        }
      ]
    },
    {
      "cell_type": "markdown",
      "source": [
        "### 4.6. Generation of the final result"
      ],
      "metadata": {
        "id": "38-vuWRZaEdE"
      }
    },
    {
      "cell_type": "code",
      "source": [
        "predict_example = pd.read_parquet(PATH + 'data/01_raw/sample_submit.parquet.gzip')\n",
        "print(f'test.shape = {predict_example.shape}\\n')\n",
        "predict_example.head(2)"
      ],
      "metadata": {
        "id": "F2NVgCjSEfrh",
        "colab": {
          "base_uri": "https://localhost:8080/",
          "height": 149
        },
        "outputId": "542a9603-ee1f-4c07-cb10-de72187e82e4"
      },
      "execution_count": 25,
      "outputs": [
        {
          "output_type": "stream",
          "name": "stdout",
          "text": [
            "test.shape = (540, 3)\n",
            "\n"
          ]
        },
        {
          "output_type": "execute_result",
          "data": {
            "text/plain": [
              "   id          dt  target\n",
              "0   0  2017-07-01     500\n",
              "1   0  2017-07-02     500"
            ],
            "text/html": [
              "\n",
              "  <div id=\"df-276b5100-538e-446a-8817-6b1f7c3ad8ac\">\n",
              "    <div class=\"colab-df-container\">\n",
              "      <div>\n",
              "<style scoped>\n",
              "    .dataframe tbody tr th:only-of-type {\n",
              "        vertical-align: middle;\n",
              "    }\n",
              "\n",
              "    .dataframe tbody tr th {\n",
              "        vertical-align: top;\n",
              "    }\n",
              "\n",
              "    .dataframe thead th {\n",
              "        text-align: right;\n",
              "    }\n",
              "</style>\n",
              "<table border=\"1\" class=\"dataframe\">\n",
              "  <thead>\n",
              "    <tr style=\"text-align: right;\">\n",
              "      <th></th>\n",
              "      <th>id</th>\n",
              "      <th>dt</th>\n",
              "      <th>target</th>\n",
              "    </tr>\n",
              "  </thead>\n",
              "  <tbody>\n",
              "    <tr>\n",
              "      <th>0</th>\n",
              "      <td>0</td>\n",
              "      <td>2017-07-01</td>\n",
              "      <td>500</td>\n",
              "    </tr>\n",
              "    <tr>\n",
              "      <th>1</th>\n",
              "      <td>0</td>\n",
              "      <td>2017-07-02</td>\n",
              "      <td>500</td>\n",
              "    </tr>\n",
              "  </tbody>\n",
              "</table>\n",
              "</div>\n",
              "      <button class=\"colab-df-convert\" onclick=\"convertToInteractive('df-276b5100-538e-446a-8817-6b1f7c3ad8ac')\"\n",
              "              title=\"Convert this dataframe to an interactive table.\"\n",
              "              style=\"display:none;\">\n",
              "        \n",
              "  <svg xmlns=\"http://www.w3.org/2000/svg\" height=\"24px\"viewBox=\"0 0 24 24\"\n",
              "       width=\"24px\">\n",
              "    <path d=\"M0 0h24v24H0V0z\" fill=\"none\"/>\n",
              "    <path d=\"M18.56 5.44l.94 2.06.94-2.06 2.06-.94-2.06-.94-.94-2.06-.94 2.06-2.06.94zm-11 1L8.5 8.5l.94-2.06 2.06-.94-2.06-.94L8.5 2.5l-.94 2.06-2.06.94zm10 10l.94 2.06.94-2.06 2.06-.94-2.06-.94-.94-2.06-.94 2.06-2.06.94z\"/><path d=\"M17.41 7.96l-1.37-1.37c-.4-.4-.92-.59-1.43-.59-.52 0-1.04.2-1.43.59L10.3 9.45l-7.72 7.72c-.78.78-.78 2.05 0 2.83L4 21.41c.39.39.9.59 1.41.59.51 0 1.02-.2 1.41-.59l7.78-7.78 2.81-2.81c.8-.78.8-2.07 0-2.86zM5.41 20L4 18.59l7.72-7.72 1.47 1.35L5.41 20z\"/>\n",
              "  </svg>\n",
              "      </button>\n",
              "      \n",
              "  <style>\n",
              "    .colab-df-container {\n",
              "      display:flex;\n",
              "      flex-wrap:wrap;\n",
              "      gap: 12px;\n",
              "    }\n",
              "\n",
              "    .colab-df-convert {\n",
              "      background-color: #E8F0FE;\n",
              "      border: none;\n",
              "      border-radius: 50%;\n",
              "      cursor: pointer;\n",
              "      display: none;\n",
              "      fill: #1967D2;\n",
              "      height: 32px;\n",
              "      padding: 0 0 0 0;\n",
              "      width: 32px;\n",
              "    }\n",
              "\n",
              "    .colab-df-convert:hover {\n",
              "      background-color: #E2EBFA;\n",
              "      box-shadow: 0px 1px 2px rgba(60, 64, 67, 0.3), 0px 1px 3px 1px rgba(60, 64, 67, 0.15);\n",
              "      fill: #174EA6;\n",
              "    }\n",
              "\n",
              "    [theme=dark] .colab-df-convert {\n",
              "      background-color: #3B4455;\n",
              "      fill: #D2E3FC;\n",
              "    }\n",
              "\n",
              "    [theme=dark] .colab-df-convert:hover {\n",
              "      background-color: #434B5C;\n",
              "      box-shadow: 0px 1px 3px 1px rgba(0, 0, 0, 0.15);\n",
              "      filter: drop-shadow(0px 1px 2px rgba(0, 0, 0, 0.3));\n",
              "      fill: #FFFFFF;\n",
              "    }\n",
              "  </style>\n",
              "\n",
              "      <script>\n",
              "        const buttonEl =\n",
              "          document.querySelector('#df-276b5100-538e-446a-8817-6b1f7c3ad8ac button.colab-df-convert');\n",
              "        buttonEl.style.display =\n",
              "          google.colab.kernel.accessAllowed ? 'block' : 'none';\n",
              "\n",
              "        async function convertToInteractive(key) {\n",
              "          const element = document.querySelector('#df-276b5100-538e-446a-8817-6b1f7c3ad8ac');\n",
              "          const dataTable =\n",
              "            await google.colab.kernel.invokeFunction('convertToInteractive',\n",
              "                                                     [key], {});\n",
              "          if (!dataTable) return;\n",
              "\n",
              "          const docLinkHtml = 'Like what you see? Visit the ' +\n",
              "            '<a target=\"_blank\" href=https://colab.research.google.com/notebooks/data_table.ipynb>data table notebook</a>'\n",
              "            + ' to learn more about interactive tables.';\n",
              "          element.innerHTML = '';\n",
              "          dataTable['output_type'] = 'display_data';\n",
              "          await google.colab.output.renderOutput(dataTable, element);\n",
              "          const docLink = document.createElement('div');\n",
              "          docLink.innerHTML = docLinkHtml;\n",
              "          element.appendChild(docLink);\n",
              "        }\n",
              "      </script>\n",
              "    </div>\n",
              "  </div>\n",
              "  "
            ]
          },
          "metadata": {},
          "execution_count": 25
        }
      ]
    },
    {
      "cell_type": "code",
      "source": [
        "n_shops = 20\n",
        "for i in range(n_shops):\n",
        "  predict_example.loc[predict_example['id'] == i, 'target'] = y_pred_rescaled.loc[:, i]\n",
        "\n",
        "predict_example.to_parquet(\n",
        "    'data/06_model_output/sales_forecast_tf.parquet.gzip', compression='gzip'\n",
        ")\n",
        "predict_example.head()"
      ],
      "metadata": {
        "id": "BOzBIFNZEkGy",
        "colab": {
          "base_uri": "https://localhost:8080/",
          "height": 206
        },
        "outputId": "3fecb671-ac33-40e0-c2bb-4e3e27d4b8ed"
      },
      "execution_count": 26,
      "outputs": [
        {
          "output_type": "execute_result",
          "data": {
            "text/plain": [
              "   id          dt      target\n",
              "0   0  2017-07-01  682.317587\n",
              "1   0  2017-07-02  668.419487\n",
              "2   0  2017-07-03  653.722555\n",
              "3   0  2017-07-04  623.271131\n",
              "4   0  2017-07-06  771.338321"
            ],
            "text/html": [
              "\n",
              "  <div id=\"df-5b952189-f31e-447a-9c55-b656e97eff31\">\n",
              "    <div class=\"colab-df-container\">\n",
              "      <div>\n",
              "<style scoped>\n",
              "    .dataframe tbody tr th:only-of-type {\n",
              "        vertical-align: middle;\n",
              "    }\n",
              "\n",
              "    .dataframe tbody tr th {\n",
              "        vertical-align: top;\n",
              "    }\n",
              "\n",
              "    .dataframe thead th {\n",
              "        text-align: right;\n",
              "    }\n",
              "</style>\n",
              "<table border=\"1\" class=\"dataframe\">\n",
              "  <thead>\n",
              "    <tr style=\"text-align: right;\">\n",
              "      <th></th>\n",
              "      <th>id</th>\n",
              "      <th>dt</th>\n",
              "      <th>target</th>\n",
              "    </tr>\n",
              "  </thead>\n",
              "  <tbody>\n",
              "    <tr>\n",
              "      <th>0</th>\n",
              "      <td>0</td>\n",
              "      <td>2017-07-01</td>\n",
              "      <td>682.317587</td>\n",
              "    </tr>\n",
              "    <tr>\n",
              "      <th>1</th>\n",
              "      <td>0</td>\n",
              "      <td>2017-07-02</td>\n",
              "      <td>668.419487</td>\n",
              "    </tr>\n",
              "    <tr>\n",
              "      <th>2</th>\n",
              "      <td>0</td>\n",
              "      <td>2017-07-03</td>\n",
              "      <td>653.722555</td>\n",
              "    </tr>\n",
              "    <tr>\n",
              "      <th>3</th>\n",
              "      <td>0</td>\n",
              "      <td>2017-07-04</td>\n",
              "      <td>623.271131</td>\n",
              "    </tr>\n",
              "    <tr>\n",
              "      <th>4</th>\n",
              "      <td>0</td>\n",
              "      <td>2017-07-06</td>\n",
              "      <td>771.338321</td>\n",
              "    </tr>\n",
              "  </tbody>\n",
              "</table>\n",
              "</div>\n",
              "      <button class=\"colab-df-convert\" onclick=\"convertToInteractive('df-5b952189-f31e-447a-9c55-b656e97eff31')\"\n",
              "              title=\"Convert this dataframe to an interactive table.\"\n",
              "              style=\"display:none;\">\n",
              "        \n",
              "  <svg xmlns=\"http://www.w3.org/2000/svg\" height=\"24px\"viewBox=\"0 0 24 24\"\n",
              "       width=\"24px\">\n",
              "    <path d=\"M0 0h24v24H0V0z\" fill=\"none\"/>\n",
              "    <path d=\"M18.56 5.44l.94 2.06.94-2.06 2.06-.94-2.06-.94-.94-2.06-.94 2.06-2.06.94zm-11 1L8.5 8.5l.94-2.06 2.06-.94-2.06-.94L8.5 2.5l-.94 2.06-2.06.94zm10 10l.94 2.06.94-2.06 2.06-.94-2.06-.94-.94-2.06-.94 2.06-2.06.94z\"/><path d=\"M17.41 7.96l-1.37-1.37c-.4-.4-.92-.59-1.43-.59-.52 0-1.04.2-1.43.59L10.3 9.45l-7.72 7.72c-.78.78-.78 2.05 0 2.83L4 21.41c.39.39.9.59 1.41.59.51 0 1.02-.2 1.41-.59l7.78-7.78 2.81-2.81c.8-.78.8-2.07 0-2.86zM5.41 20L4 18.59l7.72-7.72 1.47 1.35L5.41 20z\"/>\n",
              "  </svg>\n",
              "      </button>\n",
              "      \n",
              "  <style>\n",
              "    .colab-df-container {\n",
              "      display:flex;\n",
              "      flex-wrap:wrap;\n",
              "      gap: 12px;\n",
              "    }\n",
              "\n",
              "    .colab-df-convert {\n",
              "      background-color: #E8F0FE;\n",
              "      border: none;\n",
              "      border-radius: 50%;\n",
              "      cursor: pointer;\n",
              "      display: none;\n",
              "      fill: #1967D2;\n",
              "      height: 32px;\n",
              "      padding: 0 0 0 0;\n",
              "      width: 32px;\n",
              "    }\n",
              "\n",
              "    .colab-df-convert:hover {\n",
              "      background-color: #E2EBFA;\n",
              "      box-shadow: 0px 1px 2px rgba(60, 64, 67, 0.3), 0px 1px 3px 1px rgba(60, 64, 67, 0.15);\n",
              "      fill: #174EA6;\n",
              "    }\n",
              "\n",
              "    [theme=dark] .colab-df-convert {\n",
              "      background-color: #3B4455;\n",
              "      fill: #D2E3FC;\n",
              "    }\n",
              "\n",
              "    [theme=dark] .colab-df-convert:hover {\n",
              "      background-color: #434B5C;\n",
              "      box-shadow: 0px 1px 3px 1px rgba(0, 0, 0, 0.15);\n",
              "      filter: drop-shadow(0px 1px 2px rgba(0, 0, 0, 0.3));\n",
              "      fill: #FFFFFF;\n",
              "    }\n",
              "  </style>\n",
              "\n",
              "      <script>\n",
              "        const buttonEl =\n",
              "          document.querySelector('#df-5b952189-f31e-447a-9c55-b656e97eff31 button.colab-df-convert');\n",
              "        buttonEl.style.display =\n",
              "          google.colab.kernel.accessAllowed ? 'block' : 'none';\n",
              "\n",
              "        async function convertToInteractive(key) {\n",
              "          const element = document.querySelector('#df-5b952189-f31e-447a-9c55-b656e97eff31');\n",
              "          const dataTable =\n",
              "            await google.colab.kernel.invokeFunction('convertToInteractive',\n",
              "                                                     [key], {});\n",
              "          if (!dataTable) return;\n",
              "\n",
              "          const docLinkHtml = 'Like what you see? Visit the ' +\n",
              "            '<a target=\"_blank\" href=https://colab.research.google.com/notebooks/data_table.ipynb>data table notebook</a>'\n",
              "            + ' to learn more about interactive tables.';\n",
              "          element.innerHTML = '';\n",
              "          dataTable['output_type'] = 'display_data';\n",
              "          await google.colab.output.renderOutput(dataTable, element);\n",
              "          const docLink = document.createElement('div');\n",
              "          docLink.innerHTML = docLinkHtml;\n",
              "          element.appendChild(docLink);\n",
              "        }\n",
              "      </script>\n",
              "    </div>\n",
              "  </div>\n",
              "  "
            ]
          },
          "metadata": {},
          "execution_count": 26
        }
      ]
    },
    {
      "cell_type": "markdown",
      "metadata": {
        "id": "k5l6afUrb7Iy"
      },
      "source": [
        "## 5. Findings"
      ]
    },
    {
      "cell_type": "markdown",
      "metadata": {
        "id": "4I1SyQe3b_ht"
      },
      "source": [
        "Transformer model has not outperformed LSTM model. There is not enough data for transformers. The use of transformers could be justified on the longer time sequences."
      ]
    }
  ],
  "metadata": {
    "colab": {
      "provenance": [],
      "authorship_tag": "ABX9TyPMkVRFKg5OZz9WKh4rYq3p",
      "include_colab_link": true
    },
    "gpuClass": "standard",
    "kernelspec": {
      "display_name": "Python 3",
      "name": "python3"
    },
    "language_info": {
      "name": "python"
    },
    "accelerator": "GPU"
  },
  "nbformat": 4,
  "nbformat_minor": 0
}