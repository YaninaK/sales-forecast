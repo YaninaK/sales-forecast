{
  "cells": [
    {
      "cell_type": "markdown",
      "metadata": {
        "id": "view-in-github",
        "colab_type": "text"
      },
      "source": [
        "<a href=\"https://colab.research.google.com/github/YaninaK/sales-forecast/blob/main/notebooks/04_Transformer_model.ipynb\" target=\"_parent\"><img src=\"https://colab.research.google.com/assets/colab-badge.svg\" alt=\"Open In Colab\"/></a>"
      ]
    },
    {
      "cell_type": "markdown",
      "metadata": {
        "id": "yw1w9JFTOyl0"
      },
      "source": [
        "# Sales forecast for 20 stores for 31 days' period.\n",
        "\n",
        "## Transformer model"
      ]
    },
    {
      "cell_type": "markdown",
      "metadata": {
        "id": "0ntOLUaWO_Zl"
      },
      "source": [
        "[EDA: omissions, clustering & Fourier transformations](\n",
        "https://colab.research.google.com/drive/1udCgyEt7lusSY43lnduVDEnZvdvVEt9h?usp=sharing)\n",
        "\n",
        "[Feature extraction](https://colab.research.google.com/drive/1H-vQoHnycp62YuZD1xrmIDjufpDu7ig3?usp=sharing)"
      ]
    },
    {
      "cell_type": "code",
      "execution_count": 1,
      "metadata": {
        "colab": {
          "base_uri": "https://localhost:8080/"
        },
        "id": "NP9i317dO3-E",
        "outputId": "21b8eba0-73dc-43fe-d76a-208560ad451a"
      },
      "outputs": [
        {
          "output_type": "stream",
          "name": "stdout",
          "text": [
            "Mounted at /content/drive\n"
          ]
        }
      ],
      "source": [
        "from google.colab import drive\n",
        "drive.mount('/content/drive')"
      ]
    },
    {
      "cell_type": "code",
      "execution_count": 2,
      "metadata": {
        "colab": {
          "base_uri": "https://localhost:8080/"
        },
        "id": "NOaainxsPvh1",
        "outputId": "f46a3532-7923-4bda-b8df-92cc011dbbfe"
      },
      "outputs": [
        {
          "output_type": "stream",
          "name": "stdout",
          "text": [
            "\u001b[2K     \u001b[90m━━━━━━━━━━━━━━━━━━━━━━━━━━━━━━━━━━━━━━━\u001b[0m \u001b[32m358.2/358.2 KB\u001b[0m \u001b[31m6.7 MB/s\u001b[0m eta \u001b[36m0:00:00\u001b[0m\n",
            "\u001b[2K     \u001b[90m━━━━━━━━━━━━━━━━━━━━━━━━━━━━━━━━━━━━━━━━\u001b[0m \u001b[32m98.2/98.2 KB\u001b[0m \u001b[31m8.4 MB/s\u001b[0m eta \u001b[36m0:00:00\u001b[0m\n",
            "\u001b[2K     \u001b[90m━━━━━━━━━━━━━━━━━━━━━━━━━━━━━━━━━━━━━━\u001b[0m \u001b[32m136.2/136.2 KB\u001b[0m \u001b[31m12.5 MB/s\u001b[0m eta \u001b[36m0:00:00\u001b[0m\n",
            "\u001b[?25h"
          ]
        }
      ],
      "source": [
        "!git clone -q https://github.com/YaninaK/sales-forecast.git\n",
        "!pip install -r sales-forecast/requirements_Colab.txt -q "
      ]
    },
    {
      "cell_type": "code",
      "execution_count": 3,
      "metadata": {
        "colab": {
          "base_uri": "https://localhost:8080/"
        },
        "id": "oGpZTC0tP0QI",
        "outputId": "5b59ea65-d903-49b4-a314-dec85487ea5c"
      },
      "outputs": [
        {
          "output_type": "stream",
          "name": "stdout",
          "text": [
            "/content/sales-forecast\n"
          ]
        }
      ],
      "source": [
        "%cd sales-forecast"
      ]
    },
    {
      "cell_type": "code",
      "execution_count": 4,
      "metadata": {
        "id": "9JdDC3FUP1J7"
      },
      "outputs": [],
      "source": [
        "import sys\n",
        "import os\n",
        "\n",
        "sys.path.append(os.getcwd())\n",
        "sys.path.append(os.path.join(os.getcwd(), \"src\", \"sales_forecast\"))"
      ]
    },
    {
      "cell_type": "code",
      "execution_count": 5,
      "metadata": {
        "id": "9IzhaR8jP302"
      },
      "outputs": [],
      "source": [
        "import random\n",
        "import pandas as pd\n",
        "import numpy as np\n",
        "import tensorflow as tf\n",
        "import joblib\n",
        "\n",
        "from data.make_dataset import load_data\n",
        "from src.sales_forecast.models import train\n",
        "\n",
        "from data.johnson_su_transformation import JohnsonSU\n",
        "from data.train_test_datasets import get_train_dataset, get_test_dataset\n",
        "from models.model_TF import get_model_TF"
      ]
    },
    {
      "cell_type": "code",
      "execution_count": 6,
      "metadata": {
        "id": "1htDECSWLpcT"
      },
      "outputs": [],
      "source": [
        "import warnings\n",
        "warnings.filterwarnings('ignore')"
      ]
    },
    {
      "cell_type": "code",
      "execution_count": 7,
      "metadata": {
        "id": "llog_mfTQIGB"
      },
      "outputs": [],
      "source": [
        "PATH = '/content/drive/MyDrive/ML_projects/01_Time_series/sales_forecast/'\n",
        "DEFAULT_RANDOM_SEED = 3"
      ]
    },
    {
      "cell_type": "code",
      "execution_count": 8,
      "metadata": {
        "id": "Q9iGOsyiQLA8"
      },
      "outputs": [],
      "source": [
        "def set_all_seeds(seed=DEFAULT_RANDOM_SEED):\n",
        "  random.seed(seed)\n",
        "  os.environ['PYTHONHASHSEED'] = str(seed)\n",
        "  np.random.seed(seed)\n",
        "  tf.random.set_seed(seed)\n",
        "  \n",
        "set_all_seeds()"
      ]
    },
    {
      "cell_type": "markdown",
      "metadata": {
        "id": "6FplTdRyQ4kR"
      },
      "source": [
        "## 1. Data ingestion"
      ]
    },
    {
      "cell_type": "code",
      "execution_count": 9,
      "metadata": {
        "colab": {
          "base_uri": "https://localhost:8080/",
          "height": 149
        },
        "id": "q20ClbC4Kzr7",
        "outputId": "a4ed4c4c-0451-4325-a35e-e012003ed010"
      },
      "outputs": [
        {
          "output_type": "stream",
          "name": "stdout",
          "text": [
            "data.shape = (8230, 3)\n",
            "\n"
          ]
        },
        {
          "output_type": "execute_result",
          "data": {
            "text/plain": [
              "   id          dt  target\n",
              "0   0  2016-01-02   747.8\n",
              "1   0  2016-01-03   681.2"
            ],
            "text/html": [
              "\n",
              "  <div id=\"df-53f92791-d739-434f-a0be-bd1d5c8e22ff\">\n",
              "    <div class=\"colab-df-container\">\n",
              "      <div>\n",
              "<style scoped>\n",
              "    .dataframe tbody tr th:only-of-type {\n",
              "        vertical-align: middle;\n",
              "    }\n",
              "\n",
              "    .dataframe tbody tr th {\n",
              "        vertical-align: top;\n",
              "    }\n",
              "\n",
              "    .dataframe thead th {\n",
              "        text-align: right;\n",
              "    }\n",
              "</style>\n",
              "<table border=\"1\" class=\"dataframe\">\n",
              "  <thead>\n",
              "    <tr style=\"text-align: right;\">\n",
              "      <th></th>\n",
              "      <th>id</th>\n",
              "      <th>dt</th>\n",
              "      <th>target</th>\n",
              "    </tr>\n",
              "  </thead>\n",
              "  <tbody>\n",
              "    <tr>\n",
              "      <th>0</th>\n",
              "      <td>0</td>\n",
              "      <td>2016-01-02</td>\n",
              "      <td>747.8</td>\n",
              "    </tr>\n",
              "    <tr>\n",
              "      <th>1</th>\n",
              "      <td>0</td>\n",
              "      <td>2016-01-03</td>\n",
              "      <td>681.2</td>\n",
              "    </tr>\n",
              "  </tbody>\n",
              "</table>\n",
              "</div>\n",
              "      <button class=\"colab-df-convert\" onclick=\"convertToInteractive('df-53f92791-d739-434f-a0be-bd1d5c8e22ff')\"\n",
              "              title=\"Convert this dataframe to an interactive table.\"\n",
              "              style=\"display:none;\">\n",
              "        \n",
              "  <svg xmlns=\"http://www.w3.org/2000/svg\" height=\"24px\"viewBox=\"0 0 24 24\"\n",
              "       width=\"24px\">\n",
              "    <path d=\"M0 0h24v24H0V0z\" fill=\"none\"/>\n",
              "    <path d=\"M18.56 5.44l.94 2.06.94-2.06 2.06-.94-2.06-.94-.94-2.06-.94 2.06-2.06.94zm-11 1L8.5 8.5l.94-2.06 2.06-.94-2.06-.94L8.5 2.5l-.94 2.06-2.06.94zm10 10l.94 2.06.94-2.06 2.06-.94-2.06-.94-.94-2.06-.94 2.06-2.06.94z\"/><path d=\"M17.41 7.96l-1.37-1.37c-.4-.4-.92-.59-1.43-.59-.52 0-1.04.2-1.43.59L10.3 9.45l-7.72 7.72c-.78.78-.78 2.05 0 2.83L4 21.41c.39.39.9.59 1.41.59.51 0 1.02-.2 1.41-.59l7.78-7.78 2.81-2.81c.8-.78.8-2.07 0-2.86zM5.41 20L4 18.59l7.72-7.72 1.47 1.35L5.41 20z\"/>\n",
              "  </svg>\n",
              "      </button>\n",
              "      \n",
              "  <style>\n",
              "    .colab-df-container {\n",
              "      display:flex;\n",
              "      flex-wrap:wrap;\n",
              "      gap: 12px;\n",
              "    }\n",
              "\n",
              "    .colab-df-convert {\n",
              "      background-color: #E8F0FE;\n",
              "      border: none;\n",
              "      border-radius: 50%;\n",
              "      cursor: pointer;\n",
              "      display: none;\n",
              "      fill: #1967D2;\n",
              "      height: 32px;\n",
              "      padding: 0 0 0 0;\n",
              "      width: 32px;\n",
              "    }\n",
              "\n",
              "    .colab-df-convert:hover {\n",
              "      background-color: #E2EBFA;\n",
              "      box-shadow: 0px 1px 2px rgba(60, 64, 67, 0.3), 0px 1px 3px 1px rgba(60, 64, 67, 0.15);\n",
              "      fill: #174EA6;\n",
              "    }\n",
              "\n",
              "    [theme=dark] .colab-df-convert {\n",
              "      background-color: #3B4455;\n",
              "      fill: #D2E3FC;\n",
              "    }\n",
              "\n",
              "    [theme=dark] .colab-df-convert:hover {\n",
              "      background-color: #434B5C;\n",
              "      box-shadow: 0px 1px 3px 1px rgba(0, 0, 0, 0.15);\n",
              "      filter: drop-shadow(0px 1px 2px rgba(0, 0, 0, 0.3));\n",
              "      fill: #FFFFFF;\n",
              "    }\n",
              "  </style>\n",
              "\n",
              "      <script>\n",
              "        const buttonEl =\n",
              "          document.querySelector('#df-53f92791-d739-434f-a0be-bd1d5c8e22ff button.colab-df-convert');\n",
              "        buttonEl.style.display =\n",
              "          google.colab.kernel.accessAllowed ? 'block' : 'none';\n",
              "\n",
              "        async function convertToInteractive(key) {\n",
              "          const element = document.querySelector('#df-53f92791-d739-434f-a0be-bd1d5c8e22ff');\n",
              "          const dataTable =\n",
              "            await google.colab.kernel.invokeFunction('convertToInteractive',\n",
              "                                                     [key], {});\n",
              "          if (!dataTable) return;\n",
              "\n",
              "          const docLinkHtml = 'Like what you see? Visit the ' +\n",
              "            '<a target=\"_blank\" href=https://colab.research.google.com/notebooks/data_table.ipynb>data table notebook</a>'\n",
              "            + ' to learn more about interactive tables.';\n",
              "          element.innerHTML = '';\n",
              "          dataTable['output_type'] = 'display_data';\n",
              "          await google.colab.output.renderOutput(dataTable, element);\n",
              "          const docLink = document.createElement('div');\n",
              "          docLink.innerHTML = docLinkHtml;\n",
              "          element.appendChild(docLink);\n",
              "        }\n",
              "      </script>\n",
              "    </div>\n",
              "  </div>\n",
              "  "
            ]
          },
          "metadata": {},
          "execution_count": 9
        }
      ],
      "source": [
        "data = load_data(PATH)\n",
        "\n",
        "print(f'data.shape = {data.shape}\\n')\n",
        "data.head(2)"
      ]
    },
    {
      "cell_type": "markdown",
      "metadata": {
        "id": "BWN9VH40WEMK"
      },
      "source": [
        "## 2. Data preprocessing pipeline"
      ]
    },
    {
      "cell_type": "code",
      "execution_count": 10,
      "metadata": {
        "colab": {
          "base_uri": "https://localhost:8080/"
        },
        "id": "uRbHm4snLIYS",
        "outputId": "8d69c322-350d-4f40-df67-61f73f366d9e"
      },
      "outputs": [
        {
          "output_type": "stream",
          "name": "stdout",
          "text": [
            "Number of outliers = 8\n"
          ]
        },
        {
          "output_type": "execute_result",
          "data": {
            "text/plain": [
              "(153, 20, 40)"
            ]
          },
          "metadata": {},
          "execution_count": 10
        }
      ],
      "source": [
        "regenerate = True\n",
        "if regenerate:\n",
        "  X = train.data_preprocessing_pipeline(data)\n",
        "else:\n",
        "  X = np.load('data/04_feature/train_dataset.npy')\n",
        "\n",
        "X.shape"
      ]
    },
    {
      "cell_type": "markdown",
      "metadata": {
        "id": "a5yhOwIBedyY"
      },
      "source": [
        "## 3. Transformer model"
      ]
    },
    {
      "cell_type": "markdown",
      "metadata": {
        "id": "eqH3rDIHig3N"
      },
      "source": [
        "### 3.1 Train dataset"
      ]
    },
    {
      "cell_type": "code",
      "source": [
        "X_train, y_train = get_train_dataset(X)\n",
        "X_train.shape, y_train.shape"
      ],
      "metadata": {
        "colab": {
          "base_uri": "https://localhost:8080/"
        },
        "id": "a6RWONYgWN9q",
        "outputId": "fc7aa6cb-3d15-439a-96da-48e9cfe14001"
      },
      "execution_count": 11,
      "outputs": [
        {
          "output_type": "execute_result",
          "data": {
            "text/plain": [
              "((900, 54, 40), (900, 27, 40))"
            ]
          },
          "metadata": {},
          "execution_count": 11
        }
      ]
    },
    {
      "cell_type": "markdown",
      "source": [
        "### 3.2 Training of the model"
      ],
      "metadata": {
        "id": "Ce4QTKenSRy-"
      }
    },
    {
      "cell_type": "code",
      "source": [
        "model = get_model_TF(X_train.shape[1:])\n",
        "model.summary()"
      ],
      "metadata": {
        "colab": {
          "base_uri": "https://localhost:8080/"
        },
        "id": "H7HhrBm3RRyw",
        "outputId": "ac33a1f7-3275-4fdd-c697-025ea403e429"
      },
      "execution_count": 12,
      "outputs": [
        {
          "output_type": "stream",
          "name": "stdout",
          "text": [
            "Model: \"model\"\n",
            "__________________________________________________________________________________________________\n",
            " Layer (type)                   Output Shape         Param #     Connected to                     \n",
            "==================================================================================================\n",
            " input_1 (InputLayer)           [(None, 54, 40)]     0           []                               \n",
            "                                                                                                  \n",
            " layer_normalization (LayerNorm  (None, 54, 40)      80          ['input_1[0][0]']                \n",
            " alization)                                                                                       \n",
            "                                                                                                  \n",
            " transformer_block (Transformer  (None, 54, 40)      43846       ['layer_normalization[0][0]']    \n",
            " Block)                                                                                           \n",
            "                                                                                                  \n",
            " tf.math.multiply (TFOpLambda)  (None, 54, 40)       0           ['transformer_block[0][0]']      \n",
            "                                                                                                  \n",
            " tf.math.multiply_1 (TFOpLambda  (None, 54, 40)      0           ['layer_normalization[0][0]']    \n",
            " )                                                                                                \n",
            "                                                                                                  \n",
            " tf.__operators__.add (TFOpLamb  (None, 54, 40)      0           ['tf.math.multiply[0][0]',       \n",
            " da)                                                              'tf.math.multiply_1[0][0]']     \n",
            "                                                                                                  \n",
            " transformer_block_1 (Transform  (None, 54, 40)      43846       ['tf.__operators__.add[0][0]']   \n",
            " erBlock)                                                                                         \n",
            "                                                                                                  \n",
            " tf.math.multiply_2 (TFOpLambda  (None, 54, 40)      0           ['transformer_block_1[0][0]']    \n",
            " )                                                                                                \n",
            "                                                                                                  \n",
            " tf.math.multiply_3 (TFOpLambda  (None, 54, 40)      0           ['tf.__operators__.add[0][0]']   \n",
            " )                                                                                                \n",
            "                                                                                                  \n",
            " tf.__operators__.add_1 (TFOpLa  (None, 54, 40)      0           ['tf.math.multiply_2[0][0]',     \n",
            " mbda)                                                            'tf.math.multiply_3[0][0]']     \n",
            "                                                                                                  \n",
            " transformer_block_2 (Transform  (None, 54, 40)      43846       ['tf.__operators__.add_1[0][0]'] \n",
            " erBlock)                                                                                         \n",
            "                                                                                                  \n",
            " tf.math.multiply_4 (TFOpLambda  (None, 54, 40)      0           ['transformer_block_2[0][0]']    \n",
            " )                                                                                                \n",
            "                                                                                                  \n",
            " tf.math.multiply_5 (TFOpLambda  (None, 54, 40)      0           ['tf.__operators__.add_1[0][0]'] \n",
            " )                                                                                                \n",
            "                                                                                                  \n",
            " tf.__operators__.add_2 (TFOpLa  (None, 54, 40)      0           ['tf.math.multiply_4[0][0]',     \n",
            " mbda)                                                            'tf.math.multiply_5[0][0]']     \n",
            "                                                                                                  \n",
            " transformer_block_3 (Transform  (None, 54, 40)      43846       ['tf.__operators__.add_2[0][0]'] \n",
            " erBlock)                                                                                         \n",
            "                                                                                                  \n",
            " tf.math.multiply_6 (TFOpLambda  (None, 54, 40)      0           ['transformer_block_3[0][0]']    \n",
            " )                                                                                                \n",
            "                                                                                                  \n",
            " tf.math.multiply_7 (TFOpLambda  (None, 54, 40)      0           ['tf.__operators__.add_2[0][0]'] \n",
            " )                                                                                                \n",
            "                                                                                                  \n",
            " tf.__operators__.add_3 (TFOpLa  (None, 54, 40)      0           ['tf.math.multiply_6[0][0]',     \n",
            " mbda)                                                            'tf.math.multiply_7[0][0]']     \n",
            "                                                                                                  \n",
            " transformer_block_4 (Transform  (None, 54, 40)      43846       ['tf.__operators__.add_3[0][0]'] \n",
            " erBlock)                                                                                         \n",
            "                                                                                                  \n",
            " tf.math.multiply_8 (TFOpLambda  (None, 54, 40)      0           ['transformer_block_4[0][0]']    \n",
            " )                                                                                                \n",
            "                                                                                                  \n",
            " tf.math.multiply_9 (TFOpLambda  (None, 54, 40)      0           ['tf.__operators__.add_3[0][0]'] \n",
            " )                                                                                                \n",
            "                                                                                                  \n",
            " tf.__operators__.add_4 (TFOpLa  (None, 54, 40)      0           ['tf.math.multiply_8[0][0]',     \n",
            " mbda)                                                            'tf.math.multiply_9[0][0]']     \n",
            "                                                                                                  \n",
            " transformer_block_5 (Transform  (None, 54, 40)      43846       ['tf.__operators__.add_4[0][0]'] \n",
            " erBlock)                                                                                         \n",
            "                                                                                                  \n",
            " tf.math.multiply_10 (TFOpLambd  (None, 54, 40)      0           ['transformer_block_5[0][0]']    \n",
            " a)                                                                                               \n",
            "                                                                                                  \n",
            " tf.math.multiply_11 (TFOpLambd  (None, 54, 40)      0           ['tf.__operators__.add_4[0][0]'] \n",
            " a)                                                                                               \n",
            "                                                                                                  \n",
            " tf.__operators__.add_5 (TFOpLa  (None, 54, 40)      0           ['tf.math.multiply_10[0][0]',    \n",
            " mbda)                                                            'tf.math.multiply_11[0][0]']    \n",
            "                                                                                                  \n",
            " flatten (Flatten)              (None, 2160)         0           ['tf.__operators__.add_5[0][0]'] \n",
            "                                                                                                  \n",
            " repeat_vector (RepeatVector)   (None, 27, 2160)     0           ['flatten[0][0]']                \n",
            "                                                                                                  \n",
            " time_distributed (TimeDistribu  (None, 27, 40)      86440       ['repeat_vector[0][0]']          \n",
            " ted)                                                                                             \n",
            "                                                                                                  \n",
            " transformer_block_6 (Transform  (None, 27, 40)      43846       ['time_distributed[0][0]']       \n",
            " erBlock)                                                                                         \n",
            "                                                                                                  \n",
            " tf.math.multiply_12 (TFOpLambd  (None, 27, 40)      0           ['transformer_block_6[0][0]']    \n",
            " a)                                                                                               \n",
            "                                                                                                  \n",
            " tf.math.multiply_13 (TFOpLambd  (None, 27, 40)      0           ['time_distributed[0][0]']       \n",
            " a)                                                                                               \n",
            "                                                                                                  \n",
            " tf.__operators__.add_6 (TFOpLa  (None, 27, 40)      0           ['tf.math.multiply_12[0][0]',    \n",
            " mbda)                                                            'tf.math.multiply_13[0][0]']    \n",
            "                                                                                                  \n",
            " transformer_block_7 (Transform  (None, 27, 40)      43846       ['tf.__operators__.add_6[0][0]'] \n",
            " erBlock)                                                                                         \n",
            "                                                                                                  \n",
            " tf.math.multiply_14 (TFOpLambd  (None, 27, 40)      0           ['transformer_block_7[0][0]']    \n",
            " a)                                                                                               \n",
            "                                                                                                  \n",
            " tf.math.multiply_15 (TFOpLambd  (None, 27, 40)      0           ['tf.__operators__.add_6[0][0]'] \n",
            " a)                                                                                               \n",
            "                                                                                                  \n",
            " tf.__operators__.add_7 (TFOpLa  (None, 27, 40)      0           ['tf.math.multiply_14[0][0]',    \n",
            " mbda)                                                            'tf.math.multiply_15[0][0]']    \n",
            "                                                                                                  \n",
            " transformer_block_8 (Transform  (None, 27, 40)      43846       ['tf.__operators__.add_7[0][0]'] \n",
            " erBlock)                                                                                         \n",
            "                                                                                                  \n",
            " tf.math.multiply_16 (TFOpLambd  (None, 27, 40)      0           ['transformer_block_8[0][0]']    \n",
            " a)                                                                                               \n",
            "                                                                                                  \n",
            " tf.math.multiply_17 (TFOpLambd  (None, 27, 40)      0           ['tf.__operators__.add_7[0][0]'] \n",
            " a)                                                                                               \n",
            "                                                                                                  \n",
            " tf.__operators__.add_8 (TFOpLa  (None, 27, 40)      0           ['tf.math.multiply_16[0][0]',    \n",
            " mbda)                                                            'tf.math.multiply_17[0][0]']    \n",
            "                                                                                                  \n",
            " transformer_block_9 (Transform  (None, 27, 40)      43846       ['tf.__operators__.add_8[0][0]'] \n",
            " erBlock)                                                                                         \n",
            "                                                                                                  \n",
            " tf.math.multiply_18 (TFOpLambd  (None, 27, 40)      0           ['transformer_block_9[0][0]']    \n",
            " a)                                                                                               \n",
            "                                                                                                  \n",
            " tf.math.multiply_19 (TFOpLambd  (None, 27, 40)      0           ['tf.__operators__.add_8[0][0]'] \n",
            " a)                                                                                               \n",
            "                                                                                                  \n",
            " tf.__operators__.add_9 (TFOpLa  (None, 27, 40)      0           ['tf.math.multiply_18[0][0]',    \n",
            " mbda)                                                            'tf.math.multiply_19[0][0]']    \n",
            "                                                                                                  \n",
            " transformer_block_10 (Transfor  (None, 27, 40)      43846       ['tf.__operators__.add_9[0][0]'] \n",
            " merBlock)                                                                                        \n",
            "                                                                                                  \n",
            " tf.math.multiply_20 (TFOpLambd  (None, 27, 40)      0           ['transformer_block_10[0][0]']   \n",
            " a)                                                                                               \n",
            "                                                                                                  \n",
            " tf.math.multiply_21 (TFOpLambd  (None, 27, 40)      0           ['tf.__operators__.add_9[0][0]'] \n",
            " a)                                                                                               \n",
            "                                                                                                  \n",
            " tf.__operators__.add_10 (TFOpL  (None, 27, 40)      0           ['tf.math.multiply_20[0][0]',    \n",
            " ambda)                                                           'tf.math.multiply_21[0][0]']    \n",
            "                                                                                                  \n",
            " transformer_block_11 (Transfor  (None, 27, 40)      43846       ['tf.__operators__.add_10[0][0]']\n",
            " merBlock)                                                                                        \n",
            "                                                                                                  \n",
            " tf.math.multiply_22 (TFOpLambd  (None, 27, 40)      0           ['transformer_block_11[0][0]']   \n",
            " a)                                                                                               \n",
            "                                                                                                  \n",
            " tf.math.multiply_23 (TFOpLambd  (None, 27, 40)      0           ['tf.__operators__.add_10[0][0]']\n",
            " a)                                                                                               \n",
            "                                                                                                  \n",
            " tf.__operators__.add_11 (TFOpL  (None, 27, 40)      0           ['tf.math.multiply_22[0][0]',    \n",
            " ambda)                                                           'tf.math.multiply_23[0][0]']    \n",
            "                                                                                                  \n",
            "==================================================================================================\n",
            "Total params: 612,672\n",
            "Trainable params: 610,752\n",
            "Non-trainable params: 1,920\n",
            "__________________________________________________________________________________________________\n"
          ]
        }
      ]
    },
    {
      "cell_type": "code",
      "source": [
        "n_shops = 20\n",
        "n_epochs = 20\n",
        "batch_size = n_shops * 4\n",
        "m = n_shops * 4\n",
        "\n",
        "reduce_lr = tf.keras.callbacks.LearningRateScheduler(\n",
        "    lambda epoch: 3e-2 * 0.95 ** epoch\n",
        ")\n",
        "model.compile(\n",
        "    optimizer=tf.keras.optimizers.Adam(),\n",
        "    loss=tf.keras.losses.Huber()\n",
        ")\n",
        "history = model.fit(\n",
        "    X_train[:-m, :, :], y_train[:-m, :, :], \n",
        "    epochs=n_epochs,\n",
        "    validation_data=(X_train[-m:, :, :], y_train[-m:, :, :]),\n",
        "    batch_size=batch_size, \n",
        "    verbose=1,\n",
        "    callbacks=[reduce_lr],\n",
        "    shuffle=True,\n",
        "    workers=-1,\n",
        "    use_multiprocessing=True\n",
        ")"
      ],
      "metadata": {
        "colab": {
          "base_uri": "https://localhost:8080/"
        },
        "id": "0eaYOlXkueJE",
        "outputId": "a509b9f7-1a76-427d-c020-3fc8a7444a9d"
      },
      "execution_count": 13,
      "outputs": [
        {
          "output_type": "stream",
          "name": "stdout",
          "text": [
            "Epoch 1/20\n",
            "11/11 [==============================] - 58s 1s/step - loss: 0.8359 - val_loss: 1874.0446 - lr: 0.0300\n",
            "Epoch 2/20\n",
            "11/11 [==============================] - 10s 934ms/step - loss: 0.6345 - val_loss: 13.3830 - lr: 0.0285\n",
            "Epoch 3/20\n",
            "11/11 [==============================] - 13s 1s/step - loss: 0.5506 - val_loss: 1.4645 - lr: 0.0271\n",
            "Epoch 4/20\n",
            "11/11 [==============================] - 13s 1s/step - loss: 0.4867 - val_loss: 0.5317 - lr: 0.0257\n",
            "Epoch 5/20\n",
            "11/11 [==============================] - 13s 1s/step - loss: 0.4498 - val_loss: 0.4886 - lr: 0.0244\n",
            "Epoch 6/20\n",
            "11/11 [==============================] - 13s 1s/step - loss: 0.4350 - val_loss: 0.5439 - lr: 0.0232\n",
            "Epoch 7/20\n",
            "11/11 [==============================] - 12s 1s/step - loss: 0.4135 - val_loss: 0.4810 - lr: 0.0221\n",
            "Epoch 8/20\n",
            "11/11 [==============================] - 11s 958ms/step - loss: 0.4018 - val_loss: 0.4889 - lr: 0.0210\n",
            "Epoch 9/20\n",
            "11/11 [==============================] - 12s 1s/step - loss: 0.3918 - val_loss: 0.4698 - lr: 0.0199\n",
            "Epoch 10/20\n",
            "11/11 [==============================] - 13s 1s/step - loss: 0.3862 - val_loss: 0.4393 - lr: 0.0189\n",
            "Epoch 11/20\n",
            "11/11 [==============================] - 13s 1s/step - loss: 0.3816 - val_loss: 0.4290 - lr: 0.0180\n",
            "Epoch 12/20\n",
            "11/11 [==============================] - 12s 1s/step - loss: 0.3791 - val_loss: 0.4219 - lr: 0.0171\n",
            "Epoch 13/20\n",
            "11/11 [==============================] - 12s 1s/step - loss: 0.3778 - val_loss: 0.4131 - lr: 0.0162\n",
            "Epoch 14/20\n",
            "11/11 [==============================] - 11s 965ms/step - loss: 0.3772 - val_loss: 0.4144 - lr: 0.0154\n",
            "Epoch 15/20\n",
            "11/11 [==============================] - 13s 1s/step - loss: 0.3760 - val_loss: 0.4096 - lr: 0.0146\n",
            "Epoch 16/20\n",
            "11/11 [==============================] - 13s 1s/step - loss: 0.3753 - val_loss: 0.4124 - lr: 0.0139\n",
            "Epoch 17/20\n",
            "11/11 [==============================] - 13s 1s/step - loss: 0.3739 - val_loss: 0.4103 - lr: 0.0132\n",
            "Epoch 18/20\n",
            "11/11 [==============================] - 12s 1s/step - loss: 0.3729 - val_loss: 0.4098 - lr: 0.0125\n",
            "Epoch 19/20\n",
            "11/11 [==============================] - 12s 1s/step - loss: 0.3720 - val_loss: 0.4018 - lr: 0.0119\n",
            "Epoch 20/20\n",
            "11/11 [==============================] - 11s 950ms/step - loss: 0.3716 - val_loss: 0.3987 - lr: 0.0113\n"
          ]
        }
      ]
    },
    {
      "cell_type": "markdown",
      "metadata": {
        "id": "-T-FivMrYoH5"
      },
      "source": [
        "### 3.3 Inference"
      ]
    },
    {
      "cell_type": "code",
      "execution_count": 14,
      "metadata": {
        "id": "uyn5BLhgYHO3"
      },
      "outputs": [],
      "source": [
        "X_test, y_test = get_test_dataset(X)"
      ]
    },
    {
      "cell_type": "code",
      "execution_count": 15,
      "metadata": {
        "colab": {
          "base_uri": "https://localhost:8080/"
        },
        "id": "dgZcymnwX7hH",
        "outputId": "01850208-df07-44e1-aea0-b05a0a7a7492"
      },
      "outputs": [
        {
          "output_type": "stream",
          "name": "stdout",
          "text": [
            "1/1 [==============================] - 3s 3s/step\n"
          ]
        },
        {
          "output_type": "execute_result",
          "data": {
            "text/plain": [
              "(20, 27, 40)"
            ]
          },
          "metadata": {},
          "execution_count": 15
        }
      ],
      "source": [
        "pred = model.predict(X_test)\n",
        "pred.shape"
      ]
    },
    {
      "cell_type": "markdown",
      "metadata": {
        "id": "LphmAbjGZkA3"
      },
      "source": [
        "### 3.4 Model evaluation"
      ]
    },
    {
      "cell_type": "markdown",
      "metadata": {
        "id": "nkFU4RxZZk8-"
      },
      "source": [
        "#### Mean absolute scaled error (MASE) \n",
        "https://en.wikipedia.org/wiki/Mean_absolute_scaled_error"
      ]
    },
    {
      "cell_type": "markdown",
      "metadata": {
        "id": "nM1Cj-_XZpsO"
      },
      "source": [
        "The denominator of mean absolute scaled error is the mean absolute error of the one-step \"seasonal naive forecast method\" on the training set, which uses the actual value from the prior 30 days as the forecast: \n",
        "* F(t) = Y(t−30)\n",
        "\n",
        "MASE is scale-free error metric. So, it can be applied to scaled data without extra iteration of inverse scaling."
      ]
    },
    {
      "cell_type": "code",
      "execution_count": 16,
      "metadata": {
        "colab": {
          "base_uri": "https://localhost:8080/"
        },
        "id": "jSPdjqEztRix",
        "outputId": "87d9fbb4-4101-46e3-f5ad-f6d748cc7052"
      },
      "outputs": [
        {
          "output_type": "execute_result",
          "data": {
            "text/plain": [
              "((20, 27, 40), (20, 27, 40))"
            ]
          },
          "metadata": {},
          "execution_count": 16
        }
      ],
      "source": [
        "pred.shape, y_test.shape"
      ]
    },
    {
      "cell_type": "code",
      "execution_count": 17,
      "metadata": {
        "colab": {
          "base_uri": "https://localhost:8080/"
        },
        "id": "H7m2mh1I8rm6",
        "outputId": "1a688d15-28f1-47f3-a50a-c70bfddbe4b6"
      },
      "outputs": [
        {
          "output_type": "stream",
          "name": "stdout",
          "text": [
            "Mean absolute scaled error = 0.8705\n"
          ]
        }
      ],
      "source": [
        "forecast_error = abs(pred[:, :, 0] - y_test[:, :, 0]).mean()\n",
        "mase = forecast_error / abs(y_test[:, :, 6]).mean()\n",
        "\n",
        "print(f'Mean absolute scaled error = {round(mase.mean(), 4)}')"
      ]
    },
    {
      "cell_type": "markdown",
      "metadata": {
        "id": "sYbpp1abZzxQ"
      },
      "source": [
        "__Findings:__\n",
        "\n",
        "* Out of 72 samples available for training (153 less input and output sequence length) 4 were used for validation of the model and 27 for testing. So, we had only 41 samples for training of the model and it is definately not sufficient.\n",
        "\n",
        "* To get more accurate predictions, we need to retrain the model on the full set of data. It should improve the final results."
      ]
    },
    {
      "cell_type": "markdown",
      "metadata": {
        "id": "vmXsJCA5Z0t9"
      },
      "source": [
        "## 4. Final prediction"
      ]
    },
    {
      "cell_type": "markdown",
      "metadata": {
        "id": "wpg_5giedIV5"
      },
      "source": [
        "### 4.1. Dataset"
      ]
    },
    {
      "cell_type": "code",
      "execution_count": 18,
      "metadata": {
        "colab": {
          "base_uri": "https://localhost:8080/"
        },
        "id": "cN70_li0aLy2",
        "outputId": "6561965a-fdc4-4fcb-e852-a9271d705c24"
      },
      "outputs": [
        {
          "output_type": "execute_result",
          "data": {
            "text/plain": [
              "((1440, 54, 40), (1440, 27, 40), (20, 54, 40))"
            ]
          },
          "metadata": {},
          "execution_count": 18
        }
      ],
      "source": [
        "X_train, y_train = get_train_dataset(X, final=True)\n",
        "X_test = get_test_dataset(X, final=True)\n",
        "\n",
        "X_train.shape, y_train.shape, X_test.shape"
      ]
    },
    {
      "cell_type": "markdown",
      "metadata": {
        "id": "MC_L5BwPdCb-"
      },
      "source": [
        "### 4.2. Retraining the model on full dataset"
      ]
    },
    {
      "cell_type": "code",
      "execution_count": 19,
      "metadata": {
        "colab": {
          "base_uri": "https://localhost:8080/"
        },
        "id": "jYh4p4YQaffn",
        "outputId": "19bac906-a1fd-4095-d27a-95176c4ff102"
      },
      "outputs": [
        {
          "output_type": "stream",
          "name": "stdout",
          "text": [
            "Epoch 1/20\n",
            "34/34 [==============================] - 59s 668ms/step - loss: 0.6625 - val_loss: 30.9424 - lr: 0.0300\n",
            "Epoch 2/20\n",
            "34/34 [==============================] - 21s 621ms/step - loss: 0.4364 - val_loss: 0.5366 - lr: 0.0285\n",
            "Epoch 3/20\n",
            "34/34 [==============================] - 20s 571ms/step - loss: 0.3728 - val_loss: 0.4432 - lr: 0.0271\n",
            "Epoch 4/20\n",
            "34/34 [==============================] - 19s 570ms/step - loss: 0.3609 - val_loss: 0.3674 - lr: 0.0257\n",
            "Epoch 5/20\n",
            "34/34 [==============================] - 21s 624ms/step - loss: 0.3552 - val_loss: 0.3584 - lr: 0.0244\n",
            "Epoch 6/20\n",
            "34/34 [==============================] - 19s 572ms/step - loss: 0.3519 - val_loss: 0.3514 - lr: 0.0232\n",
            "Epoch 7/20\n",
            "34/34 [==============================] - 19s 567ms/step - loss: 0.3499 - val_loss: 0.3493 - lr: 0.0221\n",
            "Epoch 8/20\n",
            "34/34 [==============================] - 21s 617ms/step - loss: 0.3481 - val_loss: 0.3476 - lr: 0.0210\n",
            "Epoch 9/20\n",
            "34/34 [==============================] - 19s 569ms/step - loss: 0.3462 - val_loss: 0.3432 - lr: 0.0199\n",
            "Epoch 10/20\n",
            "34/34 [==============================] - 22s 645ms/step - loss: 0.3447 - val_loss: 0.3428 - lr: 0.0189\n",
            "Epoch 11/20\n",
            "34/34 [==============================] - 21s 603ms/step - loss: 0.3426 - val_loss: 0.3415 - lr: 0.0180\n",
            "Epoch 12/20\n",
            "34/34 [==============================] - 20s 583ms/step - loss: 0.3427 - val_loss: 0.3416 - lr: 0.0171\n",
            "Epoch 13/20\n",
            "34/34 [==============================] - 21s 619ms/step - loss: 0.3416 - val_loss: 0.3393 - lr: 0.0162\n",
            "Epoch 14/20\n",
            "34/34 [==============================] - 20s 567ms/step - loss: 0.3411 - val_loss: 0.3395 - lr: 0.0154\n",
            "Epoch 15/20\n",
            "34/34 [==============================] - 19s 561ms/step - loss: 0.3404 - val_loss: 0.3394 - lr: 0.0146\n",
            "Epoch 16/20\n",
            "34/34 [==============================] - 22s 639ms/step - loss: 0.3397 - val_loss: 0.3382 - lr: 0.0139\n",
            "Epoch 17/20\n",
            "34/34 [==============================] - 19s 575ms/step - loss: 0.3393 - val_loss: 0.3363 - lr: 0.0132\n",
            "Epoch 18/20\n",
            "34/34 [==============================] - 19s 569ms/step - loss: 0.3391 - val_loss: 0.3376 - lr: 0.0125\n",
            "Epoch 19/20\n",
            "34/34 [==============================] - 21s 620ms/step - loss: 0.3383 - val_loss: 0.3373 - lr: 0.0119\n",
            "Epoch 20/20\n",
            "34/34 [==============================] - 19s 570ms/step - loss: 0.3392 - val_loss: 0.3385 - lr: 0.0113\n"
          ]
        }
      ],
      "source": [
        "n_shops = 20\n",
        "n_epochs = 20\n",
        "batch_size = n_shops * 2\n",
        "m = n_shops * 4\n",
        "\n",
        "model = model = get_model_TF(X_train.shape[1:])\n",
        "reduce_lr = tf.keras.callbacks.LearningRateScheduler(\n",
        "    lambda epoch: 3e-2 * 0.95 ** epoch\n",
        ")\n",
        "model.compile(\n",
        "    optimizer=tf.keras.optimizers.Adam(), \n",
        "    loss=tf.keras.losses.Huber()\n",
        ")\n",
        "history = model.fit(\n",
        "    X_train[:-m, :, :], y_train[:-m, :, :], \n",
        "    epochs=n_epochs,\n",
        "    validation_data=(X_train[-m:, :, :], y_train[-m:, :, :]),\n",
        "    batch_size=batch_size, \n",
        "    verbose=1,\n",
        "    callbacks=[reduce_lr],\n",
        "    shuffle=True,\n",
        "    workers=-1,\n",
        "    use_multiprocessing=True,    \n",
        ")"
      ]
    },
    {
      "cell_type": "markdown",
      "metadata": {
        "id": "_n6z3yuZc0Uj"
      },
      "source": [
        "### 4.3 Model evaluation on validation set"
      ]
    },
    {
      "cell_type": "code",
      "source": [
        "pred = model.predict(X_train[-m:, :, :])\n",
        "pred[:, :, 0].shape,"
      ],
      "metadata": {
        "colab": {
          "base_uri": "https://localhost:8080/"
        },
        "id": "w0SzRmu52i5b",
        "outputId": "81aa44c2-9592-413d-9d7d-888e2bf78010"
      },
      "execution_count": 20,
      "outputs": [
        {
          "output_type": "stream",
          "name": "stdout",
          "text": [
            "3/3 [==============================] - 3s 111ms/step\n"
          ]
        },
        {
          "output_type": "execute_result",
          "data": {
            "text/plain": [
              "((80, 27),)"
            ]
          },
          "metadata": {},
          "execution_count": 20
        }
      ]
    },
    {
      "cell_type": "code",
      "source": [
        "forecast_error = abs(pred[:, :, 0] -  y_train[-m:, :, 0]).mean()\n",
        "mase = forecast_error / abs( y_train[-m:, :, 6]).mean()\n",
        "\n",
        "print(f'Mean absolute scaled error = {round(mase.mean(), 4)}')"
      ],
      "metadata": {
        "colab": {
          "base_uri": "https://localhost:8080/"
        },
        "id": "XFTzEJ8Plx_g",
        "outputId": "d7f1b4d6-08bd-4ee6-995d-f4e25d23662c"
      },
      "execution_count": 21,
      "outputs": [
        {
          "output_type": "stream",
          "name": "stdout",
          "text": [
            "Mean absolute scaled error = 0.7595\n"
          ]
        }
      ]
    },
    {
      "cell_type": "markdown",
      "metadata": {
        "id": "k5l6afUrb7Iy"
      },
      "source": [
        "## 5. Findings"
      ]
    },
    {
      "cell_type": "markdown",
      "metadata": {
        "id": "4I1SyQe3b_ht"
      },
      "source": [
        "Transformer model has not outperformed LSTM model. There is not enouph data for transformers. So, for this particular task LSTM model is more appropriate."
      ]
    }
  ],
  "metadata": {
    "colab": {
      "provenance": [],
      "toc_visible": true,
      "authorship_tag": "ABX9TyMyXKtSBmLvjPQtgo8ZFs50",
      "include_colab_link": true
    },
    "gpuClass": "standard",
    "kernelspec": {
      "display_name": "Python 3",
      "name": "python3"
    },
    "language_info": {
      "name": "python"
    },
    "accelerator": "GPU"
  },
  "nbformat": 4,
  "nbformat_minor": 0
}