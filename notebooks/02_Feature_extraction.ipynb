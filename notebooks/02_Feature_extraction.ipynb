{
  "nbformat": 4,
  "nbformat_minor": 0,
  "metadata": {
    "colab": {
      "provenance": [],
      "toc_visible": true,
      "authorship_tag": "ABX9TyNnYTLE+2SMXsg5dHh6UKnc",
      "include_colab_link": true
    },
    "kernelspec": {
      "name": "python3",
      "display_name": "Python 3"
    },
    "language_info": {
      "name": "python"
    },
    "gpuClass": "standard",
    "accelerator": "GPU"
  },
  "cells": [
    {
      "cell_type": "markdown",
      "metadata": {
        "id": "view-in-github",
        "colab_type": "text"
      },
      "source": [
        "<a href=\"https://colab.research.google.com/github/YaninaK/sales-forecast/blob/main/notebooks/02_Feature_extraction.ipynb\" target=\"_parent\"><img src=\"https://colab.research.google.com/assets/colab-badge.svg\" alt=\"Open In Colab\"/></a>"
      ]
    },
    {
      "cell_type": "markdown",
      "source": [
        "# Sales forecast for 20 stores for 31 days' period. \n",
        "## Feature extraction"
      ],
      "metadata": {
        "id": "vVmnnQnBsbmv"
      }
    },
    {
      "cell_type": "markdown",
      "source": [
        "[EDA - omissions and cluster analysis](\n",
        "https://colab.research.google.com/drive/1udCgyEt7lusSY43lnduVDEnZvdvVEt9h?usp=sharing)"
      ],
      "metadata": {
        "id": "w53tOkMrszEj"
      }
    },
    {
      "cell_type": "code",
      "source": [
        "from google.colab import drive\n",
        "drive.mount('/content/drive')"
      ],
      "metadata": {
        "colab": {
          "base_uri": "https://localhost:8080/"
        },
        "id": "q-vuDFr8slrj",
        "outputId": "8f2f99ca-f9d7-4224-f468-bb3d9a0f0663"
      },
      "execution_count": 1,
      "outputs": [
        {
          "output_type": "stream",
          "name": "stdout",
          "text": [
            "Mounted at /content/drive\n"
          ]
        }
      ]
    },
    {
      "cell_type": "code",
      "source": [
        "!git clone -q https://github.com/YaninaK/sales-forecast.git\n",
        "!pip install -r sales-forecast/requirements_Colab.txt -q "
      ],
      "metadata": {
        "colab": {
          "base_uri": "https://localhost:8080/"
        },
        "id": "GD3e_Tb4tWMR",
        "outputId": "4dfad4b7-156d-440f-98f4-00ad49ed7b7e"
      },
      "execution_count": 2,
      "outputs": [
        {
          "output_type": "stream",
          "name": "stdout",
          "text": [
            "\u001b[2K     \u001b[90m━━━━━━━━━━━━━━━━━━━━━━━━━━━━━━━━━━━━━━\u001b[0m \u001b[32m358.2/358.2 KB\u001b[0m \u001b[31m15.2 MB/s\u001b[0m eta \u001b[36m0:00:00\u001b[0m\n",
            "\u001b[2K     \u001b[90m━━━━━━━━━━━━━━━━━━━━━━━━━━━━━━━━━━━━━━━━\u001b[0m \u001b[32m98.2/98.2 KB\u001b[0m \u001b[31m13.8 MB/s\u001b[0m eta \u001b[36m0:00:00\u001b[0m\n",
            "\u001b[2K     \u001b[90m━━━━━━━━━━━━━━━━━━━━━━━━━━━━━━━━━━━━━━━━\u001b[0m \u001b[32m9.9/9.9 MB\u001b[0m \u001b[31m96.2 MB/s\u001b[0m eta \u001b[36m0:00:00\u001b[0m\n",
            "\u001b[2K     \u001b[90m━━━━━━━━━━━━━━━━━━━━━━━━━━━━━━━━━━━━━━\u001b[0m \u001b[32m136.2/136.2 KB\u001b[0m \u001b[31m17.5 MB/s\u001b[0m eta \u001b[36m0:00:00\u001b[0m\n",
            "\u001b[?25h"
          ]
        }
      ]
    },
    {
      "cell_type": "code",
      "source": [
        "%cd sales-forecast"
      ],
      "metadata": {
        "colab": {
          "base_uri": "https://localhost:8080/"
        },
        "id": "GwHYlnnJtIPx",
        "outputId": "ebc3dabb-b088-40b7-898d-7ac71f18d9ed"
      },
      "execution_count": 3,
      "outputs": [
        {
          "output_type": "stream",
          "name": "stdout",
          "text": [
            "/content/sales-forecast\n"
          ]
        }
      ]
    },
    {
      "cell_type": "code",
      "source": [
        "import sys\n",
        "import os\n",
        "\n",
        "sys.path.append(os.getcwd())\n",
        "sys.path.append(os.path.join(os.getcwd(), \"src\", \"sales_forecast\"))"
      ],
      "metadata": {
        "id": "IUPrYeL_tomL"
      },
      "execution_count": 4,
      "outputs": []
    },
    {
      "cell_type": "code",
      "source": [
        "import random\n",
        "import pandas as pd\n",
        "import numpy as np\n",
        "import scipy.stats as st\n",
        "\n",
        "from data.make_dataset import load_data, get_dataset\n",
        "from data.impute_data import impute\n",
        "from data.validation import train_validation_split\n",
        "from data.johnson_su_transformation import JohnsonSU\n",
        "from data.clean_data import clean_outliers\n",
        "from features.time_series_clusters import get_clusters\n",
        "from features.build_dataset import get_features\n",
        "\n",
        "import matplotlib.pyplot as plt\n",
        "import seaborn as sns\n",
        "%matplotlib inline"
      ],
      "metadata": {
        "id": "EY9PPpv-t5Ym"
      },
      "execution_count": 5,
      "outputs": []
    },
    {
      "cell_type": "code",
      "source": [
        "import warnings\n",
        "warnings.filterwarnings('ignore')"
      ],
      "metadata": {
        "id": "VKBAl4fDusJb"
      },
      "execution_count": 6,
      "outputs": []
    },
    {
      "cell_type": "code",
      "source": [
        "PATH = '/content/drive/MyDrive/ML_projects/01_Time_series/sales_forecast/'\n",
        "DEFAULT_RANDOM_SEED = 3"
      ],
      "metadata": {
        "id": "HpnMHEXDusNa"
      },
      "execution_count": 7,
      "outputs": []
    },
    {
      "cell_type": "code",
      "source": [
        "def set_all_seeds(seed=DEFAULT_RANDOM_SEED):\n",
        "  random.seed(seed)\n",
        "  os.environ['PYTHONHASHSEED'] = str(seed)\n",
        "  np.random.seed(seed)\n",
        "\n",
        "set_all_seeds()"
      ],
      "metadata": {
        "id": "ZjwoD0tNuvli"
      },
      "execution_count": 8,
      "outputs": []
    },
    {
      "cell_type": "markdown",
      "source": [
        "## 1. Data ingestion"
      ],
      "metadata": {
        "id": "25DsNjwUxJa5"
      }
    },
    {
      "cell_type": "code",
      "source": [
        "data = load_data(PATH)\n",
        "\n",
        "print(f'data.shape = {data.shape}\\n')\n",
        "data.head(2)"
      ],
      "metadata": {
        "colab": {
          "base_uri": "https://localhost:8080/",
          "height": 147
        },
        "id": "fEl2fYw7Fgoz",
        "outputId": "1669c038-293a-4794-db47-f62f12ac0c39"
      },
      "execution_count": 9,
      "outputs": [
        {
          "output_type": "stream",
          "name": "stdout",
          "text": [
            "data.shape = (8230, 3)\n",
            "\n"
          ]
        },
        {
          "output_type": "execute_result",
          "data": {
            "text/plain": [
              "   id          dt  target\n",
              "0   0  2016-01-02   747.8\n",
              "1   0  2016-01-03   681.2"
            ],
            "text/html": [
              "\n",
              "  <div id=\"df-37600de5-7d43-4b39-bda0-d9ba3e1f14fe\">\n",
              "    <div class=\"colab-df-container\">\n",
              "      <div>\n",
              "<style scoped>\n",
              "    .dataframe tbody tr th:only-of-type {\n",
              "        vertical-align: middle;\n",
              "    }\n",
              "\n",
              "    .dataframe tbody tr th {\n",
              "        vertical-align: top;\n",
              "    }\n",
              "\n",
              "    .dataframe thead th {\n",
              "        text-align: right;\n",
              "    }\n",
              "</style>\n",
              "<table border=\"1\" class=\"dataframe\">\n",
              "  <thead>\n",
              "    <tr style=\"text-align: right;\">\n",
              "      <th></th>\n",
              "      <th>id</th>\n",
              "      <th>dt</th>\n",
              "      <th>target</th>\n",
              "    </tr>\n",
              "  </thead>\n",
              "  <tbody>\n",
              "    <tr>\n",
              "      <th>0</th>\n",
              "      <td>0</td>\n",
              "      <td>2016-01-02</td>\n",
              "      <td>747.8</td>\n",
              "    </tr>\n",
              "    <tr>\n",
              "      <th>1</th>\n",
              "      <td>0</td>\n",
              "      <td>2016-01-03</td>\n",
              "      <td>681.2</td>\n",
              "    </tr>\n",
              "  </tbody>\n",
              "</table>\n",
              "</div>\n",
              "      <button class=\"colab-df-convert\" onclick=\"convertToInteractive('df-37600de5-7d43-4b39-bda0-d9ba3e1f14fe')\"\n",
              "              title=\"Convert this dataframe to an interactive table.\"\n",
              "              style=\"display:none;\">\n",
              "        \n",
              "  <svg xmlns=\"http://www.w3.org/2000/svg\" height=\"24px\"viewBox=\"0 0 24 24\"\n",
              "       width=\"24px\">\n",
              "    <path d=\"M0 0h24v24H0V0z\" fill=\"none\"/>\n",
              "    <path d=\"M18.56 5.44l.94 2.06.94-2.06 2.06-.94-2.06-.94-.94-2.06-.94 2.06-2.06.94zm-11 1L8.5 8.5l.94-2.06 2.06-.94-2.06-.94L8.5 2.5l-.94 2.06-2.06.94zm10 10l.94 2.06.94-2.06 2.06-.94-2.06-.94-.94-2.06-.94 2.06-2.06.94z\"/><path d=\"M17.41 7.96l-1.37-1.37c-.4-.4-.92-.59-1.43-.59-.52 0-1.04.2-1.43.59L10.3 9.45l-7.72 7.72c-.78.78-.78 2.05 0 2.83L4 21.41c.39.39.9.59 1.41.59.51 0 1.02-.2 1.41-.59l7.78-7.78 2.81-2.81c.8-.78.8-2.07 0-2.86zM5.41 20L4 18.59l7.72-7.72 1.47 1.35L5.41 20z\"/>\n",
              "  </svg>\n",
              "      </button>\n",
              "      \n",
              "  <style>\n",
              "    .colab-df-container {\n",
              "      display:flex;\n",
              "      flex-wrap:wrap;\n",
              "      gap: 12px;\n",
              "    }\n",
              "\n",
              "    .colab-df-convert {\n",
              "      background-color: #E8F0FE;\n",
              "      border: none;\n",
              "      border-radius: 50%;\n",
              "      cursor: pointer;\n",
              "      display: none;\n",
              "      fill: #1967D2;\n",
              "      height: 32px;\n",
              "      padding: 0 0 0 0;\n",
              "      width: 32px;\n",
              "    }\n",
              "\n",
              "    .colab-df-convert:hover {\n",
              "      background-color: #E2EBFA;\n",
              "      box-shadow: 0px 1px 2px rgba(60, 64, 67, 0.3), 0px 1px 3px 1px rgba(60, 64, 67, 0.15);\n",
              "      fill: #174EA6;\n",
              "    }\n",
              "\n",
              "    [theme=dark] .colab-df-convert {\n",
              "      background-color: #3B4455;\n",
              "      fill: #D2E3FC;\n",
              "    }\n",
              "\n",
              "    [theme=dark] .colab-df-convert:hover {\n",
              "      background-color: #434B5C;\n",
              "      box-shadow: 0px 1px 3px 1px rgba(0, 0, 0, 0.15);\n",
              "      filter: drop-shadow(0px 1px 2px rgba(0, 0, 0, 0.3));\n",
              "      fill: #FFFFFF;\n",
              "    }\n",
              "  </style>\n",
              "\n",
              "      <script>\n",
              "        const buttonEl =\n",
              "          document.querySelector('#df-37600de5-7d43-4b39-bda0-d9ba3e1f14fe button.colab-df-convert');\n",
              "        buttonEl.style.display =\n",
              "          google.colab.kernel.accessAllowed ? 'block' : 'none';\n",
              "\n",
              "        async function convertToInteractive(key) {\n",
              "          const element = document.querySelector('#df-37600de5-7d43-4b39-bda0-d9ba3e1f14fe');\n",
              "          const dataTable =\n",
              "            await google.colab.kernel.invokeFunction('convertToInteractive',\n",
              "                                                     [key], {});\n",
              "          if (!dataTable) return;\n",
              "\n",
              "          const docLinkHtml = 'Like what you see? Visit the ' +\n",
              "            '<a target=\"_blank\" href=https://colab.research.google.com/notebooks/data_table.ipynb>data table notebook</a>'\n",
              "            + ' to learn more about interactive tables.';\n",
              "          element.innerHTML = '';\n",
              "          dataTable['output_type'] = 'display_data';\n",
              "          await google.colab.output.renderOutput(dataTable, element);\n",
              "          const docLink = document.createElement('div');\n",
              "          docLink.innerHTML = docLinkHtml;\n",
              "          element.appendChild(docLink);\n",
              "        }\n",
              "      </script>\n",
              "    </div>\n",
              "  </div>\n",
              "  "
            ]
          },
          "metadata": {},
          "execution_count": 9
        }
      ]
    },
    {
      "cell_type": "code",
      "source": [
        "data = get_dataset(data)\n",
        "data = impute(data)\n",
        "\n",
        "print(f'data.shape = {data.shape}\\n')\n",
        "data.head(2)"
      ],
      "metadata": {
        "colab": {
          "base_uri": "https://localhost:8080/",
          "height": 178
        },
        "id": "B4Ns5yFwF1In",
        "outputId": "53f8f15d-6ec3-4077-b39c-6bdcc8adb4f7"
      },
      "execution_count": 10,
      "outputs": [
        {
          "output_type": "stream",
          "name": "stdout",
          "text": [
            "data.shape = (468, 20)\n",
            "\n"
          ]
        },
        {
          "output_type": "execute_result",
          "data": {
            "text/plain": [
              "                0      1      2      3      4      5      6      7       8  \\\n",
              "dt                                                                           \n",
              "2016-01-02  747.8  421.8  546.2  355.7  341.2  341.8  510.9  620.0  1603.4   \n",
              "2016-01-03  681.2  427.1  549.3  418.1  326.0  367.5  548.3  605.3  1608.6   \n",
              "\n",
              "                9     10     11     12     13     14     15     16     17  \\\n",
              "dt                                                                          \n",
              "2016-01-02  726.9  656.7  477.2  656.5  697.0  518.4  728.1  343.8  328.5   \n",
              "2016-01-03  677.0  674.4  446.7  685.1  711.2  528.4  758.0  361.6  331.1   \n",
              "\n",
              "               18     19  \n",
              "dt                        \n",
              "2016-01-02  617.2  370.3  \n",
              "2016-01-03  523.4  382.3  "
            ],
            "text/html": [
              "\n",
              "  <div id=\"df-ef33e7ff-f413-49c4-aa71-230e1562a6b0\">\n",
              "    <div class=\"colab-df-container\">\n",
              "      <div>\n",
              "<style scoped>\n",
              "    .dataframe tbody tr th:only-of-type {\n",
              "        vertical-align: middle;\n",
              "    }\n",
              "\n",
              "    .dataframe tbody tr th {\n",
              "        vertical-align: top;\n",
              "    }\n",
              "\n",
              "    .dataframe thead th {\n",
              "        text-align: right;\n",
              "    }\n",
              "</style>\n",
              "<table border=\"1\" class=\"dataframe\">\n",
              "  <thead>\n",
              "    <tr style=\"text-align: right;\">\n",
              "      <th></th>\n",
              "      <th>0</th>\n",
              "      <th>1</th>\n",
              "      <th>2</th>\n",
              "      <th>3</th>\n",
              "      <th>4</th>\n",
              "      <th>5</th>\n",
              "      <th>6</th>\n",
              "      <th>7</th>\n",
              "      <th>8</th>\n",
              "      <th>9</th>\n",
              "      <th>10</th>\n",
              "      <th>11</th>\n",
              "      <th>12</th>\n",
              "      <th>13</th>\n",
              "      <th>14</th>\n",
              "      <th>15</th>\n",
              "      <th>16</th>\n",
              "      <th>17</th>\n",
              "      <th>18</th>\n",
              "      <th>19</th>\n",
              "    </tr>\n",
              "    <tr>\n",
              "      <th>dt</th>\n",
              "      <th></th>\n",
              "      <th></th>\n",
              "      <th></th>\n",
              "      <th></th>\n",
              "      <th></th>\n",
              "      <th></th>\n",
              "      <th></th>\n",
              "      <th></th>\n",
              "      <th></th>\n",
              "      <th></th>\n",
              "      <th></th>\n",
              "      <th></th>\n",
              "      <th></th>\n",
              "      <th></th>\n",
              "      <th></th>\n",
              "      <th></th>\n",
              "      <th></th>\n",
              "      <th></th>\n",
              "      <th></th>\n",
              "      <th></th>\n",
              "    </tr>\n",
              "  </thead>\n",
              "  <tbody>\n",
              "    <tr>\n",
              "      <th>2016-01-02</th>\n",
              "      <td>747.8</td>\n",
              "      <td>421.8</td>\n",
              "      <td>546.2</td>\n",
              "      <td>355.7</td>\n",
              "      <td>341.2</td>\n",
              "      <td>341.8</td>\n",
              "      <td>510.9</td>\n",
              "      <td>620.0</td>\n",
              "      <td>1603.4</td>\n",
              "      <td>726.9</td>\n",
              "      <td>656.7</td>\n",
              "      <td>477.2</td>\n",
              "      <td>656.5</td>\n",
              "      <td>697.0</td>\n",
              "      <td>518.4</td>\n",
              "      <td>728.1</td>\n",
              "      <td>343.8</td>\n",
              "      <td>328.5</td>\n",
              "      <td>617.2</td>\n",
              "      <td>370.3</td>\n",
              "    </tr>\n",
              "    <tr>\n",
              "      <th>2016-01-03</th>\n",
              "      <td>681.2</td>\n",
              "      <td>427.1</td>\n",
              "      <td>549.3</td>\n",
              "      <td>418.1</td>\n",
              "      <td>326.0</td>\n",
              "      <td>367.5</td>\n",
              "      <td>548.3</td>\n",
              "      <td>605.3</td>\n",
              "      <td>1608.6</td>\n",
              "      <td>677.0</td>\n",
              "      <td>674.4</td>\n",
              "      <td>446.7</td>\n",
              "      <td>685.1</td>\n",
              "      <td>711.2</td>\n",
              "      <td>528.4</td>\n",
              "      <td>758.0</td>\n",
              "      <td>361.6</td>\n",
              "      <td>331.1</td>\n",
              "      <td>523.4</td>\n",
              "      <td>382.3</td>\n",
              "    </tr>\n",
              "  </tbody>\n",
              "</table>\n",
              "</div>\n",
              "      <button class=\"colab-df-convert\" onclick=\"convertToInteractive('df-ef33e7ff-f413-49c4-aa71-230e1562a6b0')\"\n",
              "              title=\"Convert this dataframe to an interactive table.\"\n",
              "              style=\"display:none;\">\n",
              "        \n",
              "  <svg xmlns=\"http://www.w3.org/2000/svg\" height=\"24px\"viewBox=\"0 0 24 24\"\n",
              "       width=\"24px\">\n",
              "    <path d=\"M0 0h24v24H0V0z\" fill=\"none\"/>\n",
              "    <path d=\"M18.56 5.44l.94 2.06.94-2.06 2.06-.94-2.06-.94-.94-2.06-.94 2.06-2.06.94zm-11 1L8.5 8.5l.94-2.06 2.06-.94-2.06-.94L8.5 2.5l-.94 2.06-2.06.94zm10 10l.94 2.06.94-2.06 2.06-.94-2.06-.94-.94-2.06-.94 2.06-2.06.94z\"/><path d=\"M17.41 7.96l-1.37-1.37c-.4-.4-.92-.59-1.43-.59-.52 0-1.04.2-1.43.59L10.3 9.45l-7.72 7.72c-.78.78-.78 2.05 0 2.83L4 21.41c.39.39.9.59 1.41.59.51 0 1.02-.2 1.41-.59l7.78-7.78 2.81-2.81c.8-.78.8-2.07 0-2.86zM5.41 20L4 18.59l7.72-7.72 1.47 1.35L5.41 20z\"/>\n",
              "  </svg>\n",
              "      </button>\n",
              "      \n",
              "  <style>\n",
              "    .colab-df-container {\n",
              "      display:flex;\n",
              "      flex-wrap:wrap;\n",
              "      gap: 12px;\n",
              "    }\n",
              "\n",
              "    .colab-df-convert {\n",
              "      background-color: #E8F0FE;\n",
              "      border: none;\n",
              "      border-radius: 50%;\n",
              "      cursor: pointer;\n",
              "      display: none;\n",
              "      fill: #1967D2;\n",
              "      height: 32px;\n",
              "      padding: 0 0 0 0;\n",
              "      width: 32px;\n",
              "    }\n",
              "\n",
              "    .colab-df-convert:hover {\n",
              "      background-color: #E2EBFA;\n",
              "      box-shadow: 0px 1px 2px rgba(60, 64, 67, 0.3), 0px 1px 3px 1px rgba(60, 64, 67, 0.15);\n",
              "      fill: #174EA6;\n",
              "    }\n",
              "\n",
              "    [theme=dark] .colab-df-convert {\n",
              "      background-color: #3B4455;\n",
              "      fill: #D2E3FC;\n",
              "    }\n",
              "\n",
              "    [theme=dark] .colab-df-convert:hover {\n",
              "      background-color: #434B5C;\n",
              "      box-shadow: 0px 1px 3px 1px rgba(0, 0, 0, 0.15);\n",
              "      filter: drop-shadow(0px 1px 2px rgba(0, 0, 0, 0.3));\n",
              "      fill: #FFFFFF;\n",
              "    }\n",
              "  </style>\n",
              "\n",
              "      <script>\n",
              "        const buttonEl =\n",
              "          document.querySelector('#df-ef33e7ff-f413-49c4-aa71-230e1562a6b0 button.colab-df-convert');\n",
              "        buttonEl.style.display =\n",
              "          google.colab.kernel.accessAllowed ? 'block' : 'none';\n",
              "\n",
              "        async function convertToInteractive(key) {\n",
              "          const element = document.querySelector('#df-ef33e7ff-f413-49c4-aa71-230e1562a6b0');\n",
              "          const dataTable =\n",
              "            await google.colab.kernel.invokeFunction('convertToInteractive',\n",
              "                                                     [key], {});\n",
              "          if (!dataTable) return;\n",
              "\n",
              "          const docLinkHtml = 'Like what you see? Visit the ' +\n",
              "            '<a target=\"_blank\" href=https://colab.research.google.com/notebooks/data_table.ipynb>data table notebook</a>'\n",
              "            + ' to learn more about interactive tables.';\n",
              "          element.innerHTML = '';\n",
              "          dataTable['output_type'] = 'display_data';\n",
              "          await google.colab.output.renderOutput(dataTable, element);\n",
              "          const docLink = document.createElement('div');\n",
              "          docLink.innerHTML = docLinkHtml;\n",
              "          element.appendChild(docLink);\n",
              "        }\n",
              "      </script>\n",
              "    </div>\n",
              "  </div>\n",
              "  "
            ]
          },
          "metadata": {},
          "execution_count": 10
        }
      ]
    },
    {
      "cell_type": "markdown",
      "source": [
        "## 2. Train test split"
      ],
      "metadata": {
        "id": "lqYiLoghx7bH"
      }
    },
    {
      "cell_type": "markdown",
      "source": [
        "* 1st half of 2016 and 1st half of 2017"
      ],
      "metadata": {
        "id": "9iwnfR-ZyFt9"
      }
    },
    {
      "cell_type": "code",
      "source": [
        "train_df, valid_df, train_df_past, valid_df_past = train_validation_split(data)\n",
        "train_df.shape, valid_df.shape, train_df_past.shape, valid_df_past.shape"
      ],
      "metadata": {
        "colab": {
          "base_uri": "https://localhost:8080/"
        },
        "id": "YC7men1LyTwE",
        "outputId": "29662ea9-e062-4b07-8970-00fb4ad574f6"
      },
      "execution_count": 11,
      "outputs": [
        {
          "output_type": "execute_result",
          "data": {
            "text/plain": [
              "((127, 20), (27, 20), (154, 20), (27, 20))"
            ]
          },
          "metadata": {},
          "execution_count": 11
        }
      ]
    },
    {
      "cell_type": "markdown",
      "source": [
        "## 3. Data transformations"
      ],
      "metadata": {
        "id": "py3rdp3Y_OT_"
      }
    },
    {
      "cell_type": "markdown",
      "source": [
        "### 3.1 Johnson SU transformation"
      ],
      "metadata": {
        "id": "aMDbpGRx_Rid"
      }
    },
    {
      "cell_type": "code",
      "source": [
        "scaler = JohnsonSU()\n",
        "scaler.fit(train_df.astype(float))\n",
        "\n",
        "train_df = scaler.transform(train_df.astype(float))\n",
        "valid_df = scaler.transform(valid_df.astype(float))\n",
        "\n",
        "X_scaled = pd.concat([train_df, valid_df], axis=0)"
      ],
      "metadata": {
        "id": "UU7_PLy-_PBt"
      },
      "execution_count": 12,
      "outputs": []
    },
    {
      "cell_type": "code",
      "source": [
        "scaler_past = JohnsonSU()\n",
        "scaler_past.fit(train_df_past.astype(float))\n",
        "\n",
        "X_past_scaled = scaler_past.transform(train_df_past)"
      ],
      "metadata": {
        "id": "EHHb-h7u_pNy"
      },
      "execution_count": 13,
      "outputs": []
    },
    {
      "cell_type": "markdown",
      "source": [
        "### 3.2 Clean outliers"
      ],
      "metadata": {
        "id": "w-lr6rfOAXY_"
      }
    },
    {
      "cell_type": "code",
      "source": [
        "X_scaled = clean_outliers(X_scaled)"
      ],
      "metadata": {
        "colab": {
          "base_uri": "https://localhost:8080/"
        },
        "id": "tbSXQvhPAWtQ",
        "outputId": "1ae3bcd8-236a-447c-b5d0-f23a724c9b6f"
      },
      "execution_count": 14,
      "outputs": [
        {
          "output_type": "stream",
          "name": "stdout",
          "text": [
            "Number of outliers = 8\n"
          ]
        }
      ]
    },
    {
      "cell_type": "markdown",
      "source": [
        "## 4. Get clusters"
      ],
      "metadata": {
        "id": "lqkmBX_vBvZc"
      }
    },
    {
      "cell_type": "code",
      "source": [
        "clusters = get_clusters(X_scaled)\n",
        "\n",
        "print(f'clusters.shape = {clusters.shape}\\n')\n",
        "clusters.sample(5)"
      ],
      "metadata": {
        "colab": {
          "base_uri": "https://localhost:8080/",
          "height": 241
        },
        "id": "xuDTkwk1A-MM",
        "outputId": "e2e0beb2-dd27-4d52-93e7-374a8b19ea8c"
      },
      "execution_count": 15,
      "outputs": [
        {
          "output_type": "stream",
          "name": "stdout",
          "text": [
            "clusters.shape = (20, 5)\n",
            "\n"
          ]
        },
        {
          "output_type": "execute_result",
          "data": {
            "text/plain": [
              "    0  1  2  3  4\n",
              "14  0  1  0  0  0\n",
              "2   0  0  0  0  1\n",
              "1   0  1  0  0  0\n",
              "17  0  0  0  0  1\n",
              "4   1  0  0  0  0"
            ],
            "text/html": [
              "\n",
              "  <div id=\"df-05e672a6-a713-496f-9655-a7f504d5ae1b\">\n",
              "    <div class=\"colab-df-container\">\n",
              "      <div>\n",
              "<style scoped>\n",
              "    .dataframe tbody tr th:only-of-type {\n",
              "        vertical-align: middle;\n",
              "    }\n",
              "\n",
              "    .dataframe tbody tr th {\n",
              "        vertical-align: top;\n",
              "    }\n",
              "\n",
              "    .dataframe thead th {\n",
              "        text-align: right;\n",
              "    }\n",
              "</style>\n",
              "<table border=\"1\" class=\"dataframe\">\n",
              "  <thead>\n",
              "    <tr style=\"text-align: right;\">\n",
              "      <th></th>\n",
              "      <th>0</th>\n",
              "      <th>1</th>\n",
              "      <th>2</th>\n",
              "      <th>3</th>\n",
              "      <th>4</th>\n",
              "    </tr>\n",
              "  </thead>\n",
              "  <tbody>\n",
              "    <tr>\n",
              "      <th>14</th>\n",
              "      <td>0</td>\n",
              "      <td>1</td>\n",
              "      <td>0</td>\n",
              "      <td>0</td>\n",
              "      <td>0</td>\n",
              "    </tr>\n",
              "    <tr>\n",
              "      <th>2</th>\n",
              "      <td>0</td>\n",
              "      <td>0</td>\n",
              "      <td>0</td>\n",
              "      <td>0</td>\n",
              "      <td>1</td>\n",
              "    </tr>\n",
              "    <tr>\n",
              "      <th>1</th>\n",
              "      <td>0</td>\n",
              "      <td>1</td>\n",
              "      <td>0</td>\n",
              "      <td>0</td>\n",
              "      <td>0</td>\n",
              "    </tr>\n",
              "    <tr>\n",
              "      <th>17</th>\n",
              "      <td>0</td>\n",
              "      <td>0</td>\n",
              "      <td>0</td>\n",
              "      <td>0</td>\n",
              "      <td>1</td>\n",
              "    </tr>\n",
              "    <tr>\n",
              "      <th>4</th>\n",
              "      <td>1</td>\n",
              "      <td>0</td>\n",
              "      <td>0</td>\n",
              "      <td>0</td>\n",
              "      <td>0</td>\n",
              "    </tr>\n",
              "  </tbody>\n",
              "</table>\n",
              "</div>\n",
              "      <button class=\"colab-df-convert\" onclick=\"convertToInteractive('df-05e672a6-a713-496f-9655-a7f504d5ae1b')\"\n",
              "              title=\"Convert this dataframe to an interactive table.\"\n",
              "              style=\"display:none;\">\n",
              "        \n",
              "  <svg xmlns=\"http://www.w3.org/2000/svg\" height=\"24px\"viewBox=\"0 0 24 24\"\n",
              "       width=\"24px\">\n",
              "    <path d=\"M0 0h24v24H0V0z\" fill=\"none\"/>\n",
              "    <path d=\"M18.56 5.44l.94 2.06.94-2.06 2.06-.94-2.06-.94-.94-2.06-.94 2.06-2.06.94zm-11 1L8.5 8.5l.94-2.06 2.06-.94-2.06-.94L8.5 2.5l-.94 2.06-2.06.94zm10 10l.94 2.06.94-2.06 2.06-.94-2.06-.94-.94-2.06-.94 2.06-2.06.94z\"/><path d=\"M17.41 7.96l-1.37-1.37c-.4-.4-.92-.59-1.43-.59-.52 0-1.04.2-1.43.59L10.3 9.45l-7.72 7.72c-.78.78-.78 2.05 0 2.83L4 21.41c.39.39.9.59 1.41.59.51 0 1.02-.2 1.41-.59l7.78-7.78 2.81-2.81c.8-.78.8-2.07 0-2.86zM5.41 20L4 18.59l7.72-7.72 1.47 1.35L5.41 20z\"/>\n",
              "  </svg>\n",
              "      </button>\n",
              "      \n",
              "  <style>\n",
              "    .colab-df-container {\n",
              "      display:flex;\n",
              "      flex-wrap:wrap;\n",
              "      gap: 12px;\n",
              "    }\n",
              "\n",
              "    .colab-df-convert {\n",
              "      background-color: #E8F0FE;\n",
              "      border: none;\n",
              "      border-radius: 50%;\n",
              "      cursor: pointer;\n",
              "      display: none;\n",
              "      fill: #1967D2;\n",
              "      height: 32px;\n",
              "      padding: 0 0 0 0;\n",
              "      width: 32px;\n",
              "    }\n",
              "\n",
              "    .colab-df-convert:hover {\n",
              "      background-color: #E2EBFA;\n",
              "      box-shadow: 0px 1px 2px rgba(60, 64, 67, 0.3), 0px 1px 3px 1px rgba(60, 64, 67, 0.15);\n",
              "      fill: #174EA6;\n",
              "    }\n",
              "\n",
              "    [theme=dark] .colab-df-convert {\n",
              "      background-color: #3B4455;\n",
              "      fill: #D2E3FC;\n",
              "    }\n",
              "\n",
              "    [theme=dark] .colab-df-convert:hover {\n",
              "      background-color: #434B5C;\n",
              "      box-shadow: 0px 1px 3px 1px rgba(0, 0, 0, 0.15);\n",
              "      filter: drop-shadow(0px 1px 2px rgba(0, 0, 0, 0.3));\n",
              "      fill: #FFFFFF;\n",
              "    }\n",
              "  </style>\n",
              "\n",
              "      <script>\n",
              "        const buttonEl =\n",
              "          document.querySelector('#df-05e672a6-a713-496f-9655-a7f504d5ae1b button.colab-df-convert');\n",
              "        buttonEl.style.display =\n",
              "          google.colab.kernel.accessAllowed ? 'block' : 'none';\n",
              "\n",
              "        async function convertToInteractive(key) {\n",
              "          const element = document.querySelector('#df-05e672a6-a713-496f-9655-a7f504d5ae1b');\n",
              "          const dataTable =\n",
              "            await google.colab.kernel.invokeFunction('convertToInteractive',\n",
              "                                                     [key], {});\n",
              "          if (!dataTable) return;\n",
              "\n",
              "          const docLinkHtml = 'Like what you see? Visit the ' +\n",
              "            '<a target=\"_blank\" href=https://colab.research.google.com/notebooks/data_table.ipynb>data table notebook</a>'\n",
              "            + ' to learn more about interactive tables.';\n",
              "          element.innerHTML = '';\n",
              "          dataTable['output_type'] = 'display_data';\n",
              "          await google.colab.output.renderOutput(dataTable, element);\n",
              "          const docLink = document.createElement('div');\n",
              "          docLink.innerHTML = docLinkHtml;\n",
              "          element.appendChild(docLink);\n",
              "        }\n",
              "      </script>\n",
              "    </div>\n",
              "  </div>\n",
              "  "
            ]
          },
          "metadata": {},
          "execution_count": 15
        }
      ]
    },
    {
      "cell_type": "markdown",
      "source": [
        "## 5. Generate features\n",
        "\n",
        "\n",
        "\n"
      ],
      "metadata": {
        "id": "9zC1Fo4qqzTg"
      }
    },
    {
      "cell_type": "code",
      "source": [
        "def get_features(\n",
        "    X_scaled: pd.DataFrame,\n",
        "    X_past_scaled: pd.DataFrame,\n",
        "    clusters: pd.DataFrame,\n",
        ") -> np.array:\n",
        "    \"\"\"\n",
        "    Builds dataset for LSTM model\n",
        "    \"\"\"\n",
        "\n",
        "    time_seq = X_scaled.shape[0] - 1\n",
        "\n",
        "    a = X_scaled.values\n",
        "    b = X_past_scaled.values\n",
        "\n",
        "    n = 6\n",
        "    c = np.empty((X_scaled.shape[0], X_scaled.shape[1]))\n",
        "    c[n:, :] = X_scaled.iloc[:-n, :]\n",
        "\n",
        "    n = 30\n",
        "    d = np.empty((X_scaled.shape[0], X_scaled.shape[1]))\n",
        "    d[n:, :] = X_scaled.iloc[:-n, :]\n",
        "\n",
        "    X1 = np.vstack([a, b, a - b, c, a - c, d, a - d]).reshape(7, -1, X_scaled.shape[1])\n",
        "    X1 = np.moveaxis(X1, 0, -1)[-time_seq:, :, :]\n",
        "\n",
        "    X2 = get_1st_differences(X_scaled)\n",
        "    X3 = get_2nd_differences(X_scaled)\n",
        "    X4 = get_moments(X_scaled)\n",
        "    X5 = get_rolling_means(X_scaled)\n",
        "\n",
        "    X6 = clusters.values.repeat(time_seq, axis=0).reshape(\n",
        "        clusters.shape[0], -1, clusters.shape[1]\n",
        "    )\n",
        "    X6 = np.moveaxis(X6, 1, 0)\n",
        "\n",
        "    return np.concatenate([X1, X2, X3, X4, X5, X6], axis=-1)\n",
        "\n",
        "\n",
        "def get_1st_differences(X_scaled: pd.DataFrame, periods=[\"D\", \"W\", \"M\"]) -> np.array:\n",
        "    df = pd.DataFrame(index=X_scaled.index[1:])\n",
        "    for t in periods:\n",
        "        a1 = X_scaled.resample(t).median()\n",
        "        X1 = a1.values[1:, :] - a1.values[:-1, :]\n",
        "        X2 = (a1.values[1:, :] - a1.values[:-1, :]) / a1.values[:-1, :]\n",
        "        X = pd.DataFrame(np.hstack([X1, X2]), index=a1.index[1:])\n",
        "        df = df.merge(X, on=\"dt\", how=\"left\").bfill().ffill()\n",
        "\n",
        "        X = df.values.reshape(len(df), -1, X_scaled.shape[1])\n",
        "\n",
        "    return np.moveaxis(X, 1, -1)\n",
        "\n",
        "\n",
        "def get_2nd_differences(X_scaled: pd.DataFrame, periods=[\"W\", \"M\"]) -> np.array:\n",
        "    df = pd.DataFrame(index=X_scaled.index[1:])\n",
        "    for t in periods:\n",
        "        a1 = X_scaled.resample(t).median()\n",
        "        X = a1.values[1:, :] - a1.values[:-1, :]\n",
        "        X = pd.DataFrame(X[1:, :] - X[:-1, :], index=a1.index[2:])\n",
        "        df = df.merge(X, on=\"dt\", how=\"left\").bfill().ffill()\n",
        "\n",
        "        X = df.values.reshape(len(df), -1, X_scaled.shape[1])\n",
        "\n",
        "    return np.moveaxis(X, 1, -1)\n",
        "\n",
        "\n",
        "def get_moments(X_scaled: pd.DataFrame, periods=[\"W\", \"M\"]) -> np.array:\n",
        "    df = pd.DataFrame(index=X_scaled.index)\n",
        "    for t in periods:\n",
        "        f = X_scaled.resample(t)\n",
        "        df = pd.concat(\n",
        "            [\n",
        "                df,\n",
        "                f.median(),\n",
        "                f.mean(),\n",
        "                f.std(),\n",
        "                f.mean() / f.std(),\n",
        "                f.agg(st.skew),\n",
        "                f.agg(st.kurtosis),\n",
        "            ],\n",
        "            axis=1,\n",
        "        ).bfill()\n",
        "    df = pd.DataFrame(index=X_scaled.index[1:]).merge(df, on=\"dt\", how=\"left\")\n",
        "\n",
        "    X = df.values.reshape(len(df), -1, X_scaled.shape[1])\n",
        "\n",
        "    return np.moveaxis(X, 1, -1)\n",
        "\n",
        "\n",
        "def get_rolling_means(X_scaled: pd.DataFrame, windows=[6, 24]) -> np.array:\n",
        "    df = pd.DataFrame(index=X_scaled.index)\n",
        "    for w in windows:\n",
        "        f = X_scaled.rolling(w)\n",
        "        df = pd.concat([df, X_scaled.rolling(w).mean()], axis=1).bfill()\n",
        "    df = pd.DataFrame(index=X_scaled.index[1:]).merge(df, on=\"dt\", how=\"left\")\n",
        "\n",
        "    X = df.values.reshape(len(df), -1, X_scaled.shape[1])\n",
        "\n",
        "    return np.moveaxis(X, 1, -1)\n"
      ],
      "metadata": {
        "id": "7yggv9UyyzkR"
      },
      "execution_count": 16,
      "outputs": []
    },
    {
      "cell_type": "code",
      "source": [
        "X = get_features(X_scaled, X_past_scaled, clusters)\n",
        "X.shape"
      ],
      "metadata": {
        "colab": {
          "base_uri": "https://localhost:8080/"
        },
        "id": "vk39a_HpFH52",
        "outputId": "6b42774e-d8cb-42ad-f2dc-9492bf3f5813"
      },
      "execution_count": 17,
      "outputs": [
        {
          "output_type": "execute_result",
          "data": {
            "text/plain": [
              "(153, 20, 34)"
            ]
          },
          "metadata": {},
          "execution_count": 17
        }
      ]
    }
  ]
}